{
 "cells": [
  {
   "cell_type": "code",
   "execution_count": null,
   "metadata": {
    "cell_id": "00001-dfb90f89-6c18-4eb9-aad7-2a658a06345f",
    "deepnote_cell_type": "code",
    "tags": []
   },
   "outputs": [],
   "source": [
    "import pandas as pd\n",
    "import numpy as np\n",
    "import seaborn as sns\n",
    "import matplotlib.pyplot as plt\n",
    "from scipy import stats \n",
    "from matplotlib.ticker import MaxNLocator\n",
    "\n",
    "import streamlit as st\n",
    "from PIL import Image # Required to show images"
   ]
  },
  {
   "cell_type": "code",
   "execution_count": 21,
   "metadata": {
    "cell_id": "00001-3671dbe8-ec11-465a-a07c-6da2a621058e",
    "deepnote_cell_type": "code",
    "deepnote_to_be_reexecuted": false,
    "execution_millis": 388,
    "execution_start": 1610633823633,
    "source_hash": "a9e2c372",
    "tags": []
   },
   "outputs": [
    {
     "data": {
      "application/vnd.deepnote.dataframe.v2+json": {
       "column_count": 14,
       "columns": [
        {
         "dtype": "float64",
         "name": "Unnamed: 0",
         "stats": {
          "histogram": [
           {
            "bin_end": 109,
            "bin_start": 0,
            "count": 109
           },
           {
            "bin_end": 218,
            "bin_start": 109,
            "count": 109
           },
           {
            "bin_end": 327,
            "bin_start": 218,
            "count": 109
           },
           {
            "bin_end": 436,
            "bin_start": 327,
            "count": 109
           },
           {
            "bin_end": 545,
            "bin_start": 436,
            "count": 109
           },
           {
            "bin_end": 654,
            "bin_start": 545,
            "count": 109
           },
           {
            "bin_end": 763,
            "bin_start": 654,
            "count": 109
           },
           {
            "bin_end": 872,
            "bin_start": 763,
            "count": 109
           },
           {
            "bin_end": 981,
            "bin_start": 872,
            "count": 109
           },
           {
            "bin_end": 1090,
            "bin_start": 981,
            "count": 110
           }
          ],
          "max": 1090,
          "min": 0,
          "nan_count": 0,
          "unique_count": 1091
         }
        },
        {
         "dtype": "object",
         "name": "Title",
         "stats": {
          "categories": [
           {
            "count": 1,
            "name": "A Game of Thrones (A Song of Ice and Fire, #1)"
           },
           {
            "count": 1,
            "name": "J.R.R. Tolkien 4-Book Boxed Set: The Hobbit and The Lord of the Rings"
           },
           {
            "count": 1089,
            "name": "1089 others"
           }
          ],
          "nan_count": 0,
          "unique_count": 1091
         }
        },
        {
         "dtype": "object",
         "name": "Author",
         "stats": {
          "categories": [
           {
            "count": 23,
            "name": "David Eddings"
           },
           {
            "count": 19,
            "name": "David Gemmell"
           },
           {
            "count": 1049,
            "name": "481 others"
           }
          ],
          "nan_count": 0,
          "unique_count": 483
         }
        },
        {
         "dtype": "int64",
         "name": "number_of_ratings",
         "stats": {
          "histogram": [
           {
            "bin_end": 728474.8,
            "bin_start": 0,
            "count": 1062
           },
           {
            "bin_end": 1456949.6,
            "bin_start": 728474.8,
            "count": 13
           },
           {
            "bin_end": 2185424.4000000004,
            "bin_start": 1456949.6,
            "count": 6
           },
           {
            "bin_end": 2913899.2,
            "bin_start": 2185424.4000000004,
            "count": 5
           },
           {
            "bin_end": 3642374,
            "bin_start": 2913899.2,
            "count": 2
           },
           {
            "bin_end": 4370848.800000001,
            "bin_start": 3642374,
            "count": 0
           },
           {
            "bin_end": 5099323.600000001,
            "bin_start": 4370848.800000001,
            "count": 1
           },
           {
            "bin_end": 5827798.4,
            "bin_start": 5099323.600000001,
            "count": 0
           },
           {
            "bin_end": 6556273.2,
            "bin_start": 5827798.4,
            "count": 1
           },
           {
            "bin_end": 7284748,
            "bin_start": 6556273.2,
            "count": 1
           }
          ],
          "max": 7284748,
          "min": 0,
          "nan_count": 0,
          "unique_count": 1004
         }
        },
        {
         "dtype": "object",
         "name": "url",
         "stats": {
          "categories": [
           {
            "count": 1,
            "name": "https://www.goodreads.com//book/show/13496.A_Game_of_Thrones"
           },
           {
            "count": 1,
            "name": "https://www.goodreads.com//book/show/30.J_R_R_Tolkien_4_Book_Boxed_Set"
           },
           {
            "count": 1089,
            "name": "1089 others"
           }
          ],
          "nan_count": 0,
          "unique_count": 1091
         }
        },
        {
         "dtype": "float64",
         "name": "avg_ratings",
         "stats": {
          "histogram": [
           {
            "bin_end": 2.896,
            "bin_start": 2.67,
            "count": 1
           },
           {
            "bin_end": 3.122,
            "bin_start": 2.896,
            "count": 0
           },
           {
            "bin_end": 3.348,
            "bin_start": 3.122,
            "count": 4
           },
           {
            "bin_end": 3.574,
            "bin_start": 3.348,
            "count": 28
           },
           {
            "bin_end": 3.8,
            "bin_start": 3.574,
            "count": 87
           },
           {
            "bin_end": 4.026,
            "bin_start": 3.8,
            "count": 274
           },
           {
            "bin_end": 4.252,
            "bin_start": 4.026,
            "count": 395
           },
           {
            "bin_end": 4.478,
            "bin_start": 4.252,
            "count": 196
           },
           {
            "bin_end": 4.704,
            "bin_start": 4.478,
            "count": 62
           },
           {
            "bin_end": 4.93,
            "bin_start": 4.704,
            "count": 14
           }
          ],
          "max": 4.93,
          "min": 2.67,
          "nan_count": 30,
          "unique_count": 142
         }
        },
        {
         "dtype": "float64",
         "name": "id",
         "stats": {
          "histogram": [
           {
            "bin_end": 109,
            "bin_start": 0,
            "count": 109
           },
           {
            "bin_end": 218,
            "bin_start": 109,
            "count": 109
           },
           {
            "bin_end": 327,
            "bin_start": 218,
            "count": 109
           },
           {
            "bin_end": 436,
            "bin_start": 327,
            "count": 109
           },
           {
            "bin_end": 545,
            "bin_start": 436,
            "count": 109
           },
           {
            "bin_end": 654,
            "bin_start": 545,
            "count": 109
           },
           {
            "bin_end": 763,
            "bin_start": 654,
            "count": 109
           },
           {
            "bin_end": 872,
            "bin_start": 763,
            "count": 109
           },
           {
            "bin_end": 981,
            "bin_start": 872,
            "count": 109
           },
           {
            "bin_end": 1090,
            "bin_start": 981,
            "count": 110
           }
          ],
          "max": 1090,
          "min": 0,
          "nan_count": 0,
          "unique_count": 1091
         }
        },
        {
         "dtype": "float64",
         "name": "Num_pages",
         "stats": {
          "histogram": [
           {
            "bin_end": 370.7,
            "bin_start": 23,
            "count": 295
           },
           {
            "bin_end": 718.4,
            "bin_start": 370.7,
            "count": 528
           },
           {
            "bin_end": 1066.1,
            "bin_start": 718.4,
            "count": 73
           },
           {
            "bin_end": 1413.8,
            "bin_start": 1066.1,
            "count": 17
           },
           {
            "bin_end": 1761.5,
            "bin_start": 1413.8,
            "count": 2
           },
           {
            "bin_end": 2109.2,
            "bin_start": 1761.5,
            "count": 2
           },
           {
            "bin_end": 2456.9,
            "bin_start": 2109.2,
            "count": 1
           },
           {
            "bin_end": 2804.6,
            "bin_start": 2456.9,
            "count": 0
           },
           {
            "bin_end": 3152.2999999999997,
            "bin_start": 2804.6,
            "count": 0
           },
           {
            "bin_end": 3500,
            "bin_start": 3152.2999999999997,
            "count": 1
           }
          ],
          "max": 3500,
          "min": 23,
          "nan_count": 172,
          "unique_count": 472
         }
        },
        {
         "dtype": "object",
         "name": "Awards",
         "stats": {
          "categories": [
           {
            "count": 6,
            "name": "'Margaret A. Edwards Award (2013)'"
           },
           {
            "count": 405,
            "name": "383 others"
           },
           {
            "count": 680,
            "name": "Missing"
           }
          ],
          "nan_count": 680,
          "unique_count": 384
         }
        },
        {
         "dtype": "object",
         "name": "Genre",
         "stats": {
          "categories": [
           {
            "count": 44,
            "name": ""
           },
           {
            "count": 34,
            "name": "'Fantasy'"
           },
           {
            "count": 1013,
            "name": "974 others"
           }
          ],
          "nan_count": 0,
          "unique_count": 976
         }
        },
        {
         "dtype": "int64",
         "name": "award_count",
         "stats": {
          "histogram": [
           {
            "bin_end": 4.1,
            "bin_start": 0,
            "count": 1023
           },
           {
            "bin_end": 8.2,
            "bin_start": 4.1,
            "count": 45
           },
           {
            "bin_end": 12.299999999999999,
            "bin_start": 8.2,
            "count": 8
           },
           {
            "bin_end": 16.4,
            "bin_start": 12.299999999999999,
            "count": 9
           },
           {
            "bin_end": 20.5,
            "bin_start": 16.4,
            "count": 2
           },
           {
            "bin_end": 24.599999999999998,
            "bin_start": 20.5,
            "count": 1
           },
           {
            "bin_end": 28.699999999999996,
            "bin_start": 24.599999999999998,
            "count": 2
           },
           {
            "bin_end": 32.8,
            "bin_start": 28.699999999999996,
            "count": 0
           },
           {
            "bin_end": 36.9,
            "bin_start": 32.8,
            "count": 0
           },
           {
            "bin_end": 41,
            "bin_start": 36.9,
            "count": 1
           }
          ],
          "max": 41,
          "min": 0,
          "nan_count": 0,
          "unique_count": 20
         }
        },
        {
         "dtype": "object",
         "name": "original_publish_year",
         "stats": {
          "categories": [
           {
            "count": 29,
            "name": "2004"
           },
           {
            "count": 663,
            "name": "87 others"
           },
           {
            "count": 399,
            "name": "Missing"
           }
          ],
          "nan_count": 399,
          "unique_count": 88
         }
        },
        {
         "dtype": "float64",
         "name": "minmax_norm_ratings",
         "stats": {
          "histogram": [
           {
            "bin_end": 1.9,
            "bin_start": 1,
            "count": 1
           },
           {
            "bin_end": 2.8,
            "bin_start": 1.9,
            "count": 0
           },
           {
            "bin_end": 3.7,
            "bin_start": 2.8,
            "count": 4
           },
           {
            "bin_end": 4.6,
            "bin_start": 3.7,
            "count": 28
           },
           {
            "bin_end": 5.5,
            "bin_start": 4.6,
            "count": 87
           },
           {
            "bin_end": 6.4,
            "bin_start": 5.5,
            "count": 274
           },
           {
            "bin_end": 7.3,
            "bin_start": 6.4,
            "count": 395
           },
           {
            "bin_end": 8.2,
            "bin_start": 7.3,
            "count": 196
           },
           {
            "bin_end": 9.1,
            "bin_start": 8.2,
            "count": 62
           },
           {
            "bin_end": 10,
            "bin_start": 9.1,
            "count": 14
           }
          ],
          "max": 10,
          "min": 1,
          "nan_count": 30,
          "unique_count": 142
         }
        },
        {
         "dtype": "float64",
         "name": "mean_norm_ratings",
         "stats": {
          "histogram": [
           {
            "bin_end": -3.778062939454349,
            "bin_start": -4.678062939454349,
            "count": 1
           },
           {
            "bin_end": -2.878062939454349,
            "bin_start": -3.778062939454349,
            "count": 0
           },
           {
            "bin_end": -1.9780629394543485,
            "bin_start": -2.878062939454349,
            "count": 4
           },
           {
            "bin_end": -1.0780629394543486,
            "bin_start": -1.9780629394543485,
            "count": 28
           },
           {
            "bin_end": -0.1780629394543487,
            "bin_start": -1.0780629394543486,
            "count": 87
           },
           {
            "bin_end": 0.7219370605456517,
            "bin_start": -0.1780629394543487,
            "count": 274
           },
           {
            "bin_end": 1.6219370605456511,
            "bin_start": 0.7219370605456517,
            "count": 395
           },
           {
            "bin_end": 2.5219370605456515,
            "bin_start": 1.6219370605456511,
            "count": 196
           },
           {
            "bin_end": 3.421937060545651,
            "bin_start": 2.5219370605456515,
            "count": 62
           },
           {
            "bin_end": 4.321937060545651,
            "bin_start": 3.421937060545651,
            "count": 14
           }
          ],
          "max": 4.321937060545651,
          "min": -4.678062939454349,
          "nan_count": 30,
          "unique_count": 142
         }
        },
        {
         "dtype": "int64",
         "name": "_deepnote_index_column"
        }
       ],
       "row_count": 1091,
       "rows_bottom": [
        {
         "Author": "James Wraieth ",
         "Awards": "nan",
         "Genre": "",
         "Num_pages": "373.0",
         "Title": "Half-Breed: The Last Dhampyr",
         "Unnamed: 0": 1055,
         "_deepnote_index_column": 1055,
         "avg_ratings": "3.93",
         "award_count": 0,
         "id": 1055,
         "mean_norm_ratings": "0.3396361755899002",
         "minmax_norm_ratings": "6.01769911504425",
         "number_of_ratings": 29,
         "original_publish_year": "nan",
         "url": "https://www.goodreads.com//book/show/40376341-half-breed"
        },
        {
         "Author": "Dan",
         "Awards": "nan",
         "Genre": "",
         "Num_pages": "459.0",
         "Title": "Black Creek",
         "Unnamed: 0": 1056,
         "_deepnote_index_column": 1056,
         "avg_ratings": "nan",
         "award_count": 0,
         "id": 1056,
         "mean_norm_ratings": "nan",
         "minmax_norm_ratings": "nan",
         "number_of_ratings": 0,
         "original_publish_year": "nan",
         "url": "https://www.goodreads.com//book/show/40172073-black-creek"
        },
        {
         "Author": "Michael Blythe",
         "Awards": "nan",
         "Genre": "",
         "Num_pages": "nan",
         "Title": "Matthias and the Shadow",
         "Unnamed: 0": 1057,
         "_deepnote_index_column": 1057,
         "avg_ratings": "nan",
         "award_count": 0,
         "id": 1057,
         "mean_norm_ratings": "nan",
         "minmax_norm_ratings": "nan",
         "number_of_ratings": 0,
         "original_publish_year": "nan",
         "url": "https://www.goodreads.com//book/show/43212281-matthias-and-the-shadow"
        },
        {
         "Author": "Katherine  L. Moore ",
         "Awards": "nan",
         "Genre": "",
         "Num_pages": "418.0",
         "Title": "Elementals: Mystic Warriors",
         "Unnamed: 0": 1058,
         "_deepnote_index_column": 1058,
         "avg_ratings": "4.19",
         "award_count": 0,
         "id": 1058,
         "mean_norm_ratings": "1.375034405678397",
         "minmax_norm_ratings": "7.053097345132746",
         "number_of_ratings": 48,
         "original_publish_year": "nan",
         "url": "https://www.goodreads.com//book/show/43634959-elementals"
        },
        {
         "Author": "Suanne Laqueur ",
         "Awards": "nan",
         "Genre": "'Fantasy', 'Romance', 'M M Romance', 'LGBT', 'Romance', 'Sociology', 'Abuse', 'Fantasy', 'High Fantasy', 'Fiction', 'Paranormal', 'Shapeshifters', 'Romance', 'Paranormal Romance', 'Adult'",
         "Num_pages": "545.0",
         "Title": "The Voyages of Trueblood Cay (Venery, #2.75)",
         "Unnamed: 0": 1059,
         "_deepnote_index_column": 1059,
         "avg_ratings": "4.62",
         "award_count": 0,
         "id": 1059,
         "mean_norm_ratings": "3.0874237862093694",
         "minmax_norm_ratings": "8.765486725663717",
         "number_of_ratings": 97,
         "original_publish_year": "nan",
         "url": "https://www.goodreads.com//book/show/43594543-the-voyages-of-trueblood-cay"
        },
        {
         "Author": "Garten Gevedon ",
         "Awards": "nan",
         "Genre": "'Fantasy', 'Horror', 'Zombies', 'Paranormal', 'Vampires', 'Young Adult', 'Fantasy', 'Paranormal', 'Fairy Tales', 'Fairy Tale Retellings', 'Paranormal', 'Shapeshifters', 'Retellings', 'Horror', 'Young Adult', 'Young Adult Fantasy'",
         "Num_pages": "nan",
         "Title": "Dorothy in the Land of Monsters (Oz ReVamped, #1)",
         "Unnamed: 0": 1060,
         "_deepnote_index_column": 1060,
         "avg_ratings": "3.44",
         "award_count": 0,
         "id": 1060,
         "mean_norm_ratings": "-1.6116912580384195",
         "minmax_norm_ratings": "4.06637168141593",
         "number_of_ratings": 127,
         "original_publish_year": "nan",
         "url": "https://www.goodreads.com//book/show/45435054-dorothy-in-the-land-of-monsters"
        },
        {
         "Author": "Christina Jolly ",
         "Awards": "nan",
         "Genre": "'Fantasy', 'Fantasy', 'Dragons', 'Young Adult'",
         "Num_pages": "nan",
         "Title": "Behind the Dragon's Veil",
         "Unnamed: 0": 1061,
         "_deepnote_index_column": 1061,
         "avg_ratings": "3.97",
         "award_count": 0,
         "id": 1061,
         "mean_norm_ratings": "0.49892821098813045",
         "minmax_norm_ratings": "6.176991150442479",
         "number_of_ratings": 34,
         "original_publish_year": "nan",
         "url": "https://www.goodreads.com//book/show/49933253-behind-the-dragon-s-veil"
        },
        {
         "Author": "Howard Andrew Jones ",
         "Awards": "nan",
         "Genre": "'Fantasy', 'Fiction', 'Fantasy', 'Epic Fantasy', 'Science Fiction Fantasy'",
         "Num_pages": "432.0",
         "Title": "Upon the Flight of the Queen (The Ring-Sworn Trilogy, #2)",
         "Unnamed: 0": 1062,
         "_deepnote_index_column": 1062,
         "avg_ratings": "4.35",
         "award_count": 0,
         "id": 1062,
         "mean_norm_ratings": "2.0122025472713143",
         "minmax_norm_ratings": "7.6902654867256635",
         "number_of_ratings": 122,
         "original_publish_year": "nan",
         "url": "https://www.goodreads.com//book/show/43263411-upon-the-flight-of-the-queen"
        },
        {
         "Author": "Vanessa Kittle ",
         "Awards": "nan",
         "Genre": "'Fantasy'",
         "Num_pages": "nan",
         "Title": "The School for Humans: (The Book of Lost Caleans, part 1)",
         "Unnamed: 0": 1063,
         "_deepnote_index_column": 1063,
         "avg_ratings": "4.25",
         "award_count": 0,
         "id": 1063,
         "mean_norm_ratings": "1.6139724587757405",
         "minmax_norm_ratings": "7.292035398230089",
         "number_of_ratings": 32,
         "original_publish_year": "nan",
         "url": "https://www.goodreads.com//book/show/50860975-the-school-for-humans"
        },
        {
         "Author": "Angelina J. Steffort ",
         "Awards": "nan",
         "Genre": "'Fantasy', 'Young Adult'",
         "Num_pages": "nan",
         "Title": "Shattered Kingdom (Shattered Kingdom, #1)",
         "Unnamed: 0": 1064,
         "_deepnote_index_column": 1064,
         "avg_ratings": "4.44",
         "award_count": 0,
         "id": 1064,
         "mean_norm_ratings": "2.370609626917335",
         "minmax_norm_ratings": "8.048672566371685",
         "number_of_ratings": 81,
         "original_publish_year": "nan",
         "url": "https://www.goodreads.com//book/show/53575613-shattered-kingdom"
        },
        {
         "Author": "E.O. Odiase ",
         "Awards": "nan",
         "Genre": "'Fantasy'",
         "Num_pages": "nan",
         "Title": "A Dance for The Gods (The Last Warrior King Series, #2)",
         "Unnamed: 0": 1065,
         "_deepnote_index_column": 1065,
         "avg_ratings": "3.91",
         "award_count": 0,
         "id": 1065,
         "mean_norm_ratings": "0.25999015789078506",
         "minmax_norm_ratings": "5.938053097345135",
         "number_of_ratings": 23,
         "original_publish_year": "nan",
         "url": "https://www.goodreads.com//book/show/55160645-a-dance-for-the-gods"
        },
        {
         "Author": "David Farland ",
         "Awards": "nan",
         "Genre": "'Fantasy', 'Fiction', 'Science Fiction Fantasy', 'Fantasy', 'Epic Fantasy', 'Adventure', 'Fantasy', 'High Fantasy', 'Fantasy', 'Magic', 'Epic', 'Novels', 'Anthologies', 'Collections'",
         "Num_pages": "336.0",
         "Title": "Worldbinder (Runelords, #6)",
         "Unnamed: 0": 1066,
         "_deepnote_index_column": 1066,
         "avg_ratings": "3.76",
         "award_count": 0,
         "id": 1066,
         "mean_norm_ratings": "-0.33735497485257904",
         "minmax_norm_ratings": "5.340707964601769",
         "number_of_ratings": 2938,
         "original_publish_year": "2001",
         "url": "https://www.goodreads.com//book/show/144116.Worldbinder"
        },
        {
         "Author": "William Kondylis ",
         "Awards": "nan",
         "Genre": "",
         "Num_pages": "316.0",
         "Title": "Oliver Caine's in Trouble Again",
         "Unnamed: 0": 1067,
         "_deepnote_index_column": 1067,
         "avg_ratings": "4.38",
         "award_count": 0,
         "id": 1067,
         "mean_norm_ratings": "2.131671573819988",
         "minmax_norm_ratings": "7.8097345132743365",
         "number_of_ratings": 21,
         "original_publish_year": "2010",
         "url": "https://www.goodreads.com//book/show/10851970-oliver-caine-s-in-trouble-again"
        },
        {
         "Author": "E.M. Sky ",
         "Awards": "nan",
         "Genre": "'Fantasy', 'Paranormal', 'Paranormal', 'Vampires', 'Fantasy', 'Romance', 'Young Adult', 'Romance', 'Paranormal Romance', 'Fiction', 'New Adult'",
         "Num_pages": "nan",
         "Title": "Awaken Me (Connected, #1)",
         "Unnamed: 0": 1068,
         "_deepnote_index_column": 1068,
         "avg_ratings": "3.83",
         "award_count": 0,
         "id": 1068,
         "mean_norm_ratings": "-0.058593912905675394",
         "minmax_norm_ratings": "5.619469026548674",
         "number_of_ratings": 426,
         "original_publish_year": "2011",
         "url": "https://www.goodreads.com//book/show/10834397-awaken-me"
        },
        {
         "Author": "M.J. Webb ",
         "Awards": "nan",
         "Genre": "'Fantasy', 'Young Adult', 'Fiction', 'Childrens', 'Middle Grade'",
         "Num_pages": "nan",
         "Title": "The Keeper of the Stones (Jake West, #1)",
         "Unnamed: 0": 1069,
         "_deepnote_index_column": 1069,
         "avg_ratings": "3.75",
         "award_count": 0,
         "id": 1069,
         "mean_norm_ratings": "-0.37717798370213584",
         "minmax_norm_ratings": "5.300884955752213",
         "number_of_ratings": 110,
         "original_publish_year": "2010",
         "url": "https://www.goodreads.com//book/show/12985739-the-keeper-of-the-stones"
        },
        {
         "Author": "Rustin Petrae ",
         "Awards": "nan",
         "Genre": "'Fantasy', 'Fantasy', 'Dragons', 'Romance', 'Science Fiction', 'Young Adult'",
         "Num_pages": "194.0",
         "Title": "Dragon (Histories of Purga, #1)",
         "Unnamed: 0": 1070,
         "_deepnote_index_column": 1070,
         "avg_ratings": "4.19",
         "award_count": 0,
         "id": 1070,
         "mean_norm_ratings": "1.375034405678397",
         "minmax_norm_ratings": "7.053097345132746",
         "number_of_ratings": 37,
         "original_publish_year": "nan",
         "url": "https://www.goodreads.com//book/show/16126383-dragon"
        },
        {
         "Author": "Sara Raasch ",
         "Awards": "nan",
         "Genre": "'Fantasy', 'Young Adult', 'Romance', 'Fantasy', 'Magic', 'Young Adult', 'Young Adult Fantasy', 'Fantasy', 'High Fantasy', 'Fiction', 'Adventure', 'Science Fiction', 'Dystopia', 'Audiobook'",
         "Num_pages": "422.0",
         "Title": "Snow Like Ashes (Snow Like Ashes, #1)",
         "Unnamed: 0": 1071,
         "_deepnote_index_column": 1071,
         "avg_ratings": "3.89",
         "award_count": 0,
         "id": 1071,
         "mean_norm_ratings": "0.1803441401916701",
         "minmax_norm_ratings": "5.858407079646019",
         "number_of_ratings": 64778,
         "original_publish_year": "nan",
         "url": "https://www.goodreads.com//book/show/17399160-snow-like-ashes"
        },
        {
         "Author": "S.M. White ",
         "Awards": "nan",
         "Genre": "'Fantasy'",
         "Num_pages": "nan",
         "Title": "The Pale Hand of God (The Paruus Histories, #1)",
         "Unnamed: 0": 1072,
         "_deepnote_index_column": 1072,
         "avg_ratings": "3.22",
         "award_count": 0,
         "id": 1072,
         "mean_norm_ratings": "-2.4877974527286835",
         "minmax_norm_ratings": "3.190265486725665",
         "number_of_ratings": 41,
         "original_publish_year": "nan",
         "url": "https://www.goodreads.com//book/show/16100410-the-pale-hand-of-god"
        },
        {
         "Author": "Jen Wylie ",
         "Awards": "'Kindle Book Award Nominee for Sci-Fi/Fantasy (Semi-Finalist) (2013)'",
         "Genre": "'Fantasy', 'Young Adult', 'Fantasy', 'Magic', 'Fantasy', 'Paranormal', 'Fantasy', 'Dragons', 'Romance', 'Fairies', 'Fae', 'Adventure', 'Fantasy', 'Supernatural', 'Paranormal', 'Fairies'",
         "Num_pages": "265.0",
         "Title": "Broken Aro (The Broken Ones, #1)",
         "Unnamed: 0": 1073,
         "_deepnote_index_column": 1073,
         "avg_ratings": "4.05",
         "award_count": 1,
         "id": 1073,
         "mean_norm_ratings": "0.8175122817845892",
         "minmax_norm_ratings": "6.495575221238939",
         "number_of_ratings": 1311,
         "original_publish_year": "nan",
         "url": "https://www.goodreads.com//book/show/17800679-broken-aro"
        },
        {
         "Author": "Andrzej Sapkowski",
         "Awards": "nan",
         "Genre": "'Fantasy', 'European Literature', 'Polish Literature', 'Fiction', 'Fantasy', 'Magic', 'Epic', 'Adventure', 'Fantasy', 'Epic Fantasy', 'Cultural', 'Poland', 'Audiobook', 'Contemporary'",
         "Num_pages": "nan",
         "Title": "WiedÅºmin (Saga o WiedÅºminie, #1-7)",
         "Unnamed: 0": 1074,
         "_deepnote_index_column": 1074,
         "avg_ratings": "4.66",
         "award_count": 0,
         "id": 1074,
         "mean_norm_ratings": "3.2467158216075998",
         "minmax_norm_ratings": "8.924778761061948",
         "number_of_ratings": 3739,
         "original_publish_year": "2006",
         "url": "https://www.goodreads.com//book/show/13588846-wied-min"
        },
        {
         "Author": "S.G. Night ",
         "Awards": "\"Readers' Favorite Book Award\"",
         "Genre": "'Fantasy', 'Fantasy', 'High Fantasy', 'Fantasy', 'Epic Fantasy', 'Fiction', 'Fantasy', 'Magic', 'Fantasy', 'Paranormal', 'Paranormal', 'Demons', 'Epic', 'Science Fiction Fantasy'",
         "Num_pages": "nan",
         "Title": "Attrition: the First Act of Penance (Three Acts of Penance, #1)",
         "Unnamed: 0": 1075,
         "_deepnote_index_column": 1075,
         "avg_ratings": "4.12",
         "award_count": 1,
         "id": 1075,
         "mean_norm_ratings": "1.096273343731493",
         "minmax_norm_ratings": "6.774336283185842",
         "number_of_ratings": 752,
         "original_publish_year": "2013",
         "url": "https://www.goodreads.com//book/show/18400770-attrition"
        },
        {
         "Author": "Vanessa Kittle ",
         "Awards": "nan",
         "Genre": "",
         "Num_pages": "304.0",
         "Title": "Elaenorh",
         "Unnamed: 0": 1076,
         "_deepnote_index_column": 1076,
         "avg_ratings": "4.22",
         "award_count": 0,
         "id": 1076,
         "mean_norm_ratings": "1.494503432227067",
         "minmax_norm_ratings": "7.172566371681415",
         "number_of_ratings": 9,
         "original_publish_year": "nan",
         "url": "https://www.goodreads.com//book/show/22310463-elaenorh"
        },
        {
         "Author": "Chris Martineau",
         "Awards": "nan",
         "Genre": "",
         "Num_pages": "389.0",
         "Title": "The Soul Throne Chronicles",
         "Unnamed: 0": 1077,
         "_deepnote_index_column": 1077,
         "avg_ratings": "2.67",
         "award_count": 0,
         "id": 1077,
         "mean_norm_ratings": "-4.678062939454349",
         "minmax_norm_ratings": "1.0",
         "number_of_ratings": 3,
         "original_publish_year": "nan",
         "url": "https://www.goodreads.com//book/show/23812775-the-soul-throne-chronicles"
        },
        {
         "Author": "Kevin L. Nielsen ",
         "Awards": "nan",
         "Genre": "'Fantasy', 'Young Adult', 'Fantasy', 'Magic', 'Fantasy', 'High Fantasy', 'Fantasy', 'Epic Fantasy', 'Adult', 'Fantasy', 'Paranormal', 'Business', 'Amazon', 'Science Fiction Fantasy', 'Young Adult', 'Young Adult Fantasy'",
         "Num_pages": "283.0",
         "Title": "Sands (Sharani series, #1)",
         "Unnamed: 0": 1078,
         "_deepnote_index_column": 1078,
         "avg_ratings": "3.8",
         "award_count": 0,
         "id": 1078,
         "mean_norm_ratings": "-0.1780629394543487",
         "minmax_norm_ratings": "5.5",
         "number_of_ratings": 608,
         "original_publish_year": "2015",
         "url": "https://www.goodreads.com//book/show/25973595-sands"
        },
        {
         "Author": "L.E.  Parker ",
         "Awards": "nan",
         "Genre": "'Fantasy', 'Fantasy', 'Paranormal'",
         "Num_pages": "696.0",
         "Title": "The Devil's Advocate",
         "Unnamed: 0": 1079,
         "_deepnote_index_column": 1079,
         "avg_ratings": "3.53",
         "award_count": 0,
         "id": 1079,
         "mean_norm_ratings": "-1.253284178392402",
         "minmax_norm_ratings": "4.424778761061947",
         "number_of_ratings": 15,
         "original_publish_year": "2016",
         "url": "https://www.goodreads.com//book/show/33260689-the-devil-s-advocate"
        },
        {
         "Author": "Peter J. Hopkins",
         "Awards": "nan",
         "Genre": "'Fantasy'",
         "Num_pages": "nan",
         "Title": "The Sword to Unite",
         "Unnamed: 0": 1080,
         "_deepnote_index_column": 1080,
         "avg_ratings": "4.05",
         "award_count": 0,
         "id": 1080,
         "mean_norm_ratings": "0.8175122817845892",
         "minmax_norm_ratings": "6.495575221238939",
         "number_of_ratings": 22,
         "original_publish_year": "nan",
         "url": "https://www.goodreads.com//book/show/35010346-the-sword-to-unite"
        },
        {
         "Author": "Erin Forbes ",
         "Awards": "nan",
         "Genre": "",
         "Num_pages": "240.0",
         "Title": "Fire & Ice: The Lost Dreamer (Fire & Ice, #2)",
         "Unnamed: 0": 1081,
         "_deepnote_index_column": 1081,
         "avg_ratings": "4.43",
         "award_count": 0,
         "id": 1081,
         "mean_norm_ratings": "2.3307866180677745",
         "minmax_norm_ratings": "8.008849557522124",
         "number_of_ratings": 47,
         "original_publish_year": "nan",
         "url": "https://www.goodreads.com//book/show/36543151-fire-ice"
        },
        {
         "Author": "Erin Forbes ",
         "Awards": "nan",
         "Genre": "'Fantasy', 'Young Adult', 'Science Fiction'",
         "Num_pages": "219.0",
         "Title": "Fire & Ice: The Elementals",
         "Unnamed: 0": 1082,
         "_deepnote_index_column": 1082,
         "avg_ratings": "4.36",
         "award_count": 0,
         "id": 1082,
         "mean_norm_ratings": "2.0520255561208742",
         "minmax_norm_ratings": "7.730088495575224",
         "number_of_ratings": 113,
         "original_publish_year": "nan",
         "url": "https://www.goodreads.com//book/show/32661803-fire-ice"
        },
        {
         "Author": "Stephen Chbosky",
         "Awards": "nan",
         "Genre": "'Young Adult', 'Fiction', 'Contemporary', 'Young Adult', 'Coming Of Age', 'Romance', 'Realistic Fiction', 'LGBT', 'Classics', 'Health', 'Mental Health', 'Young Adult', 'Teen'",
         "Num_pages": "nan",
         "Title": "The Perks of Being a Wallflower",
         "Unnamed: 0": 1083,
         "_deepnote_index_column": 1083,
         "avg_ratings": "4.2",
         "award_count": 0,
         "id": 1083,
         "mean_norm_ratings": "1.4148574145279535",
         "minmax_norm_ratings": "7.0929203539823025",
         "number_of_ratings": 1282190,
         "original_publish_year": "nan",
         "url": "https://www.goodreads.com//book/show/22628.The_Perks_of_Being_a_Wallflower"
        },
        {
         "Author": "Kami Garcia ",
         "Awards": "'Georgia Peach Book Award Nominee for Honor book (2011)', 'William C. Morris YA Debut Award Nominee (2010)', 'Audie Award for Paranormal (2011)', 'California Young Readers Medal Nominee for Young Adult (2013)', 'Goodreads Choice Award Nominee for Young Adult Fiction (2009)'",
         "Genre": "'Young Adult', 'Fantasy', 'Fantasy', 'Paranormal', 'Romance', 'Fiction', 'Fantasy', 'Magic', 'Fantasy', 'Supernatural', 'Paranormal', 'Witches', 'Romance', 'Paranormal Romance', 'Fantasy', 'Urban Fantasy'",
         "Num_pages": "563.0",
         "Title": "Beautiful Creatures (Caster Chronicles, #1)",
         "Unnamed: 0": 1084,
         "_deepnote_index_column": 1084,
         "avg_ratings": "3.76",
         "award_count": 5,
         "id": 1084,
         "mean_norm_ratings": "-0.33735497485257904",
         "minmax_norm_ratings": "5.340707964601769",
         "number_of_ratings": 551296,
         "original_publish_year": "nan",
         "url": "https://www.goodreads.com//book/show/6304335-beautiful-creatures"
        },
        {
         "Author": "Nicole DragonBeck ",
         "Awards": "nan",
         "Genre": "'Fantasy'",
         "Num_pages": "321.0",
         "Title": "First Magyc (Guardians of the Path Book 1)",
         "Unnamed: 0": 1085,
         "_deepnote_index_column": 1085,
         "avg_ratings": "4.26",
         "award_count": 0,
         "id": 1085,
         "mean_norm_ratings": "1.6537954676252973",
         "minmax_norm_ratings": "7.331858407079646",
         "number_of_ratings": 47,
         "original_publish_year": "2015",
         "url": "https://www.goodreads.com//book/show/25434542-first-magyc"
        },
        {
         "Author": "C.M. Meridian ",
         "Awards": "nan",
         "Genre": "",
         "Num_pages": "504.0",
         "Title": "Deep World Blood (Deep World Saga #2)",
         "Unnamed: 0": 1086,
         "_deepnote_index_column": 1086,
         "avg_ratings": "4.67",
         "award_count": 0,
         "id": 1086,
         "mean_norm_ratings": "3.2865388304571566",
         "minmax_norm_ratings": "8.964601769911505",
         "number_of_ratings": 6,
         "original_publish_year": "nan",
         "url": "https://www.goodreads.com//book/show/43181675-deep-world-blood"
        },
        {
         "Author": "Seth Dickinson ",
         "Awards": "'David Gemmell Morningstar Award Nominee for Best Fantasy Newcomer (2016)', 'Reddit r/fantasy Stabby Award for Best Debut Novel (2015)'",
         "Genre": "'Fantasy', 'Fiction', 'LGBT', 'Science Fiction', 'GLBT', 'Queer', 'Adult', 'Science Fiction Fantasy', 'Fantasy', 'High Fantasy', 'Politics', 'Fantasy', 'Epic Fantasy'",
         "Num_pages": "399.0",
         "Title": "The Traitor Baru Cormorant (The Masquerade, #1)",
         "Unnamed: 0": 1087,
         "_deepnote_index_column": 1087,
         "avg_ratings": "4.06",
         "award_count": 2,
         "id": 1087,
         "mean_norm_ratings": "0.8573352906341459",
         "minmax_norm_ratings": "6.535398230088495",
         "number_of_ratings": 12885,
         "original_publish_year": "nan",
         "url": "https://www.goodreads.com//book/show/23444482-the-traitor-baru-cormorant"
        },
        {
         "Author": "T.L. Shreffler ",
         "Awards": "'SKoW Award'",
         "Genre": "'Fantasy', 'Young Adult', 'Fantasy', 'Magic', 'Romance', 'Fantasy', 'Paranormal', 'Adventure', 'Young Adult', 'Young Adult Fantasy', 'Fantasy', 'High Fantasy', 'Fiction', 'Business', 'Amazon'",
         "Num_pages": "nan",
         "Title": "Sora's Quest (The Cat's Eye Chronicles, #1)",
         "Unnamed: 0": 1088,
         "_deepnote_index_column": 1088,
         "avg_ratings": "3.99",
         "award_count": 1,
         "id": 1088,
         "mean_norm_ratings": "0.5785742286872457",
         "minmax_norm_ratings": "6.256637168141594",
         "number_of_ratings": 5137,
         "original_publish_year": "nan",
         "url": "https://www.goodreads.com//book/show/13606393-sora-s-quest"
        },
        {
         "Author": "S.M. Stirling",
         "Awards": "nan",
         "Genre": "'Science Fiction', 'Fantasy', 'Apocalyptic', 'Post Apocalyptic', 'Fiction', 'Science Fiction', 'Alternate History', 'Science Fiction', 'Dystopia', 'Science Fiction', 'Apocalyptic', 'Science Fiction Fantasy', 'Speculative Fiction', 'Adventure', 'Survival'",
         "Num_pages": "573.0",
         "Title": "Dies the Fire (Emberverse, #1)",
         "Unnamed: 0": 1089,
         "_deepnote_index_column": 1089,
         "avg_ratings": "3.93",
         "award_count": 0,
         "id": 1089,
         "mean_norm_ratings": "0.3396361755899002",
         "minmax_norm_ratings": "6.01769911504425",
         "number_of_ratings": 15201,
         "original_publish_year": "2004",
         "url": "https://www.goodreads.com//book/show/116445.Dies_the_Fire"
        },
        {
         "Author": "H. Leighton Dickson ",
         "Awards": "nan",
         "Genre": "'Fantasy', 'Fiction', 'Fantasy', 'High Fantasy', 'Animals', 'Anthropomorphic', 'Adventure', 'Business', 'Amazon', 'Fantasy', 'Magic', 'Science Fiction', 'Animals', 'Science Fiction Fantasy'",
         "Num_pages": "350.0",
         "Title": "To Journey in the Year of the Tiger (Upper Kingdom, #1)",
         "Unnamed: 0": 1090,
         "_deepnote_index_column": 1090,
         "avg_ratings": "3.97",
         "award_count": 0,
         "id": 1090,
         "mean_norm_ratings": "0.49892821098813045",
         "minmax_norm_ratings": "6.176991150442479",
         "number_of_ratings": 398,
         "original_publish_year": "nan",
         "url": "https://www.goodreads.com//book/show/21563710-to-journey-in-the-year-of-the-tiger"
        }
       ],
       "rows_top": [
        {
         "Author": "George R.R. Martin",
         "Awards": "'Nebula Award Nominee for Best Novel (1997)', 'Locus Award for Best Fantasy Novel (1997)', 'World Fantasy Award Nominee for Best Novel (1997)', 'Premio Ignotus for Novela extranjera (2003)'",
         "Genre": "'Fantasy', 'Fiction', 'Fantasy', 'Epic Fantasy', 'Adult', 'Science Fiction Fantasy', 'Fantasy', 'High Fantasy', 'Adventure', 'Fantasy', 'Dragons', 'Audiobook', 'Epic'",
         "Num_pages": "835.0",
         "Title": "A Game of Thrones (A Song of Ice and Fire, #1)",
         "Unnamed: 0": 0,
         "_deepnote_index_column": 0,
         "avg_ratings": 4.45,
         "award_count": 4,
         "id": 0,
         "mean_norm_ratings": 2.4104326357668917,
         "minmax_norm_ratings": 8.088495575221241,
         "number_of_ratings": 2047731,
         "original_publish_year": "1996",
         "url": "https://www.goodreads.com//book/show/13496.A_Game_of_Thrones"
        },
        {
         "Author": "J.R.R. Tolkien",
         "Awards": "nan",
         "Genre": "'Fantasy', 'Fiction', 'Classics', 'Adventure', 'Science Fiction Fantasy', 'Fantasy', 'Epic Fantasy', 'Fantasy', 'High Fantasy', 'Young Adult', 'Literature', 'Fantasy', 'Magic'",
         "Num_pages": "nan",
         "Title": "J.R.R. Tolkien 4-Book Boxed Set: The Hobbit and The Lord of the Rings",
         "Unnamed: 0": 1,
         "_deepnote_index_column": 1,
         "avg_ratings": 4.6,
         "award_count": 0,
         "id": 1,
         "mean_norm_ratings": 3.0077777685102522,
         "minmax_norm_ratings": 8.685840707964601,
         "number_of_ratings": 112472,
         "original_publish_year": "1955",
         "url": "https://www.goodreads.com//book/show/30.J_R_R_Tolkien_4_Book_Boxed_Set"
        },
        {
         "Author": "Patrick Rothfuss ",
         "Awards": "'Locus Award Nominee for Best First Novel and Best Fantasy Novel (2008)', 'Compton Crook Award Nominee (2008)', \"Grand Prix de l'Imaginaire Nominee for Roman Ã©tranger and Traduction (2010)\", 'ALA Alex Award (2008)', 'The Quill Award for Science Fiction/Fantasy/Horror (2007)', 'Sakura Medal for High School Book (2009)', 'Premio Ignotus Nominee for Mejor novela extranjera (Best Foreign Novel) (2010)', 'TÃ¤htifantasia Award Nominee (2011)'",
         "Genre": "'Fantasy', 'Fiction', 'Fantasy', 'Epic Fantasy', 'Fantasy', 'High Fantasy', 'Fantasy', 'Magic', 'Science Fiction Fantasy', 'Adult', 'Adventure', 'Audiobook', 'Epic'",
         "Num_pages": "662.0",
         "Title": "The Name of the Wind (The Kingkiller Chronicle, #1)",
         "Unnamed: 0": 2,
         "_deepnote_index_column": 2,
         "avg_ratings": 4.52,
         "award_count": 8,
         "id": 2,
         "mean_norm_ratings": 2.689193697713792,
         "minmax_norm_ratings": 8.36725663716814,
         "number_of_ratings": 739671,
         "original_publish_year": "2007",
         "url": "https://www.goodreads.com//book/show/186074.The_Name_of_the_Wind"
        },
        {
         "Author": "Brandon Sanderson ",
         "Awards": "'Locus Award Nominee for Best Fantasy Novel (2011)', 'David Gemmell Legend Award for Best Fantasy Novel (2011)', 'Whitney Award for Best Novel (2010)', 'Goodreads Choice Award Nominee for Fantasy and for Favorite Book and for Goodreads Author (2010)'",
         "Genre": "'Fantasy', 'Fiction', 'Fantasy', 'Epic Fantasy', 'Fantasy', 'High Fantasy', 'Audiobook', 'Science Fiction Fantasy', 'Adult', 'Epic', 'Fantasy', 'Magic', 'Adventure'",
         "Num_pages": "1007.0",
         "Title": "The Way of Kings (The Stormlight Archive, #1)",
         "Unnamed: 0": 3,
         "_deepnote_index_column": 3,
         "avg_ratings": 4.62,
         "award_count": 4,
         "id": 3,
         "mean_norm_ratings": 3.0874237862093694,
         "minmax_norm_ratings": 8.765486725663717,
         "number_of_ratings": 319885,
         "original_publish_year": "nan",
         "url": "https://www.goodreads.com//book/show/7235533-the-way-of-kings"
        },
        {
         "Author": "C.S. Lewis",
         "Awards": "nan",
         "Genre": "'Fantasy', 'Classics', 'Fiction', 'Young Adult', 'Childrens', 'Christian', 'Adventure', 'Childrens', 'Middle Grade', 'Science Fiction Fantasy', 'Christian Fiction'",
         "Num_pages": "nan",
         "Title": "The Chronicles of Narnia (Chronicles of Narnia, #1-7)",
         "Unnamed: 0": 4,
         "_deepnote_index_column": 4,
         "avg_ratings": 4.26,
         "award_count": 0,
         "id": 4,
         "mean_norm_ratings": 1.6537954676252973,
         "minmax_norm_ratings": 7.331858407079646,
         "number_of_ratings": 533099,
         "original_publish_year": "1956",
         "url": "https://www.goodreads.com//book/show/11127.The_Chronicles_of_Narnia"
        },
        {
         "Author": "Robert Jordan",
         "Awards": "'Locus Award Nominee for Best Fantasy Book (1991)'",
         "Genre": "'Fantasy', 'Fiction', 'Fantasy', 'Epic Fantasy', 'Fantasy', 'High Fantasy', 'Science Fiction Fantasy', 'Adventure', 'Fantasy', 'Magic', 'Adult', 'Audiobook', 'Epic'",
         "Num_pages": "814.0",
         "Title": "The Eye of the World (The Wheel of Time, #1)",
         "Unnamed: 0": 5,
         "_deepnote_index_column": 5,
         "avg_ratings": 4.17,
         "award_count": 1,
         "id": 5,
         "mean_norm_ratings": 1.29538838797928,
         "minmax_norm_ratings": 6.9734513274336285,
         "number_of_ratings": 402710,
         "original_publish_year": "1990",
         "url": "https://www.goodreads.com//book/show/228665.The_Eye_of_the_World"
        },
        {
         "Author": "Brandon Sanderson ",
         "Awards": "'TÃ¤htifantasia Award Nominee (2018)', 'Prix Elbakin.net for Meilleur roman fantasy traduit (2010)'",
         "Genre": "'Fantasy', 'Fiction', 'Fantasy', 'High Fantasy', 'Fantasy', 'Epic Fantasy', 'Fantasy', 'Magic', 'Adult', 'Science Fiction Fantasy', 'Young Adult', 'Audiobook', 'Adventure'",
         "Num_pages": "544.0",
         "Title": "The Final Empire (Mistborn, #1)",
         "Unnamed: 0": 6,
         "_deepnote_index_column": 6,
         "avg_ratings": 4.44,
         "award_count": 2,
         "id": 6,
         "mean_norm_ratings": 2.370609626917335,
         "minmax_norm_ratings": 8.048672566371685,
         "number_of_ratings": 419655,
         "original_publish_year": "2006",
         "url": "https://www.goodreads.com//book/show/68428.The_Final_Empire"
        },
        {
         "Author": "Philip Pullman",
         "Awards": "'Literaturpreis der Jury der jungen Leser for Kinderbuch (2002)'",
         "Genre": "'Fantasy', 'Young Adult', 'Fiction', 'Childrens', 'Science Fiction Fantasy', 'Adventure', 'Science Fiction', 'Classics', 'Science Fiction', 'Steampunk', 'Childrens', 'Middle Grade'",
         "Num_pages": "1088.0",
         "Title": "His Dark Materials (His Dark Materials #1-3)",
         "Unnamed: 0": 7,
         "_deepnote_index_column": 7,
         "avg_ratings": 4.25,
         "award_count": 1,
         "id": 7,
         "mean_norm_ratings": 1.6139724587757405,
         "minmax_norm_ratings": 7.292035398230089,
         "number_of_ratings": 147424,
         "original_publish_year": "2000",
         "url": "https://www.goodreads.com//book/show/18116.His_Dark_Materials"
        },
        {
         "Author": "Christopher Paolini ",
         "Awards": "\"Book Sense Book of the Year Award for Children's Literature (2004)\", 'Books I Loved Best Yearly (BILBY) Awards for Older Readers (2007)', 'South Carolina Book Award for Young Adult Book (2006)', 'Grand Canyon Reader Award for Teen Book (2006)', 'Nene Award (2006)', 'Colorado Blue Spruce Young Adult Book Award (2005)', \"Pennsylvania Young Readers' Choice Award for Grades 6-8 (2005)\", 'Rhode Island Teen Book Award (2005)', 'Beehive Book Award for Young Adult Book (2005)', 'Evergreen Teen Book Award (2006)', 'Golden Archer Award for Middle/Junior High (2006)', 'Soaring Eagle Book Award (2005)', \"Pacific Northwest Library Association Young Reader's Choice Award for Intermediate (2006)\", 'Iowa Teen Award (2008)', 'Eliot Rosewater Indiana High School Book Award (2006)', 'Literaturpreis der Jury der jungen Leser for Kinderbuch (2005)', \"Virginia Reader's Choice for Middle (2005)\", 'Missouri Gateway Readers Award for Young Adult (2006)', 'Oklahoma Sequoyah Award for YA (2006)', \"Rebecca Caudill Young Readers' Book Award (2006)\"",
         "Genre": "'Fantasy', 'Young Adult', 'Fiction', 'Fantasy', 'Dragons', 'Adventure', 'Fantasy', 'Magic', 'Fantasy', 'High Fantasy', 'Science Fiction Fantasy', 'Young Adult', 'Young Adult Fantasy', 'Childrens'",
         "Num_pages": "503.0",
         "Title": "Eragon (The Inheritance Cycle, #1)",
         "Unnamed: 0": 8,
         "_deepnote_index_column": 8,
         "avg_ratings": 3.91,
         "award_count": 20,
         "id": 8,
         "mean_norm_ratings": 0.25999015789078506,
         "minmax_norm_ratings": 5.938053097345135,
         "number_of_ratings": 1470713,
         "original_publish_year": "2002",
         "url": "https://www.goodreads.com//book/show/113436.Eragon"
        },
        {
         "Author": "Robin Hobb ",
         "Awards": "'Locus Award Nominee for Fantasy (1996)', 'British Fantasy Award Nominee for Best Novel (1997)', 'Compton Crook Award (1996)) Nominee (1996)'",
         "Genre": "'Fantasy', 'Fiction', 'Fantasy', 'Epic Fantasy', 'Fantasy', 'High Fantasy', 'Science Fiction Fantasy', 'Adventure', 'Fantasy', 'Magic', 'Adult', 'Young Adult', 'Audiobook'",
         "Num_pages": "435.0",
         "Title": "Assassin's Apprentice (Farseer Trilogy, #1)",
         "Unnamed: 0": 9,
         "_deepnote_index_column": 9,
         "avg_ratings": 4.15,
         "award_count": 3,
         "id": 9,
         "mean_norm_ratings": 1.2157423702801666,
         "minmax_norm_ratings": 6.893805309734516,
         "number_of_ratings": 242113,
         "original_publish_year": "1995",
         "url": "https://www.goodreads.com//book/show/77197.Assassin_s_Apprentice"
        },
        {
         "Author": "Scott Lynch ",
         "Awards": "'Locus Award Nominee for Best Fantasy Novel and Best First Novel (2007)', 'World Fantasy Award Nominee for Best Novel (2007)', 'Compton Crook Award Nominee (2007)', \"Grand Prix de l'Imaginaire Nominee for Roman Ã©tranger (2008)\", 'TÃ¤htifantasia Award Nominee (2008)', 'British Fantasy Award Nominee for Best Novel (2007)'",
         "Genre": "'Fantasy', 'Fiction', 'Adventure', 'Adult', 'Fantasy', 'High Fantasy', 'Fantasy', 'Epic Fantasy', 'Audiobook', 'Science Fiction Fantasy', 'Mystery', 'Mystery', 'Crime'",
         "Num_pages": "752.0",
         "Title": "The Lies of Locke Lamora (Gentleman Bastard, #1)",
         "Unnamed: 0": 10,
         "_deepnote_index_column": 10,
         "avg_ratings": 4.26,
         "award_count": 6,
         "id": 10,
         "mean_norm_ratings": 1.6537954676252973,
         "minmax_norm_ratings": 7.331858407079646,
         "number_of_ratings": 232825,
         "original_publish_year": "2006",
         "url": "https://www.goodreads.com//book/show/29588376-the-lies-of-locke-lamora"
        },
        {
         "Author": "Stephen King ",
         "Awards": "nan",
         "Genre": "'Fantasy', 'Fiction', 'Horror', 'Science Fiction', 'Westerns', 'Adventure', 'Science Fiction Fantasy', 'Audiobook', 'Thriller', 'Apocalyptic', 'Post Apocalyptic'",
         "Num_pages": "nan",
         "Title": "The Gunslinger",
         "Unnamed: 0": 11,
         "_deepnote_index_column": 11,
         "avg_ratings": 3.94,
         "award_count": 0,
         "id": 11,
         "mean_norm_ratings": 0.37945918443945703,
         "minmax_norm_ratings": 6.057522123893806,
         "number_of_ratings": 525489,
         "original_publish_year": "1982",
         "url": "https://www.goodreads.com//book/show/43615.The_Gunslinger"
        },
        {
         "Author": "Terry Goodkind",
         "Awards": "'Locus Award Nominee for Best first novel (1995)'",
         "Genre": "'Fantasy', 'Fiction', 'Fantasy', 'Epic Fantasy', 'Fantasy', 'High Fantasy', 'Science Fiction Fantasy', 'Fantasy', 'Magic', 'Adventure', 'Romance', 'Adult', 'Epic'",
         "Num_pages": "836.0",
         "Title": "Wizard's First Rule (Sword of Truth, #1)",
         "Unnamed: 0": 12,
         "_deepnote_index_column": 12,
         "avg_ratings": 4.12,
         "award_count": 1,
         "id": 12,
         "mean_norm_ratings": 1.096273343731493,
         "minmax_norm_ratings": 6.774336283185842,
         "number_of_ratings": 232694,
         "original_publish_year": "1994",
         "url": "https://www.goodreads.com//book/show/43889.Wizard_s_First_Rule"
        },
        {
         "Author": "Joe Abercrombie",
         "Awards": "'Locus Award Nominee for Best First Novel (2007)', 'Compton Crook Award Nominee (2008)', 'TÃ¤htifantasia Award Nominee (2010)'",
         "Genre": "'Fantasy', 'Fiction', 'Fantasy', 'Epic Fantasy', 'Fantasy', 'High Fantasy', 'Adventure', 'Fantasy', 'Dark Fantasy', 'Audiobook', 'Adult', 'Science Fiction Fantasy', 'Fantasy', 'Magic'",
         "Num_pages": "515.0",
         "Title": "The Blade Itself (The First Law, #1)",
         "Unnamed: 0": 13,
         "_deepnote_index_column": 13,
         "avg_ratings": 4.16,
         "award_count": 3,
         "id": 13,
         "mean_norm_ratings": 1.2555653791297232,
         "minmax_norm_ratings": 6.933628318584072,
         "number_of_ratings": 171213,
         "original_publish_year": "2006",
         "url": "https://www.goodreads.com//book/show/944073.The_Blade_Itself"
        },
        {
         "Author": "J.R.R. Tolkien",
         "Awards": "'Locus Award for Best Fantasy Novel (1978)', 'Ditmar Award for Best International Long Fiction (1978)', 'Gandalf Award (1978)'",
         "Genre": "'Fantasy', 'Fiction', 'Classics', 'Fantasy', 'High Fantasy', 'Science Fiction Fantasy', 'Fantasy', 'Epic Fantasy', 'Fantasy', 'Mythology', 'Literature', 'Adventure', 'Novels'",
         "Num_pages": "386.0",
         "Title": "The Silmarillion",
         "Unnamed: 0": 14,
         "_deepnote_index_column": 14,
         "avg_ratings": 3.93,
         "award_count": 3,
         "id": 14,
         "mean_norm_ratings": 0.3396361755899002,
         "minmax_norm_ratings": 6.01769911504425,
         "number_of_ratings": 225991,
         "original_publish_year": "1977",
         "url": "https://www.goodreads.com//book/show/7332.The_Silmarillion"
        },
        {
         "Author": "Steven Erikson ",
         "Awards": "'Locus Award Nominee for Best First Novel (2000)', 'World Fantasy Award Nominee for Best Novel (2000)', 'Prix Aurora Award Nominee for Best of the Decade (2017)', 'Le Blanc Award for Melhor Romance Estrangeiro de Fantasia, FicÃ§Ã£o CientÃ­fica ou Terror Publicado em LÃ­ngua Portuguesa (2018)'",
         "Genre": "'Fantasy', 'Fiction', 'Fantasy', 'Epic Fantasy', 'Fantasy', 'High Fantasy', 'Epic', 'Science Fiction Fantasy', 'Fantasy', 'Dark Fantasy', 'Fantasy', 'Magic', 'Adventure', 'Adult'",
         "Num_pages": "657.0",
         "Title": "Gardens of the Moon (Malazan Book of the Fallen, #1)",
         "Unnamed: 0": 15,
         "_deepnote_index_column": 15,
         "avg_ratings": 3.88,
         "award_count": 5,
         "id": 15,
         "mean_norm_ratings": 0.14052113134211164,
         "minmax_norm_ratings": 5.818584070796461,
         "number_of_ratings": 94104,
         "original_publish_year": "1999",
         "url": "https://www.goodreads.com//book/show/55399.Gardens_of_the_Moon"
        },
        {
         "Author": "William Goldman",
         "Awards": "nan",
         "Genre": "'Fantasy', 'Fiction', 'Classics', 'Romance', 'Humor', 'Young Adult', 'Adventure', 'Science Fiction Fantasy', 'Humor', 'Comedy', 'Fantasy', 'Fairy Tales'",
         "Num_pages": "30.0",
         "Title": "The Princess Bride",
         "Unnamed: 0": 16,
         "_deepnote_index_column": 16,
         "avg_ratings": 4.25,
         "award_count": 0,
         "id": 16,
         "mean_norm_ratings": 1.6139724587757405,
         "minmax_norm_ratings": 7.292035398230089,
         "number_of_ratings": 794096,
         "original_publish_year": "1973",
         "url": "https://www.goodreads.com//book/show/21787.The_Princess_Bride"
        },
        {
         "Author": "David Eddings",
         "Awards": "nan",
         "Genre": "'Fantasy', 'Fantasy', 'Epic Fantasy', 'Fiction', 'Fantasy', 'High Fantasy', 'Science Fiction Fantasy', 'Adventure', 'Young Adult', 'Classics', 'Fantasy', 'Magic', 'Epic'",
         "Num_pages": "1635.0",
         "Title": "The Belgariad Boxed Set: Pawn of Prophecy / Queen of Sorcery / Magician's Gambit / Castle of Wizardry / Enchanters' End Game (The Belgariad, #1-5)",
         "Unnamed: 0": 17,
         "_deepnote_index_column": 17,
         "avg_ratings": 4.27,
         "award_count": 0,
         "id": 17,
         "mean_norm_ratings": 1.6936184764748536,
         "minmax_norm_ratings": 7.371681415929203,
         "number_of_ratings": 14518,
         "original_publish_year": "1984",
         "url": "https://www.goodreads.com//book/show/44660.The_Belgariad_Boxed_Set"
        },
        {
         "Author": "Ursula K. Le Guin",
         "Awards": "'Lewis Carroll Shelf Award (1979)', 'Boston Globe-Horn Book Award for Fiction (1969)', 'ZÅ‚ota Sepulka for KsiÄ…Å¼ka autora zagranicznego (1984)', 'Margaret A. Edwards Award (2004)'",
         "Genre": "'Fantasy', 'Fiction', 'Young Adult', 'Classics', 'Science Fiction Fantasy', 'Fantasy', 'Magic', 'Science Fiction', 'Fantasy', 'High Fantasy', 'Adventure', 'Fantasy', 'Dragons'",
         "Num_pages": "183.0",
         "Title": "A Wizard of Earthsea (Earthsea Cycle, #1)",
         "Unnamed: 0": 18,
         "_deepnote_index_column": 18,
         "avg_ratings": 3.99,
         "award_count": 4,
         "id": 18,
         "mean_norm_ratings": 0.5785742286872457,
         "minmax_norm_ratings": 6.256637168141594,
         "number_of_ratings": 248931,
         "original_publish_year": "1968",
         "url": "https://www.goodreads.com//book/show/13642.A_Wizard_of_Earthsea"
        },
        {
         "Author": "Raymond E. Feist",
         "Awards": "nan",
         "Genre": "'Fantasy', 'Fiction', 'Fantasy', 'Epic Fantasy', 'Fantasy', 'High Fantasy', 'Science Fiction Fantasy', 'Fantasy', 'Magic', 'Adventure', 'Young Adult', 'Science Fiction', 'Childrens'",
         "Num_pages": "485.0",
         "Title": "Magician: Apprentice (The Riftwar Saga, #1)",
         "Unnamed: 0": 19,
         "_deepnote_index_column": 19,
         "avg_ratings": 4.14,
         "award_count": 0,
         "id": 19,
         "mean_norm_ratings": 1.1759193614306063,
         "minmax_norm_ratings": 6.8539823008849545,
         "number_of_ratings": 86735,
         "original_publish_year": "1982",
         "url": "https://www.goodreads.com//book/show/13812.Magician"
        },
        {
         "Author": "Marion Zimmer Bradley",
         "Awards": "'Locus Award for Best Fantasy Novel (1984)'",
         "Genre": "'Fantasy', 'Fiction', 'Historical', 'Historical Fiction', 'Mythology', 'Arthurian', 'Fantasy', 'Mythology', 'Science Fiction Fantasy', 'Historical', 'Classics', 'Romance', 'Fantasy', 'Magic'",
         "Num_pages": "1009.0",
         "Title": "The Mists of Avalon (Avalon, #1)",
         "Unnamed: 0": 20,
         "_deepnote_index_column": 20,
         "avg_ratings": 4.11,
         "award_count": 1,
         "id": 20,
         "mean_norm_ratings": 1.0564503348819363,
         "minmax_norm_ratings": 6.734513274336285,
         "number_of_ratings": 195332,
         "original_publish_year": "1982",
         "url": "https://www.goodreads.com//book/show/40605251-the-mists-of-avalon"
        },
        {
         "Author": "Garth Nix ",
         "Awards": "'Ø¨Ø±Ù†Ø¯Ù‡ Ø¬Ø§ÛŒØ²Ù‡ Ø¢Ø±ÛŒÙ„ÛŒØ³', 'Ditmar Award Nominee for Short Fiction (1996)', 'Aurealis Award for Fantasy Novel and Young Adult Novel (1995)', 'Lincoln Award Nominee (2005)'",
         "Genre": "'Fantasy', 'Young Adult', 'Fiction', 'Fantasy', 'Magic', 'Adventure', 'Young Adult', 'Young Adult Fantasy', 'Fantasy', 'High Fantasy', 'Science Fiction Fantasy', 'Audiobook', 'Young Adult', 'Teen'",
         "Num_pages": "nan",
         "Title": "Sabriel (Abhorsen,  #1)",
         "Unnamed: 0": 21,
         "_deepnote_index_column": 21,
         "avg_ratings": 4.14,
         "award_count": 4,
         "id": 21,
         "mean_norm_ratings": 1.1759193614306063,
         "minmax_norm_ratings": 6.8539823008849545,
         "number_of_ratings": 190814,
         "original_publish_year": "1995",
         "url": "https://www.goodreads.com//book/show/518848.Sabriel"
        },
        {
         "Author": "Patrick Rothfuss ",
         "Awards": "'Locus Award Nominee for Best Fantasy Novel (2012)', 'David Gemmell Legend Award for Best Fantasy Novel (2012)', 'TÃ¤htifantasia Award Nominee (2016)', 'Goodreads Choice Award Nominee for Best Fantasy and for Favorite Book (2011)', 'Prix Elbakin.net for Meilleur roman fantasy traduit (2013)'",
         "Genre": "'Fantasy', 'Fiction', 'Fantasy', 'Epic Fantasy', 'Fantasy', 'High Fantasy', 'Fantasy', 'Magic', 'Science Fiction Fantasy', 'Adventure', 'Audiobook', 'Adult', 'Epic'",
         "Num_pages": "nan",
         "Title": "The Wise Man's Fear (The Kingkiller Chronicle, #2)",
         "Unnamed: 0": 22,
         "_deepnote_index_column": 22,
         "avg_ratings": 4.55,
         "award_count": 5,
         "id": 22,
         "mean_norm_ratings": 2.8086627242624655,
         "minmax_norm_ratings": 8.486725663716815,
         "number_of_ratings": 441055,
         "original_publish_year": "nan",
         "url": "https://www.goodreads.com//book/show/1215032.The_Wise_Man_s_Fear"
        },
        {
         "Author": "Brent Weeks ",
         "Awards": "nan",
         "Genre": "'Fantasy', 'Fiction', 'Fantasy', 'Epic Fantasy', 'Fantasy', 'Magic', 'Fantasy', 'High Fantasy', 'Fantasy', 'Dark Fantasy', 'Adult', 'Science Fiction Fantasy', 'Adventure', 'Epic'",
         "Num_pages": "1392.0",
         "Title": "The Night Angel Trilogy (Night Angel, #1-3)",
         "Unnamed: 0": 23,
         "_deepnote_index_column": 23,
         "avg_ratings": 4.42,
         "award_count": 0,
         "id": 23,
         "mean_norm_ratings": 2.290963609218218,
         "minmax_norm_ratings": 7.969026548672567,
         "number_of_ratings": 23894,
         "original_publish_year": "nan",
         "url": "https://www.goodreads.com//book/show/6122735-the-night-angel-trilogy"
        },
        {
         "Author": "Mark  Lawrence ",
         "Awards": "\"Grand Prix de l'Imaginaire Nominee (2013)\", 'David Gemmell Morningstar Award Nominee for Best Fantasy Newcomer (2012)', 'Goodreads Choice Award Nominee for Fantasy (2011)'",
         "Genre": "'Fantasy', 'Fiction', 'Fantasy', 'Dark Fantasy', 'Fantasy', 'Epic Fantasy', 'Fantasy', 'High Fantasy', 'Young Adult', 'Adult', 'Dark', 'Apocalyptic', 'Post Apocalyptic', 'Science Fiction'",
         "Num_pages": "373.0",
         "Title": "Prince of Thorns (The Broken Empire, #1)",
         "Unnamed: 0": 24,
         "_deepnote_index_column": 24,
         "avg_ratings": 3.85,
         "award_count": 3,
         "id": 24,
         "mean_norm_ratings": 0.021052104793439774,
         "minmax_norm_ratings": 5.6991150442477885,
         "number_of_ratings": 98090,
         "original_publish_year": "2011",
         "url": "https://www.goodreads.com//book/show/9579634-prince-of-thorns"
        },
        {
         "Author": "Anne McCaffrey",
         "Awards": "nan",
         "Genre": "'Fantasy', 'Science Fiction', 'Fiction', 'Fantasy', 'Dragons', 'Science Fiction Fantasy', 'Young Adult', 'Adventure', 'Fantasy', 'Epic Fantasy', 'Fantasy', 'High Fantasy', 'Science Fiction', 'Time Travel'",
         "Num_pages": "864.0",
         "Title": "The Dragonriders of Pern (Dragonriders of Pern, #1-3)",
         "Unnamed: 0": 25,
         "_deepnote_index_column": 25,
         "avg_ratings": 4.24,
         "award_count": 0,
         "id": 25,
         "mean_norm_ratings": 1.5741494499261837,
         "minmax_norm_ratings": 7.252212389380532,
         "number_of_ratings": 27366,
         "original_publish_year": "nan",
         "url": "https://www.goodreads.com//book/show/61942.The_Dragonriders_of_Pern"
        },
        {
         "Author": "Peter V. Brett ",
         "Awards": "'Locus Award Nominee for Best First Novel (2009)', 'LovelyBooks Leserpreis for Bester Klappentext (2009)'",
         "Genre": "'Fantasy', 'Fiction', 'Fantasy', 'Epic Fantasy', 'Fantasy', 'High Fantasy', 'Fantasy', 'Magic', 'Adventure', 'Paranormal', 'Demons', 'Fantasy', 'Dark Fantasy', 'Science Fiction Fantasy', 'Adult'",
         "Num_pages": "nan",
         "Title": "The Warded Man (Demon Cycle, #1)",
         "Unnamed: 0": 26,
         "_deepnote_index_column": 26,
         "avg_ratings": 4.23,
         "award_count": 2,
         "id": 26,
         "mean_norm_ratings": 1.534326441076627,
         "minmax_norm_ratings": 7.2123893805309764,
         "number_of_ratings": 111951,
         "original_publish_year": "2008",
         "url": "https://www.goodreads.com//book/show/3428935-the-warded-man"
        },
        {
         "Author": "Kristin Cashore",
         "Awards": "'Locus Award Nominee for Best First Novel (2009)', \"Mythopoeic Fantasy Award for Children's Literature (2009)\", 'William C. Morris YA Debut Award Nominee (2009)', 'Rhode Island Teen Book Award (2011)', 'Milwaukee County Teen Book Award Nominee (2010)', 'Sakura Medal Nominee for High School Book (2010)', 'Florida Teens Read Nominee (2010)', 'Amelia Elizabeth Walden Award Nominee (2009)', 'Iowa High School Book Award Nominee (2011)', 'California Young Readers Medal for Young Adult (2012)', 'Lincoln Award Nominee (2011)', 'Andre Norton Award Nominee (2008)', 'CYBILS Award Nominee for Young Adult Fantasy & Science Fiction (2008)', 'Green Mountain Book Award (2011)', 'Missouri Gateway Readers Award Nominee (2011)', 'LovelyBooks Leserpreis Nominee for Allgemeine Literatur (2009)'",
         "Genre": "'Fantasy', 'Young Adult', 'Romance', 'Fiction', 'Adventure', 'Young Adult', 'Young Adult Fantasy', 'Fantasy', 'Magic', 'Fantasy', 'High Fantasy', 'Young Adult', 'Teen', 'Fantasy', 'Paranormal'",
         "Num_pages": "471.0",
         "Title": "Graceling (Graceling Realm, #1)",
         "Unnamed: 0": 27,
         "_deepnote_index_column": 27,
         "avg_ratings": 4.07,
         "award_count": 16,
         "id": 27,
         "mean_norm_ratings": 0.8971582994837062,
         "minmax_norm_ratings": 6.575221238938055,
         "number_of_ratings": 395790,
         "original_publish_year": "nan",
         "url": "https://www.goodreads.com//book/show/3236307-graceling"
        },
        {
         "Author": "Terry Pratchett",
         "Awards": "'Margaret A. Edwards Award (2011)'",
         "Genre": "'Fantasy', 'Fiction', 'Humor', 'Humor', 'Comedy', 'Science Fiction Fantasy', 'Science Fiction', 'Fantasy', 'Magic', 'Adventure', 'Fantasy', 'High Fantasy', 'Novels'",
         "Num_pages": "228.0",
         "Title": "The Color of Magic (Discworld, #1; Rincewind, #1)",
         "Unnamed: 0": 28,
         "_deepnote_index_column": 28,
         "avg_ratings": 3.99,
         "award_count": 1,
         "id": 28,
         "mean_norm_ratings": 0.5785742286872457,
         "minmax_norm_ratings": 6.256637168141594,
         "number_of_ratings": 324015,
         "original_publish_year": "1983",
         "url": "https://www.goodreads.com//book/show/34497.The_Color_of_Magic"
        },
        {
         "Author": "Terry Pratchett",
         "Awards": "'Locus Award Nominee for Best Fantasy Novel (1991)', 'World Fantasy Award Nominee for Best Novel (1991)'",
         "Genre": "'Fantasy', 'Fiction', 'Humor', 'Fantasy', 'Urban Fantasy', 'Humor', 'Comedy', 'Audiobook', 'Science Fiction Fantasy', 'Adult', 'Science Fiction', 'Fantasy', 'Supernatural'",
         "Num_pages": "491.0",
         "Title": "Good Omens: The Nice and Accurate Prophecies of Agnes Nutter, Witch",
         "Unnamed: 0": 29,
         "_deepnote_index_column": 29,
         "avg_ratings": 4.24,
         "award_count": 2,
         "id": 29,
         "mean_norm_ratings": 1.5741494499261837,
         "minmax_norm_ratings": 7.252212389380532,
         "number_of_ratings": 561531,
         "original_publish_year": "1990",
         "url": "https://www.goodreads.com//book/show/12067.Good_Omens"
        },
        {
         "Author": "Jacqueline Carey ",
         "Awards": "'Locus Award for Best First Novel (2002)', 'Gaylactic Spectrum Award Nominee for Best Novel (2002)', \"Romantic Times Reviewers' Choice Award (RT Award) for Best Fantasy Novel (2001)\"",
         "Genre": "'Fantasy', 'Romance', 'Fiction', 'Fantasy', 'Epic Fantasy', 'Adult Fiction', 'Erotica', 'Adult', 'Science Fiction Fantasy', 'Fantasy', 'High Fantasy', 'Erotica', 'BDSM', 'Adventure'",
         "Num_pages": "1015.0",
         "Title": "Kushiel's Dart (PhÃ¨dre's Trilogy, #1)",
         "Unnamed: 0": 30,
         "_deepnote_index_column": 30,
         "avg_ratings": 3.99,
         "award_count": 3,
         "id": 30,
         "mean_norm_ratings": 0.5785742286872457,
         "minmax_norm_ratings": 6.256637168141594,
         "number_of_ratings": 75067,
         "original_publish_year": "2001",
         "url": "https://www.goodreads.com//book/show/153008.Kushiel_s_Dart"
        },
        {
         "Author": "Brian Jacques",
         "Awards": "\"West Australian Young Readers' Book Award (WAYRBA) for Older Readers (1990)\"",
         "Genre": "'Fantasy', 'Fiction', 'Young Adult', 'Childrens', 'Animals', 'Adventure', 'Childrens', 'Middle Grade', 'Classics', 'Science Fiction Fantasy', 'Audiobook'",
         "Num_pages": "352.0",
         "Title": "Redwall (Redwall, #1)",
         "Unnamed: 0": 31,
         "_deepnote_index_column": 31,
         "avg_ratings": 4.1,
         "award_count": 1,
         "id": 31,
         "mean_norm_ratings": 1.0166273260323762,
         "minmax_norm_ratings": 6.6946902654867255,
         "number_of_ratings": 107770,
         "original_publish_year": "1986",
         "url": "https://www.goodreads.com//book/show/7996.Redwall"
        },
        {
         "Author": "Brandon Sanderson ",
         "Awards": "'Locus Award Nominee for Best Fantasy Novel (2015)', 'David Gemmell Legend Award for Best Fantasy Novel (2015)', 'David Gemmell Ravenheart Award for Best Fantasy Cover Art (2015)', 'Goodreads Choice Award Nominee for Fantasy (2014)', 'Reddit r/fantasy Stabby Award for Best Novel (2014)'",
         "Genre": "'Fantasy', 'Fiction', 'Fantasy', 'Epic Fantasy', 'Fantasy', 'High Fantasy', 'Audiobook', 'Fantasy', 'Magic', 'Science Fiction Fantasy', 'Epic', 'Adult', 'Adventure'",
         "Num_pages": "1087.0",
         "Title": "Words of Radiance (The Stormlight Archive, #2)",
         "Unnamed: 0": 32,
         "_deepnote_index_column": 32,
         "avg_ratings": 4.74,
         "award_count": 5,
         "id": 32,
         "mean_norm_ratings": 3.56529989240406,
         "minmax_norm_ratings": 9.24336283185841,
         "number_of_ratings": 218355,
         "original_publish_year": "nan",
         "url": "https://www.goodreads.com//book/show/17332218-words-of-radiance"
        },
        {
         "Author": "Margaret Weis ",
         "Awards": "nan",
         "Genre": "'Fantasy', 'Dungeons and Dragons', 'Dragonlance', 'Fiction', 'Fantasy', 'Epic Fantasy', 'Science Fiction Fantasy', 'Fantasy', 'High Fantasy', 'Fantasy', 'Dragons', 'Adventure', 'Role Playing Games', 'Dungeons and Dragons', 'Anthologies', 'Collections'",
         "Num_pages": "1030.0",
         "Title": "Dragonlance Chronicles (Dragonlance #1-3)",
         "Unnamed: 0": 33,
         "_deepnote_index_column": 33,
         "avg_ratings": 4.23,
         "award_count": 0,
         "id": 33,
         "mean_norm_ratings": 1.534326441076627,
         "minmax_norm_ratings": 7.2123893805309764,
         "number_of_ratings": 19539,
         "original_publish_year": "1985",
         "url": "https://www.goodreads.com//book/show/68380.Dragonlance_Chronicles"
        },
        {
         "Author": "Jim Butcher ",
         "Awards": "nan",
         "Genre": "'Fantasy', 'Fiction', 'Fantasy', 'Epic Fantasy', 'Fantasy', 'High Fantasy', 'Fantasy', 'Magic', 'Adventure', 'Science Fiction Fantasy', 'Audiobook', 'Young Adult', 'Adult'",
         "Num_pages": "504.0",
         "Title": "Furies of Calderon (Codex Alera, #1)",
         "Unnamed: 0": 34,
         "_deepnote_index_column": 34,
         "avg_ratings": 4.11,
         "award_count": 0,
         "id": 34,
         "mean_norm_ratings": 1.0564503348819363,
         "minmax_norm_ratings": 6.734513274336285,
         "number_of_ratings": 99415,
         "original_publish_year": "2004",
         "url": "https://www.goodreads.com//book/show/29396.Furies_of_Calderon"
        }
       ]
      },
      "text/html": [
       "<div>\n",
       "<style scoped>\n",
       "    .dataframe tbody tr th:only-of-type {\n",
       "        vertical-align: middle;\n",
       "    }\n",
       "\n",
       "    .dataframe tbody tr th {\n",
       "        vertical-align: top;\n",
       "    }\n",
       "\n",
       "    .dataframe thead th {\n",
       "        text-align: right;\n",
       "    }\n",
       "</style>\n",
       "<table border=\"1\" class=\"dataframe\">\n",
       "  <thead>\n",
       "    <tr style=\"text-align: right;\">\n",
       "      <th></th>\n",
       "      <th>Unnamed: 0</th>\n",
       "      <th>Title</th>\n",
       "      <th>Author</th>\n",
       "      <th>number_of_ratings</th>\n",
       "      <th>url</th>\n",
       "      <th>avg_ratings</th>\n",
       "      <th>id</th>\n",
       "      <th>Num_pages</th>\n",
       "      <th>Awards</th>\n",
       "      <th>Genre</th>\n",
       "      <th>award_count</th>\n",
       "      <th>original_publish_year</th>\n",
       "      <th>minmax_norm_ratings</th>\n",
       "      <th>mean_norm_ratings</th>\n",
       "    </tr>\n",
       "  </thead>\n",
       "  <tbody>\n",
       "    <tr>\n",
       "      <th>0</th>\n",
       "      <td>0.0</td>\n",
       "      <td>A Game of Thrones (A Song of Ice and Fire, #1)</td>\n",
       "      <td>George R.R. Martin</td>\n",
       "      <td>2047731</td>\n",
       "      <td>https://www.goodreads.com//book/show/13496.A_G...</td>\n",
       "      <td>4.45</td>\n",
       "      <td>0.0</td>\n",
       "      <td>835.0</td>\n",
       "      <td>'Nebula Award Nominee for Best Novel (1997)', ...</td>\n",
       "      <td>'Fantasy', 'Fiction', 'Fantasy', 'Epic Fantasy...</td>\n",
       "      <td>4</td>\n",
       "      <td>1996</td>\n",
       "      <td>8.088496</td>\n",
       "      <td>2.410433</td>\n",
       "    </tr>\n",
       "    <tr>\n",
       "      <th>1</th>\n",
       "      <td>1.0</td>\n",
       "      <td>J.R.R. Tolkien 4-Book Boxed Set: The Hobbit an...</td>\n",
       "      <td>J.R.R. Tolkien</td>\n",
       "      <td>112472</td>\n",
       "      <td>https://www.goodreads.com//book/show/30.J_R_R_...</td>\n",
       "      <td>4.60</td>\n",
       "      <td>1.0</td>\n",
       "      <td>NaN</td>\n",
       "      <td>NaN</td>\n",
       "      <td>'Fantasy', 'Fiction', 'Classics', 'Adventure',...</td>\n",
       "      <td>0</td>\n",
       "      <td>1955</td>\n",
       "      <td>8.685841</td>\n",
       "      <td>3.007778</td>\n",
       "    </tr>\n",
       "    <tr>\n",
       "      <th>2</th>\n",
       "      <td>2.0</td>\n",
       "      <td>The Name of the Wind (The Kingkiller Chronicle...</td>\n",
       "      <td>Patrick Rothfuss</td>\n",
       "      <td>739671</td>\n",
       "      <td>https://www.goodreads.com//book/show/186074.Th...</td>\n",
       "      <td>4.52</td>\n",
       "      <td>2.0</td>\n",
       "      <td>662.0</td>\n",
       "      <td>'Locus Award Nominee for Best First Novel and ...</td>\n",
       "      <td>'Fantasy', 'Fiction', 'Fantasy', 'Epic Fantasy...</td>\n",
       "      <td>8</td>\n",
       "      <td>2007</td>\n",
       "      <td>8.367257</td>\n",
       "      <td>2.689194</td>\n",
       "    </tr>\n",
       "    <tr>\n",
       "      <th>3</th>\n",
       "      <td>3.0</td>\n",
       "      <td>The Way of Kings (The Stormlight Archive, #1)</td>\n",
       "      <td>Brandon Sanderson</td>\n",
       "      <td>319885</td>\n",
       "      <td>https://www.goodreads.com//book/show/7235533-t...</td>\n",
       "      <td>4.62</td>\n",
       "      <td>3.0</td>\n",
       "      <td>1007.0</td>\n",
       "      <td>'Locus Award Nominee for Best Fantasy Novel (2...</td>\n",
       "      <td>'Fantasy', 'Fiction', 'Fantasy', 'Epic Fantasy...</td>\n",
       "      <td>4</td>\n",
       "      <td>NaN</td>\n",
       "      <td>8.765487</td>\n",
       "      <td>3.087424</td>\n",
       "    </tr>\n",
       "    <tr>\n",
       "      <th>4</th>\n",
       "      <td>4.0</td>\n",
       "      <td>The Chronicles of Narnia (Chronicles of Narnia...</td>\n",
       "      <td>C.S. Lewis</td>\n",
       "      <td>533099</td>\n",
       "      <td>https://www.goodreads.com//book/show/11127.The...</td>\n",
       "      <td>4.26</td>\n",
       "      <td>4.0</td>\n",
       "      <td>NaN</td>\n",
       "      <td>NaN</td>\n",
       "      <td>'Fantasy', 'Classics', 'Fiction', 'Young Adult...</td>\n",
       "      <td>0</td>\n",
       "      <td>1956</td>\n",
       "      <td>7.331858</td>\n",
       "      <td>1.653795</td>\n",
       "    </tr>\n",
       "    <tr>\n",
       "      <th>...</th>\n",
       "      <td>...</td>\n",
       "      <td>...</td>\n",
       "      <td>...</td>\n",
       "      <td>...</td>\n",
       "      <td>...</td>\n",
       "      <td>...</td>\n",
       "      <td>...</td>\n",
       "      <td>...</td>\n",
       "      <td>...</td>\n",
       "      <td>...</td>\n",
       "      <td>...</td>\n",
       "      <td>...</td>\n",
       "      <td>...</td>\n",
       "      <td>...</td>\n",
       "    </tr>\n",
       "    <tr>\n",
       "      <th>1086</th>\n",
       "      <td>1086.0</td>\n",
       "      <td>Deep World Blood (Deep World Saga #2)</td>\n",
       "      <td>C.M. Meridian</td>\n",
       "      <td>6</td>\n",
       "      <td>https://www.goodreads.com//book/show/43181675-...</td>\n",
       "      <td>4.67</td>\n",
       "      <td>1086.0</td>\n",
       "      <td>504.0</td>\n",
       "      <td>NaN</td>\n",
       "      <td></td>\n",
       "      <td>0</td>\n",
       "      <td>NaN</td>\n",
       "      <td>8.964602</td>\n",
       "      <td>3.286539</td>\n",
       "    </tr>\n",
       "    <tr>\n",
       "      <th>1087</th>\n",
       "      <td>1087.0</td>\n",
       "      <td>The Traitor Baru Cormorant (The Masquerade, #1)</td>\n",
       "      <td>Seth Dickinson</td>\n",
       "      <td>12885</td>\n",
       "      <td>https://www.goodreads.com//book/show/23444482-...</td>\n",
       "      <td>4.06</td>\n",
       "      <td>1087.0</td>\n",
       "      <td>399.0</td>\n",
       "      <td>'David Gemmell Morningstar Award Nominee for B...</td>\n",
       "      <td>'Fantasy', 'Fiction', 'LGBT', 'Science Fiction...</td>\n",
       "      <td>2</td>\n",
       "      <td>NaN</td>\n",
       "      <td>6.535398</td>\n",
       "      <td>0.857335</td>\n",
       "    </tr>\n",
       "    <tr>\n",
       "      <th>1088</th>\n",
       "      <td>1088.0</td>\n",
       "      <td>Sora's Quest (The Cat's Eye Chronicles, #1)</td>\n",
       "      <td>T.L. Shreffler</td>\n",
       "      <td>5137</td>\n",
       "      <td>https://www.goodreads.com//book/show/13606393-...</td>\n",
       "      <td>3.99</td>\n",
       "      <td>1088.0</td>\n",
       "      <td>NaN</td>\n",
       "      <td>'SKoW Award'</td>\n",
       "      <td>'Fantasy', 'Young Adult', 'Fantasy', 'Magic', ...</td>\n",
       "      <td>1</td>\n",
       "      <td>NaN</td>\n",
       "      <td>6.256637</td>\n",
       "      <td>0.578574</td>\n",
       "    </tr>\n",
       "    <tr>\n",
       "      <th>1089</th>\n",
       "      <td>1089.0</td>\n",
       "      <td>Dies the Fire (Emberverse, #1)</td>\n",
       "      <td>S.M. Stirling</td>\n",
       "      <td>15201</td>\n",
       "      <td>https://www.goodreads.com//book/show/116445.Di...</td>\n",
       "      <td>3.93</td>\n",
       "      <td>1089.0</td>\n",
       "      <td>573.0</td>\n",
       "      <td>NaN</td>\n",
       "      <td>'Science Fiction', 'Fantasy', 'Apocalyptic', '...</td>\n",
       "      <td>0</td>\n",
       "      <td>2004</td>\n",
       "      <td>6.017699</td>\n",
       "      <td>0.339636</td>\n",
       "    </tr>\n",
       "    <tr>\n",
       "      <th>1090</th>\n",
       "      <td>1090.0</td>\n",
       "      <td>To Journey in the Year of the Tiger (Upper Kin...</td>\n",
       "      <td>H. Leighton Dickson</td>\n",
       "      <td>398</td>\n",
       "      <td>https://www.goodreads.com//book/show/21563710-...</td>\n",
       "      <td>3.97</td>\n",
       "      <td>1090.0</td>\n",
       "      <td>350.0</td>\n",
       "      <td>NaN</td>\n",
       "      <td>'Fantasy', 'Fiction', 'Fantasy', 'High Fantasy...</td>\n",
       "      <td>0</td>\n",
       "      <td>NaN</td>\n",
       "      <td>6.176991</td>\n",
       "      <td>0.498928</td>\n",
       "    </tr>\n",
       "  </tbody>\n",
       "</table>\n",
       "<p>1091 rows × 14 columns</p>\n",
       "</div>"
      ],
      "text/plain": [
       "      Unnamed: 0                                              Title  \\\n",
       "0            0.0     A Game of Thrones (A Song of Ice and Fire, #1)   \n",
       "1            1.0  J.R.R. Tolkien 4-Book Boxed Set: The Hobbit an...   \n",
       "2            2.0  The Name of the Wind (The Kingkiller Chronicle...   \n",
       "3            3.0      The Way of Kings (The Stormlight Archive, #1)   \n",
       "4            4.0  The Chronicles of Narnia (Chronicles of Narnia...   \n",
       "...          ...                                                ...   \n",
       "1086      1086.0              Deep World Blood (Deep World Saga #2)   \n",
       "1087      1087.0    The Traitor Baru Cormorant (The Masquerade, #1)   \n",
       "1088      1088.0        Sora's Quest (The Cat's Eye Chronicles, #1)   \n",
       "1089      1089.0                     Dies the Fire (Emberverse, #1)   \n",
       "1090      1090.0  To Journey in the Year of the Tiger (Upper Kin...   \n",
       "\n",
       "                    Author  number_of_ratings  \\\n",
       "0       George R.R. Martin            2047731   \n",
       "1           J.R.R. Tolkien             112472   \n",
       "2        Patrick Rothfuss              739671   \n",
       "3       Brandon Sanderson              319885   \n",
       "4               C.S. Lewis             533099   \n",
       "...                    ...                ...   \n",
       "1086        C.M. Meridian                   6   \n",
       "1087       Seth Dickinson               12885   \n",
       "1088       T.L. Shreffler                5137   \n",
       "1089         S.M. Stirling              15201   \n",
       "1090  H. Leighton Dickson                 398   \n",
       "\n",
       "                                                    url  avg_ratings      id  \\\n",
       "0     https://www.goodreads.com//book/show/13496.A_G...         4.45     0.0   \n",
       "1     https://www.goodreads.com//book/show/30.J_R_R_...         4.60     1.0   \n",
       "2     https://www.goodreads.com//book/show/186074.Th...         4.52     2.0   \n",
       "3     https://www.goodreads.com//book/show/7235533-t...         4.62     3.0   \n",
       "4     https://www.goodreads.com//book/show/11127.The...         4.26     4.0   \n",
       "...                                                 ...          ...     ...   \n",
       "1086  https://www.goodreads.com//book/show/43181675-...         4.67  1086.0   \n",
       "1087  https://www.goodreads.com//book/show/23444482-...         4.06  1087.0   \n",
       "1088  https://www.goodreads.com//book/show/13606393-...         3.99  1088.0   \n",
       "1089  https://www.goodreads.com//book/show/116445.Di...         3.93  1089.0   \n",
       "1090  https://www.goodreads.com//book/show/21563710-...         3.97  1090.0   \n",
       "\n",
       "      Num_pages                                             Awards  \\\n",
       "0         835.0  'Nebula Award Nominee for Best Novel (1997)', ...   \n",
       "1           NaN                                                NaN   \n",
       "2         662.0  'Locus Award Nominee for Best First Novel and ...   \n",
       "3        1007.0  'Locus Award Nominee for Best Fantasy Novel (2...   \n",
       "4           NaN                                                NaN   \n",
       "...         ...                                                ...   \n",
       "1086      504.0                                                NaN   \n",
       "1087      399.0  'David Gemmell Morningstar Award Nominee for B...   \n",
       "1088        NaN                                       'SKoW Award'   \n",
       "1089      573.0                                                NaN   \n",
       "1090      350.0                                                NaN   \n",
       "\n",
       "                                                  Genre  award_count  \\\n",
       "0     'Fantasy', 'Fiction', 'Fantasy', 'Epic Fantasy...            4   \n",
       "1     'Fantasy', 'Fiction', 'Classics', 'Adventure',...            0   \n",
       "2     'Fantasy', 'Fiction', 'Fantasy', 'Epic Fantasy...            8   \n",
       "3     'Fantasy', 'Fiction', 'Fantasy', 'Epic Fantasy...            4   \n",
       "4     'Fantasy', 'Classics', 'Fiction', 'Young Adult...            0   \n",
       "...                                                 ...          ...   \n",
       "1086                                                               0   \n",
       "1087  'Fantasy', 'Fiction', 'LGBT', 'Science Fiction...            2   \n",
       "1088  'Fantasy', 'Young Adult', 'Fantasy', 'Magic', ...            1   \n",
       "1089  'Science Fiction', 'Fantasy', 'Apocalyptic', '...            0   \n",
       "1090  'Fantasy', 'Fiction', 'Fantasy', 'High Fantasy...            0   \n",
       "\n",
       "     original_publish_year  minmax_norm_ratings  mean_norm_ratings  \n",
       "0                     1996             8.088496           2.410433  \n",
       "1                     1955             8.685841           3.007778  \n",
       "2                     2007             8.367257           2.689194  \n",
       "3                      NaN             8.765487           3.087424  \n",
       "4                     1956             7.331858           1.653795  \n",
       "...                    ...                  ...                ...  \n",
       "1086                   NaN             8.964602           3.286539  \n",
       "1087                   NaN             6.535398           0.857335  \n",
       "1088                   NaN             6.256637           0.578574  \n",
       "1089                  2004             6.017699           0.339636  \n",
       "1090                   NaN             6.176991           0.498928  \n",
       "\n",
       "[1091 rows x 14 columns]"
      ]
     },
     "execution_count": 21,
     "metadata": {},
     "output_type": "execute_result"
    }
   ],
   "source": [
    "# just for production ... should be done in seperate Notebook\n",
    "\n",
    "def preprocessing():\n",
    "    df = pd.read_csv(\"EpicFantasy_2.csv\")\n",
    "    df.rename(columns={'name':'Title', 'OriginalPDate':'Publishdate', 'author':'Author'}, inplace=True)\n",
    "    \n",
    "    # cleaning the Title\n",
    "    df['Title'] = df['Title'].str.strip()\n",
    "    \n",
    "    # Calculating number of awards\n",
    "    df['Awards'] = df['Awards'].str.strip('[]')\n",
    "    df['Awards'] = df['Awards'].replace(r'^\\s*$', np.NaN, regex=True)\n",
    "    df['Awards_x'] = df.Awards.str.split(',')\n",
    "    df['award_count'] = df['Awards_x'].str.len()\n",
    "    df['award_count'] = df['award_count'].fillna(0).astype(int)\n",
    "    df = df.drop(['Awards_x'], axis= 1)\n",
    "    \n",
    "    # Cleaning author column from paranthesis text\n",
    "    df['Author'] = df.Author.str.replace(r\"\\(.*Goodreads Author\\)\",\"\")\n",
    "\n",
    "    # cleaning number of ratings\n",
    "    df.rename(columns={'number of ratings': 'number_of_ratings'}, inplace=True)\n",
    "    df['number_of_ratings'] = df['number_of_ratings'].str.replace('[,]',\"\").str.replace('[^0-9]',\"0\").fillna(0).astype(int)\n",
    "\n",
    "    # cleaning avg_rat\n",
    "    #df['avg_ratings'] = df.avg_ratings.str.replace('[^0-9.]',\"\")\n",
    "    df['avg_ratings'] = df['avg_ratings'].replace(r'^\\s*$', np.NaN, regex=True).astype(float)\n",
    "    \n",
    "    # cleaning Genre\n",
    "    df['Genre'] = df['Genre'].str.strip('[]')\n",
    "    \n",
    "    # cleaning pages\n",
    "    df['Num_pages'] = df['Num_pages'].astype(str)\n",
    "    df['Num_pages'] = df.Num_pages.str.replace('[^0-9]',\"\")\n",
    "    for i in df.index:\n",
    "        if len(df.iloc[i]['Num_pages']) >= 7 or len(df.iloc[i]['Num_pages']) <= 1:\n",
    "            df.at[i, 'Num_pages'] = np.NaN\n",
    "    df['Num_pages'] = df['Num_pages'].replace(r'^\\s*$', np.NaN, regex=True)\n",
    "    df['Num_pages'] = pd.to_numeric(df['Num_pages'])\n",
    "    \n",
    "    # cleaning publish year\n",
    "    df.rename(columns={' Publishdate': 'Publishdate'}, inplace=True)\n",
    "    df['Publishdate'] = df.Publishdate.str.replace('[^0-9-]',\"\")\n",
    "    df['Publishdate'] = df['Publishdate'].replace(r'^\\s*$', np.NaN, regex=True)\n",
    "    df['original_publish_year'] = df['Publishdate'].str[-4:]\n",
    "    df = df.drop(['Publishdate'], axis= 1)\n",
    "\n",
    "    # Calculating normalized ratings\n",
    "    df['minmax_norm_ratings'] = 1 + (df['avg_ratings'] - df.avg_ratings.min()) / (df.avg_ratings.max()-df.avg_ratings.min()) *9\n",
    "    df['mean_norm_ratings'] = 1 + ((df['avg_ratings'] - df.avg_ratings.mean()) / (df.avg_ratings.max()-df.avg_ratings.min())) *9\n",
    "\n",
    "    # delete last 7 rows    \n",
    "    df.drop(df.tail(7).index, inplace = True) \n",
    "\n",
    "    return df\n",
    "\n",
    "preprocessing()"
   ]
  },
  {
   "cell_type": "code",
   "execution_count": null,
   "metadata": {
    "cell_id": "00004-94d46c57-d0ca-4473-94b5-9fd9a149d898",
    "deepnote_cell_type": "code",
    "tags": []
   },
   "outputs": [],
   "source": [
    "# TopGif\n",
    "st.markdown(\"![The world of fantasy](https://media.giphy.com/media/3o7bu7BKhyOJt36jp6/source.gif)\")\n",
    "\n",
    "st.title(\"Welcome to the world of fantasy\")"
   ]
  },
  {
   "cell_type": "code",
   "execution_count": 28,
   "metadata": {
    "cell_id": "00004-aeb02d8f-fd77-4b72-9020-0b72c334b33f",
    "deepnote_cell_type": "code",
    "deepnote_to_be_reexecuted": false,
    "execution_millis": 3142,
    "execution_start": 1610636236922,
    "source_hash": "8ba44b1d",
    "tags": []
   },
   "outputs": [
    {
     "data": {
      "text/plain": [
       "<streamlit.delta_generator.DeltaGenerator at 0x7f79a8868d10>"
      ]
     },
     "execution_count": 28,
     "metadata": {},
     "output_type": "execute_result"
    },
    {
     "data": {
      "image/png": "[encoded data removed]",
      "text/plain": [
       "<Figure size 1440x720 with 2 Axes>"
      ]
     },
     "metadata": {},
     "output_type": "display_data"
    },
    {
     "data": {
      "image/png": "[encoded data removed]",
      "text/plain": [
       "<Figure size 1008x576 with 1 Axes>"
      ]
     },
     "metadata": {},
     "output_type": "display_data"
    }
   ],
   "source": [
    "# Show our data\n",
    "\n",
    "st.header(\"The data of the 1000 best epic fantasy books\")\n",
    "\n",
    "st.markdown(\"\"\"Some nice text about fantasy books\"\"\")\n",
    "\n",
    "#df = pd.read_csv(\"example.csv\")\n",
    "if st.button(\"Show me the data.\"):\n",
    "    st.dataframe(df)\n",
    "\n",
    "st.markdown(\"If you want to display only few columns, you can chose here:\")\n",
    "columns_to_show = st.multiselect('', df.columns)\n",
    "\n",
    "st.markdown(\"Just show books with a rating higher than:\")\n",
    "threshold = st.slider(\"\", 1, 10)\n",
    "filtered = df[df[\"minmax_norm_ratings\"] >= threshold]\n",
    "st.dataframe(filtered[columns_to_show])\n",
    "\n",
    "st.markdown(\"Just show books with more awards than:\")\n",
    "threshold = st.slider(\"\", 0, 50)\n",
    "filtered = df[df[\"award_count\"] >= threshold]\n",
    "st.dataframe(filtered[columns_to_show])\n",
    "\n",
    "\n",
    "# Show the 2 scatterplots of pages and num_ratings / num_awards\n",
    "st.subheader(\"A 2D scatterplot with pages on the x-axis and num_ratings / num_awards on the y-axis\")\n",
    "\n",
    "df_s = df.dropna(subset=['Num_pages', 'number_of_ratings'])\n",
    "plt.figure(figsize=(20,10))\n",
    "x1  = df_s['Num_pages'].astype(int)\n",
    "x2 = df_s['Num_pages'].astype(int)\n",
    "\n",
    "y1 = df_s['number_of_ratings'].astype(int)\n",
    "y2 = df_s['award_count'].astype(int)\n",
    "\n",
    "plt.subplot(1,2,1)\n",
    "plt.scatter(x1, y1, color='blue')\n",
    "plt.xlabel(\"Number of pages\")\n",
    "plt.ylabel(\"Number of ratings\")\n",
    "\n",
    "plt.subplot(1,2,2)\n",
    "plt.scatter(x2, y2, color='red')\n",
    "plt.xlabel(\"Number of pages\")\n",
    "plt.ylabel(\"Number of awards\")\n",
    "\n",
    "plt.tight_layout()\n",
    "st.pyplot(plt)\n",
    "\n",
    "\n",
    "# Show the number of awards with the amount of books in it\n",
    "dz = df['award_count'].value_counts()\n",
    "dw= dz.sort_index()\n",
    "dw = pd.DataFrame(dw)\n",
    "dw.reset_index(inplace=True)\n",
    "dw = dw.rename(columns = {'index':'award_count', 'award_count': 'num_books'})\n",
    "sns.set_context('talk')\n",
    "sns.set_style('whitegrid')\n",
    "plt.figure(figsize=(14, 8))\n",
    "ax= sns.barplot(y=dw['num_books'],x=dw[\"award_count\"])\n",
    "ax.set_yscale(\"log\")\n",
    "for p in ax.patches:\n",
    "    ax.annotate(format(int(p.get_height())), \n",
    "                   (p.get_x() + p.get_width() / 2., p.get_height()), \n",
    "                   ha = 'center', va = 'center', \n",
    "                   xytext = (0, 9), \n",
    "                   textcoords = 'offset points')\n",
    "ax= plt.xlabel('Number of awards')\n",
    "ax= plt.ylabel('Number of books')\n",
    "\n",
    "st.pyplot(plt)\n",
    "\n",
    "st.subheader(\"And the award for best EPIC fantasy book goes to...\")\n",
    "st.markdown(\"![The world of fantasy](https://media.giphy.com/media/3o7bu7BKhyOJt36jp6/source.gif)\")\n",
    "df_sorted = df.sort_values(by='award_count', ascending=False).head(10)\n",
    "st.dataframe(df_sorted['Title'])\n",
    "\n"
   ]
  },
  {
   "cell_type": "code",
   "execution_count": null,
   "metadata": {
    "cell_id": "00005-3783ea63-584d-4695-ad9c-6b77e0ab62c6",
    "deepnote_cell_type": "code",
    "tags": []
   },
   "outputs": [],
   "source": [
    "# Interactive Genre List"
   ]
  },
  {
   "cell_type": "code",
   "execution_count": null,
   "metadata": {
    "cell_id": "00009-b16dbe0b-f94c-4af1-ac6d-f4a733d9078b",
    "deepnote_cell_type": "code",
    "tags": []
   },
   "outputs": [],
   "source": [
    "# 8 Visualize the awards distribution in a barplot with a list of books shown when clicked on a bar"
   ]
  }
 ],
 "metadata": {
  "deepnote_execution_queue": [],
  "deepnote_notebook_id": "5544c494-b195-43ad-a14a-52bc5a1a003b",
  "kernelspec": {
   "display_name": "Python 3",
   "language": "python",
   "name": "python3"
  },
  "language_info": {
   "codemirror_mode": {
    "name": "ipython",
    "version": 3
   },
   "file_extension": ".py",
   "mimetype": "text/x-python",
   "name": "python",
   "nbconvert_exporter": "python",
   "pygments_lexer": "ipython3",
   "version": "3.8.2"
  }
 },
 "nbformat": 4,
 "nbformat_minor": 2
}
