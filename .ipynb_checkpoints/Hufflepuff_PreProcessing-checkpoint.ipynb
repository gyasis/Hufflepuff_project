{
 "cells": [
  {
   "cell_type": "code",
   "execution_count": null,
   "metadata": {},
   "outputs": [],
   "source": [
    "# Option 1:"
   ]
  },
  {
   "cell_type": "code",
   "execution_count": 120,
   "metadata": {
    "ExecuteTime": {
     "end_time": "2021-01-11T10:31:05.866284Z",
     "start_time": "2021-01-11T10:31:05.853586Z"
    }
   },
   "outputs": [
    {
     "name": "stdout",
     "output_type": "stream",
     "text": [
      "   id  avg_ratings                                   awards  award count  \\\n",
      "0   1          4.1                  [Hello,  Hello,  Hello]            3   \n",
      "1   2          2.5                          [Hello,  Hello]            2   \n",
      "2   3          4.5                                  [Hello]            1   \n",
      "3   4          3.3  [Hello,  Hello,  Hello,  Hello,  Hello]            5   \n",
      "4   5          3.8          [Hello,  Hello,  Hello,  Hello]            4   \n",
      "5   6          2.8                  [Hello,  Hello,  Hello]            3   \n",
      "\n",
      "   avg_ratings_min_max_norm  avg_ratings_mean  \n",
      "0                      8.20              3.70  \n",
      "1                      1.00             -3.50  \n",
      "2                     10.00              5.50  \n",
      "3                      4.60              0.10  \n",
      "4                      6.85              2.35  \n",
      "5                      2.35             -2.15  \n"
     ]
    }
   ],
   "source": [
    "import pandas as pd\n",
    "\n",
    "def preprocessing():\n",
    "    #df = pd.read_csv(csv_path)\n",
    "\n",
    "    df = pd.DataFrame([\n",
    "      { 'id': 1, 'avg_ratings': 4.1, 'awards': 'Hello, Hello, Hello' },\n",
    "      { 'id': 2, 'avg_ratings': 2.5, 'awards': 'Hello, Hello' },\n",
    "      { 'id': 3, 'avg_ratings': 4.5, 'awards': 'Hello' },\n",
    "      { 'id': 4, 'avg_ratings': 3.3, 'awards': 'Hello, Hello, Hello, Hello, Hello' }, \n",
    "      { 'id': 5, 'avg_ratings': 3.8, 'awards': 'Hello, Hello, Hello, Hello' }, \n",
    "      { 'id': 6, 'avg_ratings': 2.8, 'awards': 'Hello, Hello, Hello' }])\n",
    "\n",
    "    df['awards'] = df.awards.str.split(',', expand=False)\n",
    "    df['award count'] = df['awards'].str.len()\n",
    "    \n",
    "    df['avg_ratings_min_max_norm'] = 1 + (df['avg_ratings'] - df.avg_ratings.min()) / (df.avg_ratings.max()-df.avg_ratings.min()) *9\n",
    "\n",
    "    df['avg_ratings_mean'] = 1 + (df['avg_ratings'] - df.avg_ratings.mean()) / (df.avg_ratings.max()-df.avg_ratings.min()) *9\n",
    "    \n",
    "    print(df)\n",
    "\n",
    "preprocessing()"
   ]
  },
  {
   "cell_type": "code",
   "execution_count": null,
   "metadata": {},
   "outputs": [],
   "source": [
    "# Option 2: (Just want to check which method is faster for counting the awards)"
   ]
  },
  {
   "cell_type": "code",
   "execution_count": 112,
   "metadata": {
    "ExecuteTime": {
     "end_time": "2021-01-11T10:15:15.871595Z",
     "start_time": "2021-01-11T10:15:15.862612Z"
    }
   },
   "outputs": [
    {
     "name": "stdout",
     "output_type": "stream",
     "text": [
      "   id  score                                   awards  Award Count\n",
      "0   1    4.1                  [Hello,  Hello,  Hello]            3\n",
      "1   2    4.5                          [Hello,  Hello]            2\n",
      "2   3    4.5                                  [Hello]            1\n",
      "3   4    4.6  [Hello,  Hello,  Hello,  Hello,  Hello]            5\n",
      "4   5    3.2          [Hello,  Hello,  Hello,  Hello]            4\n",
      "5   6    2.8                  [Hello,  Hello,  Hello]            3\n"
     ]
    }
   ],
   "source": [
    "import pandas as pd\n",
    "#df = pd.read_csv('Time.csv')\n",
    "\n",
    "df = pd.DataFrame([\n",
    "  { 'id': 1, 'score': 4.1, 'awards': 'Hello, Hello, Hello' },\n",
    "  { 'id': 2, 'score': 4.5, 'awards': 'Hello, Hello' },\n",
    "  { 'id': 3, 'score': 4.5, 'awards': 'Hello' },\n",
    "  { 'id': 4, 'score': 4.6, 'awards': 'Hello, Hello, Hello, Hello, Hello' }, \n",
    "  { 'id': 5, 'score': 3.2, 'awards': 'Hello, Hello, Hello, Hello' }, \n",
    "  { 'id': 6, 'score': 2.8, 'awards': 'Hello, Hello, Hello' }])\n",
    "\n",
    "df.awards = df.awards.str.split(',', expand=False)\n",
    "award_count = []\n",
    "for i in df.index:\n",
    "    award_count.append(len(df.iloc[i]['awards']))\n",
    "df['Award Count'] = award_count\n",
    "print(df)"
   ]
  }
 ],
 "metadata": {
  "kernelspec": {
   "display_name": "Python 3",
   "language": "python",
   "name": "python3"
  },
  "language_info": {
   "codemirror_mode": {
    "name": "ipython",
    "version": 3
   },
   "file_extension": ".py",
   "mimetype": "text/x-python",
   "name": "python",
   "nbconvert_exporter": "python",
   "pygments_lexer": "ipython3",
   "version": "3.8.2"
  }
 },
 "nbformat": 4,
 "nbformat_minor": 4
}
