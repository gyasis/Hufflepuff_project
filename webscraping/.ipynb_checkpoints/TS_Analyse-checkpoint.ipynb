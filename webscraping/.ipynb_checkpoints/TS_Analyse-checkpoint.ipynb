{
 "cells": [
  {
   "cell_type": "code",
   "execution_count": 3,
   "metadata": {
    "ExecuteTime": {
     "end_time": "2021-01-11T14:27:38.817361Z",
     "start_time": "2021-01-11T14:27:38.054290Z"
    }
   },
   "outputs": [
    {
     "data": {
      "text/html": [
       "<div>\n",
       "<style scoped>\n",
       "    .dataframe tbody tr th:only-of-type {\n",
       "        vertical-align: middle;\n",
       "    }\n",
       "\n",
       "    .dataframe tbody tr th {\n",
       "        vertical-align: top;\n",
       "    }\n",
       "\n",
       "    .dataframe thead th {\n",
       "        text-align: right;\n",
       "    }\n",
       "</style>\n",
       "<table border=\"1\" class=\"dataframe\">\n",
       "  <thead>\n",
       "    <tr style=\"text-align: right;\">\n",
       "      <th></th>\n",
       "      <th>author</th>\n",
       "      <th>avg_ratings</th>\n",
       "      <th>awards</th>\n",
       "      <th>original_publish_year</th>\n",
       "      <th>award count</th>\n",
       "      <th>minmax_norm_ratings</th>\n",
       "      <th>avg_ratings_mean</th>\n",
       "    </tr>\n",
       "  </thead>\n",
       "  <tbody>\n",
       "    <tr>\n",
       "      <th>0</th>\n",
       "      <td>abc</td>\n",
       "      <td>4.1</td>\n",
       "      <td>[Hello,  Hello,  Hello]</td>\n",
       "      <td>2010</td>\n",
       "      <td>3</td>\n",
       "      <td>8.20</td>\n",
       "      <td>3.70</td>\n",
       "    </tr>\n",
       "    <tr>\n",
       "      <th>1</th>\n",
       "      <td>def</td>\n",
       "      <td>2.5</td>\n",
       "      <td>[Hello,  Hello]</td>\n",
       "      <td>2012</td>\n",
       "      <td>2</td>\n",
       "      <td>1.00</td>\n",
       "      <td>-3.50</td>\n",
       "    </tr>\n",
       "    <tr>\n",
       "      <th>2</th>\n",
       "      <td>abc</td>\n",
       "      <td>4.5</td>\n",
       "      <td>[Hello]</td>\n",
       "      <td>2010</td>\n",
       "      <td>1</td>\n",
       "      <td>10.00</td>\n",
       "      <td>5.50</td>\n",
       "    </tr>\n",
       "    <tr>\n",
       "      <th>3</th>\n",
       "      <td>def</td>\n",
       "      <td>3.3</td>\n",
       "      <td>[Hello,  Hello,  Hello,  Hello,  Hello]</td>\n",
       "      <td>2012</td>\n",
       "      <td>5</td>\n",
       "      <td>4.60</td>\n",
       "      <td>0.10</td>\n",
       "    </tr>\n",
       "    <tr>\n",
       "      <th>4</th>\n",
       "      <td>abc</td>\n",
       "      <td>3.8</td>\n",
       "      <td>[Hello,  Hello,  Hello,  Hello]</td>\n",
       "      <td>2010</td>\n",
       "      <td>4</td>\n",
       "      <td>6.85</td>\n",
       "      <td>2.35</td>\n",
       "    </tr>\n",
       "    <tr>\n",
       "      <th>5</th>\n",
       "      <td>obc</td>\n",
       "      <td>2.8</td>\n",
       "      <td>[Hello,  Hello,  Hello]</td>\n",
       "      <td>2012</td>\n",
       "      <td>3</td>\n",
       "      <td>2.35</td>\n",
       "      <td>-2.15</td>\n",
       "    </tr>\n",
       "  </tbody>\n",
       "</table>\n",
       "</div>"
      ],
      "text/plain": [
       "  author  avg_ratings                                   awards  \\\n",
       "0    abc          4.1                  [Hello,  Hello,  Hello]   \n",
       "1    def          2.5                          [Hello,  Hello]   \n",
       "2    abc          4.5                                  [Hello]   \n",
       "3    def          3.3  [Hello,  Hello,  Hello,  Hello,  Hello]   \n",
       "4    abc          3.8          [Hello,  Hello,  Hello,  Hello]   \n",
       "5    obc          2.8                  [Hello,  Hello,  Hello]   \n",
       "\n",
       "   original_publish_year  award count  minmax_norm_ratings  avg_ratings_mean  \n",
       "0                   2010            3                 8.20              3.70  \n",
       "1                   2012            2                 1.00             -3.50  \n",
       "2                   2010            1                10.00              5.50  \n",
       "3                   2012            5                 4.60              0.10  \n",
       "4                   2010            4                 6.85              2.35  \n",
       "5                   2012            3                 2.35             -2.15  "
      ]
     },
     "execution_count": 3,
     "metadata": {},
     "output_type": "execute_result"
    }
   ],
   "source": [
    "import pandas as pd\n",
    "import numpy as np\n",
    "\n",
    "def preprocessing():\n",
    "    #df = pd.read_csv(csv_path)\n",
    "\n",
    "    df = pd.DataFrame([\n",
    "      { 'author': 'abc', 'avg_ratings': 4.1, 'awards': 'Hello, Hello, Hello', 'original_publish_year': 2010},\n",
    "      { 'author': 'def', 'avg_ratings': 2.5, 'awards': 'Hello, Hello', 'original_publish_year': 2012},\n",
    "      { 'author': 'abc', 'avg_ratings': 4.5, 'awards': 'Hello', 'original_publish_year': 2010},\n",
    "      { 'author': 'def', 'avg_ratings': 3.3, 'awards': 'Hello, Hello, Hello, Hello, Hello', 'original_publish_year': 2012}, \n",
    "      { 'author': 'abc', 'avg_ratings': 3.8, 'awards': 'Hello, Hello, Hello, Hello', 'original_publish_year': 2010}, \n",
    "      { 'author': 'obc', 'avg_ratings': 2.8, 'awards': 'Hello, Hello, Hello', 'original_publish_year': 2012}])\n",
    "\n",
    "    df['awards'] = df.awards.str.split(',', expand=False)\n",
    "    df['award count'] = df['awards'].str.len()\n",
    "    \n",
    "    df['minmax_norm_ratings'] = 1 + (df['avg_ratings'] - df.avg_ratings.min()) / (df.avg_ratings.max()-df.avg_ratings.min()) *9\n",
    "\n",
    "    df['avg_ratings_mean'] = 1 + (df['avg_ratings'] - df.avg_ratings.mean()) / (df.avg_ratings.max()-df.avg_ratings.min()) *9\n",
    "\n",
    "    return df\n",
    "\n",
    "preprocessing()"
   ]
  },
  {
   "cell_type": "code",
   "execution_count": 13,
   "metadata": {
    "ExecuteTime": {
     "end_time": "2021-01-11T14:33:16.697445Z",
     "start_time": "2021-01-11T14:33:16.685885Z"
    }
   },
   "outputs": [
    {
     "name": "stdout",
     "output_type": "stream",
     "text": [
      "                       minmax_norm_ratings_mean\n",
      "original_publish_year                          \n",
      "2010                                       8.35\n",
      "2012                                       2.65\n",
      "['Hello']\n"
     ]
    }
   ],
   "source": [
    "def analyse_highest_book(df, a):\n",
    "    dp = df.groupby(df.original_publish_year).agg({'minmax_norm_ratings': np.mean})\n",
    "    dp = dp.rename(columns={'minmax_norm_ratings': 'minmax_norm_ratings_mean'})\n",
    "    author_group = df.loc[df['author'] == a]\n",
    "    book_max_rating = author_group.iloc[author_group['minmax_norm_ratings'].argmax()]['awards']\n",
    "    print(dp)\n",
    "    return book_max_rating\n",
    "\n",
    "print(analyse_highest_book(preprocessing(), 'abc'))"
   ]
  }
 ],
 "metadata": {
  "kernelspec": {
   "display_name": "Python 3",
   "language": "python",
   "name": "python3"
  },
  "language_info": {
   "codemirror_mode": {
    "name": "ipython",
    "version": 3
   },
   "file_extension": ".py",
   "mimetype": "text/x-python",
   "name": "python",
   "nbconvert_exporter": "python",
   "pygments_lexer": "ipython3",
   "version": "3.8.2"
  }
 },
 "nbformat": 4,
 "nbformat_minor": 4
}
