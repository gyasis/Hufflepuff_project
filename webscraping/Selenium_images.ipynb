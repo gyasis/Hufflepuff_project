{
 "metadata": {
  "language_info": {
   "codemirror_mode": {
    "name": "ipython",
    "version": 3
   },
   "file_extension": ".py",
   "mimetype": "text/x-python",
   "name": "python",
   "nbconvert_exporter": "python",
   "pygments_lexer": "ipython3",
   "version": "3.9.1-final"
  },
  "orig_nbformat": 2,
  "kernelspec": {
   "name": "python3",
   "display_name": "Python 3",
   "language": "python"
  }
 },
 "nbformat": 4,
 "nbformat_minor": 2,
 "cells": [
  {
   "cell_type": "code",
   "execution_count": 2,
   "metadata": {},
   "outputs": [],
   "source": [
    "import selenium\n",
    "from selenium import webdriver \n",
    "from selenium.webdriver.common.keys import Keys\n",
    "import pandas as pd\n",
    "import re\n",
    "import glob\n",
    "import tqdm\n",
    "\n"
   ]
  },
  {
   "cell_type": "code",
   "execution_count": 6,
   "metadata": {},
   "outputs": [
    {
     "output_type": "stream",
     "name": "stdout",
     "text": [
      "['1000.json', '1000books.csv', '180.csv', '180.json', 'README.md', 'tree.txt']\n"
     ]
    }
   ],
   "source": [
    "print(glob.glob('*.*'))"
   ]
  },
  {
   "cell_type": "code",
   "execution_count": 6,
   "metadata": {},
   "outputs": [
    {
     "output_type": "execute_result",
     "data": {
      "text/plain": [
       "0       https://www.goodreads.com//book/show/13496.A_G...\n",
       "1       https://www.goodreads.com//book/show/30.J_R_R_...\n",
       "2       https://www.goodreads.com//book/show/186074.Th...\n",
       "3       https://www.goodreads.com//book/show/7235533-t...\n",
       "4       https://www.goodreads.com//book/show/11127.The...\n",
       "                              ...                        \n",
       "1095    https://www.goodreads.com//book/show/286507.De...\n",
       "1096    https://www.goodreads.com//book/show/25975141-...\n",
       "1097    https://www.goodreads.com//book/show/17315.Oat...\n",
       "1098    https://www.goodreads.com//book/show/36483800-...\n",
       "1099    https://www.goodreads.com//book/show/35300241-...\n",
       "Name: url, Length: 1100, dtype: object"
      ]
     },
     "metadata": {},
     "execution_count": 6
    }
   ],
   "source": [
    "df = pd.read_csv(\"webscraping/data/lastfantasy.csv\")\n",
    "url = df.url\n",
    "url"
   ]
  },
  {
   "cell_type": "code",
   "execution_count": 8,
   "metadata": {},
   "outputs": [
    {
     "output_type": "error",
     "ename": "NameError",
     "evalue": "name 'ic' is not defined",
     "traceback": [
      "\u001b[0;31m---------------------------------------------------------------------------\u001b[0m",
      "\u001b[0;31mNameError\u001b[0m                                 Traceback (most recent call last)",
      "\u001b[0;32m<ipython-input-8-15cde51e90a3>\u001b[0m in \u001b[0;36m<module>\u001b[0;34m\u001b[0m\n\u001b[1;32m      1\u001b[0m \u001b[0mdriver\u001b[0m \u001b[0;34m=\u001b[0m \u001b[0mwebdriver\u001b[0m\u001b[0;34m.\u001b[0m\u001b[0mChrome\u001b[0m\u001b[0;34m(\u001b[0m\u001b[0;34m)\u001b[0m\u001b[0;34m\u001b[0m\u001b[0;34m\u001b[0m\u001b[0m\n\u001b[0;32m----> 2\u001b[0;31m \u001b[0mic\u001b[0m\u001b[0;34m(\u001b[0m\u001b[0murl\u001b[0m\u001b[0;34m[\u001b[0m\u001b[0;36m2\u001b[0m\u001b[0;34m]\u001b[0m\u001b[0;34m)\u001b[0m\u001b[0;34m\u001b[0m\u001b[0;34m\u001b[0m\u001b[0m\n\u001b[0m\u001b[1;32m      3\u001b[0m \u001b[0mdriver\u001b[0m\u001b[0;34m.\u001b[0m\u001b[0mget\u001b[0m\u001b[0;34m(\u001b[0m\u001b[0murl\u001b[0m\u001b[0;34m[\u001b[0m\u001b[0;36m2\u001b[0m\u001b[0;34m]\u001b[0m\u001b[0;34m)\u001b[0m\u001b[0;34m\u001b[0m\u001b[0;34m\u001b[0m\u001b[0m\n\u001b[1;32m      4\u001b[0m \u001b[0;34m\u001b[0m\u001b[0m\n\u001b[1;32m      5\u001b[0m \u001b[0;31m# xpath(\"//a[@class='title']/@href\")]\u001b[0m\u001b[0;34m\u001b[0m\u001b[0;34m\u001b[0m\u001b[0;34m\u001b[0m\u001b[0m\n",
      "\u001b[0;31mNameError\u001b[0m: name 'ic' is not defined"
     ]
    }
   ],
   "source": [
    "driver = webdriver.Chrome()\n",
    "ic(url[2])\n",
    "driver.get(url[2])\n",
    "\n",
    "# xpath(\"//a[@class='title']/@href\")]\n",
    "\n",
    "f = driver.find_element_by_xpath(\"//*[@id='coverImage']/@src\")\n",
    "ic(f)"
   ]
  },
  {
   "cell_type": "code",
   "execution_count": 11,
   "metadata": {},
   "outputs": [
    {
     "output_type": "execute_result",
     "data": {
      "text/plain": [
       "   Unnamed: 0                                               name  \\\n",
       "0           0     A Game of Thrones (A Song of Ice and Fire, #1)   \n",
       "1           1    J.R.R. Tolkien 4-Book Boxed Set: The Hobbit ...   \n",
       "2           2    The Name of the Wind (The Kingkiller Chronic...   \n",
       "3           3      The Way of Kings (The Stormlight Archive, #1)   \n",
       "4           4    The Chronicles of Narnia (Chronicles of Narn...   \n",
       "\n",
       "                                 author number of ratings  \\\n",
       "0                    George R.R. Martin         2,049,108   \n",
       "1                        J.R.R. Tolkien           112,537   \n",
       "2   Patrick Rothfuss (Goodreads Author)           740,343   \n",
       "3  Brandon Sanderson (Goodreads Author)           320,338   \n",
       "4                            C.S. Lewis           533,551   \n",
       "\n",
       "                                                 url avg_ratings  id  \\\n",
       "0  https://www.goodreads.com//book/show/13496.A_G...        4.45   0   \n",
       "1  https://www.goodreads.com//book/show/30.J_R_R_...         4.6   1   \n",
       "2  https://www.goodreads.com//book/show/186074.Th...        4.52   2   \n",
       "3  https://www.goodreads.com//book/show/7235533-t...        4.62   3   \n",
       "4  https://www.goodreads.com//book/show/11127.The...        4.26   4   \n",
       "\n",
       "                       Num_pages  \\\n",
       "0                      835 pages   \n",
       "1  Hobbit Movie Tie-in Boxed set   \n",
       "2                      662 pages   \n",
       "3                     1007 pages   \n",
       "4                Reissue Edition   \n",
       "\n",
       "                                        Verify_pages  \\\n",
       "0             ['Mass Market Paperback', '835 pages']   \n",
       "1  ['Mass Market Paperback', 'Hobbit Movie Tie-in...   \n",
       "2                         ['Hardcover', '662 pages']   \n",
       "3                        ['Hardcover', '1007 pages']   \n",
       "4      ['Paperback', 'Reissue Edition', '767 pages']   \n",
       "\n",
       "                                              Awards  \\\n",
       "0  ['Nebula Award Nominee for Best Novel (1997)',...   \n",
       "1                                                 []   \n",
       "2  ['Locus Award Nominee for Best First Novel and...   \n",
       "3  ['Locus Award Nominee for Best Fantasy Novel (...   \n",
       "4                                                 []   \n",
       "\n",
       "                                               Genre  \\\n",
       "0  ['Fantasy', 'Fiction', 'Fantasy', 'Epic Fantas...   \n",
       "1  ['Fantasy', 'Fiction', 'Classics', 'Adventure'...   \n",
       "2  ['Fantasy', 'Fiction', 'Fantasy', 'Epic Fantas...   \n",
       "3  ['Fantasy', 'Fiction', 'Fantasy', 'Epic Fantas...   \n",
       "4  ['Fantasy', 'Classics', 'Fiction', 'Young Adul...   \n",
       "\n",
       "                         Setting  \\\n",
       "0  ['The Lands of Ice and Fire']   \n",
       "1               ['Middle-earth']   \n",
       "2                             []   \n",
       "3                     ['Roshar']   \n",
       "4            ['London, England']   \n",
       "\n",
       "                                       OriginalPDate  \\\n",
       "0  ['\\n              (first published August 6th ...   \n",
       "1  ['\\n              (first published October 20t...   \n",
       "2  ['\\n              (first published March 27th ...   \n",
       "3                                                 []   \n",
       "4  ['\\n              (first published 1956)\\n    ...   \n",
       "\n",
       "                                          VerifyDate  Series  \\\n",
       "0  [<div class=\"row\">\\n            Published\\n   ...    True   \n",
       "1  [<div class=\"row\">\\n            Published\\n   ...    True   \n",
       "2  [<div class=\"row\">\\n            Published\\n   ...    True   \n",
       "3  [<div class=\"row\">\\n            Published\\n   ...    True   \n",
       "4  [<div class=\"row\">\\n            Published\\n   ...    True   \n",
       "\n",
       "                                          SeriesName  \\\n",
       "0           \\nSeries\\n\\nA Song of Ice and Fire #1 \\n   \n",
       "1  \\nSeries\\n\\nThe Lord of the Rings #0-3, Middle...   \n",
       "2         \\nSeries\\n\\nThe Kingkiller Chronicle #1 \\n   \n",
       "3  \\nSeries\\n\\nThe Stormlight Archive #1, The Cos...   \n",
       "4  \\nSeries\\n\\nThe Chronicles of Narnia (Publicat...   \n",
       "\n",
       "                                                ISBN  \\\n",
       "0  \\nISBN\\n\\n                  0553588486\\n      ...   \n",
       "1  \\nISBN\\n\\n                  0345538374\\n      ...   \n",
       "2  \\nISBN\\n\\n                  075640407X\\n      ...   \n",
       "3  \\nISBN\\n\\n                  0765326353\\n      ...   \n",
       "4                                                NaN   \n",
       "\n",
       "                                         Description  \n",
       "0  [<div class=\"readable stacked\" id=\"description...  \n",
       "1  [<div class=\"readable stacked\" id=\"description...  \n",
       "2  [<div class=\"readable stacked\" id=\"description...  \n",
       "3  [<div class=\"readable stacked\" id=\"description...  \n",
       "4  [<div class=\"readable stacked\" id=\"description...  "
      ],
      "text/html": "<div>\n<style scoped>\n    .dataframe tbody tr th:only-of-type {\n        vertical-align: middle;\n    }\n\n    .dataframe tbody tr th {\n        vertical-align: top;\n    }\n\n    .dataframe thead th {\n        text-align: right;\n    }\n</style>\n<table border=\"1\" class=\"dataframe\">\n  <thead>\n    <tr style=\"text-align: right;\">\n      <th></th>\n      <th>Unnamed: 0</th>\n      <th>name</th>\n      <th>author</th>\n      <th>number of ratings</th>\n      <th>url</th>\n      <th>avg_ratings</th>\n      <th>id</th>\n      <th>Num_pages</th>\n      <th>Verify_pages</th>\n      <th>Awards</th>\n      <th>Genre</th>\n      <th>Setting</th>\n      <th>OriginalPDate</th>\n      <th>VerifyDate</th>\n      <th>Series</th>\n      <th>SeriesName</th>\n      <th>ISBN</th>\n      <th>Description</th>\n    </tr>\n  </thead>\n  <tbody>\n    <tr>\n      <th>0</th>\n      <td>0</td>\n      <td>A Game of Thrones (A Song of Ice and Fire, #1)</td>\n      <td>George R.R. Martin</td>\n      <td>2,049,108</td>\n      <td>https://www.goodreads.com//book/show/13496.A_G...</td>\n      <td>4.45</td>\n      <td>0</td>\n      <td>835 pages</td>\n      <td>['Mass Market Paperback', '835 pages']</td>\n      <td>['Nebula Award Nominee for Best Novel (1997)',...</td>\n      <td>['Fantasy', 'Fiction', 'Fantasy', 'Epic Fantas...</td>\n      <td>['The Lands of Ice and Fire']</td>\n      <td>['\\n              (first published August 6th ...</td>\n      <td>[&lt;div class=\"row\"&gt;\\n            Published\\n   ...</td>\n      <td>True</td>\n      <td>\\nSeries\\n\\nA Song of Ice and Fire #1 \\n</td>\n      <td>\\nISBN\\n\\n                  0553588486\\n      ...</td>\n      <td>[&lt;div class=\"readable stacked\" id=\"description...</td>\n    </tr>\n    <tr>\n      <th>1</th>\n      <td>1</td>\n      <td>J.R.R. Tolkien 4-Book Boxed Set: The Hobbit ...</td>\n      <td>J.R.R. Tolkien</td>\n      <td>112,537</td>\n      <td>https://www.goodreads.com//book/show/30.J_R_R_...</td>\n      <td>4.6</td>\n      <td>1</td>\n      <td>Hobbit Movie Tie-in Boxed set</td>\n      <td>['Mass Market Paperback', 'Hobbit Movie Tie-in...</td>\n      <td>[]</td>\n      <td>['Fantasy', 'Fiction', 'Classics', 'Adventure'...</td>\n      <td>['Middle-earth']</td>\n      <td>['\\n              (first published October 20t...</td>\n      <td>[&lt;div class=\"row\"&gt;\\n            Published\\n   ...</td>\n      <td>True</td>\n      <td>\\nSeries\\n\\nThe Lord of the Rings #0-3, Middle...</td>\n      <td>\\nISBN\\n\\n                  0345538374\\n      ...</td>\n      <td>[&lt;div class=\"readable stacked\" id=\"description...</td>\n    </tr>\n    <tr>\n      <th>2</th>\n      <td>2</td>\n      <td>The Name of the Wind (The Kingkiller Chronic...</td>\n      <td>Patrick Rothfuss (Goodreads Author)</td>\n      <td>740,343</td>\n      <td>https://www.goodreads.com//book/show/186074.Th...</td>\n      <td>4.52</td>\n      <td>2</td>\n      <td>662 pages</td>\n      <td>['Hardcover', '662 pages']</td>\n      <td>['Locus Award Nominee for Best First Novel and...</td>\n      <td>['Fantasy', 'Fiction', 'Fantasy', 'Epic Fantas...</td>\n      <td>[]</td>\n      <td>['\\n              (first published March 27th ...</td>\n      <td>[&lt;div class=\"row\"&gt;\\n            Published\\n   ...</td>\n      <td>True</td>\n      <td>\\nSeries\\n\\nThe Kingkiller Chronicle #1 \\n</td>\n      <td>\\nISBN\\n\\n                  075640407X\\n      ...</td>\n      <td>[&lt;div class=\"readable stacked\" id=\"description...</td>\n    </tr>\n    <tr>\n      <th>3</th>\n      <td>3</td>\n      <td>The Way of Kings (The Stormlight Archive, #1)</td>\n      <td>Brandon Sanderson (Goodreads Author)</td>\n      <td>320,338</td>\n      <td>https://www.goodreads.com//book/show/7235533-t...</td>\n      <td>4.62</td>\n      <td>3</td>\n      <td>1007 pages</td>\n      <td>['Hardcover', '1007 pages']</td>\n      <td>['Locus Award Nominee for Best Fantasy Novel (...</td>\n      <td>['Fantasy', 'Fiction', 'Fantasy', 'Epic Fantas...</td>\n      <td>['Roshar']</td>\n      <td>[]</td>\n      <td>[&lt;div class=\"row\"&gt;\\n            Published\\n   ...</td>\n      <td>True</td>\n      <td>\\nSeries\\n\\nThe Stormlight Archive #1, The Cos...</td>\n      <td>\\nISBN\\n\\n                  0765326353\\n      ...</td>\n      <td>[&lt;div class=\"readable stacked\" id=\"description...</td>\n    </tr>\n    <tr>\n      <th>4</th>\n      <td>4</td>\n      <td>The Chronicles of Narnia (Chronicles of Narn...</td>\n      <td>C.S. Lewis</td>\n      <td>533,551</td>\n      <td>https://www.goodreads.com//book/show/11127.The...</td>\n      <td>4.26</td>\n      <td>4</td>\n      <td>Reissue Edition</td>\n      <td>['Paperback', 'Reissue Edition', '767 pages']</td>\n      <td>[]</td>\n      <td>['Fantasy', 'Classics', 'Fiction', 'Young Adul...</td>\n      <td>['London, England']</td>\n      <td>['\\n              (first published 1956)\\n    ...</td>\n      <td>[&lt;div class=\"row\"&gt;\\n            Published\\n   ...</td>\n      <td>True</td>\n      <td>\\nSeries\\n\\nThe Chronicles of Narnia (Publicat...</td>\n      <td>NaN</td>\n      <td>[&lt;div class=\"readable stacked\" id=\"description...</td>\n    </tr>\n  </tbody>\n</table>\n</div>"
     },
     "metadata": {},
     "execution_count": 11
    }
   ],
   "source": [
    "df.head()\n"
   ]
  },
  {
   "cell_type": "code",
   "execution_count": 26,
   "metadata": {},
   "outputs": [],
   "source": [
    "driver.get(\"https://www.goodreads.com/book/show/228665.The_Eye_of_the_World\")\n"
   ]
  },
  {
   "cell_type": "code",
   "execution_count": null,
   "metadata": {},
   "outputs": [],
   "source": [
    "for x in range(len(url))\n",
    "    "
   ]
  },
  {
   "cell_type": "code",
   "execution_count": 40,
   "metadata": {},
   "outputs": [
    {
     "output_type": "execute_result",
     "data": {
      "text/plain": [
       "<selenium.webdriver.remote.webelement.WebElement (session=\"496431db386d6d0779bfd9439e1c7dbc\", element=\"eb4cf1d4-3bb8-4cd4-ac96-026905bf1f81\")>"
      ]
     },
     "metadata": {},
     "execution_count": 40
    }
   ],
   "source": [
    "#checks frames \n",
    "link = driver.find_element_by_xpath('//a[@id=\"bookDataBoxShow\"]')  \n",
    "link.click()\n",
    "\n",
    "\n",
    "\n",
    "\n",
    "driver.find_element_by_xpath('//*[@id=\"details\"]/div[1]/span[1]')\n",
    "driver.find_element_by_xpath('//div/[@id=\"details\"]/div/span[2]')]')  \n",
    "\n",
    "\n",
    "\n"
   ]
  },
  {
   "cell_type": "code",
   "execution_count": 44,
   "metadata": {},
   "outputs": [
    {
     "output_type": "error",
     "ename": "InvalidSelectorException",
     "evalue": "Message: invalid selector: Unable to locate an element with the xpath expression //*div/[@id=\"details\"]/div/span[2] because of the following error:\nSyntaxError: Failed to execute 'evaluate' on 'Document': The string '//*div/[@id=\"details\"]/div/span[2]' is not a valid XPath expression.\n  (Session info: chrome=87.0.4280.141)\n",
     "traceback": [
      "\u001b[0;31m---------------------------------------------------------------------------\u001b[0m",
      "\u001b[0;31mInvalidSelectorException\u001b[0m                  Traceback (most recent call last)",
      "\u001b[0;32m<ipython-input-44-879eed8ddbd2>\u001b[0m in \u001b[0;36m<module>\u001b[0;34m\u001b[0m\n\u001b[0;32m----> 1\u001b[0;31m \u001b[0mpages2\u001b[0m \u001b[0;34m=\u001b[0m \u001b[0mdriver\u001b[0m\u001b[0;34m.\u001b[0m\u001b[0mfind_element_by_xpath\u001b[0m\u001b[0;34m(\u001b[0m\u001b[0;34m'//*div/[@id=\"details\"]/div/span[2]'\u001b[0m\u001b[0;34m)\u001b[0m\u001b[0;34m\u001b[0m\u001b[0;34m\u001b[0m\u001b[0m\n\u001b[0m",
      "\u001b[0;32m~/anaconda3/envs/scraping/lib/python3.7/site-packages/selenium/webdriver/remote/webdriver.py\u001b[0m in \u001b[0;36mfind_element_by_xpath\u001b[0;34m(self, xpath)\u001b[0m\n\u001b[1;32m    392\u001b[0m             \u001b[0melement\u001b[0m \u001b[0;34m=\u001b[0m \u001b[0mdriver\u001b[0m\u001b[0;34m.\u001b[0m\u001b[0mfind_element_by_xpath\u001b[0m\u001b[0;34m(\u001b[0m\u001b[0;34m'//div/td[1]'\u001b[0m\u001b[0;34m)\u001b[0m\u001b[0;34m\u001b[0m\u001b[0;34m\u001b[0m\u001b[0m\n\u001b[1;32m    393\u001b[0m         \"\"\"\n\u001b[0;32m--> 394\u001b[0;31m         \u001b[0;32mreturn\u001b[0m \u001b[0mself\u001b[0m\u001b[0;34m.\u001b[0m\u001b[0mfind_element\u001b[0m\u001b[0;34m(\u001b[0m\u001b[0mby\u001b[0m\u001b[0;34m=\u001b[0m\u001b[0mBy\u001b[0m\u001b[0;34m.\u001b[0m\u001b[0mXPATH\u001b[0m\u001b[0;34m,\u001b[0m \u001b[0mvalue\u001b[0m\u001b[0;34m=\u001b[0m\u001b[0mxpath\u001b[0m\u001b[0;34m)\u001b[0m\u001b[0;34m\u001b[0m\u001b[0;34m\u001b[0m\u001b[0m\n\u001b[0m\u001b[1;32m    395\u001b[0m \u001b[0;34m\u001b[0m\u001b[0m\n\u001b[1;32m    396\u001b[0m     \u001b[0;32mdef\u001b[0m \u001b[0mfind_elements_by_xpath\u001b[0m\u001b[0;34m(\u001b[0m\u001b[0mself\u001b[0m\u001b[0;34m,\u001b[0m \u001b[0mxpath\u001b[0m\u001b[0;34m)\u001b[0m\u001b[0;34m:\u001b[0m\u001b[0;34m\u001b[0m\u001b[0;34m\u001b[0m\u001b[0m\n",
      "\u001b[0;32m~/anaconda3/envs/scraping/lib/python3.7/site-packages/selenium/webdriver/remote/webdriver.py\u001b[0m in \u001b[0;36mfind_element\u001b[0;34m(self, by, value)\u001b[0m\n\u001b[1;32m    976\u001b[0m         return self.execute(Command.FIND_ELEMENT, {\n\u001b[1;32m    977\u001b[0m             \u001b[0;34m'using'\u001b[0m\u001b[0;34m:\u001b[0m \u001b[0mby\u001b[0m\u001b[0;34m,\u001b[0m\u001b[0;34m\u001b[0m\u001b[0;34m\u001b[0m\u001b[0m\n\u001b[0;32m--> 978\u001b[0;31m             'value': value})['value']\n\u001b[0m\u001b[1;32m    979\u001b[0m \u001b[0;34m\u001b[0m\u001b[0m\n\u001b[1;32m    980\u001b[0m     \u001b[0;32mdef\u001b[0m \u001b[0mfind_elements\u001b[0m\u001b[0;34m(\u001b[0m\u001b[0mself\u001b[0m\u001b[0;34m,\u001b[0m \u001b[0mby\u001b[0m\u001b[0;34m=\u001b[0m\u001b[0mBy\u001b[0m\u001b[0;34m.\u001b[0m\u001b[0mID\u001b[0m\u001b[0;34m,\u001b[0m \u001b[0mvalue\u001b[0m\u001b[0;34m=\u001b[0m\u001b[0;32mNone\u001b[0m\u001b[0;34m)\u001b[0m\u001b[0;34m:\u001b[0m\u001b[0;34m\u001b[0m\u001b[0;34m\u001b[0m\u001b[0m\n",
      "\u001b[0;32m~/anaconda3/envs/scraping/lib/python3.7/site-packages/selenium/webdriver/remote/webdriver.py\u001b[0m in \u001b[0;36mexecute\u001b[0;34m(self, driver_command, params)\u001b[0m\n\u001b[1;32m    319\u001b[0m         \u001b[0mresponse\u001b[0m \u001b[0;34m=\u001b[0m \u001b[0mself\u001b[0m\u001b[0;34m.\u001b[0m\u001b[0mcommand_executor\u001b[0m\u001b[0;34m.\u001b[0m\u001b[0mexecute\u001b[0m\u001b[0;34m(\u001b[0m\u001b[0mdriver_command\u001b[0m\u001b[0;34m,\u001b[0m \u001b[0mparams\u001b[0m\u001b[0;34m)\u001b[0m\u001b[0;34m\u001b[0m\u001b[0;34m\u001b[0m\u001b[0m\n\u001b[1;32m    320\u001b[0m         \u001b[0;32mif\u001b[0m \u001b[0mresponse\u001b[0m\u001b[0;34m:\u001b[0m\u001b[0;34m\u001b[0m\u001b[0;34m\u001b[0m\u001b[0m\n\u001b[0;32m--> 321\u001b[0;31m             \u001b[0mself\u001b[0m\u001b[0;34m.\u001b[0m\u001b[0merror_handler\u001b[0m\u001b[0;34m.\u001b[0m\u001b[0mcheck_response\u001b[0m\u001b[0;34m(\u001b[0m\u001b[0mresponse\u001b[0m\u001b[0;34m)\u001b[0m\u001b[0;34m\u001b[0m\u001b[0;34m\u001b[0m\u001b[0m\n\u001b[0m\u001b[1;32m    322\u001b[0m             response['value'] = self._unwrap_value(\n\u001b[1;32m    323\u001b[0m                 response.get('value', None))\n",
      "\u001b[0;32m~/anaconda3/envs/scraping/lib/python3.7/site-packages/selenium/webdriver/remote/errorhandler.py\u001b[0m in \u001b[0;36mcheck_response\u001b[0;34m(self, response)\u001b[0m\n\u001b[1;32m    240\u001b[0m                 \u001b[0malert_text\u001b[0m \u001b[0;34m=\u001b[0m \u001b[0mvalue\u001b[0m\u001b[0;34m[\u001b[0m\u001b[0;34m'alert'\u001b[0m\u001b[0;34m]\u001b[0m\u001b[0;34m.\u001b[0m\u001b[0mget\u001b[0m\u001b[0;34m(\u001b[0m\u001b[0;34m'text'\u001b[0m\u001b[0;34m)\u001b[0m\u001b[0;34m\u001b[0m\u001b[0;34m\u001b[0m\u001b[0m\n\u001b[1;32m    241\u001b[0m             \u001b[0;32mraise\u001b[0m \u001b[0mexception_class\u001b[0m\u001b[0;34m(\u001b[0m\u001b[0mmessage\u001b[0m\u001b[0;34m,\u001b[0m \u001b[0mscreen\u001b[0m\u001b[0;34m,\u001b[0m \u001b[0mstacktrace\u001b[0m\u001b[0;34m,\u001b[0m \u001b[0malert_text\u001b[0m\u001b[0;34m)\u001b[0m\u001b[0;34m\u001b[0m\u001b[0;34m\u001b[0m\u001b[0m\n\u001b[0;32m--> 242\u001b[0;31m         \u001b[0;32mraise\u001b[0m \u001b[0mexception_class\u001b[0m\u001b[0;34m(\u001b[0m\u001b[0mmessage\u001b[0m\u001b[0;34m,\u001b[0m \u001b[0mscreen\u001b[0m\u001b[0;34m,\u001b[0m \u001b[0mstacktrace\u001b[0m\u001b[0;34m)\u001b[0m\u001b[0;34m\u001b[0m\u001b[0;34m\u001b[0m\u001b[0m\n\u001b[0m\u001b[1;32m    243\u001b[0m \u001b[0;34m\u001b[0m\u001b[0m\n\u001b[1;32m    244\u001b[0m     \u001b[0;32mdef\u001b[0m \u001b[0m_value_or_default\u001b[0m\u001b[0;34m(\u001b[0m\u001b[0mself\u001b[0m\u001b[0;34m,\u001b[0m \u001b[0mobj\u001b[0m\u001b[0;34m,\u001b[0m \u001b[0mkey\u001b[0m\u001b[0;34m,\u001b[0m \u001b[0mdefault\u001b[0m\u001b[0;34m)\u001b[0m\u001b[0;34m:\u001b[0m\u001b[0;34m\u001b[0m\u001b[0;34m\u001b[0m\u001b[0m\n",
      "\u001b[0;31mInvalidSelectorException\u001b[0m: Message: invalid selector: Unable to locate an element with the xpath expression //*div/[@id=\"details\"]/div/span[2] because of the following error:\nSyntaxError: Failed to execute 'evaluate' on 'Document': The string '//*div/[@id=\"details\"]/div/span[2]' is not a valid XPath expression.\n  (Session info: chrome=87.0.4280.141)\n"
     ]
    }
   ],
   "source": [
    "pages2 = driver.find_element_by_xpath('//*div/[@id=\"details\"]/div/span[2]')                     "
   ]
  },
  {
   "cell_type": "code",
   "execution_count": null,
   "metadata": {},
   "outputs": [],
   "source": [
    "driver.findElement(By.Id(\"bookDataBox > .clearFloats:nth-of-type(2) > \"))"
   ]
  },
  {
   "cell_type": "code",
   "execution_count": 5,
   "metadata": {},
   "outputs": [],
   "source": []
  },
  {
   "cell_type": "code",
   "execution_count": 15,
   "metadata": {},
   "outputs": [],
   "source": []
  },
  {
   "cell_type": "code",
   "execution_count": 5,
   "metadata": {
    "tags": []
   },
   "outputs": [
    {
     "output_type": "error",
     "ename": "NameError",
     "evalue": "name 'myStrip' is not defined",
     "traceback": [
      "\u001b[0;31m---------------------------------------------------------------------------\u001b[0m",
      "\u001b[0;31mNameError\u001b[0m                                 Traceback (most recent call last)",
      "\u001b[0;32m<ipython-input-5-c89aebe78c5e>\u001b[0m in \u001b[0;36m<module>\u001b[0;34m\u001b[0m\n\u001b[1;32m     16\u001b[0m \u001b[0;34m\u001b[0m\u001b[0m\n\u001b[1;32m     17\u001b[0m \u001b[0;34m\u001b[0m\u001b[0m\n\u001b[0;32m---> 18\u001b[0;31m \u001b[0mmyStrip\u001b[0m\u001b[0;34m(\u001b[0m\u001b[0mSeries\u001b[0m\u001b[0;34m)\u001b[0m\u001b[0;34m\u001b[0m\u001b[0;34m\u001b[0m\u001b[0m\n\u001b[0m\u001b[1;32m     19\u001b[0m \u001b[0mmyStrip\u001b[0m\u001b[0;34m(\u001b[0m\u001b[0mSetting\u001b[0m\u001b[0;34m)\u001b[0m\u001b[0;34m\u001b[0m\u001b[0;34m\u001b[0m\u001b[0m\n\u001b[1;32m     20\u001b[0m \u001b[0mmyStrip\u001b[0m\u001b[0;34m(\u001b[0m\u001b[0mPages\u001b[0m\u001b[0;34m)\u001b[0m\u001b[0;34m\u001b[0m\u001b[0;34m\u001b[0m\u001b[0m\n",
      "\u001b[0;31mNameError\u001b[0m: name 'myStrip' is not defined"
     ]
    }
   ],
   "source": [
    "\n"
   ]
  },
  {
   "cell_type": "code",
   "execution_count": null,
   "metadata": {},
   "outputs": [],
   "source": []
  }
 ]
}