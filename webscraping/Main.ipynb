{
 "metadata": {
  "language_info": {
   "codemirror_mode": {
    "name": "ipython",
    "version": 3
   },
   "file_extension": ".py",
   "mimetype": "text/x-python",
   "name": "python",
   "nbconvert_exporter": "python",
   "pygments_lexer": "ipython3",
   "version": "3.9.1-final"
  },
  "orig_nbformat": 2,
  "kernelspec": {
   "name": "python3",
   "display_name": "Python 3",
   "language": "python"
  }
 },
 "nbformat": 4,
 "nbformat_minor": 2,
 "cells": [
  {
   "cell_type": "code",
   "execution_count": 6,
   "metadata": {},
   "outputs": [],
   "source": [
    "\n",
    "from bs4 import BeautifulSoup\n",
    "import urllib.request as urllib2\n",
    "import pandas as pd\n",
    "import numpy as np\n",
    "import csv\n",
    "import requests\n",
    "import glob\n",
    "\n"
   ]
  },
  {
   "source": [
    "### This is a good way to find the path of a jupyter notebook folder"
   ],
   "cell_type": "markdown",
   "metadata": {}
  },
  {
   "cell_type": "code",
   "execution_count": 10,
   "metadata": {},
   "outputs": [
    {
     "output_type": "stream",
     "name": "stdout",
     "text": [
      "['Collection/Hufflepuff_project/webscraping/data/Epic Fantasy.csv']\n"
     ]
    }
   ],
   "source": [
    "print(glob.glob('Collection/Hufflepuff_project/webscraping/data/*.csv'))\n"
   ]
  },
  {
   "source": [
    "df = pd.read_excel(\"Collection/Hufflepuff_project/webscraping/data/Epic Fantasy.xlsx\" )\n",
    "\n"
   ],
   "cell_type": "markdown",
   "metadata": {}
  },
  {
   "cell_type": "code",
<<<<<<< HEAD
   "execution_count": 21,
   "metadata": {},
   "outputs": [
    {
     "output_type": "error",
     "ename": "AttributeError",
     "evalue": "'DataFrame' object has no attribute 'str'",
     "traceback": [
      "\u001b[0;31m---------------------------------------------------------------------------\u001b[0m",
      "\u001b[0;31mAttributeError\u001b[0m                            Traceback (most recent call last)",
      "\u001b[0;32m<ipython-input-21-93e1f0b387c3>\u001b[0m in \u001b[0;36m<module>\u001b[0;34m\u001b[0m\n\u001b[0;32m----> 1\u001b[0;31m \u001b[0mdf\u001b[0m\u001b[0;34m.\u001b[0m\u001b[0mstr\u001b[0m\u001b[0;34m\u001b[0m\u001b[0;34m\u001b[0m\u001b[0m\n\u001b[0m\u001b[1;32m      2\u001b[0m \u001b[0;34m\u001b[0m\u001b[0m\n",
      "\u001b[0;32m~/anaconda3/envs/working/lib/python3.9/site-packages/pandas/core/generic.py\u001b[0m in \u001b[0;36m__getattr__\u001b[0;34m(self, name)\u001b[0m\n\u001b[1;32m   5458\u001b[0m             \u001b[0;32mif\u001b[0m \u001b[0mself\u001b[0m\u001b[0;34m.\u001b[0m\u001b[0m_info_axis\u001b[0m\u001b[0;34m.\u001b[0m\u001b[0m_can_hold_identifiers_and_holds_name\u001b[0m\u001b[0;34m(\u001b[0m\u001b[0mname\u001b[0m\u001b[0;34m)\u001b[0m\u001b[0;34m:\u001b[0m\u001b[0;34m\u001b[0m\u001b[0;34m\u001b[0m\u001b[0m\n\u001b[1;32m   5459\u001b[0m                 \u001b[0;32mreturn\u001b[0m \u001b[0mself\u001b[0m\u001b[0;34m[\u001b[0m\u001b[0mname\u001b[0m\u001b[0;34m]\u001b[0m\u001b[0;34m\u001b[0m\u001b[0;34m\u001b[0m\u001b[0m\n\u001b[0;32m-> 5460\u001b[0;31m             \u001b[0;32mreturn\u001b[0m \u001b[0mobject\u001b[0m\u001b[0;34m.\u001b[0m\u001b[0m__getattribute__\u001b[0m\u001b[0;34m(\u001b[0m\u001b[0mself\u001b[0m\u001b[0;34m,\u001b[0m \u001b[0mname\u001b[0m\u001b[0;34m)\u001b[0m\u001b[0;34m\u001b[0m\u001b[0;34m\u001b[0m\u001b[0m\n\u001b[0m\u001b[1;32m   5461\u001b[0m \u001b[0;34m\u001b[0m\u001b[0m\n\u001b[1;32m   5462\u001b[0m     \u001b[0;32mdef\u001b[0m \u001b[0m__setattr__\u001b[0m\u001b[0;34m(\u001b[0m\u001b[0mself\u001b[0m\u001b[0;34m,\u001b[0m \u001b[0mname\u001b[0m\u001b[0;34m:\u001b[0m \u001b[0mstr\u001b[0m\u001b[0;34m,\u001b[0m \u001b[0mvalue\u001b[0m\u001b[0;34m)\u001b[0m \u001b[0;34m->\u001b[0m \u001b[0;32mNone\u001b[0m\u001b[0;34m:\u001b[0m\u001b[0;34m\u001b[0m\u001b[0;34m\u001b[0m\u001b[0m\n",
      "\u001b[0;31mAttributeError\u001b[0m: 'DataFrame' object has no attribute 'str'"
     ]
    }
   ],
   "source": [
    "\n",
    "\n"
=======
   "execution_count": 32,
   "metadata": {},
   "outputs": [
    {
     "output_type": "execute_result",
     "data": {
      "text/plain": [
       "   Unnamed: 0                                               name  \\\n",
       "0         0.0     A Game of Thrones (A Song of Ice and Fire, #1)   \n",
       "1         1.0    J.R.R. Tolkien 4-Book Boxed Set: The Hobbit ...   \n",
       "2         2.0    The Name of the Wind (The Kingkiller Chronic...   \n",
       "3         3.0      The Way of Kings (The Stormlight Archive, #1)   \n",
       "4         4.0    The Chronicles of Narnia (Chronicles of Narn...   \n",
       "\n",
       "                                 author number of ratings  \\\n",
       "0                    George R.R. Martin           2047731   \n",
       "1                        J.R.R. Tolkien            112472   \n",
       "2   Patrick Rothfuss (Goodreads Author)            739671   \n",
       "3  Brandon Sanderson (Goodreads Author)            319885   \n",
       "4                            C.S. Lewis            533099   \n",
       "\n",
       "                                                 url avg_ratings   id  \\\n",
       "0  https://www.goodreads.com//book/show/13496.A_G...        4.45  0.0   \n",
       "1  https://www.goodreads.com//book/show/30.J_R_R_...        4.60  1.0   \n",
       "2  https://www.goodreads.com//book/show/186074.Th...        4.52  2.0   \n",
       "3  https://www.goodreads.com//book/show/7235533-t...        4.62  3.0   \n",
       "4  https://www.goodreads.com//book/show/11127.The...        4.26  4.0   \n",
       "\n",
       "                       Num_pages  \\\n",
       "0                      835 pages   \n",
       "1  Hobbit Movie Tie-in Boxed set   \n",
       "2                      662 pages   \n",
       "3                     1007 pages   \n",
       "4                Reissue Edition   \n",
       "\n",
       "                                              Awards  \\\n",
       "0  ['Nebula Award Nominee for Best Novel (1997)',...   \n",
       "1                                                 []   \n",
       "2  ['Locus Award Nominee for Best First Novel and...   \n",
       "3  ['Locus Award Nominee for Best Fantasy Novel (...   \n",
       "4                                                 []   \n",
       "\n",
       "                                               Genre  \\\n",
       "0  ['Fantasy', 'Fiction', 'Fantasy', 'Epic Fantas...   \n",
       "1  ['Fantasy', 'Fiction', 'Classics', 'Adventure'...   \n",
       "2  ['Fantasy', 'Fiction', 'Fantasy', 'Epic Fantas...   \n",
       "3  ['Fantasy', 'Fiction', 'Fantasy', 'Epic Fantas...   \n",
       "4  ['Fantasy', 'Classics', 'Fiction', 'Young Adul...   \n",
       "\n",
       "                                       OriginalPDate  \n",
       "0  ['\\n              (first published August 6th ...  \n",
       "1  ['\\n              (first published October 20t...  \n",
       "2  ['\\n              (first published March 27th ...  \n",
       "3                                                 []  \n",
       "4  ['\\n              (first published 1956)\\n    ...  "
      ],
      "text/html": "<div>\n<style scoped>\n    .dataframe tbody tr th:only-of-type {\n        vertical-align: middle;\n    }\n\n    .dataframe tbody tr th {\n        vertical-align: top;\n    }\n\n    .dataframe thead th {\n        text-align: right;\n    }\n</style>\n<table border=\"1\" class=\"dataframe\">\n  <thead>\n    <tr style=\"text-align: right;\">\n      <th></th>\n      <th>Unnamed: 0</th>\n      <th>name</th>\n      <th>author</th>\n      <th>number of ratings</th>\n      <th>url</th>\n      <th>avg_ratings</th>\n      <th>id</th>\n      <th>Num_pages</th>\n      <th>Awards</th>\n      <th>Genre</th>\n      <th>OriginalPDate</th>\n    </tr>\n  </thead>\n  <tbody>\n    <tr>\n      <th>0</th>\n      <td>0.0</td>\n      <td>A Game of Thrones (A Song of Ice and Fire, #1)</td>\n      <td>George R.R. Martin</td>\n      <td>2047731</td>\n      <td>https://www.goodreads.com//book/show/13496.A_G...</td>\n      <td>4.45</td>\n      <td>0.0</td>\n      <td>835 pages</td>\n      <td>['Nebula Award Nominee for Best Novel (1997)',...</td>\n      <td>['Fantasy', 'Fiction', 'Fantasy', 'Epic Fantas...</td>\n      <td>['\\n              (first published August 6th ...</td>\n    </tr>\n    <tr>\n      <th>1</th>\n      <td>1.0</td>\n      <td>J.R.R. Tolkien 4-Book Boxed Set: The Hobbit ...</td>\n      <td>J.R.R. Tolkien</td>\n      <td>112472</td>\n      <td>https://www.goodreads.com//book/show/30.J_R_R_...</td>\n      <td>4.60</td>\n      <td>1.0</td>\n      <td>Hobbit Movie Tie-in Boxed set</td>\n      <td>[]</td>\n      <td>['Fantasy', 'Fiction', 'Classics', 'Adventure'...</td>\n      <td>['\\n              (first published October 20t...</td>\n    </tr>\n    <tr>\n      <th>2</th>\n      <td>2.0</td>\n      <td>The Name of the Wind (The Kingkiller Chronic...</td>\n      <td>Patrick Rothfuss (Goodreads Author)</td>\n      <td>739671</td>\n      <td>https://www.goodreads.com//book/show/186074.Th...</td>\n      <td>4.52</td>\n      <td>2.0</td>\n      <td>662 pages</td>\n      <td>['Locus Award Nominee for Best First Novel and...</td>\n      <td>['Fantasy', 'Fiction', 'Fantasy', 'Epic Fantas...</td>\n      <td>['\\n              (first published March 27th ...</td>\n    </tr>\n    <tr>\n      <th>3</th>\n      <td>3.0</td>\n      <td>The Way of Kings (The Stormlight Archive, #1)</td>\n      <td>Brandon Sanderson (Goodreads Author)</td>\n      <td>319885</td>\n      <td>https://www.goodreads.com//book/show/7235533-t...</td>\n      <td>4.62</td>\n      <td>3.0</td>\n      <td>1007 pages</td>\n      <td>['Locus Award Nominee for Best Fantasy Novel (...</td>\n      <td>['Fantasy', 'Fiction', 'Fantasy', 'Epic Fantas...</td>\n      <td>[]</td>\n    </tr>\n    <tr>\n      <th>4</th>\n      <td>4.0</td>\n      <td>The Chronicles of Narnia (Chronicles of Narn...</td>\n      <td>C.S. Lewis</td>\n      <td>533099</td>\n      <td>https://www.goodreads.com//book/show/11127.The...</td>\n      <td>4.26</td>\n      <td>4.0</td>\n      <td>Reissue Edition</td>\n      <td>[]</td>\n      <td>['Fantasy', 'Classics', 'Fiction', 'Young Adul...</td>\n      <td>['\\n              (first published 1956)\\n    ...</td>\n    </tr>\n  </tbody>\n</table>\n</div>"
     },
     "metadata": {},
     "execution_count": 32
    }
   ],
   "source": [
    "df.head(5)  "
   ]
  },
  {
   "cell_type": "code",
   "execution_count": 31,
   "metadata": {},
   "outputs": [],
   "source": [
    "len(df.Awards[4])\n",
    "\n",
    "if not df.Awards[4]:\n",
    "    print(\"this is an empty list!!!!!!\")\n"
>>>>>>> gyasi
   ]
  },
  {
   "cell_type": "code",
   "execution_count": null,
   "metadata": {},
   "outputs": [],
   "source": []
  }
 ]
}