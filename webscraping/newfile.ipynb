{
 "metadata": {
  "language_info": {
   "codemirror_mode": {
    "name": "ipython",
    "version": 3
   },
   "file_extension": ".py",
   "mimetype": "text/x-python",
   "name": "python",
   "nbconvert_exporter": "python",
   "pygments_lexer": "ipython3",
   "version": "3.9.1-final"
  },
  "orig_nbformat": 2,
  "kernelspec": {
   "name": "python3",
   "display_name": "Python 3",
   "language": "python"
  }
 },
 "nbformat": 4,
 "nbformat_minor": 2,
 "cells": [
  {
   "cell_type": "code",
   "execution_count": 1,
   "metadata": {},
   "outputs": [],
   "source": [
    "# import selenium\n",
    "# from selenium import webdriver \n",
    "# from selenium.webdriver.common.keys import Keys\n",
    "\n",
    "\n",
    "from bs4 import BeautifulSoup\n",
    "import urllib.request as urllib2\n",
    "import requests"
   ]
  },
  {
   "cell_type": "code",
   "execution_count": 46,
   "metadata": {},
   "outputs": [],
   "source": [
    "driver = webdriver.Chrome()\n",
    "driver.get(\"https://www.goodreads.com/list/show/50.The_Best_Epic_Fantasy_fiction_\")\n",
    "\n"
   ]
  },
  {
   "cell_type": "code",
   "execution_count": 26,
   "metadata": {},
   "outputs": [],
   "source": [
    "driver.get(\"https://www.goodreads.com/book/show/228665.The_Eye_of_the_World\")\n"
   ]
  },
  {
   "cell_type": "code",
   "execution_count": 40,
   "metadata": {},
   "outputs": [
    {
     "output_type": "execute_result",
     "data": {
      "text/plain": [
       "<selenium.webdriver.remote.webelement.WebElement (session=\"496431db386d6d0779bfd9439e1c7dbc\", element=\"eb4cf1d4-3bb8-4cd4-ac96-026905bf1f81\")>"
      ]
     },
     "metadata": {},
     "execution_count": 40
    }
   ],
   "source": [
    "#checks frames \n",
    "link = driver.find_element_by_xpath('//a[@id=\"bookDataBoxShow\"]')  \n",
    "link.click()\n",
    "\n",
    "\n",
    "\n",
    "\n",
    "driver.find_element_by_xpath('//*[@id=\"details\"]/div[1]/span[1]')\n",
    "driver.find_element_by_xpath('//div/[@id=\"details\"]/div/span[2]')]')  \n",
    "\n",
    "\n",
    "\n"
   ]
  },
  {
   "cell_type": "code",
   "execution_count": 44,
   "metadata": {},
   "outputs": [
    {
     "output_type": "error",
     "ename": "InvalidSelectorException",
     "evalue": "Message: invalid selector: Unable to locate an element with the xpath expression //*div/[@id=\"details\"]/div/span[2] because of the following error:\nSyntaxError: Failed to execute 'evaluate' on 'Document': The string '//*div/[@id=\"details\"]/div/span[2]' is not a valid XPath expression.\n  (Session info: chrome=87.0.4280.141)\n",
     "traceback": [
      "\u001b[0;31m---------------------------------------------------------------------------\u001b[0m",
      "\u001b[0;31mInvalidSelectorException\u001b[0m                  Traceback (most recent call last)",
      "\u001b[0;32m<ipython-input-44-879eed8ddbd2>\u001b[0m in \u001b[0;36m<module>\u001b[0;34m\u001b[0m\n\u001b[0;32m----> 1\u001b[0;31m \u001b[0mpages2\u001b[0m \u001b[0;34m=\u001b[0m \u001b[0mdriver\u001b[0m\u001b[0;34m.\u001b[0m\u001b[0mfind_element_by_xpath\u001b[0m\u001b[0;34m(\u001b[0m\u001b[0;34m'//*div/[@id=\"details\"]/div/span[2]'\u001b[0m\u001b[0;34m)\u001b[0m\u001b[0;34m\u001b[0m\u001b[0;34m\u001b[0m\u001b[0m\n\u001b[0m",
      "\u001b[0;32m~/anaconda3/envs/scraping/lib/python3.7/site-packages/selenium/webdriver/remote/webdriver.py\u001b[0m in \u001b[0;36mfind_element_by_xpath\u001b[0;34m(self, xpath)\u001b[0m\n\u001b[1;32m    392\u001b[0m             \u001b[0melement\u001b[0m \u001b[0;34m=\u001b[0m \u001b[0mdriver\u001b[0m\u001b[0;34m.\u001b[0m\u001b[0mfind_element_by_xpath\u001b[0m\u001b[0;34m(\u001b[0m\u001b[0;34m'//div/td[1]'\u001b[0m\u001b[0;34m)\u001b[0m\u001b[0;34m\u001b[0m\u001b[0;34m\u001b[0m\u001b[0m\n\u001b[1;32m    393\u001b[0m         \"\"\"\n\u001b[0;32m--> 394\u001b[0;31m         \u001b[0;32mreturn\u001b[0m \u001b[0mself\u001b[0m\u001b[0;34m.\u001b[0m\u001b[0mfind_element\u001b[0m\u001b[0;34m(\u001b[0m\u001b[0mby\u001b[0m\u001b[0;34m=\u001b[0m\u001b[0mBy\u001b[0m\u001b[0;34m.\u001b[0m\u001b[0mXPATH\u001b[0m\u001b[0;34m,\u001b[0m \u001b[0mvalue\u001b[0m\u001b[0;34m=\u001b[0m\u001b[0mxpath\u001b[0m\u001b[0;34m)\u001b[0m\u001b[0;34m\u001b[0m\u001b[0;34m\u001b[0m\u001b[0m\n\u001b[0m\u001b[1;32m    395\u001b[0m \u001b[0;34m\u001b[0m\u001b[0m\n\u001b[1;32m    396\u001b[0m     \u001b[0;32mdef\u001b[0m \u001b[0mfind_elements_by_xpath\u001b[0m\u001b[0;34m(\u001b[0m\u001b[0mself\u001b[0m\u001b[0;34m,\u001b[0m \u001b[0mxpath\u001b[0m\u001b[0;34m)\u001b[0m\u001b[0;34m:\u001b[0m\u001b[0;34m\u001b[0m\u001b[0;34m\u001b[0m\u001b[0m\n",
      "\u001b[0;32m~/anaconda3/envs/scraping/lib/python3.7/site-packages/selenium/webdriver/remote/webdriver.py\u001b[0m in \u001b[0;36mfind_element\u001b[0;34m(self, by, value)\u001b[0m\n\u001b[1;32m    976\u001b[0m         return self.execute(Command.FIND_ELEMENT, {\n\u001b[1;32m    977\u001b[0m             \u001b[0;34m'using'\u001b[0m\u001b[0;34m:\u001b[0m \u001b[0mby\u001b[0m\u001b[0;34m,\u001b[0m\u001b[0;34m\u001b[0m\u001b[0;34m\u001b[0m\u001b[0m\n\u001b[0;32m--> 978\u001b[0;31m             'value': value})['value']\n\u001b[0m\u001b[1;32m    979\u001b[0m \u001b[0;34m\u001b[0m\u001b[0m\n\u001b[1;32m    980\u001b[0m     \u001b[0;32mdef\u001b[0m \u001b[0mfind_elements\u001b[0m\u001b[0;34m(\u001b[0m\u001b[0mself\u001b[0m\u001b[0;34m,\u001b[0m \u001b[0mby\u001b[0m\u001b[0;34m=\u001b[0m\u001b[0mBy\u001b[0m\u001b[0;34m.\u001b[0m\u001b[0mID\u001b[0m\u001b[0;34m,\u001b[0m \u001b[0mvalue\u001b[0m\u001b[0;34m=\u001b[0m\u001b[0;32mNone\u001b[0m\u001b[0;34m)\u001b[0m\u001b[0;34m:\u001b[0m\u001b[0;34m\u001b[0m\u001b[0;34m\u001b[0m\u001b[0m\n",
      "\u001b[0;32m~/anaconda3/envs/scraping/lib/python3.7/site-packages/selenium/webdriver/remote/webdriver.py\u001b[0m in \u001b[0;36mexecute\u001b[0;34m(self, driver_command, params)\u001b[0m\n\u001b[1;32m    319\u001b[0m         \u001b[0mresponse\u001b[0m \u001b[0;34m=\u001b[0m \u001b[0mself\u001b[0m\u001b[0;34m.\u001b[0m\u001b[0mcommand_executor\u001b[0m\u001b[0;34m.\u001b[0m\u001b[0mexecute\u001b[0m\u001b[0;34m(\u001b[0m\u001b[0mdriver_command\u001b[0m\u001b[0;34m,\u001b[0m \u001b[0mparams\u001b[0m\u001b[0;34m)\u001b[0m\u001b[0;34m\u001b[0m\u001b[0;34m\u001b[0m\u001b[0m\n\u001b[1;32m    320\u001b[0m         \u001b[0;32mif\u001b[0m \u001b[0mresponse\u001b[0m\u001b[0;34m:\u001b[0m\u001b[0;34m\u001b[0m\u001b[0;34m\u001b[0m\u001b[0m\n\u001b[0;32m--> 321\u001b[0;31m             \u001b[0mself\u001b[0m\u001b[0;34m.\u001b[0m\u001b[0merror_handler\u001b[0m\u001b[0;34m.\u001b[0m\u001b[0mcheck_response\u001b[0m\u001b[0;34m(\u001b[0m\u001b[0mresponse\u001b[0m\u001b[0;34m)\u001b[0m\u001b[0;34m\u001b[0m\u001b[0;34m\u001b[0m\u001b[0m\n\u001b[0m\u001b[1;32m    322\u001b[0m             response['value'] = self._unwrap_value(\n\u001b[1;32m    323\u001b[0m                 response.get('value', None))\n",
      "\u001b[0;32m~/anaconda3/envs/scraping/lib/python3.7/site-packages/selenium/webdriver/remote/errorhandler.py\u001b[0m in \u001b[0;36mcheck_response\u001b[0;34m(self, response)\u001b[0m\n\u001b[1;32m    240\u001b[0m                 \u001b[0malert_text\u001b[0m \u001b[0;34m=\u001b[0m \u001b[0mvalue\u001b[0m\u001b[0;34m[\u001b[0m\u001b[0;34m'alert'\u001b[0m\u001b[0;34m]\u001b[0m\u001b[0;34m.\u001b[0m\u001b[0mget\u001b[0m\u001b[0;34m(\u001b[0m\u001b[0;34m'text'\u001b[0m\u001b[0;34m)\u001b[0m\u001b[0;34m\u001b[0m\u001b[0;34m\u001b[0m\u001b[0m\n\u001b[1;32m    241\u001b[0m             \u001b[0;32mraise\u001b[0m \u001b[0mexception_class\u001b[0m\u001b[0;34m(\u001b[0m\u001b[0mmessage\u001b[0m\u001b[0;34m,\u001b[0m \u001b[0mscreen\u001b[0m\u001b[0;34m,\u001b[0m \u001b[0mstacktrace\u001b[0m\u001b[0;34m,\u001b[0m \u001b[0malert_text\u001b[0m\u001b[0;34m)\u001b[0m\u001b[0;34m\u001b[0m\u001b[0;34m\u001b[0m\u001b[0m\n\u001b[0;32m--> 242\u001b[0;31m         \u001b[0;32mraise\u001b[0m \u001b[0mexception_class\u001b[0m\u001b[0;34m(\u001b[0m\u001b[0mmessage\u001b[0m\u001b[0;34m,\u001b[0m \u001b[0mscreen\u001b[0m\u001b[0;34m,\u001b[0m \u001b[0mstacktrace\u001b[0m\u001b[0;34m)\u001b[0m\u001b[0;34m\u001b[0m\u001b[0;34m\u001b[0m\u001b[0m\n\u001b[0m\u001b[1;32m    243\u001b[0m \u001b[0;34m\u001b[0m\u001b[0m\n\u001b[1;32m    244\u001b[0m     \u001b[0;32mdef\u001b[0m \u001b[0m_value_or_default\u001b[0m\u001b[0;34m(\u001b[0m\u001b[0mself\u001b[0m\u001b[0;34m,\u001b[0m \u001b[0mobj\u001b[0m\u001b[0;34m,\u001b[0m \u001b[0mkey\u001b[0m\u001b[0;34m,\u001b[0m \u001b[0mdefault\u001b[0m\u001b[0;34m)\u001b[0m\u001b[0;34m:\u001b[0m\u001b[0;34m\u001b[0m\u001b[0;34m\u001b[0m\u001b[0m\n",
      "\u001b[0;31mInvalidSelectorException\u001b[0m: Message: invalid selector: Unable to locate an element with the xpath expression //*div/[@id=\"details\"]/div/span[2] because of the following error:\nSyntaxError: Failed to execute 'evaluate' on 'Document': The string '//*div/[@id=\"details\"]/div/span[2]' is not a valid XPath expression.\n  (Session info: chrome=87.0.4280.141)\n"
     ]
    }
   ],
   "source": [
    "pages2 = driver.find_element_by_xpath('//*div/[@id=\"details\"]/div/span[2]')                     "
   ]
  },
  {
   "cell_type": "code",
   "execution_count": null,
   "metadata": {},
   "outputs": [],
   "source": [
    "driver.findElement(By.Id(\"bookDataBox > .clearFloats:nth-of-type(2) > \"))"
   ]
  },
  {
   "cell_type": "code",
   "execution_count": 17,
   "metadata": {},
   "outputs": [],
   "source": [
    "pageexample = requests.get('https://www.goodreads.com/book/show/228665.The_Eye_of_the_World') #need a count\n",
    "soup3 = BeautifulSoup(pageexample.content, 'html')"
   ]
  },
  {
   "cell_type": "code",
   "execution_count": 15,
   "metadata": {},
   "outputs": [],
   "source": [
    "def myStrip(i):\n",
    "    a = 0\n",
    "    for a in range(0, len(i) ,2):\n",
    "       i[a] = i[a].string\n",
    "    #print(i)\n",
    "    return i"
   ]
  },
  {
   "cell_type": "code",
   "execution_count": 21,
   "metadata": {
    "tags": []
   },
   "outputs": [
    {
     "output_type": "stream",
     "name": "stdout",
     "text": [
      "[]\n[]\n"
     ]
    }
   ],
   "source": [
    "\n",
    "Pages = soup3.select('div[id=\"details\"] > .row:nth-of-type(1) > span')\n",
    "Series = soup3.select('div[id=\"bookDataBox\"] > .clearFloats:nth-of-type(4) > .infoBoxRowItem > a')\n",
    "givenPublishedYear = soup3.select('div[id=\"details\"] > .row:nth-of-type(2)')\n",
    "Setting = soup3.select('div[id=\"bookDataBox\"] > .infoBoxRowItem > a')\n",
    "\n",
    "test = soup3.select('div[id=\"bookDataBox\"] >.clearFloats')\n",
    "\n",
    "\n",
    "\n",
    "testcollection = []\n",
    "\n",
    "for x in test:\n",
    "        \n",
    "        testcollection.append(str(x))\n",
    "\n",
    "\n",
    "\n",
    "myStrip(Series)\n",
    "myStrip(Setting)\n",
    "myStrip(Pages)\n",
    "test = myStrip(test)\n",
    "\n",
    "print(testcollection)\n",
    "print(Setting)"
   ]
  },
  {
   "cell_type": "code",
   "execution_count": 11,
   "metadata": {},
   "outputs": [],
   "source": [
    "test = soup3.select('div[id=\"description\"]')\n"
   ]
  },
  {
   "cell_type": "code",
   "execution_count": 13,
   "metadata": {},
   "outputs": [
    {
     "output_type": "stream",
     "name": "stdout",
     "text": [
      "[]\n"
     ]
    }
   ],
   "source": [
    "print(test) \n"
   ]
  },
  {
   "cell_type": "code",
   "execution_count": 84,
   "metadata": {},
   "outputs": [
    {
     "output_type": "stream",
     "name": "stdout",
     "text": [
      "\nCharacters\n\nRand al'Thor, Nynaeve al'Meara, Egwene al'Vere, Perrin Aybara, Al'Lan Mandragoran...more, Matrim Cauthon, Moiraine Damodred, Loial, Thom Merrilin, Padan Fain, Ba'alzamon, Elyas Machera, Tam al'Thor...less\n\n\nFalse\n"
     ]
    }
   ],
   "source": [
    "\n",
    "emptyseries = True\n",
    "emptyisbn = True\n",
    "\n",
    "for x in range(0, len(testcollection)):\n",
    "\n",
    "    soup = BeautifulSoup(testcollection[x])\n",
    "    temp = soup.get_text()\n",
    "\n",
    "    ret_value_series = \"Series\" in temp\n",
    "    ret_value_ISBN = \"ISBN\" in temp\n",
    "\n",
    "    if (ret_value_seriesies == True):\n",
    "        slist.append(temp)\n",
    "        seriesTF.append(True)\n",
    "        emptyseries = False\n",
    "\n",
    "    if (ret_value_ISBN == True):\n",
    "        isbnlist.append(temp)\n",
    "        emptyisbn = False\n",
    "\n",
    "    \n",
    "if (emptyisbn == True):\n",
    "        isbnlist.append(NA)\n",
    "if (emptyseries == False):\n",
    "        slist.append(NA)\n",
    "        seriesTF.append(False)\n",
    "\n",
    "\n",
    "\n",
    "\n",
    "\n",
    "\n",
    "\n",
    "\n",
    "\n",
    "\n",
    "def sortAndPlace():\n",
    "\n",
    "\n",
    "def decisionTree():\n",
    "    if ret_value =\n",
    "    \n",
    "\n",
    "\n",
    "    ret_value = \"Series\" in gr\n",
    "\n",
    "    print(ret_value)\n",
    "\n"
   ]
  },
  {
   "cell_type": "code",
   "execution_count": 92,
   "metadata": {},
   "outputs": [
    {
     "output_type": "stream",
     "name": "stdout",
     "text": [
      "\nLiterary Awards\n\nLocus Award Nominee for Best Fantasy Book (1991)\n\n\nFalse\n"
     ]
    }
   ],
   "source": [
    "\n",
    "soup = BeautifulSoup(testcollection[])\n",
    "print(soup.get_text())\n",
    "gr = soup.get_text()\n",
    "\n",
    "ret_value_series = \"Series\" in gr\n",
    "ret_value_ISBN = \"ISBN\" in gr\n",
    "\n",
    "\n"
   ]
  },
  {
   "cell_type": "code",
   "execution_count": 74,
   "metadata": {},
   "outputs": [
    {
     "output_type": "execute_result",
     "data": {
      "text/plain": [
       "6"
      ]
     },
     "metadata": {},
     "execution_count": 74
    }
   ],
   "source": [
    "len(testcollection)"
   ]
  },
  {
   "cell_type": "code",
   "execution_count": 34,
   "metadata": {},
   "outputs": [
    {
     "output_type": "execute_result",
     "data": {
      "text/plain": [
       "[None,\n",
       " <div class=\"clearFloats\">\n",
       " <div class=\"infoBoxRowTitle\">ISBN</div>\n",
       " <div class=\"infoBoxRowItem\">\n",
       "                   0812511816\n",
       "                       <span class=\"greyText\">(ISBN13: <span itemprop=\"isbn\">9780812511819</span>)</span>\n",
       " </div>\n",
       " </div>,\n",
       " None,\n",
       " <div class=\"clearFloats\">\n",
       " <div class=\"infoBoxRowTitle\">Series</div>\n",
       " <div class=\"infoBoxRowItem\">\n",
       " <a href=\"/series/41526-the-wheel-of-time\">The Wheel of Time #1</a> </div>\n",
       " </div>,\n",
       " None,\n",
       " <div class=\"clearFloats\">\n",
       " <div class=\"infoBoxRowTitle\">Literary Awards</div>\n",
       " <div class=\"infoBoxRowItem\" itemprop=\"awards\">\n",
       " <a class=\"award\" href=\"/award/show/46-locus-award\">Locus Award Nominee for Best Fantasy Book (1991)</a>\n",
       " </div>\n",
       " </div>]"
      ]
     },
     "metadata": {},
     "execution_count": 34
    }
   ],
   "source": [
    "test\n"
   ]
  },
  {
   "cell_type": "code",
   "execution_count": 62,
   "metadata": {},
   "outputs": [
    {
     "output_type": "stream",
     "name": "stdout",
     "text": [
      "<div class=\"clearFloats\">\n<div class=\"infoBoxRowTitle\">Series</div>\n<div class=\"infoBoxRowItem\">\n<a href=\"/series/41526-the-wheel-of-time\">The Wheel of Time #1</a> </div>\n</div>\n<class 'bs4.element.Tag'>\nNone\nNone\n"
     ]
    }
   ],
   "source": [
    "test2 = test[3]\n",
    "print(test2)\n",
    "print(type(test2))\n",
    "hope = test2.str\n",
    "print(test2.strip)\n",
    "print(hope)"
   ]
  },
  {
   "cell_type": "code",
   "execution_count": 46,
   "metadata": {},
   "outputs": [
    {
     "output_type": "stream",
     "name": "stdout",
     "text": [
      "<div class=\"clearFloats\">\n<div class=\"infoBoxRowTitle\">Literary Awards</div>\n<div class=\"infoBoxRowItem\" itemprop=\"awards\">\n<a class=\"award\" href=\"/award/show/46-locus-award\">Locus Award Nominee for Best Fantasy Book (1991)</a>\n</div>\n</div>\n"
     ]
    },
    {
     "output_type": "error",
     "ename": "ValueError",
     "evalue": "list.remove(x): x not in list",
     "traceback": [
      "\u001b[0;31m---------------------------------------------------------------------------\u001b[0m",
      "\u001b[0;31mValueError\u001b[0m                                Traceback (most recent call last)",
      "\u001b[0;32m<ipython-input-46-b52fdd1bb273>\u001b[0m in \u001b[0;36m<module>\u001b[0;34m\u001b[0m\n\u001b[1;32m      2\u001b[0m print(test[5]\n\u001b[1;32m      3\u001b[0m )\n\u001b[0;32m----> 4\u001b[0;31m \u001b[0mtest\u001b[0m \u001b[0;34m=\u001b[0m \u001b[0mtest\u001b[0m\u001b[0;34m.\u001b[0m\u001b[0mremove\u001b[0m\u001b[0;34m(\u001b[0m\u001b[0;34m'None'\u001b[0m\u001b[0;34m)\u001b[0m\u001b[0;34m\u001b[0m\u001b[0;34m\u001b[0m\u001b[0m\n\u001b[0m\u001b[1;32m      5\u001b[0m \u001b[0mtest\u001b[0m \u001b[0;34m=\u001b[0m \u001b[0;34m''\u001b[0m\u001b[0;34m.\u001b[0m\u001b[0mjoin\u001b[0m\u001b[0;34m(\u001b[0m\u001b[0mtest\u001b[0m\u001b[0;34m)\u001b[0m\u001b[0;34m\u001b[0m\u001b[0;34m\u001b[0m\u001b[0m\n",
      "\u001b[0;31mValueError\u001b[0m: list.remove(x): x not in list"
     ]
    }
   ],
   "source": [
    "type(test)\n",
    "print(test[5]\n",
    ")\n",
    "test = test.remove('None')\n",
    "test = ''.join(test)"
   ]
  },
  {
   "cell_type": "code",
   "execution_count": 68,
   "metadata": {},
   "outputs": [
    {
     "output_type": "stream",
     "name": "stdout",
     "text": [
      "False\n"
     ]
    },
    {
     "output_type": "execute_result",
     "data": {
      "text/plain": [
       "<filter at 0x7f537d65ee50>"
      ]
     },
     "metadata": {},
     "execution_count": 68
    }
   ],
   "source": [
    "verifySeries = 'div'\n",
    "ret_value = \"Series\" in \n",
    "print(ret_value)\n",
    "\n",
    "fo = filter(lambda a: 'gyasi' in a, test)\n",
    "fo\n",
    "    \n"
   ]
  },
  {
   "cell_type": "code",
   "execution_count": null,
   "metadata": {},
   "outputs": [],
   "source": []
  }
 ]
}