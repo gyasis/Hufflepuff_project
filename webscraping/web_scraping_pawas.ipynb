{
 "cells": [
  {
   "cell_type": "code",
   "execution_count": 1,
   "metadata": {
    "ExecuteTime": {
     "end_time": "2021-01-11T11:17:45.921633Z",
     "start_time": "2021-01-11T11:17:44.720028Z"
    }
   },
   "outputs": [],
   "source": [
    "from bs4 import BeautifulSoup\n",
    "import urllib.request as urllib2\n",
    "import pandas as pd\n",
    "import numpy as np\n",
    "import csv\n",
    "import requests\n"
   ]
  },
  {
   "cell_type": "code",
   "execution_count": 23,
   "metadata": {
    "ExecuteTime": {
     "end_time": "2021-01-11T12:14:44.080065Z",
     "start_time": "2021-01-11T12:14:40.130032Z"
    }
   },
   "outputs": [],
   "source": [
    "magick_stick = \"https://www.goodreads.com/list/show/50.The_Best_Epic_Fantasy_fiction_?page=1\"\n",
    "get_page = requests.get(magick_stick)\n",
    "soup = BeautifulSoup(get_page.text)\n",
    "soup\n",
    "get_movie_container = soup.find_all(\"tr\")\n",
    "#print(get_movie_container)"
   ]
  },
  {
   "cell_type": "code",
   "execution_count": 58,
   "metadata": {
    "ExecuteTime": {
     "end_time": "2021-01-11T13:24:43.951217Z",
     "start_time": "2021-01-11T13:24:43.932672Z"
    }
   },
   "outputs": [
    {
     "name": "stdout",
     "output_type": "stream",
     "text": [
      "['George R.R. Martin', 'J.R.R. Tolkien', 'Patrick Rothfuss (Goodreads Author)', 'Brandon Sanderson (Goodreads Author)', 'C.S. Lewis', 'Robert Jordan', 'Brandon Sanderson (Goodreads Author)', 'Philip Pullman', 'Christopher Paolini (Goodreads Author)', 'Robin Hobb (Goodreads Author)', 'Scott Lynch (Goodreads Author)', 'Stephen King (Goodreads Author)', 'Terry Goodkind', 'Joe Abercrombie', 'J.R.R. Tolkien', 'Steven Erikson (Goodreads Author)', 'William Goldman', 'David Eddings', 'Ursula K. Le Guin', 'Raymond E. Feist', 'Marion Zimmer Bradley', 'Garth Nix (Goodreads Author)', 'Patrick Rothfuss (Goodreads Author)', 'Brent Weeks (Goodreads Author)', 'Mark  Lawrence (Goodreads Author)', 'Anne McCaffrey', 'Peter V. Brett (Goodreads Author)', 'Kristin Cashore', 'Terry Pratchett', 'Terry Pratchett', 'Jacqueline Carey (Goodreads Author)', 'Brian Jacques', 'Brandon Sanderson (Goodreads Author)', 'Margaret Weis (Goodreads Author)', 'Jim Butcher (Goodreads Author)', 'Anthony Ryan (Goodreads Author)', 'R.A. Salvatore', 'Ursula K. Le Guin', 'Tad Williams (Goodreads Author)', 'Brent Weeks (Goodreads Author)', 'Robin Hobb (Goodreads Author)', 'Terry Brooks (Goodreads Author)', 'Michael Ende', 'Michael J. Sullivan (Goodreads Author)', 'Roger Zelazny', 'Tamora Pierce (Goodreads Author)', 'Guy Gavriel Kay (Goodreads Author)', 'T.H. White', 'Brandon Sanderson (Goodreads Author)', 'Robin Hobb (Goodreads Author)', 'Naomi Novik (Goodreads Author)', 'Stephen R. Donaldson', 'Diana Wynne Jones', 'Glen Cook', 'Lloyd Alexander', 'Susan Cooper (Goodreads Author)', 'Anne Bishop', 'Robin McKinley', 'Trudi Canavan', 'J.R.R. Tolkien', 'Mary  Stewart', 'Jonathan Stroud (Goodreads Author)', 'Juliet Marillier (Goodreads Author)', 'Homer', 'Stephen King (Goodreads Author)', 'Guy Gavriel Kay (Goodreads Author)', 'Michael Moorcock', 'John Flanagan', 'Robin McKinley', 'R.A. Salvatore', 'Elizabeth Moon', 'Sarah J. Maas (Goodreads Author)', 'George R.R. Martin', 'Brandon Sanderson (Goodreads Author)', 'Andrzej Sapkowski', 'Piers Anthony', 'Mark  Lawrence (Goodreads Author)', 'Lois McMaster Bujold (Goodreads Author)', 'Peter S. Beagle (Goodreads Author)', 'Raymond E. Feist', 'Lian Hearn', 'C.S. Lewis', 'Margaret Weis (Goodreads Author)', 'Michael J. Sullivan (Goodreads Author)', 'Tamora Pierce (Goodreads Author)', 'Joe Abercrombie', 'Elizabeth Haydon', 'Kristen Britain', 'David Eddings', 'Mercedes Lackey', 'Patricia A. McKillip', 'Brandon Sanderson (Goodreads Author)', 'Mercedes Lackey', 'Steven Brust (Goodreads Author)', 'Brent Weeks (Goodreads Author)', 'Guy Gavriel Kay (Goodreads Author)', 'L.E. Modesitt Jr. (Goodreads Author)', 'Melanie Rawn', 'Mervyn Peake', 'Orson Scott Card']\n",
      "['https://www.goodreads.com//book/show/13496.A_Game_of_Thrones', 'https://www.goodreads.com//book/show/30.J_R_R_Tolkien_4_Book_Boxed_Set', 'https://www.goodreads.com//book/show/186074.The_Name_of_the_Wind', 'https://www.goodreads.com//book/show/7235533-the-way-of-kings', 'https://www.goodreads.com//book/show/11127.The_Chronicles_of_Narnia', 'https://www.goodreads.com//book/show/228665.The_Eye_of_the_World', 'https://www.goodreads.com//book/show/68428.The_Final_Empire', 'https://www.goodreads.com//book/show/18116.His_Dark_Materials', 'https://www.goodreads.com//book/show/113436.Eragon', 'https://www.goodreads.com//book/show/77197.Assassin_s_Apprentice', 'https://www.goodreads.com//book/show/29588376-the-lies-of-locke-lamora', 'https://www.goodreads.com//book/show/43615.The_Gunslinger', 'https://www.goodreads.com//book/show/43889.Wizard_s_First_Rule', 'https://www.goodreads.com//book/show/944073.The_Blade_Itself', 'https://www.goodreads.com//book/show/7332.The_Silmarillion', 'https://www.goodreads.com//book/show/55399.Gardens_of_the_Moon', 'https://www.goodreads.com//book/show/21787.The_Princess_Bride', 'https://www.goodreads.com//book/show/44660.The_Belgariad_Boxed_Set', 'https://www.goodreads.com//book/show/13642.A_Wizard_of_Earthsea', 'https://www.goodreads.com//book/show/13812.Magician', 'https://www.goodreads.com//book/show/40605251-the-mists-of-avalon', 'https://www.goodreads.com//book/show/518848.Sabriel', 'https://www.goodreads.com//book/show/1215032.The_Wise_Man_s_Fear', 'https://www.goodreads.com//book/show/6122735-the-night-angel-trilogy', 'https://www.goodreads.com//book/show/9579634-prince-of-thorns', 'https://www.goodreads.com//book/show/61942.The_Dragonriders_of_Pern', 'https://www.goodreads.com//book/show/3428935-the-warded-man', 'https://www.goodreads.com//book/show/3236307-graceling', 'https://www.goodreads.com//book/show/34497.The_Color_of_Magic', 'https://www.goodreads.com//book/show/12067.Good_Omens', 'https://www.goodreads.com//book/show/153008.Kushiel_s_Dart', 'https://www.goodreads.com//book/show/7996.Redwall', 'https://www.goodreads.com//book/show/17332218-words-of-radiance', 'https://www.goodreads.com//book/show/68380.Dragonlance_Chronicles', 'https://www.goodreads.com//book/show/29396.Furies_of_Calderon', 'https://www.goodreads.com//book/show/13569581-blood-song', 'https://www.goodreads.com//book/show/68418.The_Dark_Elf_Trilogy_Collector_s_Edition', 'https://www.goodreads.com//book/show/1170158.The_Earthsea_Trilogy', 'https://www.goodreads.com//book/show/91981.The_Dragonbone_Chair', 'https://www.goodreads.com//book/show/7165300-the-black-prism', 'https://www.goodreads.com//book/show/68488.Fool_s_Errand', 'https://www.goodreads.com//book/show/478894.The_Sword_of_Shannara_Trilogy', 'https://www.goodreads.com//book/show/27712.The_Neverending_Story', 'https://www.goodreads.com//book/show/10790290-theft-of-swords', 'https://www.goodreads.com//book/show/5367.The_Great_Book_of_Amber', 'https://www.goodreads.com//book/show/13831.Alanna', 'https://www.goodreads.com//book/show/104089.Tigana', 'https://www.goodreads.com//book/show/43545.The_Once_and_Future_King', 'https://www.goodreads.com//book/show/1268479.Warbreaker', 'https://www.goodreads.com//book/show/45100.Ship_of_Magic', 'https://www.goodreads.com//book/show/28876.His_Majesty_s_Dragon', 'https://www.goodreads.com//book/show/179033.The_Chronicles_of_Thomas_Covenant_the_Unbeliever', 'https://www.goodreads.com//book/show/6294.Howl_s_Moving_Castle', 'https://www.goodreads.com//book/show/140671.The_Black_Company', 'https://www.goodreads.com//book/show/463063.The_Chronicles_of_Prydain', 'https://www.goodreads.com//book/show/210329.The_Dark_Is_Rising', 'https://www.goodreads.com//book/show/47953.The_Black_Jewels_Trilogy', 'https://www.goodreads.com//book/show/407813.The_Blue_Sword', 'https://www.goodreads.com//book/show/28249.The_Magicians_Guild', 'https://www.goodreads.com//book/show/597790.The_Children_of_H_rin', 'https://www.goodreads.com//book/show/82192.The_Crystal_Cave', 'https://www.goodreads.com//book/show/334123.The_Amulet_of_Samarkand', 'https://www.goodreads.com//book/show/13928.Daughter_of_the_Forest', 'https://www.goodreads.com//book/show/1381.The_Odyssey', 'https://www.goodreads.com//book/show/10611.The_Eyes_of_the_Dragon', 'https://www.goodreads.com//book/show/1148721.The_Fionavar_Tapestry', 'https://www.goodreads.com//book/show/30036.Elric_of_Melnibon_', 'https://www.goodreads.com//book/show/60400.The_Ruins_of_Gorlan', 'https://www.goodreads.com//book/show/77366.The_Hero_and_the_Crown', 'https://www.goodreads.com//book/show/62485.The_Icewind_Dale_Trilogy_Collector_s_Edition', 'https://www.goodreads.com//book/show/96281.The_Deed_of_Paksenarrion', 'https://www.goodreads.com//book/show/7896527-throne-of-glass', 'https://www.goodreads.com//book/show/62291.A_Storm_of_Swords', 'https://www.goodreads.com//book/show/68427.Elantris', 'https://www.goodreads.com//book/show/40603587-the-last-wish', 'https://www.goodreads.com//book/show/76658.On_a_Pale_Horse', 'https://www.goodreads.com//book/show/12891107-king-of-thorns', 'https://www.goodreads.com//book/show/61886.The_Curse_of_Chalion', 'https://www.goodreads.com//book/show/29127.The_Last_Unicorn', 'https://www.goodreads.com//book/show/589979.Daughter_of_the_Empire', 'https://www.goodreads.com//book/show/77160.Across_the_Nightingale_Floor', 'https://www.goodreads.com//book/show/100915.The_Lion_the_Witch_and_the_Wardrobe', 'https://www.goodreads.com//book/show/28481.Dragon_Wing', 'https://www.goodreads.com//book/show/4345290-the-crown-conspiracy', 'https://www.goodreads.com//book/show/13836.Wild_Magic', 'https://www.goodreads.com//book/show/2315892.Best_Served_Cold', 'https://www.goodreads.com//book/show/261604.Rhapsody', 'https://www.goodreads.com//book/show/147843.Green_Rider', 'https://www.goodreads.com//book/show/616678.The_Diamond_Throne', 'https://www.goodreads.com//book/show/13986.Arrows_of_the_Queen', 'https://www.goodreads.com//book/show/19821.Riddle_Master', 'https://www.goodreads.com//book/show/2767793-the-hero-of-ages', 'https://www.goodreads.com//book/show/28759.Magic_s_Pawn', 'https://www.goodreads.com//book/show/133454.Jhereg', 'https://www.goodreads.com//book/show/3227063-the-way-of-shadows', 'https://www.goodreads.com//book/show/104101.The_Lions_of_Al_Rassan', 'https://www.goodreads.com//book/show/185253.The_Magic_of_Recluce', 'https://www.goodreads.com//book/show/185289.Dragon_Prince', 'https://www.goodreads.com//book/show/39058.The_Gormenghast_Novels', 'https://www.goodreads.com//book/show/40290.Seventh_Son']\n"
     ]
    }
   ],
   "source": [
    "num=[]\n",
    "name=[]\n",
    "author=[]\n",
    "url=[]\n",
    "ratings=[]\n",
    "\n",
    "for item in get_movie_container:\n",
    "    link=item.a.get('href')\n",
    "    link_n=f\"https://www.goodreads.com/{link}\"\n",
    "    url.append(link_n)\n",
    "    s=item.get_text().strip('\\n')\n",
    "    lst=s.split('/n')\n",
    "    st=lst[0].replace('\\n',\" \")\n",
    "    st2=st.split(\"   \")\n",
    "    lst3=[i for i in st2 if i!=\"\"]\n",
    "    num.append(lst3[0])\n",
    "    name.append(lst3[1])\n",
    "    author.append(lst3[3])\n",
    "    t=lst3[4].split()\n",
    "    #print(lst3)\n",
    "   # print(t)\n",
    "    ratings.append(t[4])\n",
    "print(author)    \n",
    "print(ratings)\n",
    "print(url)    "
   ]
  },
  {
   "cell_type": "code",
   "execution_count": 76,
   "metadata": {
    "ExecuteTime": {
     "end_time": "2021-01-11T14:25:24.106615Z",
     "start_time": "2021-01-11T14:19:13.119658Z"
    }
   },
   "outputs": [
    {
     "ename": "KeyboardInterrupt",
     "evalue": "",
     "output_type": "error",
     "traceback": [
      "\u001b[1;31m---------------------------------------------------------------------------\u001b[0m",
      "\u001b[1;31mKeyboardInterrupt\u001b[0m                         Traceback (most recent call last)",
      "\u001b[1;32m<ipython-input-76-ce5b880799b4>\u001b[0m in \u001b[0;36m<module>\u001b[1;34m\u001b[0m\n\u001b[0;32m      1\u001b[0m \u001b[0mreviews\u001b[0m\u001b[1;33m=\u001b[0m\u001b[1;33m[\u001b[0m\u001b[1;33m]\u001b[0m\u001b[1;33m\u001b[0m\u001b[1;33m\u001b[0m\u001b[0m\n\u001b[0;32m      2\u001b[0m \u001b[1;32mfor\u001b[0m \u001b[0ml\u001b[0m \u001b[1;32min\u001b[0m \u001b[0murl\u001b[0m\u001b[1;33m:\u001b[0m\u001b[1;33m\u001b[0m\u001b[1;33m\u001b[0m\u001b[0m\n\u001b[1;32m----> 3\u001b[1;33m     \u001b[0mpage2\u001b[0m \u001b[1;33m=\u001b[0m \u001b[0mrequests\u001b[0m\u001b[1;33m.\u001b[0m\u001b[0mget\u001b[0m\u001b[1;33m(\u001b[0m\u001b[1;34mf\"{l}\"\u001b[0m\u001b[1;33m)\u001b[0m\u001b[1;33m\u001b[0m\u001b[1;33m\u001b[0m\u001b[0m\n\u001b[0m\u001b[0;32m      4\u001b[0m     \u001b[0msoup2\u001b[0m \u001b[1;33m=\u001b[0m\u001b[0mBeautifulSoup\u001b[0m\u001b[1;33m(\u001b[0m\u001b[0mpage2\u001b[0m\u001b[1;33m.\u001b[0m\u001b[0mcontent\u001b[0m\u001b[1;33m,\u001b[0m\u001b[1;34m'html.parser'\u001b[0m\u001b[1;33m)\u001b[0m\u001b[1;33m\u001b[0m\u001b[1;33m\u001b[0m\u001b[0m\n\u001b[0;32m      5\u001b[0m     \u001b[0mreview\u001b[0m\u001b[1;33m=\u001b[0m\u001b[0msoup2\u001b[0m\u001b[1;33m.\u001b[0m\u001b[0mfind\u001b[0m\u001b[1;33m(\u001b[0m\u001b[1;34m'meta'\u001b[0m\u001b[1;33m,\u001b[0m\u001b[1;33m{\u001b[0m\u001b[1;34m'itemprop'\u001b[0m\u001b[1;33m:\u001b[0m\u001b[1;34m'reviewCount'\u001b[0m\u001b[1;33m}\u001b[0m\u001b[1;33m)\u001b[0m\u001b[1;33m\u001b[0m\u001b[1;33m\u001b[0m\u001b[0m\n",
      "\u001b[1;32m~\\anaconda3\\envs\\custom_1\\lib\\site-packages\\requests\\api.py\u001b[0m in \u001b[0;36mget\u001b[1;34m(url, params, **kwargs)\u001b[0m\n\u001b[0;32m     74\u001b[0m \u001b[1;33m\u001b[0m\u001b[0m\n\u001b[0;32m     75\u001b[0m     \u001b[0mkwargs\u001b[0m\u001b[1;33m.\u001b[0m\u001b[0msetdefault\u001b[0m\u001b[1;33m(\u001b[0m\u001b[1;34m'allow_redirects'\u001b[0m\u001b[1;33m,\u001b[0m \u001b[1;32mTrue\u001b[0m\u001b[1;33m)\u001b[0m\u001b[1;33m\u001b[0m\u001b[1;33m\u001b[0m\u001b[0m\n\u001b[1;32m---> 76\u001b[1;33m     \u001b[1;32mreturn\u001b[0m \u001b[0mrequest\u001b[0m\u001b[1;33m(\u001b[0m\u001b[1;34m'get'\u001b[0m\u001b[1;33m,\u001b[0m \u001b[0murl\u001b[0m\u001b[1;33m,\u001b[0m \u001b[0mparams\u001b[0m\u001b[1;33m=\u001b[0m\u001b[0mparams\u001b[0m\u001b[1;33m,\u001b[0m \u001b[1;33m**\u001b[0m\u001b[0mkwargs\u001b[0m\u001b[1;33m)\u001b[0m\u001b[1;33m\u001b[0m\u001b[1;33m\u001b[0m\u001b[0m\n\u001b[0m\u001b[0;32m     77\u001b[0m \u001b[1;33m\u001b[0m\u001b[0m\n\u001b[0;32m     78\u001b[0m \u001b[1;33m\u001b[0m\u001b[0m\n",
      "\u001b[1;32m~\\anaconda3\\envs\\custom_1\\lib\\site-packages\\requests\\api.py\u001b[0m in \u001b[0;36mrequest\u001b[1;34m(method, url, **kwargs)\u001b[0m\n\u001b[0;32m     59\u001b[0m     \u001b[1;31m# cases, and look like a memory leak in others.\u001b[0m\u001b[1;33m\u001b[0m\u001b[1;33m\u001b[0m\u001b[1;33m\u001b[0m\u001b[0m\n\u001b[0;32m     60\u001b[0m     \u001b[1;32mwith\u001b[0m \u001b[0msessions\u001b[0m\u001b[1;33m.\u001b[0m\u001b[0mSession\u001b[0m\u001b[1;33m(\u001b[0m\u001b[1;33m)\u001b[0m \u001b[1;32mas\u001b[0m \u001b[0msession\u001b[0m\u001b[1;33m:\u001b[0m\u001b[1;33m\u001b[0m\u001b[1;33m\u001b[0m\u001b[0m\n\u001b[1;32m---> 61\u001b[1;33m         \u001b[1;32mreturn\u001b[0m \u001b[0msession\u001b[0m\u001b[1;33m.\u001b[0m\u001b[0mrequest\u001b[0m\u001b[1;33m(\u001b[0m\u001b[0mmethod\u001b[0m\u001b[1;33m=\u001b[0m\u001b[0mmethod\u001b[0m\u001b[1;33m,\u001b[0m \u001b[0murl\u001b[0m\u001b[1;33m=\u001b[0m\u001b[0murl\u001b[0m\u001b[1;33m,\u001b[0m \u001b[1;33m**\u001b[0m\u001b[0mkwargs\u001b[0m\u001b[1;33m)\u001b[0m\u001b[1;33m\u001b[0m\u001b[1;33m\u001b[0m\u001b[0m\n\u001b[0m\u001b[0;32m     62\u001b[0m \u001b[1;33m\u001b[0m\u001b[0m\n\u001b[0;32m     63\u001b[0m \u001b[1;33m\u001b[0m\u001b[0m\n",
      "\u001b[1;32m~\\anaconda3\\envs\\custom_1\\lib\\site-packages\\requests\\sessions.py\u001b[0m in \u001b[0;36mrequest\u001b[1;34m(self, method, url, params, data, headers, cookies, files, auth, timeout, allow_redirects, proxies, hooks, stream, verify, cert, json)\u001b[0m\n\u001b[0;32m    540\u001b[0m         }\n\u001b[0;32m    541\u001b[0m         \u001b[0msend_kwargs\u001b[0m\u001b[1;33m.\u001b[0m\u001b[0mupdate\u001b[0m\u001b[1;33m(\u001b[0m\u001b[0msettings\u001b[0m\u001b[1;33m)\u001b[0m\u001b[1;33m\u001b[0m\u001b[1;33m\u001b[0m\u001b[0m\n\u001b[1;32m--> 542\u001b[1;33m         \u001b[0mresp\u001b[0m \u001b[1;33m=\u001b[0m \u001b[0mself\u001b[0m\u001b[1;33m.\u001b[0m\u001b[0msend\u001b[0m\u001b[1;33m(\u001b[0m\u001b[0mprep\u001b[0m\u001b[1;33m,\u001b[0m \u001b[1;33m**\u001b[0m\u001b[0msend_kwargs\u001b[0m\u001b[1;33m)\u001b[0m\u001b[1;33m\u001b[0m\u001b[1;33m\u001b[0m\u001b[0m\n\u001b[0m\u001b[0;32m    543\u001b[0m \u001b[1;33m\u001b[0m\u001b[0m\n\u001b[0;32m    544\u001b[0m         \u001b[1;32mreturn\u001b[0m \u001b[0mresp\u001b[0m\u001b[1;33m\u001b[0m\u001b[1;33m\u001b[0m\u001b[0m\n",
      "\u001b[1;32m~\\anaconda3\\envs\\custom_1\\lib\\site-packages\\requests\\sessions.py\u001b[0m in \u001b[0;36msend\u001b[1;34m(self, request, **kwargs)\u001b[0m\n\u001b[0;32m    653\u001b[0m \u001b[1;33m\u001b[0m\u001b[0m\n\u001b[0;32m    654\u001b[0m         \u001b[1;31m# Send the request\u001b[0m\u001b[1;33m\u001b[0m\u001b[1;33m\u001b[0m\u001b[1;33m\u001b[0m\u001b[0m\n\u001b[1;32m--> 655\u001b[1;33m         \u001b[0mr\u001b[0m \u001b[1;33m=\u001b[0m \u001b[0madapter\u001b[0m\u001b[1;33m.\u001b[0m\u001b[0msend\u001b[0m\u001b[1;33m(\u001b[0m\u001b[0mrequest\u001b[0m\u001b[1;33m,\u001b[0m \u001b[1;33m**\u001b[0m\u001b[0mkwargs\u001b[0m\u001b[1;33m)\u001b[0m\u001b[1;33m\u001b[0m\u001b[1;33m\u001b[0m\u001b[0m\n\u001b[0m\u001b[0;32m    656\u001b[0m \u001b[1;33m\u001b[0m\u001b[0m\n\u001b[0;32m    657\u001b[0m         \u001b[1;31m# Total elapsed time of the request (approximately)\u001b[0m\u001b[1;33m\u001b[0m\u001b[1;33m\u001b[0m\u001b[1;33m\u001b[0m\u001b[0m\n",
      "\u001b[1;32m~\\anaconda3\\envs\\custom_1\\lib\\site-packages\\requests\\adapters.py\u001b[0m in \u001b[0;36msend\u001b[1;34m(self, request, stream, timeout, verify, cert, proxies)\u001b[0m\n\u001b[0;32m    437\u001b[0m         \u001b[1;32mtry\u001b[0m\u001b[1;33m:\u001b[0m\u001b[1;33m\u001b[0m\u001b[1;33m\u001b[0m\u001b[0m\n\u001b[0;32m    438\u001b[0m             \u001b[1;32mif\u001b[0m \u001b[1;32mnot\u001b[0m \u001b[0mchunked\u001b[0m\u001b[1;33m:\u001b[0m\u001b[1;33m\u001b[0m\u001b[1;33m\u001b[0m\u001b[0m\n\u001b[1;32m--> 439\u001b[1;33m                 resp = conn.urlopen(\n\u001b[0m\u001b[0;32m    440\u001b[0m                     \u001b[0mmethod\u001b[0m\u001b[1;33m=\u001b[0m\u001b[0mrequest\u001b[0m\u001b[1;33m.\u001b[0m\u001b[0mmethod\u001b[0m\u001b[1;33m,\u001b[0m\u001b[1;33m\u001b[0m\u001b[1;33m\u001b[0m\u001b[0m\n\u001b[0;32m    441\u001b[0m                     \u001b[0murl\u001b[0m\u001b[1;33m=\u001b[0m\u001b[0murl\u001b[0m\u001b[1;33m,\u001b[0m\u001b[1;33m\u001b[0m\u001b[1;33m\u001b[0m\u001b[0m\n",
      "\u001b[1;32m~\\anaconda3\\envs\\custom_1\\lib\\site-packages\\urllib3\\connectionpool.py\u001b[0m in \u001b[0;36murlopen\u001b[1;34m(self, method, url, body, headers, retries, redirect, assert_same_host, timeout, pool_timeout, release_conn, chunked, body_pos, **response_kw)\u001b[0m\n\u001b[0;32m    668\u001b[0m \u001b[1;33m\u001b[0m\u001b[0m\n\u001b[0;32m    669\u001b[0m             \u001b[1;31m# Make the request on the httplib connection object.\u001b[0m\u001b[1;33m\u001b[0m\u001b[1;33m\u001b[0m\u001b[1;33m\u001b[0m\u001b[0m\n\u001b[1;32m--> 670\u001b[1;33m             httplib_response = self._make_request(\n\u001b[0m\u001b[0;32m    671\u001b[0m                 \u001b[0mconn\u001b[0m\u001b[1;33m,\u001b[0m\u001b[1;33m\u001b[0m\u001b[1;33m\u001b[0m\u001b[0m\n\u001b[0;32m    672\u001b[0m                 \u001b[0mmethod\u001b[0m\u001b[1;33m,\u001b[0m\u001b[1;33m\u001b[0m\u001b[1;33m\u001b[0m\u001b[0m\n",
      "\u001b[1;32m~\\anaconda3\\envs\\custom_1\\lib\\site-packages\\urllib3\\connectionpool.py\u001b[0m in \u001b[0;36m_make_request\u001b[1;34m(self, conn, method, url, timeout, chunked, **httplib_request_kw)\u001b[0m\n\u001b[0;32m    379\u001b[0m         \u001b[1;31m# Trigger any extra validation we need to do.\u001b[0m\u001b[1;33m\u001b[0m\u001b[1;33m\u001b[0m\u001b[1;33m\u001b[0m\u001b[0m\n\u001b[0;32m    380\u001b[0m         \u001b[1;32mtry\u001b[0m\u001b[1;33m:\u001b[0m\u001b[1;33m\u001b[0m\u001b[1;33m\u001b[0m\u001b[0m\n\u001b[1;32m--> 381\u001b[1;33m             \u001b[0mself\u001b[0m\u001b[1;33m.\u001b[0m\u001b[0m_validate_conn\u001b[0m\u001b[1;33m(\u001b[0m\u001b[0mconn\u001b[0m\u001b[1;33m)\u001b[0m\u001b[1;33m\u001b[0m\u001b[1;33m\u001b[0m\u001b[0m\n\u001b[0m\u001b[0;32m    382\u001b[0m         \u001b[1;32mexcept\u001b[0m \u001b[1;33m(\u001b[0m\u001b[0mSocketTimeout\u001b[0m\u001b[1;33m,\u001b[0m \u001b[0mBaseSSLError\u001b[0m\u001b[1;33m)\u001b[0m \u001b[1;32mas\u001b[0m \u001b[0me\u001b[0m\u001b[1;33m:\u001b[0m\u001b[1;33m\u001b[0m\u001b[1;33m\u001b[0m\u001b[0m\n\u001b[0;32m    383\u001b[0m             \u001b[1;31m# Py2 raises this as a BaseSSLError, Py3 raises it as socket timeout.\u001b[0m\u001b[1;33m\u001b[0m\u001b[1;33m\u001b[0m\u001b[1;33m\u001b[0m\u001b[0m\n",
      "\u001b[1;32m~\\anaconda3\\envs\\custom_1\\lib\\site-packages\\urllib3\\connectionpool.py\u001b[0m in \u001b[0;36m_validate_conn\u001b[1;34m(self, conn)\u001b[0m\n\u001b[0;32m    976\u001b[0m         \u001b[1;31m# Force connect early to allow us to validate the connection.\u001b[0m\u001b[1;33m\u001b[0m\u001b[1;33m\u001b[0m\u001b[1;33m\u001b[0m\u001b[0m\n\u001b[0;32m    977\u001b[0m         \u001b[1;32mif\u001b[0m \u001b[1;32mnot\u001b[0m \u001b[0mgetattr\u001b[0m\u001b[1;33m(\u001b[0m\u001b[0mconn\u001b[0m\u001b[1;33m,\u001b[0m \u001b[1;34m\"sock\"\u001b[0m\u001b[1;33m,\u001b[0m \u001b[1;32mNone\u001b[0m\u001b[1;33m)\u001b[0m\u001b[1;33m:\u001b[0m  \u001b[1;31m# AppEngine might not have  `.sock`\u001b[0m\u001b[1;33m\u001b[0m\u001b[1;33m\u001b[0m\u001b[0m\n\u001b[1;32m--> 978\u001b[1;33m             \u001b[0mconn\u001b[0m\u001b[1;33m.\u001b[0m\u001b[0mconnect\u001b[0m\u001b[1;33m(\u001b[0m\u001b[1;33m)\u001b[0m\u001b[1;33m\u001b[0m\u001b[1;33m\u001b[0m\u001b[0m\n\u001b[0m\u001b[0;32m    979\u001b[0m \u001b[1;33m\u001b[0m\u001b[0m\n\u001b[0;32m    980\u001b[0m         \u001b[1;32mif\u001b[0m \u001b[1;32mnot\u001b[0m \u001b[0mconn\u001b[0m\u001b[1;33m.\u001b[0m\u001b[0mis_verified\u001b[0m\u001b[1;33m:\u001b[0m\u001b[1;33m\u001b[0m\u001b[1;33m\u001b[0m\u001b[0m\n",
      "\u001b[1;32m~\\anaconda3\\envs\\custom_1\\lib\\site-packages\\urllib3\\connection.py\u001b[0m in \u001b[0;36mconnect\u001b[1;34m(self)\u001b[0m\n\u001b[0;32m    360\u001b[0m             \u001b[0mcontext\u001b[0m\u001b[1;33m.\u001b[0m\u001b[0mload_default_certs\u001b[0m\u001b[1;33m(\u001b[0m\u001b[1;33m)\u001b[0m\u001b[1;33m\u001b[0m\u001b[1;33m\u001b[0m\u001b[0m\n\u001b[0;32m    361\u001b[0m \u001b[1;33m\u001b[0m\u001b[0m\n\u001b[1;32m--> 362\u001b[1;33m         self.sock = ssl_wrap_socket(\n\u001b[0m\u001b[0;32m    363\u001b[0m             \u001b[0msock\u001b[0m\u001b[1;33m=\u001b[0m\u001b[0mconn\u001b[0m\u001b[1;33m,\u001b[0m\u001b[1;33m\u001b[0m\u001b[1;33m\u001b[0m\u001b[0m\n\u001b[0;32m    364\u001b[0m             \u001b[0mkeyfile\u001b[0m\u001b[1;33m=\u001b[0m\u001b[0mself\u001b[0m\u001b[1;33m.\u001b[0m\u001b[0mkey_file\u001b[0m\u001b[1;33m,\u001b[0m\u001b[1;33m\u001b[0m\u001b[1;33m\u001b[0m\u001b[0m\n",
      "\u001b[1;32m~\\anaconda3\\envs\\custom_1\\lib\\site-packages\\urllib3\\util\\ssl_.py\u001b[0m in \u001b[0;36mssl_wrap_socket\u001b[1;34m(sock, keyfile, certfile, cert_reqs, ca_certs, server_hostname, ssl_version, ciphers, ssl_context, ca_cert_dir, key_password, ca_cert_data)\u001b[0m\n\u001b[0;32m    384\u001b[0m     ) or IS_SECURETRANSPORT:\n\u001b[0;32m    385\u001b[0m         \u001b[1;32mif\u001b[0m \u001b[0mHAS_SNI\u001b[0m \u001b[1;32mand\u001b[0m \u001b[0mserver_hostname\u001b[0m \u001b[1;32mis\u001b[0m \u001b[1;32mnot\u001b[0m \u001b[1;32mNone\u001b[0m\u001b[1;33m:\u001b[0m\u001b[1;33m\u001b[0m\u001b[1;33m\u001b[0m\u001b[0m\n\u001b[1;32m--> 386\u001b[1;33m             \u001b[1;32mreturn\u001b[0m \u001b[0mcontext\u001b[0m\u001b[1;33m.\u001b[0m\u001b[0mwrap_socket\u001b[0m\u001b[1;33m(\u001b[0m\u001b[0msock\u001b[0m\u001b[1;33m,\u001b[0m \u001b[0mserver_hostname\u001b[0m\u001b[1;33m=\u001b[0m\u001b[0mserver_hostname\u001b[0m\u001b[1;33m)\u001b[0m\u001b[1;33m\u001b[0m\u001b[1;33m\u001b[0m\u001b[0m\n\u001b[0m\u001b[0;32m    387\u001b[0m \u001b[1;33m\u001b[0m\u001b[0m\n\u001b[0;32m    388\u001b[0m         warnings.warn(\n",
      "\u001b[1;32m~\\anaconda3\\envs\\custom_1\\lib\\ssl.py\u001b[0m in \u001b[0;36mwrap_socket\u001b[1;34m(self, sock, server_side, do_handshake_on_connect, suppress_ragged_eofs, server_hostname, session)\u001b[0m\n\u001b[0;32m    498\u001b[0m         \u001b[1;31m# SSLSocket class handles server_hostname encoding before it calls\u001b[0m\u001b[1;33m\u001b[0m\u001b[1;33m\u001b[0m\u001b[1;33m\u001b[0m\u001b[0m\n\u001b[0;32m    499\u001b[0m         \u001b[1;31m# ctx._wrap_socket()\u001b[0m\u001b[1;33m\u001b[0m\u001b[1;33m\u001b[0m\u001b[1;33m\u001b[0m\u001b[0m\n\u001b[1;32m--> 500\u001b[1;33m         return self.sslsocket_class._create(\n\u001b[0m\u001b[0;32m    501\u001b[0m             \u001b[0msock\u001b[0m\u001b[1;33m=\u001b[0m\u001b[0msock\u001b[0m\u001b[1;33m,\u001b[0m\u001b[1;33m\u001b[0m\u001b[1;33m\u001b[0m\u001b[0m\n\u001b[0;32m    502\u001b[0m             \u001b[0mserver_side\u001b[0m\u001b[1;33m=\u001b[0m\u001b[0mserver_side\u001b[0m\u001b[1;33m,\u001b[0m\u001b[1;33m\u001b[0m\u001b[1;33m\u001b[0m\u001b[0m\n",
      "\u001b[1;32m~\\anaconda3\\envs\\custom_1\\lib\\ssl.py\u001b[0m in \u001b[0;36m_create\u001b[1;34m(cls, sock, server_side, do_handshake_on_connect, suppress_ragged_eofs, server_hostname, context, session)\u001b[0m\n\u001b[0;32m   1038\u001b[0m                         \u001b[1;31m# non-blocking\u001b[0m\u001b[1;33m\u001b[0m\u001b[1;33m\u001b[0m\u001b[1;33m\u001b[0m\u001b[0m\n\u001b[0;32m   1039\u001b[0m                         \u001b[1;32mraise\u001b[0m \u001b[0mValueError\u001b[0m\u001b[1;33m(\u001b[0m\u001b[1;34m\"do_handshake_on_connect should not be specified for non-blocking sockets\"\u001b[0m\u001b[1;33m)\u001b[0m\u001b[1;33m\u001b[0m\u001b[1;33m\u001b[0m\u001b[0m\n\u001b[1;32m-> 1040\u001b[1;33m                     \u001b[0mself\u001b[0m\u001b[1;33m.\u001b[0m\u001b[0mdo_handshake\u001b[0m\u001b[1;33m(\u001b[0m\u001b[1;33m)\u001b[0m\u001b[1;33m\u001b[0m\u001b[1;33m\u001b[0m\u001b[0m\n\u001b[0m\u001b[0;32m   1041\u001b[0m             \u001b[1;32mexcept\u001b[0m \u001b[1;33m(\u001b[0m\u001b[0mOSError\u001b[0m\u001b[1;33m,\u001b[0m \u001b[0mValueError\u001b[0m\u001b[1;33m)\u001b[0m\u001b[1;33m:\u001b[0m\u001b[1;33m\u001b[0m\u001b[1;33m\u001b[0m\u001b[0m\n\u001b[0;32m   1042\u001b[0m                 \u001b[0mself\u001b[0m\u001b[1;33m.\u001b[0m\u001b[0mclose\u001b[0m\u001b[1;33m(\u001b[0m\u001b[1;33m)\u001b[0m\u001b[1;33m\u001b[0m\u001b[1;33m\u001b[0m\u001b[0m\n",
      "\u001b[1;32m~\\anaconda3\\envs\\custom_1\\lib\\ssl.py\u001b[0m in \u001b[0;36mdo_handshake\u001b[1;34m(self, block)\u001b[0m\n\u001b[0;32m   1307\u001b[0m             \u001b[1;32mif\u001b[0m \u001b[0mtimeout\u001b[0m \u001b[1;33m==\u001b[0m \u001b[1;36m0.0\u001b[0m \u001b[1;32mand\u001b[0m \u001b[0mblock\u001b[0m\u001b[1;33m:\u001b[0m\u001b[1;33m\u001b[0m\u001b[1;33m\u001b[0m\u001b[0m\n\u001b[0;32m   1308\u001b[0m                 \u001b[0mself\u001b[0m\u001b[1;33m.\u001b[0m\u001b[0msettimeout\u001b[0m\u001b[1;33m(\u001b[0m\u001b[1;32mNone\u001b[0m\u001b[1;33m)\u001b[0m\u001b[1;33m\u001b[0m\u001b[1;33m\u001b[0m\u001b[0m\n\u001b[1;32m-> 1309\u001b[1;33m             \u001b[0mself\u001b[0m\u001b[1;33m.\u001b[0m\u001b[0m_sslobj\u001b[0m\u001b[1;33m.\u001b[0m\u001b[0mdo_handshake\u001b[0m\u001b[1;33m(\u001b[0m\u001b[1;33m)\u001b[0m\u001b[1;33m\u001b[0m\u001b[1;33m\u001b[0m\u001b[0m\n\u001b[0m\u001b[0;32m   1310\u001b[0m         \u001b[1;32mfinally\u001b[0m\u001b[1;33m:\u001b[0m\u001b[1;33m\u001b[0m\u001b[1;33m\u001b[0m\u001b[0m\n\u001b[0;32m   1311\u001b[0m             \u001b[0mself\u001b[0m\u001b[1;33m.\u001b[0m\u001b[0msettimeout\u001b[0m\u001b[1;33m(\u001b[0m\u001b[0mtimeout\u001b[0m\u001b[1;33m)\u001b[0m\u001b[1;33m\u001b[0m\u001b[1;33m\u001b[0m\u001b[0m\n",
      "\u001b[1;31mKeyboardInterrupt\u001b[0m: "
     ]
    }
   ],
   "source": [
    "reviews=[]\n",
    "for l in url:\n",
    "    page2 = requests.get(f\"{l}\")\n",
    "    soup2 =BeautifulSoup(page2.content,'html.parser')\n",
    "    review=soup2.find('meta',{'itemprop':'reviewCount'})\n",
    "    #print(review.get_text())\n",
    "    s2=review.get_text().split('\\n')\n",
    "    #print(s2[1])\n",
    "    reviews.append(s2[1])\n",
    "    #print(reviews)"
   ]
  },
  {
   "cell_type": "code",
   "execution_count": null,
   "metadata": {},
   "outputs": [],
   "source": [
    "genre=[]\n",
    "for l in url:\n",
    "    page2 = requests.get(f\"{l}\")\n",
    "    soup2 =BeautifulSoup(page2.content,'html.parser')\n",
    "    tt=soup2.find('div',{'class':'bigBoxBody'})\n",
    "    s2=tt.get_text()\n",
    "    print(s2)"
   ]
  }
 ],
 "metadata": {
  "kernelspec": {
   "display_name": "Python 3",
   "language": "python",
   "name": "python3"
  },
  "language_info": {
   "codemirror_mode": {
    "name": "ipython",
    "version": 3
   },
   "file_extension": ".py",
   "mimetype": "text/x-python",
   "name": "python",
   "nbconvert_exporter": "python",
   "pygments_lexer": "ipython3",
   "version": "3.8.5"
  }
 },
 "nbformat": 4,
 "nbformat_minor": 4
}
