{
 "metadata": {
  "language_info": {
   "codemirror_mode": {
    "name": "ipython",
    "version": 3
   },
   "file_extension": ".py",
   "mimetype": "text/x-python",
   "name": "python",
   "nbconvert_exporter": "python",
   "pygments_lexer": "ipython3",
   "version": "3.9.1-final"
  },
  "orig_nbformat": 2,
  "kernelspec": {
   "name": "python3",
   "display_name": "Python 3",
   "language": "python"
  }
 },
 "nbformat": 4,
 "nbformat_minor": 2,
 "cells": [
  {
   "source": [
    "### 1st process"
   ],
   "cell_type": "markdown",
   "metadata": {}
  },
  {
   "cell_type": "code",
   "execution_count": 26,
   "metadata": {},
   "outputs": [],
   "source": [
    "from bs4 import BeautifulSoup\n",
    "\n",
    "import urllib.request as urllib2\n",
    "import pandas as pd\n",
    "import numpy as np\n",
    "import csv\n",
    "import requests\n",
    "from random import randint\n",
    "from time import sleep\n",
    "from tqdm import tqdm\n",
    "import glob\n",
    "\n",
    "\n"
   ]
  },
  {
   "cell_type": "code",
   "execution_count": null,
   "metadata": {},
   "outputs": [],
   "source": [
    "print(glob.glob('*.*'))"
   ]
  },
  {
   "cell_type": "code",
   "execution_count": 27,
   "metadata": {},
   "outputs": [],
   "source": [
    "df = pd.read_csv(\"webscraping/data/Epic-Fantasy-RawScrape.csv\")"
   ]
  },
  {
   "cell_type": "code",
   "execution_count": 28,
   "metadata": {},
   "outputs": [
    {
     "output_type": "execute_result",
     "data": {
      "text/plain": [
       "   Unnamed: 0                                               name  \\\n",
       "0           0     A Game of Thrones (A Song of Ice and Fire, #1)   \n",
       "1           1    J.R.R. Tolkien 4-Book Boxed Set: The Hobbit ...   \n",
       "2           2    The Name of the Wind (The Kingkiller Chronic...   \n",
       "3           3      The Way of Kings (The Stormlight Archive, #1)   \n",
       "4           4    The Chronicles of Narnia (Chronicles of Narn...   \n",
       "\n",
       "                                 author number of ratings  \\\n",
       "0                    George R.R. Martin         2,048,298   \n",
       "1                        J.R.R. Tolkien           112,503   \n",
       "2   Patrick Rothfuss (Goodreads Author)           739,949   \n",
       "3  Brandon Sanderson (Goodreads Author)           320,057   \n",
       "4                            C.S. Lewis           533,258   \n",
       "\n",
       "                                                 url avg_ratings   id  \\\n",
       "0  https://www.goodreads.com//book/show/13496.A_G...        4.45  0.0   \n",
       "1  https://www.goodreads.com//book/show/30.J_R_R_...         4.6  1.0   \n",
       "2  https://www.goodreads.com//book/show/186074.Th...        4.52  2.0   \n",
       "3  https://www.goodreads.com//book/show/7235533-t...        4.62  3.0   \n",
       "4  https://www.goodreads.com//book/show/11127.The...        4.26  4.0   \n",
       "\n",
       "                       Num_pages  \\\n",
       "0                      835 pages   \n",
       "1  Hobbit Movie Tie-in Boxed set   \n",
       "2                      662 pages   \n",
       "3                     1007 pages   \n",
       "4                Reissue Edition   \n",
       "\n",
       "                                        Verify_pages  \\\n",
       "0             ['Mass Market Paperback', '835 pages']   \n",
       "1  ['Mass Market Paperback', 'Hobbit Movie Tie-in...   \n",
       "2                         ['Hardcover', '662 pages']   \n",
       "3                        ['Hardcover', '1007 pages']   \n",
       "4      ['Paperback', 'Reissue Edition', '767 pages']   \n",
       "\n",
       "                                              Awards  \\\n",
       "0  ['Nebula Award Nominee for Best Novel (1997)',...   \n",
       "1                                                 []   \n",
       "2  ['Locus Award Nominee for Best First Novel and...   \n",
       "3  ['Locus Award Nominee for Best Fantasy Novel (...   \n",
       "4                                                 []   \n",
       "\n",
       "                                               Genre  \\\n",
       "0  ['Fantasy', 'Fiction', 'Fantasy', 'Epic Fantas...   \n",
       "1  ['Fantasy', 'Fiction', 'Classics', 'Adventure'...   \n",
       "2  ['Fantasy', 'Fiction', 'Fantasy', 'Epic Fantas...   \n",
       "3  ['Fantasy', 'Fiction', 'Fantasy', 'Epic Fantas...   \n",
       "4  ['Fantasy', 'Classics', 'Fiction', 'Young Adul...   \n",
       "\n",
       "                         Setting  \\\n",
       "0  ['The Lands of Ice and Fire']   \n",
       "1               ['Middle-earth']   \n",
       "2                             []   \n",
       "3                     ['Roshar']   \n",
       "4            ['London, England']   \n",
       "\n",
       "                                       OriginalPDate  \\\n",
       "0  ['\\n              (first published August 6th ...   \n",
       "1  ['\\n              (first published October 20t...   \n",
       "2  ['\\n              (first published March 27th ...   \n",
       "3                                                 []   \n",
       "4  ['\\n              (first published 1956)\\n    ...   \n",
       "\n",
       "                                          VerifyDate  \\\n",
       "0  [<div class=\"row\">\\n            Published\\n   ...   \n",
       "1  [<div class=\"row\">\\n            Published\\n   ...   \n",
       "2  [<div class=\"row\">\\n            Published\\n   ...   \n",
       "3  [<div class=\"row\">\\n            Published\\n   ...   \n",
       "4  [<div class=\"row\">\\n            Published\\n   ...   \n",
       "\n",
       "                                              Series  \n",
       "0                      ['A Song of Ice and Fire #1']  \n",
       "1  ['Frodo Baggins', 'Gandalf', 'Bilbo Baggins', ...  \n",
       "2                   ['http://www.nameofthewind.com']  \n",
       "3       ['The Stormlight Archive #1', 'The Cosmere']  \n",
       "4  ['Polly', 'Aslan', 'Lucy Pevensie', 'Edmund Pe...  "
      ],
      "text/html": "<div>\n<style scoped>\n    .dataframe tbody tr th:only-of-type {\n        vertical-align: middle;\n    }\n\n    .dataframe tbody tr th {\n        vertical-align: top;\n    }\n\n    .dataframe thead th {\n        text-align: right;\n    }\n</style>\n<table border=\"1\" class=\"dataframe\">\n  <thead>\n    <tr style=\"text-align: right;\">\n      <th></th>\n      <th>Unnamed: 0</th>\n      <th>name</th>\n      <th>author</th>\n      <th>number of ratings</th>\n      <th>url</th>\n      <th>avg_ratings</th>\n      <th>id</th>\n      <th>Num_pages</th>\n      <th>Verify_pages</th>\n      <th>Awards</th>\n      <th>Genre</th>\n      <th>Setting</th>\n      <th>OriginalPDate</th>\n      <th>VerifyDate</th>\n      <th>Series</th>\n    </tr>\n  </thead>\n  <tbody>\n    <tr>\n      <th>0</th>\n      <td>0</td>\n      <td>A Game of Thrones (A Song of Ice and Fire, #1)</td>\n      <td>George R.R. Martin</td>\n      <td>2,048,298</td>\n      <td>https://www.goodreads.com//book/show/13496.A_G...</td>\n      <td>4.45</td>\n      <td>0.0</td>\n      <td>835 pages</td>\n      <td>['Mass Market Paperback', '835 pages']</td>\n      <td>['Nebula Award Nominee for Best Novel (1997)',...</td>\n      <td>['Fantasy', 'Fiction', 'Fantasy', 'Epic Fantas...</td>\n      <td>['The Lands of Ice and Fire']</td>\n      <td>['\\n              (first published August 6th ...</td>\n      <td>[&lt;div class=\"row\"&gt;\\n            Published\\n   ...</td>\n      <td>['A Song of Ice and Fire #1']</td>\n    </tr>\n    <tr>\n      <th>1</th>\n      <td>1</td>\n      <td>J.R.R. Tolkien 4-Book Boxed Set: The Hobbit ...</td>\n      <td>J.R.R. Tolkien</td>\n      <td>112,503</td>\n      <td>https://www.goodreads.com//book/show/30.J_R_R_...</td>\n      <td>4.6</td>\n      <td>1.0</td>\n      <td>Hobbit Movie Tie-in Boxed set</td>\n      <td>['Mass Market Paperback', 'Hobbit Movie Tie-in...</td>\n      <td>[]</td>\n      <td>['Fantasy', 'Fiction', 'Classics', 'Adventure'...</td>\n      <td>['Middle-earth']</td>\n      <td>['\\n              (first published October 20t...</td>\n      <td>[&lt;div class=\"row\"&gt;\\n            Published\\n   ...</td>\n      <td>['Frodo Baggins', 'Gandalf', 'Bilbo Baggins', ...</td>\n    </tr>\n    <tr>\n      <th>2</th>\n      <td>2</td>\n      <td>The Name of the Wind (The Kingkiller Chronic...</td>\n      <td>Patrick Rothfuss (Goodreads Author)</td>\n      <td>739,949</td>\n      <td>https://www.goodreads.com//book/show/186074.Th...</td>\n      <td>4.52</td>\n      <td>2.0</td>\n      <td>662 pages</td>\n      <td>['Hardcover', '662 pages']</td>\n      <td>['Locus Award Nominee for Best First Novel and...</td>\n      <td>['Fantasy', 'Fiction', 'Fantasy', 'Epic Fantas...</td>\n      <td>[]</td>\n      <td>['\\n              (first published March 27th ...</td>\n      <td>[&lt;div class=\"row\"&gt;\\n            Published\\n   ...</td>\n      <td>['http://www.nameofthewind.com']</td>\n    </tr>\n    <tr>\n      <th>3</th>\n      <td>3</td>\n      <td>The Way of Kings (The Stormlight Archive, #1)</td>\n      <td>Brandon Sanderson (Goodreads Author)</td>\n      <td>320,057</td>\n      <td>https://www.goodreads.com//book/show/7235533-t...</td>\n      <td>4.62</td>\n      <td>3.0</td>\n      <td>1007 pages</td>\n      <td>['Hardcover', '1007 pages']</td>\n      <td>['Locus Award Nominee for Best Fantasy Novel (...</td>\n      <td>['Fantasy', 'Fiction', 'Fantasy', 'Epic Fantas...</td>\n      <td>['Roshar']</td>\n      <td>[]</td>\n      <td>[&lt;div class=\"row\"&gt;\\n            Published\\n   ...</td>\n      <td>['The Stormlight Archive #1', 'The Cosmere']</td>\n    </tr>\n    <tr>\n      <th>4</th>\n      <td>4</td>\n      <td>The Chronicles of Narnia (Chronicles of Narn...</td>\n      <td>C.S. Lewis</td>\n      <td>533,258</td>\n      <td>https://www.goodreads.com//book/show/11127.The...</td>\n      <td>4.26</td>\n      <td>4.0</td>\n      <td>Reissue Edition</td>\n      <td>['Paperback', 'Reissue Edition', '767 pages']</td>\n      <td>[]</td>\n      <td>['Fantasy', 'Classics', 'Fiction', 'Young Adul...</td>\n      <td>['London, England']</td>\n      <td>['\\n              (first published 1956)\\n    ...</td>\n      <td>[&lt;div class=\"row\"&gt;\\n            Published\\n   ...</td>\n      <td>['Polly', 'Aslan', 'Lucy Pevensie', 'Edmund Pe...</td>\n    </tr>\n  </tbody>\n</table>\n</div>"
     },
     "metadata": {},
     "execution_count": 28
    }
   ],
   "source": [
    "df.head(5)"
   ]
  },
  {
   "cell_type": "code",
   "execution_count": 30,
   "metadata": {},
   "outputs": [],
   "source": [
    "shortdf = df.head(10)"
   ]
  },
  {
   "cell_type": "code",
   "execution_count": 31,
   "metadata": {},
   "outputs": [
    {
     "output_type": "execute_result",
     "data": {
      "text/plain": [
       "   Unnamed: 0                                               name  \\\n",
       "0           0     A Game of Thrones (A Song of Ice and Fire, #1)   \n",
       "1           1    J.R.R. Tolkien 4-Book Boxed Set: The Hobbit ...   \n",
       "2           2    The Name of the Wind (The Kingkiller Chronic...   \n",
       "3           3      The Way of Kings (The Stormlight Archive, #1)   \n",
       "4           4    The Chronicles of Narnia (Chronicles of Narn...   \n",
       "5           5       The Eye of the World (The Wheel of Time, #1)   \n",
       "6           6                    The Final Empire (Mistborn, #1)   \n",
       "7           7       His Dark Materials (His Dark Materials #1-3)   \n",
       "8           8                 Eragon (The Inheritance Cycle, #1)   \n",
       "9           9        Assassin's Apprentice (Farseer Trilogy, #1)   \n",
       "\n",
       "                                   author number of ratings  \\\n",
       "0                      George R.R. Martin         2,048,298   \n",
       "1                          J.R.R. Tolkien           112,503   \n",
       "2     Patrick Rothfuss (Goodreads Author)           739,949   \n",
       "3    Brandon Sanderson (Goodreads Author)           320,057   \n",
       "4                              C.S. Lewis           533,258   \n",
       "5                           Robert Jordan           402,826   \n",
       "6    Brandon Sanderson (Goodreads Author)           419,889   \n",
       "7                          Philip Pullman           147,449   \n",
       "8  Christopher Paolini (Goodreads Author)         1,471,115   \n",
       "9           Robin Hobb (Goodreads Author)           242,188   \n",
       "\n",
       "                                                 url avg_ratings   id  \\\n",
       "0  https://www.goodreads.com//book/show/13496.A_G...        4.45  0.0   \n",
       "1  https://www.goodreads.com//book/show/30.J_R_R_...         4.6  1.0   \n",
       "2  https://www.goodreads.com//book/show/186074.Th...        4.52  2.0   \n",
       "3  https://www.goodreads.com//book/show/7235533-t...        4.62  3.0   \n",
       "4  https://www.goodreads.com//book/show/11127.The...        4.26  4.0   \n",
       "5  https://www.goodreads.com//book/show/228665.Th...        4.17  5.0   \n",
       "6  https://www.goodreads.com//book/show/68428.The...        4.44  6.0   \n",
       "7  https://www.goodreads.com//book/show/18116.His...        4.25  7.0   \n",
       "8  https://www.goodreads.com//book/show/113436.Er...        3.91  8.0   \n",
       "9  https://www.goodreads.com//book/show/77197.Ass...        4.15  9.0   \n",
       "\n",
       "                       Num_pages  \\\n",
       "0                      835 pages   \n",
       "1  Hobbit Movie Tie-in Boxed set   \n",
       "2                      662 pages   \n",
       "3                     1007 pages   \n",
       "4                Reissue Edition   \n",
       "5                      814 pages   \n",
       "6                      544 pages   \n",
       "7                     1088 pages   \n",
       "8                      503 pages   \n",
       "9                      435 pages   \n",
       "\n",
       "                                        Verify_pages  \\\n",
       "0             ['Mass Market Paperback', '835 pages']   \n",
       "1  ['Mass Market Paperback', 'Hobbit Movie Tie-in...   \n",
       "2                         ['Hardcover', '662 pages']   \n",
       "3                        ['Hardcover', '1007 pages']   \n",
       "4      ['Paperback', 'Reissue Edition', '767 pages']   \n",
       "5             ['Mass Market Paperback', '814 pages']   \n",
       "6                         ['Hardcover', '544 pages']   \n",
       "7            ['Mass Market Paperback', '1088 pages']   \n",
       "8                         ['Paperback', '503 pages']   \n",
       "9             ['Mass Market Paperback', '435 pages']   \n",
       "\n",
       "                                              Awards  \\\n",
       "0  ['Nebula Award Nominee for Best Novel (1997)',...   \n",
       "1                                                 []   \n",
       "2  ['Locus Award Nominee for Best First Novel and...   \n",
       "3  ['Locus Award Nominee for Best Fantasy Novel (...   \n",
       "4                                                 []   \n",
       "5  ['Locus Award Nominee for Best Fantasy Book (1...   \n",
       "6  ['Tähtifantasia Award Nominee (2018)', 'Prix E...   \n",
       "7  ['Literaturpreis der Jury der jungen Leser for...   \n",
       "8  [\"Book Sense Book of the Year Award for Childr...   \n",
       "9  ['Locus Award Nominee for Fantasy (1996)', 'Br...   \n",
       "\n",
       "                                               Genre  \\\n",
       "0  ['Fantasy', 'Fiction', 'Fantasy', 'Epic Fantas...   \n",
       "1  ['Fantasy', 'Fiction', 'Classics', 'Adventure'...   \n",
       "2  ['Fantasy', 'Fiction', 'Fantasy', 'Epic Fantas...   \n",
       "3  ['Fantasy', 'Fiction', 'Fantasy', 'Epic Fantas...   \n",
       "4  ['Fantasy', 'Classics', 'Fiction', 'Young Adul...   \n",
       "5  ['Fantasy', 'Fiction', 'Fantasy', 'Epic Fantas...   \n",
       "6  ['Fantasy', 'Fiction', 'Fantasy', 'High Fantas...   \n",
       "7  ['Fantasy', 'Young Adult', 'Fiction', 'Childre...   \n",
       "8  ['Fantasy', 'Young Adult', 'Fiction', 'Fantasy...   \n",
       "9  ['Fantasy', 'Fiction', 'Fantasy', 'Epic Fantas...   \n",
       "\n",
       "                                      Setting  \\\n",
       "0               ['The Lands of Ice and Fire']   \n",
       "1                            ['Middle-earth']   \n",
       "2                                          []   \n",
       "3                                  ['Roshar']   \n",
       "4                         ['London, England']   \n",
       "5  [\"Emond's Field\", 'Caemlyn', 'The Blight']   \n",
       "6                                ['Luthadel']   \n",
       "7                         ['Oxford, England']   \n",
       "8                               ['Alagaësia']   \n",
       "9         ['Buckkeep', 'Moonseye', 'Neatbay']   \n",
       "\n",
       "                                       OriginalPDate  \\\n",
       "0  ['\\n              (first published August 6th ...   \n",
       "1  ['\\n              (first published October 20t...   \n",
       "2  ['\\n              (first published March 27th ...   \n",
       "3                                                 []   \n",
       "4  ['\\n              (first published 1956)\\n    ...   \n",
       "5  ['\\n              (first published January 15t...   \n",
       "6  ['\\n              (first published July 17th 2...   \n",
       "7  ['\\n              (first published November 20...   \n",
       "8  ['\\n              (first published June 2002)\\...   \n",
       "9  ['\\n              (first published May 1995)\\n...   \n",
       "\n",
       "                                          VerifyDate  \\\n",
       "0  [<div class=\"row\">\\n            Published\\n   ...   \n",
       "1  [<div class=\"row\">\\n            Published\\n   ...   \n",
       "2  [<div class=\"row\">\\n            Published\\n   ...   \n",
       "3  [<div class=\"row\">\\n            Published\\n   ...   \n",
       "4  [<div class=\"row\">\\n            Published\\n   ...   \n",
       "5  [<div class=\"row\">\\n            Published\\n   ...   \n",
       "6  [<div class=\"row\">\\n            Published\\n   ...   \n",
       "7  [<div class=\"row\">\\n            Published\\n   ...   \n",
       "8  [<div class=\"row\">\\n            Published\\n   ...   \n",
       "9  [<div class=\"row\">\\n            Published\\n   ...   \n",
       "\n",
       "                                              Series  \n",
       "0                      ['A Song of Ice and Fire #1']  \n",
       "1  ['Frodo Baggins', 'Gandalf', 'Bilbo Baggins', ...  \n",
       "2                   ['http://www.nameofthewind.com']  \n",
       "3       ['The Stormlight Archive #1', 'The Cosmere']  \n",
       "4  ['Polly', 'Aslan', 'Lucy Pevensie', 'Edmund Pe...  \n",
       "5                           ['The Wheel of Time #1']  \n",
       "6                     ['Mistborn #1', 'The Cosmere']  \n",
       "7                        ['His Dark Materials #1-3']  \n",
       "8                       ['The Inheritance Cycle #1']  \n",
       "9  ['The Farseer Trilogy #1', \"L'Assassin royal #...  "
      ],
      "text/html": "<div>\n<style scoped>\n    .dataframe tbody tr th:only-of-type {\n        vertical-align: middle;\n    }\n\n    .dataframe tbody tr th {\n        vertical-align: top;\n    }\n\n    .dataframe thead th {\n        text-align: right;\n    }\n</style>\n<table border=\"1\" class=\"dataframe\">\n  <thead>\n    <tr style=\"text-align: right;\">\n      <th></th>\n      <th>Unnamed: 0</th>\n      <th>name</th>\n      <th>author</th>\n      <th>number of ratings</th>\n      <th>url</th>\n      <th>avg_ratings</th>\n      <th>id</th>\n      <th>Num_pages</th>\n      <th>Verify_pages</th>\n      <th>Awards</th>\n      <th>Genre</th>\n      <th>Setting</th>\n      <th>OriginalPDate</th>\n      <th>VerifyDate</th>\n      <th>Series</th>\n    </tr>\n  </thead>\n  <tbody>\n    <tr>\n      <th>0</th>\n      <td>0</td>\n      <td>A Game of Thrones (A Song of Ice and Fire, #1)</td>\n      <td>George R.R. Martin</td>\n      <td>2,048,298</td>\n      <td>https://www.goodreads.com//book/show/13496.A_G...</td>\n      <td>4.45</td>\n      <td>0.0</td>\n      <td>835 pages</td>\n      <td>['Mass Market Paperback', '835 pages']</td>\n      <td>['Nebula Award Nominee for Best Novel (1997)',...</td>\n      <td>['Fantasy', 'Fiction', 'Fantasy', 'Epic Fantas...</td>\n      <td>['The Lands of Ice and Fire']</td>\n      <td>['\\n              (first published August 6th ...</td>\n      <td>[&lt;div class=\"row\"&gt;\\n            Published\\n   ...</td>\n      <td>['A Song of Ice and Fire #1']</td>\n    </tr>\n    <tr>\n      <th>1</th>\n      <td>1</td>\n      <td>J.R.R. Tolkien 4-Book Boxed Set: The Hobbit ...</td>\n      <td>J.R.R. Tolkien</td>\n      <td>112,503</td>\n      <td>https://www.goodreads.com//book/show/30.J_R_R_...</td>\n      <td>4.6</td>\n      <td>1.0</td>\n      <td>Hobbit Movie Tie-in Boxed set</td>\n      <td>['Mass Market Paperback', 'Hobbit Movie Tie-in...</td>\n      <td>[]</td>\n      <td>['Fantasy', 'Fiction', 'Classics', 'Adventure'...</td>\n      <td>['Middle-earth']</td>\n      <td>['\\n              (first published October 20t...</td>\n      <td>[&lt;div class=\"row\"&gt;\\n            Published\\n   ...</td>\n      <td>['Frodo Baggins', 'Gandalf', 'Bilbo Baggins', ...</td>\n    </tr>\n    <tr>\n      <th>2</th>\n      <td>2</td>\n      <td>The Name of the Wind (The Kingkiller Chronic...</td>\n      <td>Patrick Rothfuss (Goodreads Author)</td>\n      <td>739,949</td>\n      <td>https://www.goodreads.com//book/show/186074.Th...</td>\n      <td>4.52</td>\n      <td>2.0</td>\n      <td>662 pages</td>\n      <td>['Hardcover', '662 pages']</td>\n      <td>['Locus Award Nominee for Best First Novel and...</td>\n      <td>['Fantasy', 'Fiction', 'Fantasy', 'Epic Fantas...</td>\n      <td>[]</td>\n      <td>['\\n              (first published March 27th ...</td>\n      <td>[&lt;div class=\"row\"&gt;\\n            Published\\n   ...</td>\n      <td>['http://www.nameofthewind.com']</td>\n    </tr>\n    <tr>\n      <th>3</th>\n      <td>3</td>\n      <td>The Way of Kings (The Stormlight Archive, #1)</td>\n      <td>Brandon Sanderson (Goodreads Author)</td>\n      <td>320,057</td>\n      <td>https://www.goodreads.com//book/show/7235533-t...</td>\n      <td>4.62</td>\n      <td>3.0</td>\n      <td>1007 pages</td>\n      <td>['Hardcover', '1007 pages']</td>\n      <td>['Locus Award Nominee for Best Fantasy Novel (...</td>\n      <td>['Fantasy', 'Fiction', 'Fantasy', 'Epic Fantas...</td>\n      <td>['Roshar']</td>\n      <td>[]</td>\n      <td>[&lt;div class=\"row\"&gt;\\n            Published\\n   ...</td>\n      <td>['The Stormlight Archive #1', 'The Cosmere']</td>\n    </tr>\n    <tr>\n      <th>4</th>\n      <td>4</td>\n      <td>The Chronicles of Narnia (Chronicles of Narn...</td>\n      <td>C.S. Lewis</td>\n      <td>533,258</td>\n      <td>https://www.goodreads.com//book/show/11127.The...</td>\n      <td>4.26</td>\n      <td>4.0</td>\n      <td>Reissue Edition</td>\n      <td>['Paperback', 'Reissue Edition', '767 pages']</td>\n      <td>[]</td>\n      <td>['Fantasy', 'Classics', 'Fiction', 'Young Adul...</td>\n      <td>['London, England']</td>\n      <td>['\\n              (first published 1956)\\n    ...</td>\n      <td>[&lt;div class=\"row\"&gt;\\n            Published\\n   ...</td>\n      <td>['Polly', 'Aslan', 'Lucy Pevensie', 'Edmund Pe...</td>\n    </tr>\n    <tr>\n      <th>5</th>\n      <td>5</td>\n      <td>The Eye of the World (The Wheel of Time, #1)</td>\n      <td>Robert Jordan</td>\n      <td>402,826</td>\n      <td>https://www.goodreads.com//book/show/228665.Th...</td>\n      <td>4.17</td>\n      <td>5.0</td>\n      <td>814 pages</td>\n      <td>['Mass Market Paperback', '814 pages']</td>\n      <td>['Locus Award Nominee for Best Fantasy Book (1...</td>\n      <td>['Fantasy', 'Fiction', 'Fantasy', 'Epic Fantas...</td>\n      <td>[\"Emond's Field\", 'Caemlyn', 'The Blight']</td>\n      <td>['\\n              (first published January 15t...</td>\n      <td>[&lt;div class=\"row\"&gt;\\n            Published\\n   ...</td>\n      <td>['The Wheel of Time #1']</td>\n    </tr>\n    <tr>\n      <th>6</th>\n      <td>6</td>\n      <td>The Final Empire (Mistborn, #1)</td>\n      <td>Brandon Sanderson (Goodreads Author)</td>\n      <td>419,889</td>\n      <td>https://www.goodreads.com//book/show/68428.The...</td>\n      <td>4.44</td>\n      <td>6.0</td>\n      <td>544 pages</td>\n      <td>['Hardcover', '544 pages']</td>\n      <td>['Tähtifantasia Award Nominee (2018)', 'Prix E...</td>\n      <td>['Fantasy', 'Fiction', 'Fantasy', 'High Fantas...</td>\n      <td>['Luthadel']</td>\n      <td>['\\n              (first published July 17th 2...</td>\n      <td>[&lt;div class=\"row\"&gt;\\n            Published\\n   ...</td>\n      <td>['Mistborn #1', 'The Cosmere']</td>\n    </tr>\n    <tr>\n      <th>7</th>\n      <td>7</td>\n      <td>His Dark Materials (His Dark Materials #1-3)</td>\n      <td>Philip Pullman</td>\n      <td>147,449</td>\n      <td>https://www.goodreads.com//book/show/18116.His...</td>\n      <td>4.25</td>\n      <td>7.0</td>\n      <td>1088 pages</td>\n      <td>['Mass Market Paperback', '1088 pages']</td>\n      <td>['Literaturpreis der Jury der jungen Leser for...</td>\n      <td>['Fantasy', 'Young Adult', 'Fiction', 'Childre...</td>\n      <td>['Oxford, England']</td>\n      <td>['\\n              (first published November 20...</td>\n      <td>[&lt;div class=\"row\"&gt;\\n            Published\\n   ...</td>\n      <td>['His Dark Materials #1-3']</td>\n    </tr>\n    <tr>\n      <th>8</th>\n      <td>8</td>\n      <td>Eragon (The Inheritance Cycle, #1)</td>\n      <td>Christopher Paolini (Goodreads Author)</td>\n      <td>1,471,115</td>\n      <td>https://www.goodreads.com//book/show/113436.Er...</td>\n      <td>3.91</td>\n      <td>8.0</td>\n      <td>503 pages</td>\n      <td>['Paperback', '503 pages']</td>\n      <td>[\"Book Sense Book of the Year Award for Childr...</td>\n      <td>['Fantasy', 'Young Adult', 'Fiction', 'Fantasy...</td>\n      <td>['Alagaësia']</td>\n      <td>['\\n              (first published June 2002)\\...</td>\n      <td>[&lt;div class=\"row\"&gt;\\n            Published\\n   ...</td>\n      <td>['The Inheritance Cycle #1']</td>\n    </tr>\n    <tr>\n      <th>9</th>\n      <td>9</td>\n      <td>Assassin's Apprentice (Farseer Trilogy, #1)</td>\n      <td>Robin Hobb (Goodreads Author)</td>\n      <td>242,188</td>\n      <td>https://www.goodreads.com//book/show/77197.Ass...</td>\n      <td>4.15</td>\n      <td>9.0</td>\n      <td>435 pages</td>\n      <td>['Mass Market Paperback', '435 pages']</td>\n      <td>['Locus Award Nominee for Fantasy (1996)', 'Br...</td>\n      <td>['Fantasy', 'Fiction', 'Fantasy', 'Epic Fantas...</td>\n      <td>['Buckkeep', 'Moonseye', 'Neatbay']</td>\n      <td>['\\n              (first published May 1995)\\n...</td>\n      <td>[&lt;div class=\"row\"&gt;\\n            Published\\n   ...</td>\n      <td>['The Farseer Trilogy #1', \"L'Assassin royal #...</td>\n    </tr>\n  </tbody>\n</table>\n</div>"
     },
     "metadata": {},
     "execution_count": 31
    }
   ],
   "source": [
    "shortdf\n"
   ]
  },
  {
   "cell_type": "code",
   "execution_count": 32,
   "metadata": {},
   "outputs": [
    {
     "output_type": "execute_result",
     "data": {
      "text/plain": [
       "0    [<div class=\"row\">\\n            Published\\n   ...\n",
       "1    [<div class=\"row\">\\n            Published\\n   ...\n",
       "2    [<div class=\"row\">\\n            Published\\n   ...\n",
       "3    [<div class=\"row\">\\n            Published\\n   ...\n",
       "4    [<div class=\"row\">\\n            Published\\n   ...\n",
       "5    [<div class=\"row\">\\n            Published\\n   ...\n",
       "6    [<div class=\"row\">\\n            Published\\n   ...\n",
       "7    [<div class=\"row\">\\n            Published\\n   ...\n",
       "8    [<div class=\"row\">\\n            Published\\n   ...\n",
       "9    [<div class=\"row\">\\n            Published\\n   ...\n",
       "Name: VerifyDate, dtype: object"
      ]
     },
     "metadata": {},
     "execution_count": 32
    }
   ],
   "source": [
    "shortdf.VerifyDate"
   ]
  },
  {
   "cell_type": "code",
   "execution_count": 33,
   "metadata": {},
   "outputs": [
    {
     "output_type": "execute_result",
     "data": {
      "text/plain": [
       "'[<div class=\"row\">\\n            Published\\n        August 2005\\n         by Bantam\\n\\n            <nobr class=\"greyText\">\\n              (first published August 6th 1996)\\n            </nobr>\\n</div>]'"
      ]
     },
     "metadata": {},
     "execution_count": 33
    }
   ],
   "source": [
    "capture = shortdf.VerifyDate[0]\n",
    "capture "
   ]
  },
  {
   "cell_type": "code",
   "execution_count": null,
   "metadata": {},
   "outputs": [],
   "source": [
    "soup = BeautifulSoup(capture)\n",
    "print(soup.get_text()) "
   ]
  },
  {
   "cell_type": "code",
   "execution_count": null,
   "metadata": {},
   "outputs": [],
   "source": [
    "def getDate(x):\n",
    "    soup = BeautifulSoup(x)\n",
    "    return soup.get_text()\n",
    "    "
   ]
  },
  {
   "cell_type": "code",
   "execution_count": null,
   "metadata": {},
   "outputs": [],
   "source": [
    "shortdf.VerifyDate.apply(getDate)"
   ]
  },
  {
   "cell_type": "code",
   "execution_count": null,
   "metadata": {},
   "outputs": [],
   "source": [
    "shortdf"
   ]
  }
 ]
}