{
 "metadata": {
  "language_info": {
   "codemirror_mode": {
    "name": "ipython",
    "version": 3
   },
   "file_extension": ".py",
   "mimetype": "text/x-python",
   "name": "python",
   "nbconvert_exporter": "python",
   "pygments_lexer": "ipython3",
   "version": "3.9.1-final"
  },
  "orig_nbformat": 2,
  "kernelspec": {
   "name": "python3",
   "display_name": "Python 3",
   "language": "python"
  }
 },
 "nbformat": 4,
 "nbformat_minor": 2,
 "cells": [
  {
   "source": [
    "### 1st process"
   ],
   "cell_type": "markdown",
   "metadata": {}
  },
  {
   "cell_type": "code",
   "execution_count": 3,
   "metadata": {},
   "outputs": [],
   "source": [
    "from bs4 import BeautifulSoup\n",
    "\n",
    "import urllib.request as urllib2\n",
    "import pandas as pd\n",
    "import numpy as np\n",
    "import csv\n",
    "import requests\n",
    "from random import randint\n",
    "from time import sleep\n",
    "from tqdm import tqdm\n",
    "import glob\n",
    "import re\n",
    "\n",
    "\n"
   ]
  },
  {
   "cell_type": "code",
   "execution_count": 3,
   "metadata": {},
   "outputs": [
    {
     "output_type": "stream",
     "name": "stdout",
     "text": [
      "['requirements.txt', 'semiclean.csv']\n"
     ]
    }
   ],
   "source": [
    "print(glob.glob('*.*'))\n"
   ]
  },
  {
   "cell_type": "code",
   "execution_count": 76,
   "metadata": {},
   "outputs": [],
   "source": [
    "df = pd.read_csv(\"Hufflepuff_project/webscraping/data/lastfantasy.csv\")"
   ]
  },
  {
   "cell_type": "code",
   "execution_count": 5,
   "metadata": {},
   "outputs": [],
   "source": [
    "def myStrip(i):\n",
    "    a = 0\n",
    "    for a in range(0, len(i) ,1):\n",
    "       i[a] = i[a].string\n",
    "    #print(i)\n",
    "    return i"
   ]
  },
  {
   "cell_type": "code",
   "execution_count": 6,
   "metadata": {},
   "outputs": [
    {
     "output_type": "execute_result",
     "data": {
      "text/plain": [
       "   Unnamed: 0                                               name  \\\n",
       "0           0     A Game of Thrones (A Song of Ice and Fire, #1)   \n",
       "1           1    J.R.R. Tolkien 4-Book Boxed Set: The Hobbit ...   \n",
       "2           2    The Name of the Wind (The Kingkiller Chronic...   \n",
       "\n",
       "                                author number of ratings  \\\n",
       "0                   George R.R. Martin         2,049,108   \n",
       "1                       J.R.R. Tolkien           112,537   \n",
       "2  Patrick Rothfuss (Goodreads Author)           740,343   \n",
       "\n",
       "                                                 url avg_ratings  id  \\\n",
       "0  https://www.goodreads.com//book/show/13496.A_G...        4.45   0   \n",
       "1  https://www.goodreads.com//book/show/30.J_R_R_...         4.6   1   \n",
       "2  https://www.goodreads.com//book/show/186074.Th...        4.52   2   \n",
       "\n",
       "                       Num_pages  \\\n",
       "0                      835 pages   \n",
       "1  Hobbit Movie Tie-in Boxed set   \n",
       "2                      662 pages   \n",
       "\n",
       "                                        Verify_pages  \\\n",
       "0             ['Mass Market Paperback', '835 pages']   \n",
       "1  ['Mass Market Paperback', 'Hobbit Movie Tie-in...   \n",
       "2                         ['Hardcover', '662 pages']   \n",
       "\n",
       "                                              Awards  \\\n",
       "0  ['Nebula Award Nominee for Best Novel (1997)',...   \n",
       "1                                                 []   \n",
       "2  ['Locus Award Nominee for Best First Novel and...   \n",
       "\n",
       "                                               Genre  \\\n",
       "0  ['Fantasy', 'Fiction', 'Fantasy', 'Epic Fantas...   \n",
       "1  ['Fantasy', 'Fiction', 'Classics', 'Adventure'...   \n",
       "2  ['Fantasy', 'Fiction', 'Fantasy', 'Epic Fantas...   \n",
       "\n",
       "                         Setting  \\\n",
       "0  ['The Lands of Ice and Fire']   \n",
       "1               ['Middle-earth']   \n",
       "2                             []   \n",
       "\n",
       "                                       OriginalPDate  \\\n",
       "0  ['\\n              (first published August 6th ...   \n",
       "1  ['\\n              (first published October 20t...   \n",
       "2  ['\\n              (first published March 27th ...   \n",
       "\n",
       "                                          VerifyDate  Series  \\\n",
       "0  [<div class=\"row\">\\n            Published\\n   ...    True   \n",
       "1  [<div class=\"row\">\\n            Published\\n   ...    True   \n",
       "2  [<div class=\"row\">\\n            Published\\n   ...    True   \n",
       "\n",
       "                                          SeriesName  \\\n",
       "0           \\nSeries\\n\\nA Song of Ice and Fire #1 \\n   \n",
       "1  \\nSeries\\n\\nThe Lord of the Rings #0-3, Middle...   \n",
       "2         \\nSeries\\n\\nThe Kingkiller Chronicle #1 \\n   \n",
       "\n",
       "                                                ISBN  \\\n",
       "0  \\nISBN\\n\\n                  0553588486\\n      ...   \n",
       "1  \\nISBN\\n\\n                  0345538374\\n      ...   \n",
       "2  \\nISBN\\n\\n                  075640407X\\n      ...   \n",
       "\n",
       "                                         Description  \n",
       "0  [<div class=\"readable stacked\" id=\"description...  \n",
       "1  [<div class=\"readable stacked\" id=\"description...  \n",
       "2  [<div class=\"readable stacked\" id=\"description...  "
      ],
      "text/html": "<div>\n<style scoped>\n    .dataframe tbody tr th:only-of-type {\n        vertical-align: middle;\n    }\n\n    .dataframe tbody tr th {\n        vertical-align: top;\n    }\n\n    .dataframe thead th {\n        text-align: right;\n    }\n</style>\n<table border=\"1\" class=\"dataframe\">\n  <thead>\n    <tr style=\"text-align: right;\">\n      <th></th>\n      <th>Unnamed: 0</th>\n      <th>name</th>\n      <th>author</th>\n      <th>number of ratings</th>\n      <th>url</th>\n      <th>avg_ratings</th>\n      <th>id</th>\n      <th>Num_pages</th>\n      <th>Verify_pages</th>\n      <th>Awards</th>\n      <th>Genre</th>\n      <th>Setting</th>\n      <th>OriginalPDate</th>\n      <th>VerifyDate</th>\n      <th>Series</th>\n      <th>SeriesName</th>\n      <th>ISBN</th>\n      <th>Description</th>\n    </tr>\n  </thead>\n  <tbody>\n    <tr>\n      <th>0</th>\n      <td>0</td>\n      <td>A Game of Thrones (A Song of Ice and Fire, #1)</td>\n      <td>George R.R. Martin</td>\n      <td>2,049,108</td>\n      <td>https://www.goodreads.com//book/show/13496.A_G...</td>\n      <td>4.45</td>\n      <td>0</td>\n      <td>835 pages</td>\n      <td>['Mass Market Paperback', '835 pages']</td>\n      <td>['Nebula Award Nominee for Best Novel (1997)',...</td>\n      <td>['Fantasy', 'Fiction', 'Fantasy', 'Epic Fantas...</td>\n      <td>['The Lands of Ice and Fire']</td>\n      <td>['\\n              (first published August 6th ...</td>\n      <td>[&lt;div class=\"row\"&gt;\\n            Published\\n   ...</td>\n      <td>True</td>\n      <td>\\nSeries\\n\\nA Song of Ice and Fire #1 \\n</td>\n      <td>\\nISBN\\n\\n                  0553588486\\n      ...</td>\n      <td>[&lt;div class=\"readable stacked\" id=\"description...</td>\n    </tr>\n    <tr>\n      <th>1</th>\n      <td>1</td>\n      <td>J.R.R. Tolkien 4-Book Boxed Set: The Hobbit ...</td>\n      <td>J.R.R. Tolkien</td>\n      <td>112,537</td>\n      <td>https://www.goodreads.com//book/show/30.J_R_R_...</td>\n      <td>4.6</td>\n      <td>1</td>\n      <td>Hobbit Movie Tie-in Boxed set</td>\n      <td>['Mass Market Paperback', 'Hobbit Movie Tie-in...</td>\n      <td>[]</td>\n      <td>['Fantasy', 'Fiction', 'Classics', 'Adventure'...</td>\n      <td>['Middle-earth']</td>\n      <td>['\\n              (first published October 20t...</td>\n      <td>[&lt;div class=\"row\"&gt;\\n            Published\\n   ...</td>\n      <td>True</td>\n      <td>\\nSeries\\n\\nThe Lord of the Rings #0-3, Middle...</td>\n      <td>\\nISBN\\n\\n                  0345538374\\n      ...</td>\n      <td>[&lt;div class=\"readable stacked\" id=\"description...</td>\n    </tr>\n    <tr>\n      <th>2</th>\n      <td>2</td>\n      <td>The Name of the Wind (The Kingkiller Chronic...</td>\n      <td>Patrick Rothfuss (Goodreads Author)</td>\n      <td>740,343</td>\n      <td>https://www.goodreads.com//book/show/186074.Th...</td>\n      <td>4.52</td>\n      <td>2</td>\n      <td>662 pages</td>\n      <td>['Hardcover', '662 pages']</td>\n      <td>['Locus Award Nominee for Best First Novel and...</td>\n      <td>['Fantasy', 'Fiction', 'Fantasy', 'Epic Fantas...</td>\n      <td>[]</td>\n      <td>['\\n              (first published March 27th ...</td>\n      <td>[&lt;div class=\"row\"&gt;\\n            Published\\n   ...</td>\n      <td>True</td>\n      <td>\\nSeries\\n\\nThe Kingkiller Chronicle #1 \\n</td>\n      <td>\\nISBN\\n\\n                  075640407X\\n      ...</td>\n      <td>[&lt;div class=\"readable stacked\" id=\"description...</td>\n    </tr>\n  </tbody>\n</table>\n</div>"
     },
     "metadata": {},
     "execution_count": 6
    }
   ],
   "source": [
    "df.head(3)"
   ]
  },
  {
   "source": [
    "### Description Works"
   ],
   "cell_type": "markdown",
   "metadata": {}
  },
  {
   "source": [
    "### Works"
   ],
   "cell_type": "markdown",
   "metadata": {}
  },
  {
   "cell_type": "code",
   "execution_count": 7,
   "metadata": {},
   "outputs": [
    {
     "output_type": "stream",
     "name": "stderr",
     "text": [
      "<ipython-input-7-2b561f627c72>:8: SettingWithCopyWarning: \nA value is trying to be set on a copy of a slice from a DataFrame\n\nSee the caveats in the documentation: https://pandas.pydata.org/pandas-docs/stable/user_guide/indexing.html#returning-a-view-versus-a-copy\n  df.Description[x] = grab_paragraphs\n"
     ]
    }
   ],
   "source": [
    "def sD(x):\n",
    "    get_desc = df.Description[x]\n",
    "    soup = BeautifulSoup(get_desc)\n",
    "    grab_paragraphs = soup.select('span')\n",
    "\n",
    "    for e in range(0,len(grab_paragraphs)):\n",
    "        grab_paragraphs[e] = grab_paragraphs[e].text  \n",
    "    df.Description[x] = grab_paragraphs\n",
    "\n",
    "\n",
    "for x in range(0,len(df.Description)):\n",
    "        sD(x)\n",
    "     "
   ]
  },
  {
   "source": [
    "type(df.avg_ratings[2])"
   ],
   "cell_type": "markdown",
   "metadata": {}
  },
  {
   "source": [
    "### This Converts ratings to floats and NA's strings "
   ],
   "cell_type": "markdown",
   "metadata": {}
  },
  {
   "cell_type": "code",
   "execution_count": 9,
   "metadata": {
    "tags": []
   },
   "outputs": [
    {
     "output_type": "stream",
     "name": "stdout",
     "text": [
      "cells could not be turned to floats, check data\ncells could not be turned to floats, check data\ncells could not be turned to floats, check data\ncells could not be turned to floats, check data\ncells could not be turned to floats, check data\ncells could not be turned to floats, check data\ncells could not be turned to floats, check data\ncells could not be turned to floats, check data\ncells could not be turned to floats, check data\ncells could not be turned to floats, check data\ncells could not be turned to floats, check data\ncells could not be turned to floats, check data\ncells could not be turned to floats, check data\ncells could not be turned to floats, check data\ncells could not be turned to floats, check data\ncells could not be turned to floats, check data\ncells could not be turned to floats, check data\ncells could not be turned to floats, check data\ncells could not be turned to floats, check data\ncells could not be turned to floats, check data\ncells could not be turned to floats, check data\ncells could not be turned to floats, check data\ncells could not be turned to floats, check data\ncells could not be turned to floats, check data\ncells could not be turned to floats, check data\ncells could not be turned to floats, check data\ncells could not be turned to floats, check data\ncells could not be turned to floats, check data\ncells could not be turned to floats, check data\ncells could not be turned to floats, check data\ncells could not be turned to floats, check data\n"
     ]
    },
    {
     "output_type": "execute_result",
     "data": {
      "text/plain": [
       "0       None\n",
       "1       None\n",
       "2       None\n",
       "3       None\n",
       "4       None\n",
       "        ... \n",
       "1095    None\n",
       "1096    None\n",
       "1097    None\n",
       "1098    None\n",
       "1099    None\n",
       "Name: avg_ratings, Length: 1100, dtype: object"
      ]
     },
     "metadata": {},
     "execution_count": 9
    }
   ],
   "source": [
    "def convertfloat(x):\n",
    "    i = 0\n",
    "    try:\n",
    "        float(x)\n",
    "    except:\n",
    "        x = 'NA'\n",
    "        i+=1\n",
    "        print('cells could not be turned to floats, check data')\n",
    "\n",
    "\n",
    "df.avg_ratings.apply(lambda x:(convertfloat(x)))"
   ]
  },
  {
   "cell_type": "code",
   "execution_count": 12,
   "metadata": {},
   "outputs": [],
   "source": [
    "def getDescription(x):\n",
    "    temp = df.Description[x]\n",
    "    if (len(df.Description[x]) == 0):\n",
    "    \n",
    "        df.Description[x] = 'NA'\n",
    "      \n",
    "\n",
    "    else:\n",
    "\n",
    "        r = len(df.Description[x]) - 1\n",
    "        df.Description[x] = 'NA'\n",
    "        \n",
    "        df.Description[x] = temp[r]\n",
    "\n",
    "     \n",
    "      \n",
    "    \n",
    "       "
   ]
  },
  {
   "cell_type": "code",
   "execution_count": 13,
   "metadata": {
    "tags": []
   },
   "outputs": [
    {
     "output_type": "stream",
     "name": "stderr",
     "text": [
      "<ipython-input-12-ffe03e9b49c3>:11: SettingWithCopyWarning: \nA value is trying to be set on a copy of a slice from a DataFrame\n\nSee the caveats in the documentation: https://pandas.pydata.org/pandas-docs/stable/user_guide/indexing.html#returning-a-view-versus-a-copy\n  df.Description[x] = 'NA'\n<ipython-input-12-ffe03e9b49c3>:13: SettingWithCopyWarning: \nA value is trying to be set on a copy of a slice from a DataFrame\n\nSee the caveats in the documentation: https://pandas.pydata.org/pandas-docs/stable/user_guide/indexing.html#returning-a-view-versus-a-copy\n  df.Description[x] = temp[r]\n<ipython-input-12-ffe03e9b49c3>:5: SettingWithCopyWarning: \nA value is trying to be set on a copy of a slice from a DataFrame\n\nSee the caveats in the documentation: https://pandas.pydata.org/pandas-docs/stable/user_guide/indexing.html#returning-a-view-versus-a-copy\n  df.Description[x] = 'NA'\n"
     ]
    }
   ],
   "source": [
    "for x in range(0,len(df.Description)):\n",
    "    getDescription(x)"
   ]
  },
  {
   "cell_type": "code",
   "execution_count": 15,
   "metadata": {},
   "outputs": [
    {
     "output_type": "execute_result",
     "data": {
      "text/plain": [
       "913"
      ]
     },
     "metadata": {},
     "execution_count": 15
    }
   ],
   "source": [
    "len(df.Description[1])"
   ]
  },
  {
   "cell_type": "code",
   "execution_count": 19,
   "metadata": {},
   "outputs": [
    {
     "output_type": "execute_result",
     "data": {
      "text/plain": [
       "\"From #1 New York Times bestselling author Brandon Sanderson, The Way of Kings, book one of The Stormlight Archive begins an incredible new saga of epic proportion.Roshar is a world of stone and storms. Uncanny tempests of incredible power sweep across the rocky terrain so frequently that they have shaped ecology and civilization alike. Animals hide in shells, trees pull in branches, and grass retracts into the soilless ground. Cities are built only where the topography offers shelter.It has been centuries since the fall of the ten consecrated orders known as the Knights Radiant, but their Shardblades and Shardplate remain: mystical swords and suits of armor that transform ordinary men into near-invincible warriors. Men trade kingdoms for Shardblades. Wars were fought for them, and won by them.One such war rages on a ruined landscape called the Shattered Plains. There, Kaladin, who traded his medical apprenticeship for a spear to protect his little brother, has been reduced to slavery. In a war that makes no sense, where ten armies fight separately against a single foe, he struggles to save his men and to fathom the leaders who consider them expendable.Brightlord Dalinar Kholin commands one of those other armies. Like his brother, the late king, he is fascinated by an ancient text called The Way of Kings. Troubled by over-powering visions of ancient times and the Knights Radiant, he has begun to doubt his own sanity.Across the ocean, an untried young woman named Shallan seeks to train under an eminent scholar and notorious heretic, Dalinar's niece, Jasnah. Though she genuinely loves learning, Shallan's motives are less than pure. As she plans a daring theft, her research for Jasnah hints at secrets of the Knights Radiant and the true cause of the war.The result of over ten years of planning, writing, and world-building, The Way of Kings is but the opening movement of the Stormlight Archive, a bold masterpiece in the making.Speak again the ancient oaths:Life before death.Strength before weakness.Journey before Destination.and return to men the Shards they once bore.The Knights Radiant must stand again.\""
      ]
     },
     "metadata": {},
     "execution_count": 19
    }
   ],
   "source": [
    "df.Description[]"
   ]
  },
  {
   "cell_type": "code",
   "execution_count": 10,
   "metadata": {},
   "outputs": [
    {
     "output_type": "error",
     "ename": "NameError",
     "evalue": "name 'getDescription' is not defined",
     "traceback": [
      "\u001b[0;31m---------------------------------------------------------------------------\u001b[0m",
      "\u001b[0;31mNameError\u001b[0m                                 Traceback (most recent call last)",
      "\u001b[0;32m<ipython-input-10-9f7e1f80e30c>\u001b[0m in \u001b[0;36m<module>\u001b[0;34m\u001b[0m\n\u001b[0;32m----> 1\u001b[0;31m \u001b[0mdf\u001b[0m\u001b[0;34m.\u001b[0m\u001b[0mDescription\u001b[0m\u001b[0;34m.\u001b[0m\u001b[0mapply\u001b[0m\u001b[0;34m(\u001b[0m\u001b[0;32mlambda\u001b[0m \u001b[0mx\u001b[0m\u001b[0;34m:\u001b[0m\u001b[0;34m(\u001b[0m\u001b[0mgetDescription\u001b[0m\u001b[0;34m(\u001b[0m\u001b[0mx\u001b[0m\u001b[0;34m)\u001b[0m\u001b[0;34m)\u001b[0m\u001b[0;34m)\u001b[0m\u001b[0;34m\u001b[0m\u001b[0;34m\u001b[0m\u001b[0m\n\u001b[0m",
      "\u001b[0;32m~/anaconda3/envs/working/lib/python3.9/site-packages/pandas/core/series.py\u001b[0m in \u001b[0;36mapply\u001b[0;34m(self, func, convert_dtype, args, **kwds)\u001b[0m\n\u001b[1;32m   4106\u001b[0m             \u001b[0;32melse\u001b[0m\u001b[0;34m:\u001b[0m\u001b[0;34m\u001b[0m\u001b[0;34m\u001b[0m\u001b[0m\n\u001b[1;32m   4107\u001b[0m                 \u001b[0mvalues\u001b[0m \u001b[0;34m=\u001b[0m \u001b[0mself\u001b[0m\u001b[0;34m.\u001b[0m\u001b[0mastype\u001b[0m\u001b[0;34m(\u001b[0m\u001b[0mobject\u001b[0m\u001b[0;34m)\u001b[0m\u001b[0;34m.\u001b[0m\u001b[0m_values\u001b[0m\u001b[0;34m\u001b[0m\u001b[0;34m\u001b[0m\u001b[0m\n\u001b[0;32m-> 4108\u001b[0;31m                 \u001b[0mmapped\u001b[0m \u001b[0;34m=\u001b[0m \u001b[0mlib\u001b[0m\u001b[0;34m.\u001b[0m\u001b[0mmap_infer\u001b[0m\u001b[0;34m(\u001b[0m\u001b[0mvalues\u001b[0m\u001b[0;34m,\u001b[0m \u001b[0mf\u001b[0m\u001b[0;34m,\u001b[0m \u001b[0mconvert\u001b[0m\u001b[0;34m=\u001b[0m\u001b[0mconvert_dtype\u001b[0m\u001b[0;34m)\u001b[0m\u001b[0;34m\u001b[0m\u001b[0;34m\u001b[0m\u001b[0m\n\u001b[0m\u001b[1;32m   4109\u001b[0m \u001b[0;34m\u001b[0m\u001b[0m\n\u001b[1;32m   4110\u001b[0m         \u001b[0;32mif\u001b[0m \u001b[0mlen\u001b[0m\u001b[0;34m(\u001b[0m\u001b[0mmapped\u001b[0m\u001b[0;34m)\u001b[0m \u001b[0;32mand\u001b[0m \u001b[0misinstance\u001b[0m\u001b[0;34m(\u001b[0m\u001b[0mmapped\u001b[0m\u001b[0;34m[\u001b[0m\u001b[0;36m0\u001b[0m\u001b[0;34m]\u001b[0m\u001b[0;34m,\u001b[0m \u001b[0mSeries\u001b[0m\u001b[0;34m)\u001b[0m\u001b[0;34m:\u001b[0m\u001b[0;34m\u001b[0m\u001b[0;34m\u001b[0m\u001b[0m\n",
      "\u001b[0;32mpandas/_libs/lib.pyx\u001b[0m in \u001b[0;36mpandas._libs.lib.map_infer\u001b[0;34m()\u001b[0m\n",
      "\u001b[0;32m<ipython-input-10-9f7e1f80e30c>\u001b[0m in \u001b[0;36m<lambda>\u001b[0;34m(x)\u001b[0m\n\u001b[0;32m----> 1\u001b[0;31m \u001b[0mdf\u001b[0m\u001b[0;34m.\u001b[0m\u001b[0mDescription\u001b[0m\u001b[0;34m.\u001b[0m\u001b[0mapply\u001b[0m\u001b[0;34m(\u001b[0m\u001b[0;32mlambda\u001b[0m \u001b[0mx\u001b[0m\u001b[0;34m:\u001b[0m\u001b[0;34m(\u001b[0m\u001b[0mgetDescription\u001b[0m\u001b[0;34m(\u001b[0m\u001b[0mx\u001b[0m\u001b[0;34m)\u001b[0m\u001b[0;34m)\u001b[0m\u001b[0;34m)\u001b[0m\u001b[0;34m\u001b[0m\u001b[0;34m\u001b[0m\u001b[0m\n\u001b[0m",
      "\u001b[0;31mNameError\u001b[0m: name 'getDescription' is not defined"
     ]
    }
   ],
   "source": [
    "df.Description.apply(lambda x:(getDescription(x)))\n"
   ]
  },
  {
   "cell_type": "code",
   "execution_count": 73,
   "metadata": {},
   "outputs": [
    {
     "output_type": "stream",
     "name": "stdout",
     "text": [
      "2\n<class 'bs4.element.ResultSet'>\n"
     ]
    },
    {
     "output_type": "execute_result",
     "data": {
      "text/plain": [
       "'Journeys to the end of the world, fantastic creatures, and epic battles between good and evil—what more could any reader ask for in one book? The book that has it all is The Lion, the Witch and the Wardrobe, written in 1949 by Clive Staples Lewis. But Lewis did not stop there. Six more books followed, and together they became known as The Chronicles of Narnia.For the past fifty years, The Chronicles of Narnia have transcended the fantasy genre to become part of the canon of classic literature. Each of the seven books is a masterpiece, drawing the reader into a land where magic meets reality, and the result is a fictional world whose scope has fascinated generations.This edition presents all seven books—unabridged—in one impressive volume. The books are presented here in chronlogical order, each chapter graced with an illustration by the original artist, Pauline Baynes. Deceptively simple and direct, The Chronicles of Narnia continue to captivate fans with adventures, characters, and truths that speak to readers of all ages, even fifty years after they were first published.'"
      ]
     },
     "metadata": {},
     "execution_count": 73
    }
   ],
   "source": [
    "check = df.Description[4]\n",
    "print(len(check))\n",
    "print(type(check))\n",
    "check[1]"
   ]
  },
  {
   "cell_type": "code",
   "execution_count": 75,
   "metadata": {},
   "outputs": [
    {
     "output_type": "stream",
     "name": "stderr",
     "text": [
      "<ipython-input-75-31548b95fb63>:1: SettingWithCopyWarning: \nA value is trying to be set on a copy of a slice from a DataFrame\n\nSee the caveats in the documentation: https://pandas.pydata.org/pandas-docs/stable/user_guide/indexing.html#returning-a-view-versus-a-copy\n  df.Description[2] = 'na'\n"
     ]
    }
   ],
   "source": [
    "df.Description[2] = 'na'"
   ]
  },
  {
   "cell_type": "code",
   "execution_count": 76,
   "metadata": {},
   "outputs": [
    {
     "output_type": "execute_result",
     "data": {
      "text/plain": [
       "   Unnamed: 0                                               name  \\\n",
       "0           0     A Game of Thrones (A Song of Ice and Fire, #1)   \n",
       "1           1    J.R.R. Tolkien 4-Book Boxed Set: The Hobbit ...   \n",
       "2           2    The Name of the Wind (The Kingkiller Chronic...   \n",
       "\n",
       "                                author number of ratings  \\\n",
       "0                   George R.R. Martin         2,049,108   \n",
       "1                       J.R.R. Tolkien           112,537   \n",
       "2  Patrick Rothfuss (Goodreads Author)           740,343   \n",
       "\n",
       "                                                 url avg_ratings  id  \\\n",
       "0  https://www.goodreads.com//book/show/13496.A_G...        4.45   0   \n",
       "1  https://www.goodreads.com//book/show/30.J_R_R_...         4.6   1   \n",
       "2  https://www.goodreads.com//book/show/186074.Th...        4.52   2   \n",
       "\n",
       "                       Num_pages  \\\n",
       "0                      835 pages   \n",
       "1  Hobbit Movie Tie-in Boxed set   \n",
       "2                      662 pages   \n",
       "\n",
       "                                        Verify_pages  \\\n",
       "0             ['Mass Market Paperback', '835 pages']   \n",
       "1  ['Mass Market Paperback', 'Hobbit Movie Tie-in...   \n",
       "2                         ['Hardcover', '662 pages']   \n",
       "\n",
       "                                              Awards  \\\n",
       "0  ['Nebula Award Nominee for Best Novel (1997)',...   \n",
       "1                                                 []   \n",
       "2  ['Locus Award Nominee for Best First Novel and...   \n",
       "\n",
       "                                               Genre  \\\n",
       "0  ['Fantasy', 'Fiction', 'Fantasy', 'Epic Fantas...   \n",
       "1  ['Fantasy', 'Fiction', 'Classics', 'Adventure'...   \n",
       "2  ['Fantasy', 'Fiction', 'Fantasy', 'Epic Fantas...   \n",
       "\n",
       "                         Setting  \\\n",
       "0  ['The Lands of Ice and Fire']   \n",
       "1               ['Middle-earth']   \n",
       "2                             []   \n",
       "\n",
       "                                       OriginalPDate  \\\n",
       "0  ['\\n              (first published August 6th ...   \n",
       "1  ['\\n              (first published October 20t...   \n",
       "2  ['\\n              (first published March 27th ...   \n",
       "\n",
       "                                          VerifyDate  Series  \\\n",
       "0  [<div class=\"row\">\\n            Published\\n   ...    True   \n",
       "1  [<div class=\"row\">\\n            Published\\n   ...    True   \n",
       "2  [<div class=\"row\">\\n            Published\\n   ...    True   \n",
       "\n",
       "                                          SeriesName  \\\n",
       "0           \\nSeries\\n\\nA Song of Ice and Fire #1 \\n   \n",
       "1  \\nSeries\\n\\nThe Lord of the Rings #0-3, Middle...   \n",
       "2         \\nSeries\\n\\nThe Kingkiller Chronicle #1 \\n   \n",
       "\n",
       "                                                ISBN  \\\n",
       "0  \\nISBN\\n\\n                  0553588486\\n      ...   \n",
       "1  \\nISBN\\n\\n                  0345538374\\n      ...   \n",
       "2  \\nISBN\\n\\n                  075640407X\\n      ...   \n",
       "\n",
       "                                         Description  \\\n",
       "0  [Here is the first volume in George R. R. Mart...   \n",
       "1  [This four-volume, boxed set contains J.R.R. T...   \n",
       "2                                                 na   \n",
       "\n",
       "                                    Example  \n",
       "0  4.454.454.454.454.454.454.454.454.454.45  \n",
       "1            4.64.64.64.64.64.64.64.64.64.6  \n",
       "2  4.524.524.524.524.524.524.524.524.524.52  "
      ],
      "text/html": "<div>\n<style scoped>\n    .dataframe tbody tr th:only-of-type {\n        vertical-align: middle;\n    }\n\n    .dataframe tbody tr th {\n        vertical-align: top;\n    }\n\n    .dataframe thead th {\n        text-align: right;\n    }\n</style>\n<table border=\"1\" class=\"dataframe\">\n  <thead>\n    <tr style=\"text-align: right;\">\n      <th></th>\n      <th>Unnamed: 0</th>\n      <th>name</th>\n      <th>author</th>\n      <th>number of ratings</th>\n      <th>url</th>\n      <th>avg_ratings</th>\n      <th>id</th>\n      <th>Num_pages</th>\n      <th>Verify_pages</th>\n      <th>Awards</th>\n      <th>Genre</th>\n      <th>Setting</th>\n      <th>OriginalPDate</th>\n      <th>VerifyDate</th>\n      <th>Series</th>\n      <th>SeriesName</th>\n      <th>ISBN</th>\n      <th>Description</th>\n      <th>Example</th>\n    </tr>\n  </thead>\n  <tbody>\n    <tr>\n      <th>0</th>\n      <td>0</td>\n      <td>A Game of Thrones (A Song of Ice and Fire, #1)</td>\n      <td>George R.R. Martin</td>\n      <td>2,049,108</td>\n      <td>https://www.goodreads.com//book/show/13496.A_G...</td>\n      <td>4.45</td>\n      <td>0</td>\n      <td>835 pages</td>\n      <td>['Mass Market Paperback', '835 pages']</td>\n      <td>['Nebula Award Nominee for Best Novel (1997)',...</td>\n      <td>['Fantasy', 'Fiction', 'Fantasy', 'Epic Fantas...</td>\n      <td>['The Lands of Ice and Fire']</td>\n      <td>['\\n              (first published August 6th ...</td>\n      <td>[&lt;div class=\"row\"&gt;\\n            Published\\n   ...</td>\n      <td>True</td>\n      <td>\\nSeries\\n\\nA Song of Ice and Fire #1 \\n</td>\n      <td>\\nISBN\\n\\n                  0553588486\\n      ...</td>\n      <td>[Here is the first volume in George R. R. Mart...</td>\n      <td>4.454.454.454.454.454.454.454.454.454.45</td>\n    </tr>\n    <tr>\n      <th>1</th>\n      <td>1</td>\n      <td>J.R.R. Tolkien 4-Book Boxed Set: The Hobbit ...</td>\n      <td>J.R.R. Tolkien</td>\n      <td>112,537</td>\n      <td>https://www.goodreads.com//book/show/30.J_R_R_...</td>\n      <td>4.6</td>\n      <td>1</td>\n      <td>Hobbit Movie Tie-in Boxed set</td>\n      <td>['Mass Market Paperback', 'Hobbit Movie Tie-in...</td>\n      <td>[]</td>\n      <td>['Fantasy', 'Fiction', 'Classics', 'Adventure'...</td>\n      <td>['Middle-earth']</td>\n      <td>['\\n              (first published October 20t...</td>\n      <td>[&lt;div class=\"row\"&gt;\\n            Published\\n   ...</td>\n      <td>True</td>\n      <td>\\nSeries\\n\\nThe Lord of the Rings #0-3, Middle...</td>\n      <td>\\nISBN\\n\\n                  0345538374\\n      ...</td>\n      <td>[This four-volume, boxed set contains J.R.R. T...</td>\n      <td>4.64.64.64.64.64.64.64.64.64.6</td>\n    </tr>\n    <tr>\n      <th>2</th>\n      <td>2</td>\n      <td>The Name of the Wind (The Kingkiller Chronic...</td>\n      <td>Patrick Rothfuss (Goodreads Author)</td>\n      <td>740,343</td>\n      <td>https://www.goodreads.com//book/show/186074.Th...</td>\n      <td>4.52</td>\n      <td>2</td>\n      <td>662 pages</td>\n      <td>['Hardcover', '662 pages']</td>\n      <td>['Locus Award Nominee for Best First Novel and...</td>\n      <td>['Fantasy', 'Fiction', 'Fantasy', 'Epic Fantas...</td>\n      <td>[]</td>\n      <td>['\\n              (first published March 27th ...</td>\n      <td>[&lt;div class=\"row\"&gt;\\n            Published\\n   ...</td>\n      <td>True</td>\n      <td>\\nSeries\\n\\nThe Kingkiller Chronicle #1 \\n</td>\n      <td>\\nISBN\\n\\n                  075640407X\\n      ...</td>\n      <td>na</td>\n      <td>4.524.524.524.524.524.524.524.524.524.52</td>\n    </tr>\n  </tbody>\n</table>\n</div>"
     },
     "metadata": {},
     "execution_count": 76
    }
   ],
   "source": [
    "df.head(3)"
   ]
  },
  {
   "cell_type": "code",
   "execution_count": 108,
   "metadata": {},
   "outputs": [
    {
     "output_type": "stream",
     "name": "stdout",
     "text": [
      "[\n            Published\n        September 25th 2012\n         by Ballantine Books\n\n            \n              (first published October 20th 1955)\n            \n]\n"
     ]
    }
   ],
   "source": [
    "soup = BeautifulSoup(capture)\n",
    "print(soup.get_text()) \n",
    "gr =(soup.get_text())"
   ]
  },
  {
   "cell_type": "code",
   "execution_count": 20,
   "metadata": {},
   "outputs": [
    {
     "output_type": "execute_result",
     "data": {
      "text/plain": [
       "   Unnamed: 0                                               name  \\\n",
       "0           0     A Game of Thrones (A Song of Ice and Fire, #1)   \n",
       "1           1    J.R.R. Tolkien 4-Book Boxed Set: The Hobbit ...   \n",
       "2           2    The Name of the Wind (The Kingkiller Chronic...   \n",
       "\n",
       "                                author number of ratings  \\\n",
       "0                   George R.R. Martin         2,049,108   \n",
       "1                       J.R.R. Tolkien           112,537   \n",
       "2  Patrick Rothfuss (Goodreads Author)           740,343   \n",
       "\n",
       "                                                 url avg_ratings  id  \\\n",
       "0  https://www.goodreads.com//book/show/13496.A_G...        4.45   0   \n",
       "1  https://www.goodreads.com//book/show/30.J_R_R_...         4.6   1   \n",
       "2  https://www.goodreads.com//book/show/186074.Th...        4.52   2   \n",
       "\n",
       "                       Num_pages  \\\n",
       "0                      835 pages   \n",
       "1  Hobbit Movie Tie-in Boxed set   \n",
       "2                      662 pages   \n",
       "\n",
       "                                        Verify_pages  \\\n",
       "0             ['Mass Market Paperback', '835 pages']   \n",
       "1  ['Mass Market Paperback', 'Hobbit Movie Tie-in...   \n",
       "2                         ['Hardcover', '662 pages']   \n",
       "\n",
       "                                              Awards  \\\n",
       "0  ['Nebula Award Nominee for Best Novel (1997)',...   \n",
       "1                                                 []   \n",
       "2  ['Locus Award Nominee for Best First Novel and...   \n",
       "\n",
       "                                               Genre  \\\n",
       "0  ['Fantasy', 'Fiction', 'Fantasy', 'Epic Fantas...   \n",
       "1  ['Fantasy', 'Fiction', 'Classics', 'Adventure'...   \n",
       "2  ['Fantasy', 'Fiction', 'Fantasy', 'Epic Fantas...   \n",
       "\n",
       "                         Setting  \\\n",
       "0  ['The Lands of Ice and Fire']   \n",
       "1               ['Middle-earth']   \n",
       "2                             []   \n",
       "\n",
       "                                       OriginalPDate  \\\n",
       "0  ['\\n              (first published August 6th ...   \n",
       "1  ['\\n              (first published October 20t...   \n",
       "2  ['\\n              (first published March 27th ...   \n",
       "\n",
       "                                          VerifyDate  Series  \\\n",
       "0  [<div class=\"row\">\\n            Published\\n   ...    True   \n",
       "1  [<div class=\"row\">\\n            Published\\n   ...    True   \n",
       "2  [<div class=\"row\">\\n            Published\\n   ...    True   \n",
       "\n",
       "                                          SeriesName  \\\n",
       "0           \\nSeries\\n\\nA Song of Ice and Fire #1 \\n   \n",
       "1  \\nSeries\\n\\nThe Lord of the Rings #0-3, Middle...   \n",
       "2         \\nSeries\\n\\nThe Kingkiller Chronicle #1 \\n   \n",
       "\n",
       "                                                ISBN  \\\n",
       "0  \\nISBN\\n\\n                  0553588486\\n      ...   \n",
       "1  \\nISBN\\n\\n                  0345538374\\n      ...   \n",
       "2  \\nISBN\\n\\n                  075640407X\\n      ...   \n",
       "\n",
       "                                         Description  \n",
       "0  Here is the first volume in George R. R. Marti...  \n",
       "1  This four-volume, boxed set contains J.R.R. To...  \n",
       "2  Told in Kvothe's own voice, this is the tale o...  "
      ],
      "text/html": "<div>\n<style scoped>\n    .dataframe tbody tr th:only-of-type {\n        vertical-align: middle;\n    }\n\n    .dataframe tbody tr th {\n        vertical-align: top;\n    }\n\n    .dataframe thead th {\n        text-align: right;\n    }\n</style>\n<table border=\"1\" class=\"dataframe\">\n  <thead>\n    <tr style=\"text-align: right;\">\n      <th></th>\n      <th>Unnamed: 0</th>\n      <th>name</th>\n      <th>author</th>\n      <th>number of ratings</th>\n      <th>url</th>\n      <th>avg_ratings</th>\n      <th>id</th>\n      <th>Num_pages</th>\n      <th>Verify_pages</th>\n      <th>Awards</th>\n      <th>Genre</th>\n      <th>Setting</th>\n      <th>OriginalPDate</th>\n      <th>VerifyDate</th>\n      <th>Series</th>\n      <th>SeriesName</th>\n      <th>ISBN</th>\n      <th>Description</th>\n    </tr>\n  </thead>\n  <tbody>\n    <tr>\n      <th>0</th>\n      <td>0</td>\n      <td>A Game of Thrones (A Song of Ice and Fire, #1)</td>\n      <td>George R.R. Martin</td>\n      <td>2,049,108</td>\n      <td>https://www.goodreads.com//book/show/13496.A_G...</td>\n      <td>4.45</td>\n      <td>0</td>\n      <td>835 pages</td>\n      <td>['Mass Market Paperback', '835 pages']</td>\n      <td>['Nebula Award Nominee for Best Novel (1997)',...</td>\n      <td>['Fantasy', 'Fiction', 'Fantasy', 'Epic Fantas...</td>\n      <td>['The Lands of Ice and Fire']</td>\n      <td>['\\n              (first published August 6th ...</td>\n      <td>[&lt;div class=\"row\"&gt;\\n            Published\\n   ...</td>\n      <td>True</td>\n      <td>\\nSeries\\n\\nA Song of Ice and Fire #1 \\n</td>\n      <td>\\nISBN\\n\\n                  0553588486\\n      ...</td>\n      <td>Here is the first volume in George R. R. Marti...</td>\n    </tr>\n    <tr>\n      <th>1</th>\n      <td>1</td>\n      <td>J.R.R. Tolkien 4-Book Boxed Set: The Hobbit ...</td>\n      <td>J.R.R. Tolkien</td>\n      <td>112,537</td>\n      <td>https://www.goodreads.com//book/show/30.J_R_R_...</td>\n      <td>4.6</td>\n      <td>1</td>\n      <td>Hobbit Movie Tie-in Boxed set</td>\n      <td>['Mass Market Paperback', 'Hobbit Movie Tie-in...</td>\n      <td>[]</td>\n      <td>['Fantasy', 'Fiction', 'Classics', 'Adventure'...</td>\n      <td>['Middle-earth']</td>\n      <td>['\\n              (first published October 20t...</td>\n      <td>[&lt;div class=\"row\"&gt;\\n            Published\\n   ...</td>\n      <td>True</td>\n      <td>\\nSeries\\n\\nThe Lord of the Rings #0-3, Middle...</td>\n      <td>\\nISBN\\n\\n                  0345538374\\n      ...</td>\n      <td>This four-volume, boxed set contains J.R.R. To...</td>\n    </tr>\n    <tr>\n      <th>2</th>\n      <td>2</td>\n      <td>The Name of the Wind (The Kingkiller Chronic...</td>\n      <td>Patrick Rothfuss (Goodreads Author)</td>\n      <td>740,343</td>\n      <td>https://www.goodreads.com//book/show/186074.Th...</td>\n      <td>4.52</td>\n      <td>2</td>\n      <td>662 pages</td>\n      <td>['Hardcover', '662 pages']</td>\n      <td>['Locus Award Nominee for Best First Novel and...</td>\n      <td>['Fantasy', 'Fiction', 'Fantasy', 'Epic Fantas...</td>\n      <td>[]</td>\n      <td>['\\n              (first published March 27th ...</td>\n      <td>[&lt;div class=\"row\"&gt;\\n            Published\\n   ...</td>\n      <td>True</td>\n      <td>\\nSeries\\n\\nThe Kingkiller Chronicle #1 \\n</td>\n      <td>\\nISBN\\n\\n                  075640407X\\n      ...</td>\n      <td>Told in Kvothe's own voice, this is the tale o...</td>\n    </tr>\n  </tbody>\n</table>\n</div>"
     },
     "metadata": {},
     "execution_count": 20
    }
   ],
   "source": [
    "df.head(3)"
   ]
  },
  {
   "source": [
    "### Works!"
   ],
   "cell_type": "markdown",
   "metadata": {}
  },
  {
   "cell_type": "code",
   "execution_count": 38,
   "metadata": {},
   "outputs": [
    {
     "output_type": "execute_result",
     "data": {
      "text/plain": [
       "<bound method StringMethods.strip of <pandas.core.strings.accessor.StringMethods object at 0x7fb62be68700>>"
      ]
     },
     "metadata": {},
     "execution_count": 38
    }
   ],
   "source": [
    "df.SeriesName.str.strip\n",
    "df.ISBN.str.strip\n",
    "df.OriginalPDate.str.strip\n"
   ]
  },
  {
   "cell_type": "code",
   "execution_count": null,
   "metadata": {},
   "outputs": [],
   "source": [
    "df"
   ]
  },
  {
   "cell_type": "code",
   "execution_count": 27,
   "metadata": {},
   "outputs": [
    {
     "output_type": "execute_result",
     "data": {
      "text/plain": [
       "   Unnamed: 0                                               name  \\\n",
       "0           0     A Game of Thrones (A Song of Ice and Fire, #1)   \n",
       "1           1    J.R.R. Tolkien 4-Book Boxed Set: The Hobbit ...   \n",
       "2           2    The Name of the Wind (The Kingkiller Chronic...   \n",
       "3           3      The Way of Kings (The Stormlight Archive, #1)   \n",
       "4           4    The Chronicles of Narnia (Chronicles of Narn...   \n",
       "\n",
       "                                 author number of ratings  \\\n",
       "0                    George R.R. Martin         2,049,108   \n",
       "1                        J.R.R. Tolkien           112,537   \n",
       "2   Patrick Rothfuss (Goodreads Author)           740,343   \n",
       "3  Brandon Sanderson (Goodreads Author)           320,338   \n",
       "4                            C.S. Lewis           533,551   \n",
       "\n",
       "                                                 url avg_ratings  id  \\\n",
       "0  https://www.goodreads.com//book/show/13496.A_G...        4.45   0   \n",
       "1  https://www.goodreads.com//book/show/30.J_R_R_...         4.6   1   \n",
       "2  https://www.goodreads.com//book/show/186074.Th...        4.52   2   \n",
       "3  https://www.goodreads.com//book/show/7235533-t...        4.62   3   \n",
       "4  https://www.goodreads.com//book/show/11127.The...        4.26   4   \n",
       "\n",
       "                       Num_pages  \\\n",
       "0                      835 pages   \n",
       "1  Hobbit Movie Tie-in Boxed set   \n",
       "2                      662 pages   \n",
       "3                     1007 pages   \n",
       "4                Reissue Edition   \n",
       "\n",
       "                                        Verify_pages  \\\n",
       "0             ['Mass Market Paperback', '835 pages']   \n",
       "1  ['Mass Market Paperback', 'Hobbit Movie Tie-in...   \n",
       "2                         ['Hardcover', '662 pages']   \n",
       "3                        ['Hardcover', '1007 pages']   \n",
       "4      ['Paperback', 'Reissue Edition', '767 pages']   \n",
       "\n",
       "                                              Awards  \\\n",
       "0  ['Nebula Award Nominee for Best Novel (1997)',...   \n",
       "1                                                 []   \n",
       "2  ['Locus Award Nominee for Best First Novel and...   \n",
       "3  ['Locus Award Nominee for Best Fantasy Novel (...   \n",
       "4                                                 []   \n",
       "\n",
       "                                               Genre  \\\n",
       "0  ['Fantasy', 'Fiction', 'Fantasy', 'Epic Fantas...   \n",
       "1  ['Fantasy', 'Fiction', 'Classics', 'Adventure'...   \n",
       "2  ['Fantasy', 'Fiction', 'Fantasy', 'Epic Fantas...   \n",
       "3  ['Fantasy', 'Fiction', 'Fantasy', 'Epic Fantas...   \n",
       "4  ['Fantasy', 'Classics', 'Fiction', 'Young Adul...   \n",
       "\n",
       "                         Setting  \\\n",
       "0  ['The Lands of Ice and Fire']   \n",
       "1               ['Middle-earth']   \n",
       "2                             []   \n",
       "3                     ['Roshar']   \n",
       "4            ['London, England']   \n",
       "\n",
       "                                       OriginalPDate  \\\n",
       "0  ['\\n              (first published August 6th ...   \n",
       "1  ['\\n              (first published October 20t...   \n",
       "2  ['\\n              (first published March 27th ...   \n",
       "3                                                 []   \n",
       "4  ['\\n              (first published 1956)\\n    ...   \n",
       "\n",
       "                                          VerifyDate  Series  \\\n",
       "0  [<div class=\"row\">\\n            Published\\n   ...    True   \n",
       "1  [<div class=\"row\">\\n            Published\\n   ...    True   \n",
       "2  [<div class=\"row\">\\n            Published\\n   ...    True   \n",
       "3  [<div class=\"row\">\\n            Published\\n   ...    True   \n",
       "4  [<div class=\"row\">\\n            Published\\n   ...    True   \n",
       "\n",
       "                                          SeriesName  \\\n",
       "0           \\nSeries\\n\\nA Song of Ice and Fire #1 \\n   \n",
       "1  \\nSeries\\n\\nThe Lord of the Rings #0-3, Middle...   \n",
       "2         \\nSeries\\n\\nThe Kingkiller Chronicle #1 \\n   \n",
       "3  \\nSeries\\n\\nThe Stormlight Archive #1, The Cos...   \n",
       "4  \\nSeries\\n\\nThe Chronicles of Narnia (Publicat...   \n",
       "\n",
       "                                                ISBN  \\\n",
       "0  \\nISBN\\n\\n                  0553588486\\n      ...   \n",
       "1  \\nISBN\\n\\n                  0345538374\\n      ...   \n",
       "2  \\nISBN\\n\\n                  075640407X\\n      ...   \n",
       "3  \\nISBN\\n\\n                  0765326353\\n      ...   \n",
       "4                                                NaN   \n",
       "\n",
       "                                         Description  \n",
       "0  [Here is the first volume in George R. R. Mart...  \n",
       "1  [This four-volume, boxed set contains J.R.R. T...  \n",
       "2  [Told in Kvothe's own voice, this is the tale ...  \n",
       "3  [From #1 New York Times bestselling author Bra...  \n",
       "4  [Journeys to the end of the world, fantastic c...  "
      ],
      "text/html": "<div>\n<style scoped>\n    .dataframe tbody tr th:only-of-type {\n        vertical-align: middle;\n    }\n\n    .dataframe tbody tr th {\n        vertical-align: top;\n    }\n\n    .dataframe thead th {\n        text-align: right;\n    }\n</style>\n<table border=\"1\" class=\"dataframe\">\n  <thead>\n    <tr style=\"text-align: right;\">\n      <th></th>\n      <th>Unnamed: 0</th>\n      <th>name</th>\n      <th>author</th>\n      <th>number of ratings</th>\n      <th>url</th>\n      <th>avg_ratings</th>\n      <th>id</th>\n      <th>Num_pages</th>\n      <th>Verify_pages</th>\n      <th>Awards</th>\n      <th>Genre</th>\n      <th>Setting</th>\n      <th>OriginalPDate</th>\n      <th>VerifyDate</th>\n      <th>Series</th>\n      <th>SeriesName</th>\n      <th>ISBN</th>\n      <th>Description</th>\n    </tr>\n  </thead>\n  <tbody>\n    <tr>\n      <th>0</th>\n      <td>0</td>\n      <td>A Game of Thrones (A Song of Ice and Fire, #1)</td>\n      <td>George R.R. Martin</td>\n      <td>2,049,108</td>\n      <td>https://www.goodreads.com//book/show/13496.A_G...</td>\n      <td>4.45</td>\n      <td>0</td>\n      <td>835 pages</td>\n      <td>['Mass Market Paperback', '835 pages']</td>\n      <td>['Nebula Award Nominee for Best Novel (1997)',...</td>\n      <td>['Fantasy', 'Fiction', 'Fantasy', 'Epic Fantas...</td>\n      <td>['The Lands of Ice and Fire']</td>\n      <td>['\\n              (first published August 6th ...</td>\n      <td>[&lt;div class=\"row\"&gt;\\n            Published\\n   ...</td>\n      <td>True</td>\n      <td>\\nSeries\\n\\nA Song of Ice and Fire #1 \\n</td>\n      <td>\\nISBN\\n\\n                  0553588486\\n      ...</td>\n      <td>[Here is the first volume in George R. R. Mart...</td>\n    </tr>\n    <tr>\n      <th>1</th>\n      <td>1</td>\n      <td>J.R.R. Tolkien 4-Book Boxed Set: The Hobbit ...</td>\n      <td>J.R.R. Tolkien</td>\n      <td>112,537</td>\n      <td>https://www.goodreads.com//book/show/30.J_R_R_...</td>\n      <td>4.6</td>\n      <td>1</td>\n      <td>Hobbit Movie Tie-in Boxed set</td>\n      <td>['Mass Market Paperback', 'Hobbit Movie Tie-in...</td>\n      <td>[]</td>\n      <td>['Fantasy', 'Fiction', 'Classics', 'Adventure'...</td>\n      <td>['Middle-earth']</td>\n      <td>['\\n              (first published October 20t...</td>\n      <td>[&lt;div class=\"row\"&gt;\\n            Published\\n   ...</td>\n      <td>True</td>\n      <td>\\nSeries\\n\\nThe Lord of the Rings #0-3, Middle...</td>\n      <td>\\nISBN\\n\\n                  0345538374\\n      ...</td>\n      <td>[This four-volume, boxed set contains J.R.R. T...</td>\n    </tr>\n    <tr>\n      <th>2</th>\n      <td>2</td>\n      <td>The Name of the Wind (The Kingkiller Chronic...</td>\n      <td>Patrick Rothfuss (Goodreads Author)</td>\n      <td>740,343</td>\n      <td>https://www.goodreads.com//book/show/186074.Th...</td>\n      <td>4.52</td>\n      <td>2</td>\n      <td>662 pages</td>\n      <td>['Hardcover', '662 pages']</td>\n      <td>['Locus Award Nominee for Best First Novel and...</td>\n      <td>['Fantasy', 'Fiction', 'Fantasy', 'Epic Fantas...</td>\n      <td>[]</td>\n      <td>['\\n              (first published March 27th ...</td>\n      <td>[&lt;div class=\"row\"&gt;\\n            Published\\n   ...</td>\n      <td>True</td>\n      <td>\\nSeries\\n\\nThe Kingkiller Chronicle #1 \\n</td>\n      <td>\\nISBN\\n\\n                  075640407X\\n      ...</td>\n      <td>[Told in Kvothe's own voice, this is the tale ...</td>\n    </tr>\n    <tr>\n      <th>3</th>\n      <td>3</td>\n      <td>The Way of Kings (The Stormlight Archive, #1)</td>\n      <td>Brandon Sanderson (Goodreads Author)</td>\n      <td>320,338</td>\n      <td>https://www.goodreads.com//book/show/7235533-t...</td>\n      <td>4.62</td>\n      <td>3</td>\n      <td>1007 pages</td>\n      <td>['Hardcover', '1007 pages']</td>\n      <td>['Locus Award Nominee for Best Fantasy Novel (...</td>\n      <td>['Fantasy', 'Fiction', 'Fantasy', 'Epic Fantas...</td>\n      <td>['Roshar']</td>\n      <td>[]</td>\n      <td>[&lt;div class=\"row\"&gt;\\n            Published\\n   ...</td>\n      <td>True</td>\n      <td>\\nSeries\\n\\nThe Stormlight Archive #1, The Cos...</td>\n      <td>\\nISBN\\n\\n                  0765326353\\n      ...</td>\n      <td>[From #1 New York Times bestselling author Bra...</td>\n    </tr>\n    <tr>\n      <th>4</th>\n      <td>4</td>\n      <td>The Chronicles of Narnia (Chronicles of Narn...</td>\n      <td>C.S. Lewis</td>\n      <td>533,551</td>\n      <td>https://www.goodreads.com//book/show/11127.The...</td>\n      <td>4.26</td>\n      <td>4</td>\n      <td>Reissue Edition</td>\n      <td>['Paperback', 'Reissue Edition', '767 pages']</td>\n      <td>[]</td>\n      <td>['Fantasy', 'Classics', 'Fiction', 'Young Adul...</td>\n      <td>['London, England']</td>\n      <td>['\\n              (first published 1956)\\n    ...</td>\n      <td>[&lt;div class=\"row\"&gt;\\n            Published\\n   ...</td>\n      <td>True</td>\n      <td>\\nSeries\\n\\nThe Chronicles of Narnia (Publicat...</td>\n      <td>NaN</td>\n      <td>[Journeys to the end of the world, fantastic c...</td>\n    </tr>\n  </tbody>\n</table>\n</div>"
     },
     "metadata": {},
     "execution_count": 27
    }
   ],
   "source": [
    "df.head(5)"
   ]
  },
  {
   "cell_type": "code",
   "execution_count": 72,
   "metadata": {},
   "outputs": [
    {
     "output_type": "execute_result",
     "data": {
      "text/plain": [
       "   Unnamed: 0                                               name  \\\n",
       "0           0     A Game of Thrones (A Song of Ice and Fire, #1)   \n",
       "1           1    J.R.R. Tolkien 4-Book Boxed Set: The Hobbit ...   \n",
       "2           2    The Name of the Wind (The Kingkiller Chronic...   \n",
       "\n",
       "                                author number of ratings  \\\n",
       "0                   George R.R. Martin         2,049,108   \n",
       "1                       J.R.R. Tolkien           112,537   \n",
       "2  Patrick Rothfuss (Goodreads Author)           740,343   \n",
       "\n",
       "                                                 url avg_ratings  id  \\\n",
       "0  https://www.goodreads.com//book/show/13496.A_G...        4.45   0   \n",
       "1  https://www.goodreads.com//book/show/30.J_R_R_...         4.6   1   \n",
       "2  https://www.goodreads.com//book/show/186074.Th...        4.52   2   \n",
       "\n",
       "                       Num_pages  \\\n",
       "0                      835 pages   \n",
       "1  Hobbit Movie Tie-in Boxed set   \n",
       "2                      662 pages   \n",
       "\n",
       "                                        Verify_pages  \\\n",
       "0             ['Mass Market Paperback', '835 pages']   \n",
       "1  ['Mass Market Paperback', 'Hobbit Movie Tie-in...   \n",
       "2                         ['Hardcover', '662 pages']   \n",
       "\n",
       "                                              Awards  \\\n",
       "0  ['Nebula Award Nominee for Best Novel (1997)',...   \n",
       "1                                                 []   \n",
       "2  ['Locus Award Nominee for Best First Novel and...   \n",
       "\n",
       "                                               Genre  \\\n",
       "0  ['Fantasy', 'Fiction', 'Fantasy', 'Epic Fantas...   \n",
       "1  ['Fantasy', 'Fiction', 'Classics', 'Adventure'...   \n",
       "2  ['Fantasy', 'Fiction', 'Fantasy', 'Epic Fantas...   \n",
       "\n",
       "                         Setting  \\\n",
       "0  ['The Lands of Ice and Fire']   \n",
       "1               ['Middle-earth']   \n",
       "2                             []   \n",
       "\n",
       "                                       OriginalPDate  \\\n",
       "0  ['\\n              (first published August 6th ...   \n",
       "1  ['\\n              (first published October 20t...   \n",
       "2  ['\\n              (first published March 27th ...   \n",
       "\n",
       "                                          VerifyDate  Series  \\\n",
       "0  [<div class=\"row\">\\n            Published\\n   ...    True   \n",
       "1  [<div class=\"row\">\\n            Published\\n   ...    True   \n",
       "2  [<div class=\"row\">\\n            Published\\n   ...    True   \n",
       "\n",
       "                                          SeriesName  \\\n",
       "0           \\nSeries\\n\\nA Song of Ice and Fire #1 \\n   \n",
       "1  \\nSeries\\n\\nThe Lord of the Rings #0-3, Middle...   \n",
       "2         \\nSeries\\n\\nThe Kingkiller Chronicle #1 \\n   \n",
       "\n",
       "                                                ISBN  \\\n",
       "0  \\nISBN\\n\\n                  0553588486\\n      ...   \n",
       "1  \\nISBN\\n\\n                  0345538374\\n      ...   \n",
       "2  \\nISBN\\n\\n                  075640407X\\n      ...   \n",
       "\n",
       "                                         Description  \n",
       "0  [<div class=\"readable stacked\" id=\"description...  \n",
       "1  [<div class=\"readable stacked\" id=\"description...  \n",
       "2  [<div class=\"readable stacked\" id=\"description...  "
      ],
      "text/html": "<div>\n<style scoped>\n    .dataframe tbody tr th:only-of-type {\n        vertical-align: middle;\n    }\n\n    .dataframe tbody tr th {\n        vertical-align: top;\n    }\n\n    .dataframe thead th {\n        text-align: right;\n    }\n</style>\n<table border=\"1\" class=\"dataframe\">\n  <thead>\n    <tr style=\"text-align: right;\">\n      <th></th>\n      <th>Unnamed: 0</th>\n      <th>name</th>\n      <th>author</th>\n      <th>number of ratings</th>\n      <th>url</th>\n      <th>avg_ratings</th>\n      <th>id</th>\n      <th>Num_pages</th>\n      <th>Verify_pages</th>\n      <th>Awards</th>\n      <th>Genre</th>\n      <th>Setting</th>\n      <th>OriginalPDate</th>\n      <th>VerifyDate</th>\n      <th>Series</th>\n      <th>SeriesName</th>\n      <th>ISBN</th>\n      <th>Description</th>\n    </tr>\n  </thead>\n  <tbody>\n    <tr>\n      <th>0</th>\n      <td>0</td>\n      <td>A Game of Thrones (A Song of Ice and Fire, #1)</td>\n      <td>George R.R. Martin</td>\n      <td>2,049,108</td>\n      <td>https://www.goodreads.com//book/show/13496.A_G...</td>\n      <td>4.45</td>\n      <td>0</td>\n      <td>835 pages</td>\n      <td>['Mass Market Paperback', '835 pages']</td>\n      <td>['Nebula Award Nominee for Best Novel (1997)',...</td>\n      <td>['Fantasy', 'Fiction', 'Fantasy', 'Epic Fantas...</td>\n      <td>['The Lands of Ice and Fire']</td>\n      <td>['\\n              (first published August 6th ...</td>\n      <td>[&lt;div class=\"row\"&gt;\\n            Published\\n   ...</td>\n      <td>True</td>\n      <td>\\nSeries\\n\\nA Song of Ice and Fire #1 \\n</td>\n      <td>\\nISBN\\n\\n                  0553588486\\n      ...</td>\n      <td>[&lt;div class=\"readable stacked\" id=\"description...</td>\n    </tr>\n    <tr>\n      <th>1</th>\n      <td>1</td>\n      <td>J.R.R. Tolkien 4-Book Boxed Set: The Hobbit ...</td>\n      <td>J.R.R. Tolkien</td>\n      <td>112,537</td>\n      <td>https://www.goodreads.com//book/show/30.J_R_R_...</td>\n      <td>4.6</td>\n      <td>1</td>\n      <td>Hobbit Movie Tie-in Boxed set</td>\n      <td>['Mass Market Paperback', 'Hobbit Movie Tie-in...</td>\n      <td>[]</td>\n      <td>['Fantasy', 'Fiction', 'Classics', 'Adventure'...</td>\n      <td>['Middle-earth']</td>\n      <td>['\\n              (first published October 20t...</td>\n      <td>[&lt;div class=\"row\"&gt;\\n            Published\\n   ...</td>\n      <td>True</td>\n      <td>\\nSeries\\n\\nThe Lord of the Rings #0-3, Middle...</td>\n      <td>\\nISBN\\n\\n                  0345538374\\n      ...</td>\n      <td>[&lt;div class=\"readable stacked\" id=\"description...</td>\n    </tr>\n    <tr>\n      <th>2</th>\n      <td>2</td>\n      <td>The Name of the Wind (The Kingkiller Chronic...</td>\n      <td>Patrick Rothfuss (Goodreads Author)</td>\n      <td>740,343</td>\n      <td>https://www.goodreads.com//book/show/186074.Th...</td>\n      <td>4.52</td>\n      <td>2</td>\n      <td>662 pages</td>\n      <td>['Hardcover', '662 pages']</td>\n      <td>['Locus Award Nominee for Best First Novel and...</td>\n      <td>['Fantasy', 'Fiction', 'Fantasy', 'Epic Fantas...</td>\n      <td>[]</td>\n      <td>['\\n              (first published March 27th ...</td>\n      <td>[&lt;div class=\"row\"&gt;\\n            Published\\n   ...</td>\n      <td>True</td>\n      <td>\\nSeries\\n\\nThe Kingkiller Chronicle #1 \\n</td>\n      <td>\\nISBN\\n\\n                  075640407X\\n      ...</td>\n      <td>[&lt;div class=\"readable stacked\" id=\"description...</td>\n    </tr>\n  </tbody>\n</table>\n</div>"
     },
     "metadata": {},
     "execution_count": 72
    }
   ],
   "source": [
    "df.head(3)"
   ]
  },
  {
   "cell_type": "code",
   "execution_count": 30,
   "metadata": {},
   "outputs": [
    {
     "output_type": "execute_result",
     "data": {
      "text/plain": [
       "1100"
      ]
     },
     "metadata": {},
     "execution_count": 30
    }
   ],
   "source": [
    "len(df.VerifyDate)"
   ]
  },
  {
   "cell_type": "code",
   "execution_count": 213,
   "metadata": {},
   "outputs": [
    {
     "output_type": "error",
     "ename": "KeyError",
     "evalue": "\"None of [Index(['', 'Series', '', 'A Song of Ice and Fire #1 ', ''], dtype='object')] are in the [index]\"",
     "traceback": [
      "\u001b[0;31m---------------------------------------------------------------------------\u001b[0m",
      "\u001b[0;31mKeyError\u001b[0m                                  Traceback (most recent call last)",
      "\u001b[0;32m<ipython-input-213-b020ab004b96>\u001b[0m in \u001b[0;36m<module>\u001b[0;34m\u001b[0m\n\u001b[1;32m      2\u001b[0m \u001b[0md\u001b[0m \u001b[0;34m=\u001b[0m \u001b[0;34m[\u001b[0m\u001b[0;34m]\u001b[0m\u001b[0;34m\u001b[0m\u001b[0;34m\u001b[0m\u001b[0m\n\u001b[1;32m      3\u001b[0m \u001b[0;32mfor\u001b[0m \u001b[0mx\u001b[0m \u001b[0;32min\u001b[0m \u001b[0;34m(\u001b[0m\u001b[0mdf\u001b[0m\u001b[0;34m.\u001b[0m\u001b[0mSeriesName\u001b[0m\u001b[0;34m)\u001b[0m\u001b[0;34m:\u001b[0m\u001b[0;34m\u001b[0m\u001b[0;34m\u001b[0m\u001b[0m\n\u001b[0;32m----> 4\u001b[0;31m         \u001b[0;32mfor\u001b[0m \u001b[0mr\u001b[0m \u001b[0;32min\u001b[0m \u001b[0mrange\u001b[0m\u001b[0;34m(\u001b[0m\u001b[0;36m0\u001b[0m\u001b[0;34m,\u001b[0m\u001b[0mlen\u001b[0m\u001b[0;34m(\u001b[0m\u001b[0mdf\u001b[0m\u001b[0;34m.\u001b[0m\u001b[0mSeriesName\u001b[0m\u001b[0;34m[\u001b[0m\u001b[0mx\u001b[0m\u001b[0;34m]\u001b[0m\u001b[0;34m)\u001b[0m\u001b[0;34m)\u001b[0m\u001b[0;34m:\u001b[0m\u001b[0;34m\u001b[0m\u001b[0;34m\u001b[0m\u001b[0m\n\u001b[0m\u001b[1;32m      5\u001b[0m             \u001b[0mc\u001b[0m \u001b[0;34m=\u001b[0m \u001b[0mdf\u001b[0m\u001b[0;34m.\u001b[0m\u001b[0mSeriesName\u001b[0m\u001b[0;34m[\u001b[0m\u001b[0mx\u001b[0m\u001b[0;34m]\u001b[0m\u001b[0;34m\u001b[0m\u001b[0;34m\u001b[0m\u001b[0m\n\u001b[1;32m      6\u001b[0m             \u001b[0mprint\u001b[0m\u001b[0;34m(\u001b[0m\u001b[0mc\u001b[0m\u001b[0;34m)\u001b[0m\u001b[0;34m\u001b[0m\u001b[0;34m\u001b[0m\u001b[0m\n",
      "\u001b[0;32m~/anaconda3/envs/working/lib/python3.9/site-packages/pandas/core/series.py\u001b[0m in \u001b[0;36m__getitem__\u001b[0;34m(self, key)\u001b[0m\n\u001b[1;32m    846\u001b[0m             \u001b[0;32mreturn\u001b[0m \u001b[0mself\u001b[0m\u001b[0;34m.\u001b[0m\u001b[0m_get_values\u001b[0m\u001b[0;34m(\u001b[0m\u001b[0mkey\u001b[0m\u001b[0;34m)\u001b[0m\u001b[0;34m\u001b[0m\u001b[0;34m\u001b[0m\u001b[0m\n\u001b[1;32m    847\u001b[0m \u001b[0;34m\u001b[0m\u001b[0m\n\u001b[0;32m--> 848\u001b[0;31m         \u001b[0;32mreturn\u001b[0m \u001b[0mself\u001b[0m\u001b[0;34m.\u001b[0m\u001b[0m_get_with\u001b[0m\u001b[0;34m(\u001b[0m\u001b[0mkey\u001b[0m\u001b[0;34m)\u001b[0m\u001b[0;34m\u001b[0m\u001b[0;34m\u001b[0m\u001b[0m\n\u001b[0m\u001b[1;32m    849\u001b[0m \u001b[0;34m\u001b[0m\u001b[0m\n\u001b[1;32m    850\u001b[0m     \u001b[0;32mdef\u001b[0m \u001b[0m_get_with\u001b[0m\u001b[0;34m(\u001b[0m\u001b[0mself\u001b[0m\u001b[0;34m,\u001b[0m \u001b[0mkey\u001b[0m\u001b[0;34m)\u001b[0m\u001b[0;34m:\u001b[0m\u001b[0;34m\u001b[0m\u001b[0;34m\u001b[0m\u001b[0m\n",
      "\u001b[0;32m~/anaconda3/envs/working/lib/python3.9/site-packages/pandas/core/series.py\u001b[0m in \u001b[0;36m_get_with\u001b[0;34m(self, key)\u001b[0m\n\u001b[1;32m    886\u001b[0m \u001b[0;34m\u001b[0m\u001b[0m\n\u001b[1;32m    887\u001b[0m         \u001b[0;31m# handle the dup indexing case GH#4246\u001b[0m\u001b[0;34m\u001b[0m\u001b[0;34m\u001b[0m\u001b[0;34m\u001b[0m\u001b[0m\n\u001b[0;32m--> 888\u001b[0;31m         \u001b[0;32mreturn\u001b[0m \u001b[0mself\u001b[0m\u001b[0;34m.\u001b[0m\u001b[0mloc\u001b[0m\u001b[0;34m[\u001b[0m\u001b[0mkey\u001b[0m\u001b[0;34m]\u001b[0m\u001b[0;34m\u001b[0m\u001b[0;34m\u001b[0m\u001b[0m\n\u001b[0m\u001b[1;32m    889\u001b[0m \u001b[0;34m\u001b[0m\u001b[0m\n\u001b[1;32m    890\u001b[0m     \u001b[0;32mdef\u001b[0m \u001b[0m_get_values_tuple\u001b[0m\u001b[0;34m(\u001b[0m\u001b[0mself\u001b[0m\u001b[0;34m,\u001b[0m \u001b[0mkey\u001b[0m\u001b[0;34m)\u001b[0m\u001b[0;34m:\u001b[0m\u001b[0;34m\u001b[0m\u001b[0;34m\u001b[0m\u001b[0m\n",
      "\u001b[0;32m~/anaconda3/envs/working/lib/python3.9/site-packages/pandas/core/indexing.py\u001b[0m in \u001b[0;36m__getitem__\u001b[0;34m(self, key)\u001b[0m\n\u001b[1;32m    892\u001b[0m \u001b[0;34m\u001b[0m\u001b[0m\n\u001b[1;32m    893\u001b[0m             \u001b[0mmaybe_callable\u001b[0m \u001b[0;34m=\u001b[0m \u001b[0mcom\u001b[0m\u001b[0;34m.\u001b[0m\u001b[0mapply_if_callable\u001b[0m\u001b[0;34m(\u001b[0m\u001b[0mkey\u001b[0m\u001b[0;34m,\u001b[0m \u001b[0mself\u001b[0m\u001b[0;34m.\u001b[0m\u001b[0mobj\u001b[0m\u001b[0;34m)\u001b[0m\u001b[0;34m\u001b[0m\u001b[0;34m\u001b[0m\u001b[0m\n\u001b[0;32m--> 894\u001b[0;31m             \u001b[0;32mreturn\u001b[0m \u001b[0mself\u001b[0m\u001b[0;34m.\u001b[0m\u001b[0m_getitem_axis\u001b[0m\u001b[0;34m(\u001b[0m\u001b[0mmaybe_callable\u001b[0m\u001b[0;34m,\u001b[0m \u001b[0maxis\u001b[0m\u001b[0;34m=\u001b[0m\u001b[0maxis\u001b[0m\u001b[0;34m)\u001b[0m\u001b[0;34m\u001b[0m\u001b[0;34m\u001b[0m\u001b[0m\n\u001b[0m\u001b[1;32m    895\u001b[0m \u001b[0;34m\u001b[0m\u001b[0m\n\u001b[1;32m    896\u001b[0m     \u001b[0;32mdef\u001b[0m \u001b[0m_is_scalar_access\u001b[0m\u001b[0;34m(\u001b[0m\u001b[0mself\u001b[0m\u001b[0;34m,\u001b[0m \u001b[0mkey\u001b[0m\u001b[0;34m:\u001b[0m \u001b[0mTuple\u001b[0m\u001b[0;34m)\u001b[0m\u001b[0;34m:\u001b[0m\u001b[0;34m\u001b[0m\u001b[0;34m\u001b[0m\u001b[0m\n",
      "\u001b[0;32m~/anaconda3/envs/working/lib/python3.9/site-packages/pandas/core/indexing.py\u001b[0m in \u001b[0;36m_getitem_axis\u001b[0;34m(self, key, axis)\u001b[0m\n\u001b[1;32m   1110\u001b[0m                     \u001b[0;32mraise\u001b[0m \u001b[0mValueError\u001b[0m\u001b[0;34m(\u001b[0m\u001b[0;34m\"Cannot index with multidimensional key\"\u001b[0m\u001b[0;34m)\u001b[0m\u001b[0;34m\u001b[0m\u001b[0;34m\u001b[0m\u001b[0m\n\u001b[1;32m   1111\u001b[0m \u001b[0;34m\u001b[0m\u001b[0m\n\u001b[0;32m-> 1112\u001b[0;31m                 \u001b[0;32mreturn\u001b[0m \u001b[0mself\u001b[0m\u001b[0;34m.\u001b[0m\u001b[0m_getitem_iterable\u001b[0m\u001b[0;34m(\u001b[0m\u001b[0mkey\u001b[0m\u001b[0;34m,\u001b[0m \u001b[0maxis\u001b[0m\u001b[0;34m=\u001b[0m\u001b[0maxis\u001b[0m\u001b[0;34m)\u001b[0m\u001b[0;34m\u001b[0m\u001b[0;34m\u001b[0m\u001b[0m\n\u001b[0m\u001b[1;32m   1113\u001b[0m \u001b[0;34m\u001b[0m\u001b[0m\n\u001b[1;32m   1114\u001b[0m             \u001b[0;31m# nested tuple slicing\u001b[0m\u001b[0;34m\u001b[0m\u001b[0;34m\u001b[0m\u001b[0;34m\u001b[0m\u001b[0m\n",
      "\u001b[0;32m~/anaconda3/envs/working/lib/python3.9/site-packages/pandas/core/indexing.py\u001b[0m in \u001b[0;36m_getitem_iterable\u001b[0;34m(self, key, axis)\u001b[0m\n\u001b[1;32m   1050\u001b[0m \u001b[0;34m\u001b[0m\u001b[0m\n\u001b[1;32m   1051\u001b[0m         \u001b[0;31m# A collection of keys\u001b[0m\u001b[0;34m\u001b[0m\u001b[0;34m\u001b[0m\u001b[0;34m\u001b[0m\u001b[0m\n\u001b[0;32m-> 1052\u001b[0;31m         \u001b[0mkeyarr\u001b[0m\u001b[0;34m,\u001b[0m \u001b[0mindexer\u001b[0m \u001b[0;34m=\u001b[0m \u001b[0mself\u001b[0m\u001b[0;34m.\u001b[0m\u001b[0m_get_listlike_indexer\u001b[0m\u001b[0;34m(\u001b[0m\u001b[0mkey\u001b[0m\u001b[0;34m,\u001b[0m \u001b[0maxis\u001b[0m\u001b[0;34m,\u001b[0m \u001b[0mraise_missing\u001b[0m\u001b[0;34m=\u001b[0m\u001b[0;32mFalse\u001b[0m\u001b[0;34m)\u001b[0m\u001b[0;34m\u001b[0m\u001b[0;34m\u001b[0m\u001b[0m\n\u001b[0m\u001b[1;32m   1053\u001b[0m         return self.obj._reindex_with_indexers(\n\u001b[1;32m   1054\u001b[0m             \u001b[0;34m{\u001b[0m\u001b[0maxis\u001b[0m\u001b[0;34m:\u001b[0m \u001b[0;34m[\u001b[0m\u001b[0mkeyarr\u001b[0m\u001b[0;34m,\u001b[0m \u001b[0mindexer\u001b[0m\u001b[0;34m]\u001b[0m\u001b[0;34m}\u001b[0m\u001b[0;34m,\u001b[0m \u001b[0mcopy\u001b[0m\u001b[0;34m=\u001b[0m\u001b[0;32mTrue\u001b[0m\u001b[0;34m,\u001b[0m \u001b[0mallow_dups\u001b[0m\u001b[0;34m=\u001b[0m\u001b[0;32mTrue\u001b[0m\u001b[0;34m\u001b[0m\u001b[0;34m\u001b[0m\u001b[0m\n",
      "\u001b[0;32m~/anaconda3/envs/working/lib/python3.9/site-packages/pandas/core/indexing.py\u001b[0m in \u001b[0;36m_get_listlike_indexer\u001b[0;34m(self, key, axis, raise_missing)\u001b[0m\n\u001b[1;32m   1263\u001b[0m             \u001b[0mkeyarr\u001b[0m\u001b[0;34m,\u001b[0m \u001b[0mindexer\u001b[0m\u001b[0;34m,\u001b[0m \u001b[0mnew_indexer\u001b[0m \u001b[0;34m=\u001b[0m \u001b[0max\u001b[0m\u001b[0;34m.\u001b[0m\u001b[0m_reindex_non_unique\u001b[0m\u001b[0;34m(\u001b[0m\u001b[0mkeyarr\u001b[0m\u001b[0;34m)\u001b[0m\u001b[0;34m\u001b[0m\u001b[0;34m\u001b[0m\u001b[0m\n\u001b[1;32m   1264\u001b[0m \u001b[0;34m\u001b[0m\u001b[0m\n\u001b[0;32m-> 1265\u001b[0;31m         \u001b[0mself\u001b[0m\u001b[0;34m.\u001b[0m\u001b[0m_validate_read_indexer\u001b[0m\u001b[0;34m(\u001b[0m\u001b[0mkeyarr\u001b[0m\u001b[0;34m,\u001b[0m \u001b[0mindexer\u001b[0m\u001b[0;34m,\u001b[0m \u001b[0maxis\u001b[0m\u001b[0;34m,\u001b[0m \u001b[0mraise_missing\u001b[0m\u001b[0;34m=\u001b[0m\u001b[0mraise_missing\u001b[0m\u001b[0;34m)\u001b[0m\u001b[0;34m\u001b[0m\u001b[0;34m\u001b[0m\u001b[0m\n\u001b[0m\u001b[1;32m   1266\u001b[0m         \u001b[0;32mreturn\u001b[0m \u001b[0mkeyarr\u001b[0m\u001b[0;34m,\u001b[0m \u001b[0mindexer\u001b[0m\u001b[0;34m\u001b[0m\u001b[0;34m\u001b[0m\u001b[0m\n\u001b[1;32m   1267\u001b[0m \u001b[0;34m\u001b[0m\u001b[0m\n",
      "\u001b[0;32m~/anaconda3/envs/working/lib/python3.9/site-packages/pandas/core/indexing.py\u001b[0m in \u001b[0;36m_validate_read_indexer\u001b[0;34m(self, key, indexer, axis, raise_missing)\u001b[0m\n\u001b[1;32m   1305\u001b[0m             \u001b[0;32mif\u001b[0m \u001b[0mmissing\u001b[0m \u001b[0;34m==\u001b[0m \u001b[0mlen\u001b[0m\u001b[0;34m(\u001b[0m\u001b[0mindexer\u001b[0m\u001b[0;34m)\u001b[0m\u001b[0;34m:\u001b[0m\u001b[0;34m\u001b[0m\u001b[0;34m\u001b[0m\u001b[0m\n\u001b[1;32m   1306\u001b[0m                 \u001b[0maxis_name\u001b[0m \u001b[0;34m=\u001b[0m \u001b[0mself\u001b[0m\u001b[0;34m.\u001b[0m\u001b[0mobj\u001b[0m\u001b[0;34m.\u001b[0m\u001b[0m_get_axis_name\u001b[0m\u001b[0;34m(\u001b[0m\u001b[0maxis\u001b[0m\u001b[0;34m)\u001b[0m\u001b[0;34m\u001b[0m\u001b[0;34m\u001b[0m\u001b[0m\n\u001b[0;32m-> 1307\u001b[0;31m                 \u001b[0;32mraise\u001b[0m \u001b[0mKeyError\u001b[0m\u001b[0;34m(\u001b[0m\u001b[0;34mf\"None of [{key}] are in the [{axis_name}]\"\u001b[0m\u001b[0;34m)\u001b[0m\u001b[0;34m\u001b[0m\u001b[0;34m\u001b[0m\u001b[0m\n\u001b[0m\u001b[1;32m   1308\u001b[0m \u001b[0;34m\u001b[0m\u001b[0m\n\u001b[1;32m   1309\u001b[0m             \u001b[0max\u001b[0m \u001b[0;34m=\u001b[0m \u001b[0mself\u001b[0m\u001b[0;34m.\u001b[0m\u001b[0mobj\u001b[0m\u001b[0;34m.\u001b[0m\u001b[0m_get_axis\u001b[0m\u001b[0;34m(\u001b[0m\u001b[0maxis\u001b[0m\u001b[0;34m)\u001b[0m\u001b[0;34m\u001b[0m\u001b[0;34m\u001b[0m\u001b[0m\n",
      "\u001b[0;31mKeyError\u001b[0m: \"None of [Index(['', 'Series', '', 'A Song of Ice and Fire #1 ', ''], dtype='object')] are in the [index]\""
     ]
    }
   ],
   "source": [
    "i = 0\n",
    "d = []\n",
    "for x in (df.SeriesName):\n",
    "        for r in range(0,len(df.SeriesName[x])):\n",
    "            c = df.SeriesName[x]\n",
    "            print(c)\n",
    "            d[r] =  re.split(\"\\n\", c[r])\n",
    "        df.SeriesName[x] = c\n",
    "        i = i +1"
   ]
  },
  {
   "cell_type": "code",
   "execution_count": 203,
   "metadata": {},
   "outputs": [
    {
     "output_type": "stream",
     "name": "stderr",
     "text": [
      "<ipython-input-200-12688cd6f5d0>:6: SettingWithCopyWarning: \nA value is trying to be set on a copy of a slice from a DataFrame\n\nSee the caveats in the documentation: https://pandas.pydata.org/pandas-docs/stable/user_guide/indexing.html#returning-a-view-versus-a-copy\n  columnname[i] = c\n"
     ]
    },
    {
     "output_type": "error",
     "ename": "TypeError",
     "evalue": "expected string or bytes-like object",
     "traceback": [
      "\u001b[0;31m---------------------------------------------------------------------------\u001b[0m",
      "\u001b[0;31mTypeError\u001b[0m                                 Traceback (most recent call last)",
      "\u001b[0;32m<ipython-input-203-f1dbdb5b7246>\u001b[0m in \u001b[0;36m<module>\u001b[0;34m\u001b[0m\n\u001b[0;32m----> 1\u001b[0;31m \u001b[0mstripsplit\u001b[0m\u001b[0;34m(\u001b[0m\u001b[0mdf\u001b[0m\u001b[0;34m.\u001b[0m\u001b[0mSeriesName\u001b[0m\u001b[0;34m)\u001b[0m\u001b[0;34m\u001b[0m\u001b[0;34m\u001b[0m\u001b[0m\n\u001b[0m",
      "\u001b[0;32m<ipython-input-200-12688cd6f5d0>\u001b[0m in \u001b[0;36mstripsplit\u001b[0;34m(columnname)\u001b[0m\n\u001b[1;32m      2\u001b[0m     \u001b[0mi\u001b[0m \u001b[0;34m=\u001b[0m \u001b[0;36m0\u001b[0m\u001b[0;34m\u001b[0m\u001b[0;34m\u001b[0m\u001b[0m\n\u001b[1;32m      3\u001b[0m     \u001b[0;32mfor\u001b[0m \u001b[0mx\u001b[0m \u001b[0;32min\u001b[0m \u001b[0;34m(\u001b[0m\u001b[0mcolumnname\u001b[0m\u001b[0;34m)\u001b[0m\u001b[0;34m:\u001b[0m\u001b[0;34m\u001b[0m\u001b[0;34m\u001b[0m\u001b[0m\n\u001b[0;32m----> 4\u001b[0;31m         \u001b[0mc\u001b[0m \u001b[0;34m=\u001b[0m  \u001b[0mre\u001b[0m\u001b[0;34m.\u001b[0m\u001b[0msplit\u001b[0m\u001b[0;34m(\u001b[0m\u001b[0;34m\"\\n\"\u001b[0m\u001b[0;34m,\u001b[0m \u001b[0mcolumnname\u001b[0m\u001b[0;34m[\u001b[0m\u001b[0mi\u001b[0m\u001b[0;34m]\u001b[0m\u001b[0;34m)\u001b[0m\u001b[0;34m\u001b[0m\u001b[0;34m\u001b[0m\u001b[0m\n\u001b[0m\u001b[1;32m      5\u001b[0m \u001b[0;34m\u001b[0m\u001b[0m\n\u001b[1;32m      6\u001b[0m         \u001b[0mcolumnname\u001b[0m\u001b[0;34m[\u001b[0m\u001b[0mi\u001b[0m\u001b[0;34m]\u001b[0m \u001b[0;34m=\u001b[0m \u001b[0mc\u001b[0m\u001b[0;34m\u001b[0m\u001b[0;34m\u001b[0m\u001b[0m\n",
      "\u001b[0;32m~/anaconda3/envs/working/lib/python3.9/re.py\u001b[0m in \u001b[0;36msplit\u001b[0;34m(pattern, string, maxsplit, flags)\u001b[0m\n\u001b[1;32m    229\u001b[0m     \u001b[0;32mand\u001b[0m \u001b[0mthe\u001b[0m \u001b[0mremainder\u001b[0m \u001b[0mof\u001b[0m \u001b[0mthe\u001b[0m \u001b[0mstring\u001b[0m \u001b[0;32mis\u001b[0m \u001b[0mreturned\u001b[0m \u001b[0;32mas\u001b[0m \u001b[0mthe\u001b[0m \u001b[0mfinal\u001b[0m \u001b[0melement\u001b[0m\u001b[0;34m\u001b[0m\u001b[0;34m\u001b[0m\u001b[0m\n\u001b[1;32m    230\u001b[0m     of the list.\"\"\"\n\u001b[0;32m--> 231\u001b[0;31m     \u001b[0;32mreturn\u001b[0m \u001b[0m_compile\u001b[0m\u001b[0;34m(\u001b[0m\u001b[0mpattern\u001b[0m\u001b[0;34m,\u001b[0m \u001b[0mflags\u001b[0m\u001b[0;34m)\u001b[0m\u001b[0;34m.\u001b[0m\u001b[0msplit\u001b[0m\u001b[0;34m(\u001b[0m\u001b[0mstring\u001b[0m\u001b[0;34m,\u001b[0m \u001b[0mmaxsplit\u001b[0m\u001b[0;34m)\u001b[0m\u001b[0;34m\u001b[0m\u001b[0;34m\u001b[0m\u001b[0m\n\u001b[0m\u001b[1;32m    232\u001b[0m \u001b[0;34m\u001b[0m\u001b[0m\n\u001b[1;32m    233\u001b[0m \u001b[0;32mdef\u001b[0m \u001b[0mfindall\u001b[0m\u001b[0;34m(\u001b[0m\u001b[0mpattern\u001b[0m\u001b[0;34m,\u001b[0m \u001b[0mstring\u001b[0m\u001b[0;34m,\u001b[0m \u001b[0mflags\u001b[0m\u001b[0;34m=\u001b[0m\u001b[0;36m0\u001b[0m\u001b[0;34m)\u001b[0m\u001b[0;34m:\u001b[0m\u001b[0;34m\u001b[0m\u001b[0;34m\u001b[0m\u001b[0m\n",
      "\u001b[0;31mTypeError\u001b[0m: expected string or bytes-like object"
     ]
    }
   ],
   "source": [
    "stripsplit(df.SeriesName)"
   ]
  },
  {
   "source": [
    "ret_value = \"first\" in gr\n",
    "print(ret_value)"
   ],
   "cell_type": "markdown",
   "metadata": {}
  },
  {
   "cell_type": "code",
   "execution_count": 36,
   "metadata": {},
   "outputs": [
    {
     "output_type": "execute_result",
     "data": {
      "text/plain": [
       "<bound method Tag.prettify of <html><body><p>[</p><div class=\"row\">\n",
       "            Published\n",
       "        September 25th 2012\n",
       "         by Ballantine Books\n",
       "\n",
       "            <nobr class=\"greyText\">\n",
       "              (first published October 20th 1955)\n",
       "            </nobr>\n",
       "</div>]</body></html>>"
      ]
     },
     "metadata": {},
     "execution_count": 36
    }
   ],
   "source": [
    "soup.prettify"
   ]
  },
  {
   "cell_type": "code",
   "execution_count": 37,
   "metadata": {},
   "outputs": [],
   "source": [
    "soup.find(class_=\"row\").text\n",
    "example = soup.find(class_=\"row\").text"
   ]
  },
  {
   "cell_type": "code",
   "execution_count": 38,
   "metadata": {},
   "outputs": [
    {
     "output_type": "stream",
     "name": "stdout",
     "text": [
      "\n              (first published October 20th 1955)\n            \n"
     ]
    }
   ],
   "source": [
    "txt=soup.find(class_=\"greyText\").text\n",
    "print(txt)"
   ]
  },
  {
   "cell_type": "code",
   "execution_count": 52,
   "metadata": {},
   "outputs": [
    {
     "output_type": "error",
     "ename": "error",
     "evalue": "unbalanced parenthesis at position 2",
     "traceback": [
      "\u001b[0;31m---------------------------------------------------------------------------\u001b[0m",
      "\u001b[0;31merror\u001b[0m                                     Traceback (most recent call last)",
      "\u001b[0;32m<ipython-input-52-2c4a06487aee>\u001b[0m in \u001b[0;36m<module>\u001b[0;34m\u001b[0m\n\u001b[1;32m      1\u001b[0m \u001b[0mresult1\u001b[0m \u001b[0;34m=\u001b[0m \u001b[0mre\u001b[0m\u001b[0;34m.\u001b[0m\u001b[0msub\u001b[0m\u001b[0;34m(\u001b[0m\u001b[0;34m\"\\(first published \"\u001b[0m\u001b[0;34m,\u001b[0m \u001b[0;34m\"\"\u001b[0m\u001b[0;34m,\u001b[0m \u001b[0mtxt\u001b[0m\u001b[0;34m)\u001b[0m\u001b[0;34m\u001b[0m\u001b[0;34m\u001b[0m\u001b[0m\n\u001b[0;32m----> 2\u001b[0;31m \u001b[0mresutl1\u001b[0m \u001b[0;34m=\u001b[0m \u001b[0mre\u001b[0m\u001b[0;34m.\u001b[0m\u001b[0msub\u001b[0m\u001b[0;34m(\u001b[0m\u001b[0;34m\"\\+)\"\u001b[0m\u001b[0;34m,\u001b[0m \u001b[0;34m\"\"\u001b[0m\u001b[0;34m,\u001b[0m \u001b[0mresult1\u001b[0m\u001b[0;34m)\u001b[0m\u001b[0;34m\u001b[0m\u001b[0;34m\u001b[0m\u001b[0m\n\u001b[0m\u001b[1;32m      3\u001b[0m \u001b[0mprint\u001b[0m\u001b[0;34m(\u001b[0m\u001b[0mresult1\u001b[0m\u001b[0;34m)\u001b[0m\u001b[0;34m\u001b[0m\u001b[0;34m\u001b[0m\u001b[0m\n",
      "\u001b[0;32m~/anaconda3/envs/working/lib/python3.9/re.py\u001b[0m in \u001b[0;36msub\u001b[0;34m(pattern, repl, string, count, flags)\u001b[0m\n\u001b[1;32m    208\u001b[0m     \u001b[0ma\u001b[0m \u001b[0mcallable\u001b[0m\u001b[0;34m,\u001b[0m \u001b[0mit\u001b[0m\u001b[0;31m'\u001b[0m\u001b[0ms\u001b[0m \u001b[0mpassed\u001b[0m \u001b[0mthe\u001b[0m \u001b[0mMatch\u001b[0m \u001b[0mobject\u001b[0m \u001b[0;32mand\u001b[0m \u001b[0mmust\u001b[0m \u001b[0;32mreturn\u001b[0m\u001b[0;34m\u001b[0m\u001b[0;34m\u001b[0m\u001b[0m\n\u001b[1;32m    209\u001b[0m     a replacement string to be used.\"\"\"\n\u001b[0;32m--> 210\u001b[0;31m     \u001b[0;32mreturn\u001b[0m \u001b[0m_compile\u001b[0m\u001b[0;34m(\u001b[0m\u001b[0mpattern\u001b[0m\u001b[0;34m,\u001b[0m \u001b[0mflags\u001b[0m\u001b[0;34m)\u001b[0m\u001b[0;34m.\u001b[0m\u001b[0msub\u001b[0m\u001b[0;34m(\u001b[0m\u001b[0mrepl\u001b[0m\u001b[0;34m,\u001b[0m \u001b[0mstring\u001b[0m\u001b[0;34m,\u001b[0m \u001b[0mcount\u001b[0m\u001b[0;34m)\u001b[0m\u001b[0;34m\u001b[0m\u001b[0;34m\u001b[0m\u001b[0m\n\u001b[0m\u001b[1;32m    211\u001b[0m \u001b[0;34m\u001b[0m\u001b[0m\n\u001b[1;32m    212\u001b[0m \u001b[0;32mdef\u001b[0m \u001b[0msubn\u001b[0m\u001b[0;34m(\u001b[0m\u001b[0mpattern\u001b[0m\u001b[0;34m,\u001b[0m \u001b[0mrepl\u001b[0m\u001b[0;34m,\u001b[0m \u001b[0mstring\u001b[0m\u001b[0;34m,\u001b[0m \u001b[0mcount\u001b[0m\u001b[0;34m=\u001b[0m\u001b[0;36m0\u001b[0m\u001b[0;34m,\u001b[0m \u001b[0mflags\u001b[0m\u001b[0;34m=\u001b[0m\u001b[0;36m0\u001b[0m\u001b[0;34m)\u001b[0m\u001b[0;34m:\u001b[0m\u001b[0;34m\u001b[0m\u001b[0;34m\u001b[0m\u001b[0m\n",
      "\u001b[0;32m~/anaconda3/envs/working/lib/python3.9/re.py\u001b[0m in \u001b[0;36m_compile\u001b[0;34m(pattern, flags)\u001b[0m\n\u001b[1;32m    302\u001b[0m     \u001b[0;32mif\u001b[0m \u001b[0;32mnot\u001b[0m \u001b[0msre_compile\u001b[0m\u001b[0;34m.\u001b[0m\u001b[0misstring\u001b[0m\u001b[0;34m(\u001b[0m\u001b[0mpattern\u001b[0m\u001b[0;34m)\u001b[0m\u001b[0;34m:\u001b[0m\u001b[0;34m\u001b[0m\u001b[0;34m\u001b[0m\u001b[0m\n\u001b[1;32m    303\u001b[0m         \u001b[0;32mraise\u001b[0m \u001b[0mTypeError\u001b[0m\u001b[0;34m(\u001b[0m\u001b[0;34m\"first argument must be string or compiled pattern\"\u001b[0m\u001b[0;34m)\u001b[0m\u001b[0;34m\u001b[0m\u001b[0;34m\u001b[0m\u001b[0m\n\u001b[0;32m--> 304\u001b[0;31m     \u001b[0mp\u001b[0m \u001b[0;34m=\u001b[0m \u001b[0msre_compile\u001b[0m\u001b[0;34m.\u001b[0m\u001b[0mcompile\u001b[0m\u001b[0;34m(\u001b[0m\u001b[0mpattern\u001b[0m\u001b[0;34m,\u001b[0m \u001b[0mflags\u001b[0m\u001b[0;34m)\u001b[0m\u001b[0;34m\u001b[0m\u001b[0;34m\u001b[0m\u001b[0m\n\u001b[0m\u001b[1;32m    305\u001b[0m     \u001b[0;32mif\u001b[0m \u001b[0;32mnot\u001b[0m \u001b[0;34m(\u001b[0m\u001b[0mflags\u001b[0m \u001b[0;34m&\u001b[0m \u001b[0mDEBUG\u001b[0m\u001b[0;34m)\u001b[0m\u001b[0;34m:\u001b[0m\u001b[0;34m\u001b[0m\u001b[0;34m\u001b[0m\u001b[0m\n\u001b[1;32m    306\u001b[0m         \u001b[0;32mif\u001b[0m \u001b[0mlen\u001b[0m\u001b[0;34m(\u001b[0m\u001b[0m_cache\u001b[0m\u001b[0;34m)\u001b[0m \u001b[0;34m>=\u001b[0m \u001b[0m_MAXCACHE\u001b[0m\u001b[0;34m:\u001b[0m\u001b[0;34m\u001b[0m\u001b[0;34m\u001b[0m\u001b[0m\n",
      "\u001b[0;32m~/anaconda3/envs/working/lib/python3.9/sre_compile.py\u001b[0m in \u001b[0;36mcompile\u001b[0;34m(p, flags)\u001b[0m\n\u001b[1;32m    762\u001b[0m     \u001b[0;32mif\u001b[0m \u001b[0misstring\u001b[0m\u001b[0;34m(\u001b[0m\u001b[0mp\u001b[0m\u001b[0;34m)\u001b[0m\u001b[0;34m:\u001b[0m\u001b[0;34m\u001b[0m\u001b[0;34m\u001b[0m\u001b[0m\n\u001b[1;32m    763\u001b[0m         \u001b[0mpattern\u001b[0m \u001b[0;34m=\u001b[0m \u001b[0mp\u001b[0m\u001b[0;34m\u001b[0m\u001b[0;34m\u001b[0m\u001b[0m\n\u001b[0;32m--> 764\u001b[0;31m         \u001b[0mp\u001b[0m \u001b[0;34m=\u001b[0m \u001b[0msre_parse\u001b[0m\u001b[0;34m.\u001b[0m\u001b[0mparse\u001b[0m\u001b[0;34m(\u001b[0m\u001b[0mp\u001b[0m\u001b[0;34m,\u001b[0m \u001b[0mflags\u001b[0m\u001b[0;34m)\u001b[0m\u001b[0;34m\u001b[0m\u001b[0;34m\u001b[0m\u001b[0m\n\u001b[0m\u001b[1;32m    765\u001b[0m     \u001b[0;32melse\u001b[0m\u001b[0;34m:\u001b[0m\u001b[0;34m\u001b[0m\u001b[0;34m\u001b[0m\u001b[0m\n\u001b[1;32m    766\u001b[0m         \u001b[0mpattern\u001b[0m \u001b[0;34m=\u001b[0m \u001b[0;32mNone\u001b[0m\u001b[0;34m\u001b[0m\u001b[0;34m\u001b[0m\u001b[0m\n",
      "\u001b[0;32m~/anaconda3/envs/working/lib/python3.9/sre_parse.py\u001b[0m in \u001b[0;36mparse\u001b[0;34m(str, flags, state)\u001b[0m\n\u001b[1;32m    960\u001b[0m     \u001b[0;32mif\u001b[0m \u001b[0msource\u001b[0m\u001b[0;34m.\u001b[0m\u001b[0mnext\u001b[0m \u001b[0;32mis\u001b[0m \u001b[0;32mnot\u001b[0m \u001b[0;32mNone\u001b[0m\u001b[0;34m:\u001b[0m\u001b[0;34m\u001b[0m\u001b[0;34m\u001b[0m\u001b[0m\n\u001b[1;32m    961\u001b[0m         \u001b[0;32massert\u001b[0m \u001b[0msource\u001b[0m\u001b[0;34m.\u001b[0m\u001b[0mnext\u001b[0m \u001b[0;34m==\u001b[0m \u001b[0;34m\")\"\u001b[0m\u001b[0;34m\u001b[0m\u001b[0;34m\u001b[0m\u001b[0m\n\u001b[0;32m--> 962\u001b[0;31m         \u001b[0;32mraise\u001b[0m \u001b[0msource\u001b[0m\u001b[0;34m.\u001b[0m\u001b[0merror\u001b[0m\u001b[0;34m(\u001b[0m\u001b[0;34m\"unbalanced parenthesis\"\u001b[0m\u001b[0;34m)\u001b[0m\u001b[0;34m\u001b[0m\u001b[0;34m\u001b[0m\u001b[0m\n\u001b[0m\u001b[1;32m    963\u001b[0m \u001b[0;34m\u001b[0m\u001b[0m\n\u001b[1;32m    964\u001b[0m     \u001b[0;32mif\u001b[0m \u001b[0mflags\u001b[0m \u001b[0;34m&\u001b[0m \u001b[0mSRE_FLAG_DEBUG\u001b[0m\u001b[0;34m:\u001b[0m\u001b[0;34m\u001b[0m\u001b[0;34m\u001b[0m\u001b[0m\n",
      "\u001b[0;31merror\u001b[0m: unbalanced parenthesis at position 2"
     ]
    }
   ],
   "source": [
    "result1 = re.sub(\"\\(first published \", \"\", txt)\n",
    "resutl1 = re.sub(\"\\)\", \"\", result1)\n",
    "print(result1)"
   ]
  },
  {
   "cell_type": "code",
   "execution_count": null,
   "metadata": {},
   "outputs": [],
   "source": [
    "ret_value = \"first\" in gr\n",
    "print(ret_value)\n",
    "\n",
    "if (ret_value == True):\n",
    "    capture = soup.find(class_=\"greyText\").text\n",
    "    split_date = r\n",
    "    \n",
    "else:\n",
    "    soup.find(class_=\"row\").text\n",
    "    split_date = re.split(\"\\n\", capture)"
   ]
  },
  {
   "cell_type": "code",
   "execution_count": 35,
   "metadata": {},
   "outputs": [],
   "source": [
    "def getDate(x):\n",
    "    c = df.VerifyDate[x]\n",
    "    soup = BeautifulSoup(c)\n",
    "    try:\n",
    "        df.VerifyDate[x] = soup.get_text()\n",
    "    except:\n",
    "        print('i dont know')\n",
    "    "
   ]
  },
  {
   "cell_type": "code",
   "execution_count": 33,
   "metadata": {},
   "outputs": [
    {
     "output_type": "stream",
     "name": "stderr",
     "text": [
      "<ipython-input-32-d035331499b5>:5: SettingWithCopyWarning: \nA value is trying to be set on a copy of a slice from a DataFrame\n\nSee the caveats in the documentation: https://pandas.pydata.org/pandas-docs/stable/user_guide/indexing.html#returning-a-view-versus-a-copy\n  df.VerifyDate[x] = soup.get_text()\n"
     ]
    },
    {
     "output_type": "error",
     "ename": "ValueError",
     "evalue": "Length of passed values is 1100, index implies 1101.",
     "traceback": [
      "\u001b[0;31m---------------------------------------------------------------------------\u001b[0m",
      "\u001b[0;31mValueError\u001b[0m                                Traceback (most recent call last)",
      "\u001b[0;32m<ipython-input-33-307bd481c7e2>\u001b[0m in \u001b[0;36m<module>\u001b[0;34m\u001b[0m\n\u001b[0;32m----> 1\u001b[0;31m \u001b[0mdf\u001b[0m\u001b[0;34m.\u001b[0m\u001b[0mVerifyDate\u001b[0m\u001b[0;34m.\u001b[0m\u001b[0mapply\u001b[0m\u001b[0;34m(\u001b[0m\u001b[0;32mlambda\u001b[0m \u001b[0mx\u001b[0m\u001b[0;34m:\u001b[0m\u001b[0;34m(\u001b[0m\u001b[0mgetDate\u001b[0m\u001b[0;34m(\u001b[0m\u001b[0mx\u001b[0m\u001b[0;34m)\u001b[0m\u001b[0;34m)\u001b[0m\u001b[0;34m)\u001b[0m\u001b[0;34m\u001b[0m\u001b[0;34m\u001b[0m\u001b[0m\n\u001b[0m",
      "\u001b[0;32m~/anaconda3/envs/working/lib/python3.9/site-packages/pandas/core/series.py\u001b[0m in \u001b[0;36mapply\u001b[0;34m(self, func, convert_dtype, args, **kwds)\u001b[0m\n\u001b[1;32m   4113\u001b[0m             \u001b[0;32mreturn\u001b[0m \u001b[0mself\u001b[0m\u001b[0;34m.\u001b[0m\u001b[0m_constructor_expanddim\u001b[0m\u001b[0;34m(\u001b[0m\u001b[0mpd_array\u001b[0m\u001b[0;34m(\u001b[0m\u001b[0mmapped\u001b[0m\u001b[0;34m)\u001b[0m\u001b[0;34m,\u001b[0m \u001b[0mindex\u001b[0m\u001b[0;34m=\u001b[0m\u001b[0mself\u001b[0m\u001b[0;34m.\u001b[0m\u001b[0mindex\u001b[0m\u001b[0;34m)\u001b[0m\u001b[0;34m\u001b[0m\u001b[0;34m\u001b[0m\u001b[0m\n\u001b[1;32m   4114\u001b[0m         \u001b[0;32melse\u001b[0m\u001b[0;34m:\u001b[0m\u001b[0;34m\u001b[0m\u001b[0;34m\u001b[0m\u001b[0m\n\u001b[0;32m-> 4115\u001b[0;31m             return self._constructor(mapped, index=self.index).__finalize__(\n\u001b[0m\u001b[1;32m   4116\u001b[0m                 \u001b[0mself\u001b[0m\u001b[0;34m,\u001b[0m \u001b[0mmethod\u001b[0m\u001b[0;34m=\u001b[0m\u001b[0;34m\"apply\"\u001b[0m\u001b[0;34m\u001b[0m\u001b[0;34m\u001b[0m\u001b[0m\n\u001b[1;32m   4117\u001b[0m             )\n",
      "\u001b[0;32m~/anaconda3/envs/working/lib/python3.9/site-packages/pandas/core/series.py\u001b[0m in \u001b[0;36m__init__\u001b[0;34m(self, data, index, dtype, name, copy, fastpath)\u001b[0m\n\u001b[1;32m    319\u001b[0m                 \u001b[0;32mtry\u001b[0m\u001b[0;34m:\u001b[0m\u001b[0;34m\u001b[0m\u001b[0;34m\u001b[0m\u001b[0m\n\u001b[1;32m    320\u001b[0m                     \u001b[0;32mif\u001b[0m \u001b[0mlen\u001b[0m\u001b[0;34m(\u001b[0m\u001b[0mindex\u001b[0m\u001b[0;34m)\u001b[0m \u001b[0;34m!=\u001b[0m \u001b[0mlen\u001b[0m\u001b[0;34m(\u001b[0m\u001b[0mdata\u001b[0m\u001b[0;34m)\u001b[0m\u001b[0;34m:\u001b[0m\u001b[0;34m\u001b[0m\u001b[0;34m\u001b[0m\u001b[0m\n\u001b[0;32m--> 321\u001b[0;31m                         raise ValueError(\n\u001b[0m\u001b[1;32m    322\u001b[0m                             \u001b[0;34mf\"Length of passed values is {len(data)}, \"\u001b[0m\u001b[0;34m\u001b[0m\u001b[0;34m\u001b[0m\u001b[0m\n\u001b[1;32m    323\u001b[0m                             \u001b[0;34mf\"index implies {len(index)}.\"\u001b[0m\u001b[0;34m\u001b[0m\u001b[0;34m\u001b[0m\u001b[0m\n",
      "\u001b[0;31mValueError\u001b[0m: Length of passed values is 1100, index implies 1101."
     ]
    }
   ],
   "source": [
    "df.VerifyDate.apply(lambda x:(getDate(x)))"
   ]
  },
  {
   "cell_type": "code",
   "execution_count": 36,
   "metadata": {},
   "outputs": [
    {
     "output_type": "stream",
     "name": "stderr",
     "text": [
      "<ipython-input-35-7c1900f71849>:5: SettingWithCopyWarning: \nA value is trying to be set on a copy of a slice from a DataFrame\n\nSee the caveats in the documentation: https://pandas.pydata.org/pandas-docs/stable/user_guide/indexing.html#returning-a-view-versus-a-copy\n  df.VerifyDate[x] = soup.get_text()\n"
     ]
    }
   ],
   "source": [
    "for x in range(0,len(df.VerifyDate)):\n",
    "    getDate(x)\n"
   ]
  },
  {
   "cell_type": "code",
   "execution_count": 37,
   "metadata": {},
   "outputs": [
    {
     "output_type": "execute_result",
     "data": {
      "text/plain": [
       "   Unnamed: 0                                               name  \\\n",
       "0           0     A Game of Thrones (A Song of Ice and Fire, #1)   \n",
       "1           1    J.R.R. Tolkien 4-Book Boxed Set: The Hobbit ...   \n",
       "2           2    The Name of the Wind (The Kingkiller Chronic...   \n",
       "3           3      The Way of Kings (The Stormlight Archive, #1)   \n",
       "\n",
       "                                 author number of ratings  \\\n",
       "0                    George R.R. Martin         2,049,108   \n",
       "1                        J.R.R. Tolkien           112,537   \n",
       "2   Patrick Rothfuss (Goodreads Author)           740,343   \n",
       "3  Brandon Sanderson (Goodreads Author)           320,338   \n",
       "\n",
       "                                                 url avg_ratings  id  \\\n",
       "0  https://www.goodreads.com//book/show/13496.A_G...        4.45   0   \n",
       "1  https://www.goodreads.com//book/show/30.J_R_R_...         4.6   1   \n",
       "2  https://www.goodreads.com//book/show/186074.Th...        4.52   2   \n",
       "3  https://www.goodreads.com//book/show/7235533-t...        4.62   3   \n",
       "\n",
       "                       Num_pages  \\\n",
       "0                      835 pages   \n",
       "1  Hobbit Movie Tie-in Boxed set   \n",
       "2                      662 pages   \n",
       "3                     1007 pages   \n",
       "\n",
       "                                        Verify_pages  \\\n",
       "0             ['Mass Market Paperback', '835 pages']   \n",
       "1  ['Mass Market Paperback', 'Hobbit Movie Tie-in...   \n",
       "2                         ['Hardcover', '662 pages']   \n",
       "3                        ['Hardcover', '1007 pages']   \n",
       "\n",
       "                                              Awards  \\\n",
       "0  ['Nebula Award Nominee for Best Novel (1997)',...   \n",
       "1                                                 []   \n",
       "2  ['Locus Award Nominee for Best First Novel and...   \n",
       "3  ['Locus Award Nominee for Best Fantasy Novel (...   \n",
       "\n",
       "                                               Genre  \\\n",
       "0  ['Fantasy', 'Fiction', 'Fantasy', 'Epic Fantas...   \n",
       "1  ['Fantasy', 'Fiction', 'Classics', 'Adventure'...   \n",
       "2  ['Fantasy', 'Fiction', 'Fantasy', 'Epic Fantas...   \n",
       "3  ['Fantasy', 'Fiction', 'Fantasy', 'Epic Fantas...   \n",
       "\n",
       "                         Setting  \\\n",
       "0  ['The Lands of Ice and Fire']   \n",
       "1               ['Middle-earth']   \n",
       "2                             []   \n",
       "3                     ['Roshar']   \n",
       "\n",
       "                                       OriginalPDate  \\\n",
       "0  ['\\n              (first published August 6th ...   \n",
       "1  ['\\n              (first published October 20t...   \n",
       "2  ['\\n              (first published March 27th ...   \n",
       "3                                                 []   \n",
       "\n",
       "                                          VerifyDate  Series  \\\n",
       "0  [\\n            Published\\n        August 2005\\...    True   \n",
       "1  [\\n            Published\\n        September 25...    True   \n",
       "2  [\\n            Published\\n        April 2007\\n...    True   \n",
       "3  [\\n            Published\\n        August 31st ...    True   \n",
       "\n",
       "                                          SeriesName  \\\n",
       "0           \\nSeries\\n\\nA Song of Ice and Fire #1 \\n   \n",
       "1  \\nSeries\\n\\nThe Lord of the Rings #0-3, Middle...   \n",
       "2         \\nSeries\\n\\nThe Kingkiller Chronicle #1 \\n   \n",
       "3  \\nSeries\\n\\nThe Stormlight Archive #1, The Cos...   \n",
       "\n",
       "                                                ISBN  \\\n",
       "0  \\nISBN\\n\\n                  0553588486\\n      ...   \n",
       "1  \\nISBN\\n\\n                  0345538374\\n      ...   \n",
       "2  \\nISBN\\n\\n                  075640407X\\n      ...   \n",
       "3  \\nISBN\\n\\n                  0765326353\\n      ...   \n",
       "\n",
       "                                         Description  \n",
       "0  Here is the first volume in George R. R. Marti...  \n",
       "1  This four-volume, boxed set contains J.R.R. To...  \n",
       "2  Told in Kvothe's own voice, this is the tale o...  \n",
       "3  From #1 New York Times bestselling author Bran...  "
      ],
      "text/html": "<div>\n<style scoped>\n    .dataframe tbody tr th:only-of-type {\n        vertical-align: middle;\n    }\n\n    .dataframe tbody tr th {\n        vertical-align: top;\n    }\n\n    .dataframe thead th {\n        text-align: right;\n    }\n</style>\n<table border=\"1\" class=\"dataframe\">\n  <thead>\n    <tr style=\"text-align: right;\">\n      <th></th>\n      <th>Unnamed: 0</th>\n      <th>name</th>\n      <th>author</th>\n      <th>number of ratings</th>\n      <th>url</th>\n      <th>avg_ratings</th>\n      <th>id</th>\n      <th>Num_pages</th>\n      <th>Verify_pages</th>\n      <th>Awards</th>\n      <th>Genre</th>\n      <th>Setting</th>\n      <th>OriginalPDate</th>\n      <th>VerifyDate</th>\n      <th>Series</th>\n      <th>SeriesName</th>\n      <th>ISBN</th>\n      <th>Description</th>\n    </tr>\n  </thead>\n  <tbody>\n    <tr>\n      <th>0</th>\n      <td>0</td>\n      <td>A Game of Thrones (A Song of Ice and Fire, #1)</td>\n      <td>George R.R. Martin</td>\n      <td>2,049,108</td>\n      <td>https://www.goodreads.com//book/show/13496.A_G...</td>\n      <td>4.45</td>\n      <td>0</td>\n      <td>835 pages</td>\n      <td>['Mass Market Paperback', '835 pages']</td>\n      <td>['Nebula Award Nominee for Best Novel (1997)',...</td>\n      <td>['Fantasy', 'Fiction', 'Fantasy', 'Epic Fantas...</td>\n      <td>['The Lands of Ice and Fire']</td>\n      <td>['\\n              (first published August 6th ...</td>\n      <td>[\\n            Published\\n        August 2005\\...</td>\n      <td>True</td>\n      <td>\\nSeries\\n\\nA Song of Ice and Fire #1 \\n</td>\n      <td>\\nISBN\\n\\n                  0553588486\\n      ...</td>\n      <td>Here is the first volume in George R. R. Marti...</td>\n    </tr>\n    <tr>\n      <th>1</th>\n      <td>1</td>\n      <td>J.R.R. Tolkien 4-Book Boxed Set: The Hobbit ...</td>\n      <td>J.R.R. Tolkien</td>\n      <td>112,537</td>\n      <td>https://www.goodreads.com//book/show/30.J_R_R_...</td>\n      <td>4.6</td>\n      <td>1</td>\n      <td>Hobbit Movie Tie-in Boxed set</td>\n      <td>['Mass Market Paperback', 'Hobbit Movie Tie-in...</td>\n      <td>[]</td>\n      <td>['Fantasy', 'Fiction', 'Classics', 'Adventure'...</td>\n      <td>['Middle-earth']</td>\n      <td>['\\n              (first published October 20t...</td>\n      <td>[\\n            Published\\n        September 25...</td>\n      <td>True</td>\n      <td>\\nSeries\\n\\nThe Lord of the Rings #0-3, Middle...</td>\n      <td>\\nISBN\\n\\n                  0345538374\\n      ...</td>\n      <td>This four-volume, boxed set contains J.R.R. To...</td>\n    </tr>\n    <tr>\n      <th>2</th>\n      <td>2</td>\n      <td>The Name of the Wind (The Kingkiller Chronic...</td>\n      <td>Patrick Rothfuss (Goodreads Author)</td>\n      <td>740,343</td>\n      <td>https://www.goodreads.com//book/show/186074.Th...</td>\n      <td>4.52</td>\n      <td>2</td>\n      <td>662 pages</td>\n      <td>['Hardcover', '662 pages']</td>\n      <td>['Locus Award Nominee for Best First Novel and...</td>\n      <td>['Fantasy', 'Fiction', 'Fantasy', 'Epic Fantas...</td>\n      <td>[]</td>\n      <td>['\\n              (first published March 27th ...</td>\n      <td>[\\n            Published\\n        April 2007\\n...</td>\n      <td>True</td>\n      <td>\\nSeries\\n\\nThe Kingkiller Chronicle #1 \\n</td>\n      <td>\\nISBN\\n\\n                  075640407X\\n      ...</td>\n      <td>Told in Kvothe's own voice, this is the tale o...</td>\n    </tr>\n    <tr>\n      <th>3</th>\n      <td>3</td>\n      <td>The Way of Kings (The Stormlight Archive, #1)</td>\n      <td>Brandon Sanderson (Goodreads Author)</td>\n      <td>320,338</td>\n      <td>https://www.goodreads.com//book/show/7235533-t...</td>\n      <td>4.62</td>\n      <td>3</td>\n      <td>1007 pages</td>\n      <td>['Hardcover', '1007 pages']</td>\n      <td>['Locus Award Nominee for Best Fantasy Novel (...</td>\n      <td>['Fantasy', 'Fiction', 'Fantasy', 'Epic Fantas...</td>\n      <td>['Roshar']</td>\n      <td>[]</td>\n      <td>[\\n            Published\\n        August 31st ...</td>\n      <td>True</td>\n      <td>\\nSeries\\n\\nThe Stormlight Archive #1, The Cos...</td>\n      <td>\\nISBN\\n\\n                  0765326353\\n      ...</td>\n      <td>From #1 New York Times bestselling author Bran...</td>\n    </tr>\n  </tbody>\n</table>\n</div>"
     },
     "metadata": {},
     "execution_count": 37
    }
   ],
   "source": [
    "df.head(4)"
   ]
  },
  {
   "cell_type": "code",
   "execution_count": 38,
   "metadata": {},
   "outputs": [],
   "source": [
    "df.to_csv(\"Closer-clean-1.csv\", index=True)"
   ]
  },
  {
   "cell_type": "code",
   "execution_count": null,
   "metadata": {},
   "outputs": [],
   "source": []
  },
  {
   "cell_type": "code",
   "execution_count": 182,
   "metadata": {},
   "outputs": [
    {
     "output_type": "execute_result",
     "data": {
      "text/plain": [
       "0       \\nISBN\\n\\n                  0553588486\\n      ...\n",
       "1       \\nISBN\\n\\n                  0345538374\\n      ...\n",
       "2       \\nISBN\\n\\n                  075640407X\\n      ...\n",
       "3       \\nISBN\\n\\n                  0765326353\\n      ...\n",
       "4                                                     NaN\n",
       "                              ...                        \n",
       "1095    \\nISBN\\n\\n                  0345363310\\n      ...\n",
       "1096                                                  NaN\n",
       "1097    \\nISBN\\n\\n                  1416520864\\n      ...\n",
       "1098                            \\nISBN13\\n9781945238079\\n\n",
       "1099    \\nISBN\\n\\n                  1781085587\\n      ...\n",
       "Name: ISBN, Length: 1100, dtype: object"
      ]
     },
     "metadata": {},
     "execution_count": 182
    }
   ],
   "source": [
    "df.ISBN"
   ]
  },
  {
   "cell_type": "code",
   "execution_count": 44,
   "metadata": {},
   "outputs": [
    {
     "output_type": "stream",
     "name": "stdout",
     "text": [
      "\nISBN\n\n                  075640407X\n                      (ISBN13: 9780756404079)\n\n\n"
     ]
    },
    {
     "output_type": "execute_result",
     "data": {
      "text/plain": [
       "['',\n",
       " 'ISBN',\n",
       " '',\n",
       " '                  075640407X',\n",
       " '                      (ISBN13: 9780756404079)',\n",
       " '',\n",
       " '']"
      ]
     },
     "metadata": {},
     "execution_count": 44
    }
   ],
   "source": [
    "temp = df.ISBN[2]\n",
    "print(temp)\n",
    "splitISBN = re.split(\"\\n\", temp)\n",
    "splitISBN\n",
    "\n"
   ]
  },
  {
   "cell_type": "code",
   "execution_count": 80,
   "metadata": {},
   "outputs": [],
   "source": [
    "def correctISBN(x):\n",
    "   \n",
    "    try:\n",
    "        split_ISBN = re.split(\"\\n\", x)\n",
    "        x = split_ISBN[4]\n",
    "        return x\n",
    "      \n",
    "    except:\n",
    "     print('Na')\n",
    "    "
   ]
  },
  {
   "cell_type": "code",
   "execution_count": 82,
   "metadata": {
    "tags": []
   },
   "outputs": [
    {
     "output_type": "stream",
     "name": "stdout",
     "text": [
      "Na\nNa\nNa\nNa\nNa\nNa\nNa\nNa\nNa\nNa\nNa\nNa\nNa\nNa\nNa\nNa\nNa\nNa\nNa\nNa\nNa\nNa\nNa\nNa\nNa\nNa\nNa\nNa\nNa\nNa\nNa\nNa\nNa\nNa\nNa\nNa\nNa\nNa\nNa\nNa\nNa\nNa\nNa\nNa\nNa\nNa\nNa\nNa\nNa\nNa\nNa\nNa\nNa\nNa\nNa\nNa\nNa\nNa\nNa\nNa\nNa\nNa\nNa\nNa\nNa\nNa\nNa\nNa\nNa\nNa\nNa\nNa\nNa\nNa\nNa\nNa\nNa\nNa\nNa\nNa\nNa\nNa\nNa\nNa\nNa\nNa\nNa\nNa\nNa\nNa\nNa\nNa\nNa\nNa\nNa\nNa\nNa\nNa\nNa\nNa\nNa\nNa\nNa\nNa\nNa\nNa\nNa\nNa\nNa\nNa\nNa\nNa\nNa\nNa\nNa\nNa\nNa\nNa\nNa\nNa\nNa\nNa\nNa\nNa\nNa\nNa\nNa\nNa\nNa\nNa\nNa\nNa\nNa\nNa\nNa\nNa\nNa\nNa\nNa\nNa\nNa\nNa\nNa\nNa\nNa\nNa\nNa\nNa\nNa\nNa\nNa\nNa\nNa\nNa\nNa\nNa\nNa\nNa\nNa\nNa\nNa\nNa\nNa\nNa\nNa\nNa\nNa\nNa\nNa\nNa\nNa\nNa\nNa\nNa\nNa\nNa\nNa\nNa\nNa\nNa\nNa\nNa\nNa\nNa\nNa\nNa\nNa\nNa\nNa\nNa\nNa\nNa\nNa\nNa\nNa\nNa\nNa\nNa\nNa\nNa\nNa\nNa\nNa\nNa\nNa\nNa\nNa\nNa\n"
     ]
    }
   ],
   "source": [
    "df.ISBN = df.ISBN.apply(lambda x:(correctISBN(x)))"
   ]
  },
  {
   "cell_type": "code",
   "execution_count": 83,
   "metadata": {},
   "outputs": [
    {
     "output_type": "execute_result",
     "data": {
      "text/plain": [
       "    Unnamed: 0                                               name  \\\n",
       "0            0     A Game of Thrones (A Song of Ice and Fire, #1)   \n",
       "1            1    J.R.R. Tolkien 4-Book Boxed Set: The Hobbit ...   \n",
       "2            2    The Name of the Wind (The Kingkiller Chronic...   \n",
       "3            3      The Way of Kings (The Stormlight Archive, #1)   \n",
       "4            4    The Chronicles of Narnia (Chronicles of Narn...   \n",
       "5            5       The Eye of the World (The Wheel of Time, #1)   \n",
       "6            6                    The Final Empire (Mistborn, #1)   \n",
       "7            7       His Dark Materials (His Dark Materials #1-3)   \n",
       "8            8                 Eragon (The Inheritance Cycle, #1)   \n",
       "9            9        Assassin's Apprentice (Farseer Trilogy, #1)   \n",
       "10          10    The Lies of Locke Lamora (Gentleman Bastard,...   \n",
       "11          11                                     The Gunslinger   \n",
       "12          12           Wizard's First Rule (Sword of Truth, #1)   \n",
       "13          13               The Blade Itself (The First Law, #1)   \n",
       "\n",
       "                                    author number of ratings  \\\n",
       "0                       George R.R. Martin         2,049,108   \n",
       "1                           J.R.R. Tolkien           112,537   \n",
       "2      Patrick Rothfuss (Goodreads Author)           740,343   \n",
       "3     Brandon Sanderson (Goodreads Author)           320,338   \n",
       "4                               C.S. Lewis           533,551   \n",
       "5                            Robert Jordan           402,995   \n",
       "6     Brandon Sanderson (Goodreads Author)           420,227   \n",
       "7                           Philip Pullman           147,524   \n",
       "8   Christopher Paolini (Goodreads Author)         1,471,674   \n",
       "9            Robin Hobb (Goodreads Author)           242,303   \n",
       "10          Scott Lynch (Goodreads Author)           233,063   \n",
       "11         Stephen King (Goodreads Author)           525,772   \n",
       "12                          Terry Goodkind           232,786   \n",
       "13                         Joe Abercrombie           171,383   \n",
       "\n",
       "                                                  url avg_ratings  id  \\\n",
       "0   https://www.goodreads.com//book/show/13496.A_G...        4.45   0   \n",
       "1   https://www.goodreads.com//book/show/30.J_R_R_...         4.6   1   \n",
       "2   https://www.goodreads.com//book/show/186074.Th...        4.52   2   \n",
       "3   https://www.goodreads.com//book/show/7235533-t...        4.62   3   \n",
       "4   https://www.goodreads.com//book/show/11127.The...        4.26   4   \n",
       "5   https://www.goodreads.com//book/show/228665.Th...        4.17   5   \n",
       "6   https://www.goodreads.com//book/show/68428.The...        4.44   6   \n",
       "7   https://www.goodreads.com//book/show/18116.His...        4.25   7   \n",
       "8   https://www.goodreads.com//book/show/113436.Er...        3.91   8   \n",
       "9   https://www.goodreads.com//book/show/77197.Ass...        4.15   9   \n",
       "10  https://www.goodreads.com//book/show/29588376-...        4.26  10   \n",
       "11  https://www.goodreads.com//book/show/43615.The...        3.94  11   \n",
       "12  https://www.goodreads.com//book/show/43889.Wiz...        4.12  12   \n",
       "13  https://www.goodreads.com//book/show/944073.Th...        4.16  13   \n",
       "\n",
       "                          Num_pages  \\\n",
       "0                         835 pages   \n",
       "1     Hobbit Movie Tie-in Boxed set   \n",
       "2                         662 pages   \n",
       "3                        1007 pages   \n",
       "4                   Reissue Edition   \n",
       "5                         814 pages   \n",
       "6                         544 pages   \n",
       "7                        1088 pages   \n",
       "8                         503 pages   \n",
       "9                         435 pages   \n",
       "10                        752 pages   \n",
       "11  Plume Revised Edition (USA/CAN)   \n",
       "12                        836 pages   \n",
       "13                        515 pages   \n",
       "\n",
       "                                         Verify_pages  \\\n",
       "0              ['Mass Market Paperback', '835 pages']   \n",
       "1   ['Mass Market Paperback', 'Hobbit Movie Tie-in...   \n",
       "2                          ['Hardcover', '662 pages']   \n",
       "3                         ['Hardcover', '1007 pages']   \n",
       "4       ['Paperback', 'Reissue Edition', '767 pages']   \n",
       "5              ['Mass Market Paperback', '814 pages']   \n",
       "6                          ['Hardcover', '544 pages']   \n",
       "7             ['Mass Market Paperback', '1088 pages']   \n",
       "8                          ['Paperback', '503 pages']   \n",
       "9              ['Mass Market Paperback', '435 pages']   \n",
       "10                    ['Kindle Edition', '752 pages']   \n",
       "11  ['Paperback', 'Plume Revised Edition (USA/CAN)...   \n",
       "12                         ['Paperback', '836 pages']   \n",
       "13                         ['Paperback', '515 pages']   \n",
       "\n",
       "                                               Awards  \\\n",
       "0   ['Nebula Award Nominee for Best Novel (1997)',...   \n",
       "1                                                  []   \n",
       "2   ['Locus Award Nominee for Best First Novel and...   \n",
       "3   ['Locus Award Nominee for Best Fantasy Novel (...   \n",
       "4                                                  []   \n",
       "5   ['Locus Award Nominee for Best Fantasy Book (1...   \n",
       "6   ['Tähtifantasia Award Nominee (2018)', 'Prix E...   \n",
       "7   ['Literaturpreis der Jury der jungen Leser for...   \n",
       "8   [\"Book Sense Book of the Year Award for Childr...   \n",
       "9   ['Locus Award Nominee for Fantasy (1996)', 'Br...   \n",
       "10  ['Locus Award Nominee for Best Fantasy Novel a...   \n",
       "11                                                 []   \n",
       "12  ['Locus Award Nominee for Best first novel (19...   \n",
       "13  ['Locus Award Nominee for Best First Novel (20...   \n",
       "\n",
       "                                                Genre  \\\n",
       "0   ['Fantasy', 'Fiction', 'Fantasy', 'Epic Fantas...   \n",
       "1   ['Fantasy', 'Fiction', 'Classics', 'Adventure'...   \n",
       "2   ['Fantasy', 'Fiction', 'Fantasy', 'Epic Fantas...   \n",
       "3   ['Fantasy', 'Fiction', 'Fantasy', 'Epic Fantas...   \n",
       "4   ['Fantasy', 'Classics', 'Fiction', 'Young Adul...   \n",
       "5   ['Fantasy', 'Fiction', 'Fantasy', 'Epic Fantas...   \n",
       "6   ['Fantasy', 'Fiction', 'Fantasy', 'High Fantas...   \n",
       "7   ['Fantasy', 'Young Adult', 'Fiction', 'Childre...   \n",
       "8   ['Fantasy', 'Young Adult', 'Fiction', 'Fantasy...   \n",
       "9   ['Fantasy', 'Fiction', 'Fantasy', 'Epic Fantas...   \n",
       "10  ['Fantasy', 'Fiction', 'Adventure', 'Adult', '...   \n",
       "11  ['Fantasy', 'Fiction', 'Horror', 'Science Fict...   \n",
       "12  ['Fantasy', 'Fiction', 'Fantasy', 'Epic Fantas...   \n",
       "13  ['Fantasy', 'Fiction', 'Fantasy', 'Epic Fantas...   \n",
       "\n",
       "                                       Setting  \\\n",
       "0                ['The Lands of Ice and Fire']   \n",
       "1                             ['Middle-earth']   \n",
       "2                                           []   \n",
       "3                                   ['Roshar']   \n",
       "4                          ['London, England']   \n",
       "5   [\"Emond's Field\", 'Caemlyn', 'The Blight']   \n",
       "6                                 ['Luthadel']   \n",
       "7                          ['Oxford, England']   \n",
       "8                                ['Alagaësia']   \n",
       "9          ['Buckkeep', 'Moonseye', 'Neatbay']   \n",
       "10                                  ['Camorr']   \n",
       "11                                          []   \n",
       "12                                          []   \n",
       "13                                          []   \n",
       "\n",
       "                                        OriginalPDate  \\\n",
       "0   ['\\n              (first published August 6th ...   \n",
       "1   ['\\n              (first published October 20t...   \n",
       "2   ['\\n              (first published March 27th ...   \n",
       "3                                                  []   \n",
       "4   ['\\n              (first published 1956)\\n    ...   \n",
       "5   ['\\n              (first published January 15t...   \n",
       "6   ['\\n              (first published July 17th 2...   \n",
       "7   ['\\n              (first published November 20...   \n",
       "8   ['\\n              (first published June 2002)\\...   \n",
       "9   ['\\n              (first published May 1995)\\n...   \n",
       "10  ['\\n              (first published June 1st 20...   \n",
       "11  ['\\n              (first published June 1st 19...   \n",
       "12  ['\\n              (first published August 15th...   \n",
       "13  ['\\n              (first published May 4th 200...   \n",
       "\n",
       "                                           VerifyDate  Series  \\\n",
       "0   [<div class=\"row\">\\n            Published\\n   ...    True   \n",
       "1   [<div class=\"row\">\\n            Published\\n   ...    True   \n",
       "2   [<div class=\"row\">\\n            Published\\n   ...    True   \n",
       "3   [<div class=\"row\">\\n            Published\\n   ...    True   \n",
       "4   [<div class=\"row\">\\n            Published\\n   ...    True   \n",
       "5   [<div class=\"row\">\\n            Published\\n   ...    True   \n",
       "6   [<div class=\"row\">\\n            Published\\n   ...    True   \n",
       "7   [<div class=\"row\">\\n            Published\\n   ...    True   \n",
       "8   [<div class=\"row\">\\n            Published\\n   ...    True   \n",
       "9   [<div class=\"row\">\\n            Published\\n   ...    True   \n",
       "10  [<div class=\"row\">\\n            Published\\n   ...    True   \n",
       "11  [<div class=\"row\">\\n            Published\\n   ...    True   \n",
       "12  [<div class=\"row\">\\n            Published\\n   ...    True   \n",
       "13  [<div class=\"row\">\\n            Published\\n   ...    True   \n",
       "\n",
       "                                           SeriesName  \\\n",
       "0            \\nSeries\\n\\nA Song of Ice and Fire #1 \\n   \n",
       "1   \\nSeries\\n\\nThe Lord of the Rings #0-3, Middle...   \n",
       "2          \\nSeries\\n\\nThe Kingkiller Chronicle #1 \\n   \n",
       "3   \\nSeries\\n\\nThe Stormlight Archive #1, The Cos...   \n",
       "4   \\nSeries\\n\\nThe Chronicles of Narnia (Publicat...   \n",
       "5                 \\nSeries\\n\\nThe Wheel of Time #1 \\n   \n",
       "6             \\nSeries\\n\\nMistborn #1, The Cosmere \\n   \n",
       "7              \\nSeries\\n\\nHis Dark Materials #1-3 \\n   \n",
       "8             \\nSeries\\n\\nThe Inheritance Cycle #1 \\n   \n",
       "9   \\nSeries\\n\\nThe Farseer Trilogy #1, L'Assassin...   \n",
       "10                \\nSeries\\n\\nGentleman Bastard #1 \\n   \n",
       "11                   \\nSeries\\n\\nThe Dark Tower #1 \\n   \n",
       "12                   \\nSeries\\n\\nSword of Truth #1 \\n   \n",
       "13  \\nSeries\\n\\nThe First Law #1, First Law World ...   \n",
       "\n",
       "                                             ISBN  \\\n",
       "0                         (ISBN13: 9780553588484)   \n",
       "1                         (ISBN13: 9780345538376)   \n",
       "2                         (ISBN13: 9780756404079)   \n",
       "3                         (ISBN13: 9780765326355)   \n",
       "4                                            None   \n",
       "5                         (ISBN13: 9780812511819)   \n",
       "6                         (ISBN13: 9780765311788)   \n",
       "7                         (ISBN13: 9780440238607)   \n",
       "8                         (ISBN13: 9780375826696)   \n",
       "9                         (ISBN13: 9780553573398)   \n",
       "10                                           None   \n",
       "11                                           None   \n",
       "12                        (ISBN13: 9780765346520)   \n",
       "13                        (ISBN13: 9780575079793)   \n",
       "\n",
       "                                          Description  \n",
       "0   [<div class=\"readable stacked\" id=\"description...  \n",
       "1   [<div class=\"readable stacked\" id=\"description...  \n",
       "2   [<div class=\"readable stacked\" id=\"description...  \n",
       "3   [<div class=\"readable stacked\" id=\"description...  \n",
       "4   [<div class=\"readable stacked\" id=\"description...  \n",
       "5   [<div class=\"readable stacked\" id=\"description...  \n",
       "6   [<div class=\"readable stacked\" id=\"description...  \n",
       "7   [<div class=\"readable stacked\" id=\"description...  \n",
       "8   [<div class=\"readable stacked\" id=\"description...  \n",
       "9   [<div class=\"readable stacked\" id=\"description...  \n",
       "10  [<div class=\"readable stacked\" id=\"description...  \n",
       "11  [<div class=\"readable stacked\" id=\"description...  \n",
       "12  [<div class=\"readable stacked\" id=\"description...  \n",
       "13  [<div class=\"readable stacked\" id=\"description...  "
      ],
      "text/html": "<div>\n<style scoped>\n    .dataframe tbody tr th:only-of-type {\n        vertical-align: middle;\n    }\n\n    .dataframe tbody tr th {\n        vertical-align: top;\n    }\n\n    .dataframe thead th {\n        text-align: right;\n    }\n</style>\n<table border=\"1\" class=\"dataframe\">\n  <thead>\n    <tr style=\"text-align: right;\">\n      <th></th>\n      <th>Unnamed: 0</th>\n      <th>name</th>\n      <th>author</th>\n      <th>number of ratings</th>\n      <th>url</th>\n      <th>avg_ratings</th>\n      <th>id</th>\n      <th>Num_pages</th>\n      <th>Verify_pages</th>\n      <th>Awards</th>\n      <th>Genre</th>\n      <th>Setting</th>\n      <th>OriginalPDate</th>\n      <th>VerifyDate</th>\n      <th>Series</th>\n      <th>SeriesName</th>\n      <th>ISBN</th>\n      <th>Description</th>\n    </tr>\n  </thead>\n  <tbody>\n    <tr>\n      <th>0</th>\n      <td>0</td>\n      <td>A Game of Thrones (A Song of Ice and Fire, #1)</td>\n      <td>George R.R. Martin</td>\n      <td>2,049,108</td>\n      <td>https://www.goodreads.com//book/show/13496.A_G...</td>\n      <td>4.45</td>\n      <td>0</td>\n      <td>835 pages</td>\n      <td>['Mass Market Paperback', '835 pages']</td>\n      <td>['Nebula Award Nominee for Best Novel (1997)',...</td>\n      <td>['Fantasy', 'Fiction', 'Fantasy', 'Epic Fantas...</td>\n      <td>['The Lands of Ice and Fire']</td>\n      <td>['\\n              (first published August 6th ...</td>\n      <td>[&lt;div class=\"row\"&gt;\\n            Published\\n   ...</td>\n      <td>True</td>\n      <td>\\nSeries\\n\\nA Song of Ice and Fire #1 \\n</td>\n      <td>(ISBN13: 9780553588484)</td>\n      <td>[&lt;div class=\"readable stacked\" id=\"description...</td>\n    </tr>\n    <tr>\n      <th>1</th>\n      <td>1</td>\n      <td>J.R.R. Tolkien 4-Book Boxed Set: The Hobbit ...</td>\n      <td>J.R.R. Tolkien</td>\n      <td>112,537</td>\n      <td>https://www.goodreads.com//book/show/30.J_R_R_...</td>\n      <td>4.6</td>\n      <td>1</td>\n      <td>Hobbit Movie Tie-in Boxed set</td>\n      <td>['Mass Market Paperback', 'Hobbit Movie Tie-in...</td>\n      <td>[]</td>\n      <td>['Fantasy', 'Fiction', 'Classics', 'Adventure'...</td>\n      <td>['Middle-earth']</td>\n      <td>['\\n              (first published October 20t...</td>\n      <td>[&lt;div class=\"row\"&gt;\\n            Published\\n   ...</td>\n      <td>True</td>\n      <td>\\nSeries\\n\\nThe Lord of the Rings #0-3, Middle...</td>\n      <td>(ISBN13: 9780345538376)</td>\n      <td>[&lt;div class=\"readable stacked\" id=\"description...</td>\n    </tr>\n    <tr>\n      <th>2</th>\n      <td>2</td>\n      <td>The Name of the Wind (The Kingkiller Chronic...</td>\n      <td>Patrick Rothfuss (Goodreads Author)</td>\n      <td>740,343</td>\n      <td>https://www.goodreads.com//book/show/186074.Th...</td>\n      <td>4.52</td>\n      <td>2</td>\n      <td>662 pages</td>\n      <td>['Hardcover', '662 pages']</td>\n      <td>['Locus Award Nominee for Best First Novel and...</td>\n      <td>['Fantasy', 'Fiction', 'Fantasy', 'Epic Fantas...</td>\n      <td>[]</td>\n      <td>['\\n              (first published March 27th ...</td>\n      <td>[&lt;div class=\"row\"&gt;\\n            Published\\n   ...</td>\n      <td>True</td>\n      <td>\\nSeries\\n\\nThe Kingkiller Chronicle #1 \\n</td>\n      <td>(ISBN13: 9780756404079)</td>\n      <td>[&lt;div class=\"readable stacked\" id=\"description...</td>\n    </tr>\n    <tr>\n      <th>3</th>\n      <td>3</td>\n      <td>The Way of Kings (The Stormlight Archive, #1)</td>\n      <td>Brandon Sanderson (Goodreads Author)</td>\n      <td>320,338</td>\n      <td>https://www.goodreads.com//book/show/7235533-t...</td>\n      <td>4.62</td>\n      <td>3</td>\n      <td>1007 pages</td>\n      <td>['Hardcover', '1007 pages']</td>\n      <td>['Locus Award Nominee for Best Fantasy Novel (...</td>\n      <td>['Fantasy', 'Fiction', 'Fantasy', 'Epic Fantas...</td>\n      <td>['Roshar']</td>\n      <td>[]</td>\n      <td>[&lt;div class=\"row\"&gt;\\n            Published\\n   ...</td>\n      <td>True</td>\n      <td>\\nSeries\\n\\nThe Stormlight Archive #1, The Cos...</td>\n      <td>(ISBN13: 9780765326355)</td>\n      <td>[&lt;div class=\"readable stacked\" id=\"description...</td>\n    </tr>\n    <tr>\n      <th>4</th>\n      <td>4</td>\n      <td>The Chronicles of Narnia (Chronicles of Narn...</td>\n      <td>C.S. Lewis</td>\n      <td>533,551</td>\n      <td>https://www.goodreads.com//book/show/11127.The...</td>\n      <td>4.26</td>\n      <td>4</td>\n      <td>Reissue Edition</td>\n      <td>['Paperback', 'Reissue Edition', '767 pages']</td>\n      <td>[]</td>\n      <td>['Fantasy', 'Classics', 'Fiction', 'Young Adul...</td>\n      <td>['London, England']</td>\n      <td>['\\n              (first published 1956)\\n    ...</td>\n      <td>[&lt;div class=\"row\"&gt;\\n            Published\\n   ...</td>\n      <td>True</td>\n      <td>\\nSeries\\n\\nThe Chronicles of Narnia (Publicat...</td>\n      <td>None</td>\n      <td>[&lt;div class=\"readable stacked\" id=\"description...</td>\n    </tr>\n    <tr>\n      <th>5</th>\n      <td>5</td>\n      <td>The Eye of the World (The Wheel of Time, #1)</td>\n      <td>Robert Jordan</td>\n      <td>402,995</td>\n      <td>https://www.goodreads.com//book/show/228665.Th...</td>\n      <td>4.17</td>\n      <td>5</td>\n      <td>814 pages</td>\n      <td>['Mass Market Paperback', '814 pages']</td>\n      <td>['Locus Award Nominee for Best Fantasy Book (1...</td>\n      <td>['Fantasy', 'Fiction', 'Fantasy', 'Epic Fantas...</td>\n      <td>[\"Emond's Field\", 'Caemlyn', 'The Blight']</td>\n      <td>['\\n              (first published January 15t...</td>\n      <td>[&lt;div class=\"row\"&gt;\\n            Published\\n   ...</td>\n      <td>True</td>\n      <td>\\nSeries\\n\\nThe Wheel of Time #1 \\n</td>\n      <td>(ISBN13: 9780812511819)</td>\n      <td>[&lt;div class=\"readable stacked\" id=\"description...</td>\n    </tr>\n    <tr>\n      <th>6</th>\n      <td>6</td>\n      <td>The Final Empire (Mistborn, #1)</td>\n      <td>Brandon Sanderson (Goodreads Author)</td>\n      <td>420,227</td>\n      <td>https://www.goodreads.com//book/show/68428.The...</td>\n      <td>4.44</td>\n      <td>6</td>\n      <td>544 pages</td>\n      <td>['Hardcover', '544 pages']</td>\n      <td>['Tähtifantasia Award Nominee (2018)', 'Prix E...</td>\n      <td>['Fantasy', 'Fiction', 'Fantasy', 'High Fantas...</td>\n      <td>['Luthadel']</td>\n      <td>['\\n              (first published July 17th 2...</td>\n      <td>[&lt;div class=\"row\"&gt;\\n            Published\\n   ...</td>\n      <td>True</td>\n      <td>\\nSeries\\n\\nMistborn #1, The Cosmere \\n</td>\n      <td>(ISBN13: 9780765311788)</td>\n      <td>[&lt;div class=\"readable stacked\" id=\"description...</td>\n    </tr>\n    <tr>\n      <th>7</th>\n      <td>7</td>\n      <td>His Dark Materials (His Dark Materials #1-3)</td>\n      <td>Philip Pullman</td>\n      <td>147,524</td>\n      <td>https://www.goodreads.com//book/show/18116.His...</td>\n      <td>4.25</td>\n      <td>7</td>\n      <td>1088 pages</td>\n      <td>['Mass Market Paperback', '1088 pages']</td>\n      <td>['Literaturpreis der Jury der jungen Leser for...</td>\n      <td>['Fantasy', 'Young Adult', 'Fiction', 'Childre...</td>\n      <td>['Oxford, England']</td>\n      <td>['\\n              (first published November 20...</td>\n      <td>[&lt;div class=\"row\"&gt;\\n            Published\\n   ...</td>\n      <td>True</td>\n      <td>\\nSeries\\n\\nHis Dark Materials #1-3 \\n</td>\n      <td>(ISBN13: 9780440238607)</td>\n      <td>[&lt;div class=\"readable stacked\" id=\"description...</td>\n    </tr>\n    <tr>\n      <th>8</th>\n      <td>8</td>\n      <td>Eragon (The Inheritance Cycle, #1)</td>\n      <td>Christopher Paolini (Goodreads Author)</td>\n      <td>1,471,674</td>\n      <td>https://www.goodreads.com//book/show/113436.Er...</td>\n      <td>3.91</td>\n      <td>8</td>\n      <td>503 pages</td>\n      <td>['Paperback', '503 pages']</td>\n      <td>[\"Book Sense Book of the Year Award for Childr...</td>\n      <td>['Fantasy', 'Young Adult', 'Fiction', 'Fantasy...</td>\n      <td>['Alagaësia']</td>\n      <td>['\\n              (first published June 2002)\\...</td>\n      <td>[&lt;div class=\"row\"&gt;\\n            Published\\n   ...</td>\n      <td>True</td>\n      <td>\\nSeries\\n\\nThe Inheritance Cycle #1 \\n</td>\n      <td>(ISBN13: 9780375826696)</td>\n      <td>[&lt;div class=\"readable stacked\" id=\"description...</td>\n    </tr>\n    <tr>\n      <th>9</th>\n      <td>9</td>\n      <td>Assassin's Apprentice (Farseer Trilogy, #1)</td>\n      <td>Robin Hobb (Goodreads Author)</td>\n      <td>242,303</td>\n      <td>https://www.goodreads.com//book/show/77197.Ass...</td>\n      <td>4.15</td>\n      <td>9</td>\n      <td>435 pages</td>\n      <td>['Mass Market Paperback', '435 pages']</td>\n      <td>['Locus Award Nominee for Fantasy (1996)', 'Br...</td>\n      <td>['Fantasy', 'Fiction', 'Fantasy', 'Epic Fantas...</td>\n      <td>['Buckkeep', 'Moonseye', 'Neatbay']</td>\n      <td>['\\n              (first published May 1995)\\n...</td>\n      <td>[&lt;div class=\"row\"&gt;\\n            Published\\n   ...</td>\n      <td>True</td>\n      <td>\\nSeries\\n\\nThe Farseer Trilogy #1, L'Assassin...</td>\n      <td>(ISBN13: 9780553573398)</td>\n      <td>[&lt;div class=\"readable stacked\" id=\"description...</td>\n    </tr>\n    <tr>\n      <th>10</th>\n      <td>10</td>\n      <td>The Lies of Locke Lamora (Gentleman Bastard,...</td>\n      <td>Scott Lynch (Goodreads Author)</td>\n      <td>233,063</td>\n      <td>https://www.goodreads.com//book/show/29588376-...</td>\n      <td>4.26</td>\n      <td>10</td>\n      <td>752 pages</td>\n      <td>['Kindle Edition', '752 pages']</td>\n      <td>['Locus Award Nominee for Best Fantasy Novel a...</td>\n      <td>['Fantasy', 'Fiction', 'Adventure', 'Adult', '...</td>\n      <td>['Camorr']</td>\n      <td>['\\n              (first published June 1st 20...</td>\n      <td>[&lt;div class=\"row\"&gt;\\n            Published\\n   ...</td>\n      <td>True</td>\n      <td>\\nSeries\\n\\nGentleman Bastard #1 \\n</td>\n      <td>None</td>\n      <td>[&lt;div class=\"readable stacked\" id=\"description...</td>\n    </tr>\n    <tr>\n      <th>11</th>\n      <td>11</td>\n      <td>The Gunslinger</td>\n      <td>Stephen King (Goodreads Author)</td>\n      <td>525,772</td>\n      <td>https://www.goodreads.com//book/show/43615.The...</td>\n      <td>3.94</td>\n      <td>11</td>\n      <td>Plume Revised Edition (USA/CAN)</td>\n      <td>['Paperback', 'Plume Revised Edition (USA/CAN)...</td>\n      <td>[]</td>\n      <td>['Fantasy', 'Fiction', 'Horror', 'Science Fict...</td>\n      <td>[]</td>\n      <td>['\\n              (first published June 1st 19...</td>\n      <td>[&lt;div class=\"row\"&gt;\\n            Published\\n   ...</td>\n      <td>True</td>\n      <td>\\nSeries\\n\\nThe Dark Tower #1 \\n</td>\n      <td>None</td>\n      <td>[&lt;div class=\"readable stacked\" id=\"description...</td>\n    </tr>\n    <tr>\n      <th>12</th>\n      <td>12</td>\n      <td>Wizard's First Rule (Sword of Truth, #1)</td>\n      <td>Terry Goodkind</td>\n      <td>232,786</td>\n      <td>https://www.goodreads.com//book/show/43889.Wiz...</td>\n      <td>4.12</td>\n      <td>12</td>\n      <td>836 pages</td>\n      <td>['Paperback', '836 pages']</td>\n      <td>['Locus Award Nominee for Best first novel (19...</td>\n      <td>['Fantasy', 'Fiction', 'Fantasy', 'Epic Fantas...</td>\n      <td>[]</td>\n      <td>['\\n              (first published August 15th...</td>\n      <td>[&lt;div class=\"row\"&gt;\\n            Published\\n   ...</td>\n      <td>True</td>\n      <td>\\nSeries\\n\\nSword of Truth #1 \\n</td>\n      <td>(ISBN13: 9780765346520)</td>\n      <td>[&lt;div class=\"readable stacked\" id=\"description...</td>\n    </tr>\n    <tr>\n      <th>13</th>\n      <td>13</td>\n      <td>The Blade Itself (The First Law, #1)</td>\n      <td>Joe Abercrombie</td>\n      <td>171,383</td>\n      <td>https://www.goodreads.com//book/show/944073.Th...</td>\n      <td>4.16</td>\n      <td>13</td>\n      <td>515 pages</td>\n      <td>['Paperback', '515 pages']</td>\n      <td>['Locus Award Nominee for Best First Novel (20...</td>\n      <td>['Fantasy', 'Fiction', 'Fantasy', 'Epic Fantas...</td>\n      <td>[]</td>\n      <td>['\\n              (first published May 4th 200...</td>\n      <td>[&lt;div class=\"row\"&gt;\\n            Published\\n   ...</td>\n      <td>True</td>\n      <td>\\nSeries\\n\\nThe First Law #1, First Law World ...</td>\n      <td>(ISBN13: 9780575079793)</td>\n      <td>[&lt;div class=\"readable stacked\" id=\"description...</td>\n    </tr>\n  </tbody>\n</table>\n</div>"
     },
     "metadata": {},
     "execution_count": 83
    }
   ],
   "source": [
    "df.head(14)"
   ]
  },
  {
   "cell_type": "code",
   "execution_count": null,
   "metadata": {},
   "outputs": [],
   "source": []
  }
 ]
}