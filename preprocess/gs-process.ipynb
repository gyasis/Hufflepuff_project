{
 "metadata": {
  "language_info": {
   "codemirror_mode": {
    "name": "ipython",
    "version": 3
   },
   "file_extension": ".py",
   "mimetype": "text/x-python",
   "name": "python",
   "nbconvert_exporter": "python",
   "pygments_lexer": "ipython3",
   "version": "3.9.1-final"
  },
  "orig_nbformat": 2,
  "kernelspec": {
   "name": "python3",
   "display_name": "Python 3",
   "language": "python"
  }
 },
 "nbformat": 4,
 "nbformat_minor": 2,
 "cells": [
  {
   "source": [
    "### 1st process"
   ],
   "cell_type": "markdown",
   "metadata": {}
  },
  {
   "cell_type": "code",
   "execution_count": 2,
   "metadata": {},
   "outputs": [],
   "source": [
    "from bs4 import BeautifulSoup\n",
    "\n",
    "import urllib.request as urllib2\n",
    "import pandas as pd\n",
    "import numpy as np\n",
    "import csv\n",
    "import requests\n",
    "from random import randint\n",
    "from time import sleep\n",
    "from tqdm import tqdm\n",
    "import glob\n",
    "\n",
    "\n"
   ]
  },
  {
   "cell_type": "code",
   "execution_count": 3,
   "metadata": {},
   "outputs": [
    {
     "output_type": "stream",
     "name": "stdout",
     "text": [
      "['requirements.txt']\n"
     ]
    }
   ],
   "source": [
    "print(glob.glob('*.*'))\n"
   ]
  },
  {
   "cell_type": "code",
   "execution_count": 4,
   "metadata": {},
   "outputs": [],
   "source": [
    "df = pd.read_csv(\"Hufflepuff_project/webscraping/data/200.csv\")"
   ]
  },
  {
   "cell_type": "code",
   "execution_count": 5,
   "metadata": {},
   "outputs": [
    {
     "output_type": "execute_result",
     "data": {
      "text/plain": [
       "   id                      Num_pages  \\\n",
       "0   0                      835 pages   \n",
       "1   1  Hobbit Movie Tie-in Boxed set   \n",
       "2   2                      662 pages   \n",
       "3   3                     1007 pages   \n",
       "4   4                Reissue Edition   \n",
       "\n",
       "                                        Verify_pages  \\\n",
       "0             ['Mass Market Paperback', '835 pages']   \n",
       "1  ['Mass Market Paperback', 'Hobbit Movie Tie-in...   \n",
       "2                         ['Hardcover', '662 pages']   \n",
       "3                        ['Hardcover', '1007 pages']   \n",
       "4      ['Paperback', 'Reissue Edition', '767 pages']   \n",
       "\n",
       "                                              Awards  \\\n",
       "0  ['Nebula Award Nominee for Best Novel (1997)',...   \n",
       "1                                                 []   \n",
       "2  ['Locus Award Nominee for Best First Novel and...   \n",
       "3  ['Locus Award Nominee for Best Fantasy Novel (...   \n",
       "4                                                 []   \n",
       "\n",
       "                                               Genre  \\\n",
       "0  ['Fantasy', 'Fiction', 'Fantasy', 'Epic Fantas...   \n",
       "1  ['Fantasy', 'Fiction', 'Classics', 'Adventure'...   \n",
       "2  ['Fantasy', 'Fiction', 'Fantasy', 'Epic Fantas...   \n",
       "3  ['Fantasy', 'Fiction', 'Fantasy', 'Epic Fantas...   \n",
       "4  ['Fantasy', 'Classics', 'Fiction', 'Young Adul...   \n",
       "\n",
       "                         Setting  \\\n",
       "0  ['The Lands of Ice and Fire']   \n",
       "1               ['Middle-earth']   \n",
       "2                             []   \n",
       "3                     ['Roshar']   \n",
       "4            ['London, England']   \n",
       "\n",
       "                                       OriginalPDate  \\\n",
       "0  ['\\n              (first published August 6th ...   \n",
       "1  ['\\n              (first published October 20t...   \n",
       "2  ['\\n              (first published March 27th ...   \n",
       "3                                                 []   \n",
       "4  ['\\n              (first published 1956)\\n    ...   \n",
       "\n",
       "                                          VerifyDate  Series  \\\n",
       "0  [<div class=\"row\">\\n            Published\\n   ...    True   \n",
       "1  [<div class=\"row\">\\n            Published\\n   ...    True   \n",
       "2  [<div class=\"row\">\\n            Published\\n   ...    True   \n",
       "3  [<div class=\"row\">\\n            Published\\n   ...    True   \n",
       "4  [<div class=\"row\">\\n            Published\\n   ...    True   \n",
       "\n",
       "                                         Series-Name  \\\n",
       "0           \\nSeries\\n\\nA Song of Ice and Fire #1 \\n   \n",
       "1  \\nSeries\\n\\nThe Lord of the Rings #0-3, Middle...   \n",
       "2         \\nSeries\\n\\nThe Kingkiller Chronicle #1 \\n   \n",
       "3  \\nSeries\\n\\nThe Stormlight Archive #1, The Cos...   \n",
       "4  \\nSeries\\n\\nThe Chronicles of Narnia (Publicat...   \n",
       "\n",
       "                                                ISBN  \\\n",
       "0  \\nISBN\\n\\n                  0553588486\\n      ...   \n",
       "1  \\nISBN\\n\\n                  0345538374\\n      ...   \n",
       "2  \\nISBN\\n\\n                  075640407X\\n      ...   \n",
       "3  \\nISBN\\n\\n                  0765326353\\n      ...   \n",
       "4                                                NaN   \n",
       "\n",
       "                                         Description  \n",
       "0  [<div class=\"readable stacked\" id=\"description...  \n",
       "1  [<div class=\"readable stacked\" id=\"description...  \n",
       "2  [<div class=\"readable stacked\" id=\"description...  \n",
       "3  [<div class=\"readable stacked\" id=\"description...  \n",
       "4  [<div class=\"readable stacked\" id=\"description...  "
      ],
      "text/html": "<div>\n<style scoped>\n    .dataframe tbody tr th:only-of-type {\n        vertical-align: middle;\n    }\n\n    .dataframe tbody tr th {\n        vertical-align: top;\n    }\n\n    .dataframe thead th {\n        text-align: right;\n    }\n</style>\n<table border=\"1\" class=\"dataframe\">\n  <thead>\n    <tr style=\"text-align: right;\">\n      <th></th>\n      <th>id</th>\n      <th>Num_pages</th>\n      <th>Verify_pages</th>\n      <th>Awards</th>\n      <th>Genre</th>\n      <th>Setting</th>\n      <th>OriginalPDate</th>\n      <th>VerifyDate</th>\n      <th>Series</th>\n      <th>Series-Name</th>\n      <th>ISBN</th>\n      <th>Description</th>\n    </tr>\n  </thead>\n  <tbody>\n    <tr>\n      <th>0</th>\n      <td>0</td>\n      <td>835 pages</td>\n      <td>['Mass Market Paperback', '835 pages']</td>\n      <td>['Nebula Award Nominee for Best Novel (1997)',...</td>\n      <td>['Fantasy', 'Fiction', 'Fantasy', 'Epic Fantas...</td>\n      <td>['The Lands of Ice and Fire']</td>\n      <td>['\\n              (first published August 6th ...</td>\n      <td>[&lt;div class=\"row\"&gt;\\n            Published\\n   ...</td>\n      <td>True</td>\n      <td>\\nSeries\\n\\nA Song of Ice and Fire #1 \\n</td>\n      <td>\\nISBN\\n\\n                  0553588486\\n      ...</td>\n      <td>[&lt;div class=\"readable stacked\" id=\"description...</td>\n    </tr>\n    <tr>\n      <th>1</th>\n      <td>1</td>\n      <td>Hobbit Movie Tie-in Boxed set</td>\n      <td>['Mass Market Paperback', 'Hobbit Movie Tie-in...</td>\n      <td>[]</td>\n      <td>['Fantasy', 'Fiction', 'Classics', 'Adventure'...</td>\n      <td>['Middle-earth']</td>\n      <td>['\\n              (first published October 20t...</td>\n      <td>[&lt;div class=\"row\"&gt;\\n            Published\\n   ...</td>\n      <td>True</td>\n      <td>\\nSeries\\n\\nThe Lord of the Rings #0-3, Middle...</td>\n      <td>\\nISBN\\n\\n                  0345538374\\n      ...</td>\n      <td>[&lt;div class=\"readable stacked\" id=\"description...</td>\n    </tr>\n    <tr>\n      <th>2</th>\n      <td>2</td>\n      <td>662 pages</td>\n      <td>['Hardcover', '662 pages']</td>\n      <td>['Locus Award Nominee for Best First Novel and...</td>\n      <td>['Fantasy', 'Fiction', 'Fantasy', 'Epic Fantas...</td>\n      <td>[]</td>\n      <td>['\\n              (first published March 27th ...</td>\n      <td>[&lt;div class=\"row\"&gt;\\n            Published\\n   ...</td>\n      <td>True</td>\n      <td>\\nSeries\\n\\nThe Kingkiller Chronicle #1 \\n</td>\n      <td>\\nISBN\\n\\n                  075640407X\\n      ...</td>\n      <td>[&lt;div class=\"readable stacked\" id=\"description...</td>\n    </tr>\n    <tr>\n      <th>3</th>\n      <td>3</td>\n      <td>1007 pages</td>\n      <td>['Hardcover', '1007 pages']</td>\n      <td>['Locus Award Nominee for Best Fantasy Novel (...</td>\n      <td>['Fantasy', 'Fiction', 'Fantasy', 'Epic Fantas...</td>\n      <td>['Roshar']</td>\n      <td>[]</td>\n      <td>[&lt;div class=\"row\"&gt;\\n            Published\\n   ...</td>\n      <td>True</td>\n      <td>\\nSeries\\n\\nThe Stormlight Archive #1, The Cos...</td>\n      <td>\\nISBN\\n\\n                  0765326353\\n      ...</td>\n      <td>[&lt;div class=\"readable stacked\" id=\"description...</td>\n    </tr>\n    <tr>\n      <th>4</th>\n      <td>4</td>\n      <td>Reissue Edition</td>\n      <td>['Paperback', 'Reissue Edition', '767 pages']</td>\n      <td>[]</td>\n      <td>['Fantasy', 'Classics', 'Fiction', 'Young Adul...</td>\n      <td>['London, England']</td>\n      <td>['\\n              (first published 1956)\\n    ...</td>\n      <td>[&lt;div class=\"row\"&gt;\\n            Published\\n   ...</td>\n      <td>True</td>\n      <td>\\nSeries\\n\\nThe Chronicles of Narnia (Publicat...</td>\n      <td>NaN</td>\n      <td>[&lt;div class=\"readable stacked\" id=\"description...</td>\n    </tr>\n  </tbody>\n</table>\n</div>"
     },
     "metadata": {},
     "execution_count": 5
    }
   ],
   "source": [
    "df.head(5)"
   ]
  },
  {
   "cell_type": "code",
   "execution_count": 6,
   "metadata": {},
   "outputs": [],
   "source": [
    "shortdf = df.head(10)"
   ]
  },
  {
   "cell_type": "code",
   "execution_count": 7,
   "metadata": {},
   "outputs": [
    {
     "output_type": "execute_result",
     "data": {
      "text/plain": [
       "   id                      Num_pages  \\\n",
       "0   0                      835 pages   \n",
       "1   1  Hobbit Movie Tie-in Boxed set   \n",
       "2   2                      662 pages   \n",
       "3   3                     1007 pages   \n",
       "4   4                Reissue Edition   \n",
       "5   5                      814 pages   \n",
       "6   6                      544 pages   \n",
       "7   7                     1088 pages   \n",
       "8   8                      503 pages   \n",
       "9   9                      435 pages   \n",
       "\n",
       "                                        Verify_pages  \\\n",
       "0             ['Mass Market Paperback', '835 pages']   \n",
       "1  ['Mass Market Paperback', 'Hobbit Movie Tie-in...   \n",
       "2                         ['Hardcover', '662 pages']   \n",
       "3                        ['Hardcover', '1007 pages']   \n",
       "4      ['Paperback', 'Reissue Edition', '767 pages']   \n",
       "5             ['Mass Market Paperback', '814 pages']   \n",
       "6                         ['Hardcover', '544 pages']   \n",
       "7            ['Mass Market Paperback', '1088 pages']   \n",
       "8                         ['Paperback', '503 pages']   \n",
       "9             ['Mass Market Paperback', '435 pages']   \n",
       "\n",
       "                                              Awards  \\\n",
       "0  ['Nebula Award Nominee for Best Novel (1997)',...   \n",
       "1                                                 []   \n",
       "2  ['Locus Award Nominee for Best First Novel and...   \n",
       "3  ['Locus Award Nominee for Best Fantasy Novel (...   \n",
       "4                                                 []   \n",
       "5  ['Locus Award Nominee for Best Fantasy Book (1...   \n",
       "6  ['Tähtifantasia Award Nominee (2018)', 'Prix E...   \n",
       "7  ['Literaturpreis der Jury der jungen Leser for...   \n",
       "8  [\"Book Sense Book of the Year Award for Childr...   \n",
       "9  ['Locus Award Nominee for Fantasy (1996)', 'Br...   \n",
       "\n",
       "                                               Genre  \\\n",
       "0  ['Fantasy', 'Fiction', 'Fantasy', 'Epic Fantas...   \n",
       "1  ['Fantasy', 'Fiction', 'Classics', 'Adventure'...   \n",
       "2  ['Fantasy', 'Fiction', 'Fantasy', 'Epic Fantas...   \n",
       "3  ['Fantasy', 'Fiction', 'Fantasy', 'Epic Fantas...   \n",
       "4  ['Fantasy', 'Classics', 'Fiction', 'Young Adul...   \n",
       "5  ['Fantasy', 'Fiction', 'Fantasy', 'Epic Fantas...   \n",
       "6  ['Fantasy', 'Fiction', 'Fantasy', 'High Fantas...   \n",
       "7  ['Fantasy', 'Young Adult', 'Fiction', 'Childre...   \n",
       "8  ['Fantasy', 'Young Adult', 'Fiction', 'Fantasy...   \n",
       "9  ['Fantasy', 'Fiction', 'Fantasy', 'Epic Fantas...   \n",
       "\n",
       "                                      Setting  \\\n",
       "0               ['The Lands of Ice and Fire']   \n",
       "1                            ['Middle-earth']   \n",
       "2                                          []   \n",
       "3                                  ['Roshar']   \n",
       "4                         ['London, England']   \n",
       "5  [\"Emond's Field\", 'Caemlyn', 'The Blight']   \n",
       "6                                ['Luthadel']   \n",
       "7                         ['Oxford, England']   \n",
       "8                               ['Alagaësia']   \n",
       "9         ['Buckkeep', 'Moonseye', 'Neatbay']   \n",
       "\n",
       "                                       OriginalPDate  \\\n",
       "0  ['\\n              (first published August 6th ...   \n",
       "1  ['\\n              (first published October 20t...   \n",
       "2  ['\\n              (first published March 27th ...   \n",
       "3                                                 []   \n",
       "4  ['\\n              (first published 1956)\\n    ...   \n",
       "5  ['\\n              (first published January 15t...   \n",
       "6  ['\\n              (first published July 17th 2...   \n",
       "7  ['\\n              (first published November 20...   \n",
       "8  ['\\n              (first published June 2002)\\...   \n",
       "9  ['\\n              (first published May 1995)\\n...   \n",
       "\n",
       "                                          VerifyDate  Series  \\\n",
       "0  [<div class=\"row\">\\n            Published\\n   ...    True   \n",
       "1  [<div class=\"row\">\\n            Published\\n   ...    True   \n",
       "2  [<div class=\"row\">\\n            Published\\n   ...    True   \n",
       "3  [<div class=\"row\">\\n            Published\\n   ...    True   \n",
       "4  [<div class=\"row\">\\n            Published\\n   ...    True   \n",
       "5  [<div class=\"row\">\\n            Published\\n   ...    True   \n",
       "6  [<div class=\"row\">\\n            Published\\n   ...    True   \n",
       "7  [<div class=\"row\">\\n            Published\\n   ...    True   \n",
       "8  [<div class=\"row\">\\n            Published\\n   ...    True   \n",
       "9  [<div class=\"row\">\\n            Published\\n   ...    True   \n",
       "\n",
       "                                         Series-Name  \\\n",
       "0           \\nSeries\\n\\nA Song of Ice and Fire #1 \\n   \n",
       "1  \\nSeries\\n\\nThe Lord of the Rings #0-3, Middle...   \n",
       "2         \\nSeries\\n\\nThe Kingkiller Chronicle #1 \\n   \n",
       "3  \\nSeries\\n\\nThe Stormlight Archive #1, The Cos...   \n",
       "4  \\nSeries\\n\\nThe Chronicles of Narnia (Publicat...   \n",
       "5                \\nSeries\\n\\nThe Wheel of Time #1 \\n   \n",
       "6            \\nSeries\\n\\nMistborn #1, The Cosmere \\n   \n",
       "7             \\nSeries\\n\\nHis Dark Materials #1-3 \\n   \n",
       "8            \\nSeries\\n\\nThe Inheritance Cycle #1 \\n   \n",
       "9  \\nSeries\\n\\nThe Farseer Trilogy #1, L'Assassin...   \n",
       "\n",
       "                                                ISBN  \\\n",
       "0  \\nISBN\\n\\n                  0553588486\\n      ...   \n",
       "1  \\nISBN\\n\\n                  0345538374\\n      ...   \n",
       "2  \\nISBN\\n\\n                  075640407X\\n      ...   \n",
       "3  \\nISBN\\n\\n                  0765326353\\n      ...   \n",
       "4                                                NaN   \n",
       "5  \\nISBN\\n\\n                  0812511816\\n      ...   \n",
       "6  \\nISBN\\n\\n                  076531178X\\n      ...   \n",
       "7  \\nISBN\\n\\n                  0440238609\\n      ...   \n",
       "8  \\nISBN\\n\\n                  0375826696\\n      ...   \n",
       "9  \\nISBN\\n\\n                  055357339X\\n      ...   \n",
       "\n",
       "                                         Description  \n",
       "0  [<div class=\"readable stacked\" id=\"description...  \n",
       "1  [<div class=\"readable stacked\" id=\"description...  \n",
       "2  [<div class=\"readable stacked\" id=\"description...  \n",
       "3  [<div class=\"readable stacked\" id=\"description...  \n",
       "4  [<div class=\"readable stacked\" id=\"description...  \n",
       "5  [<div class=\"readable stacked\" id=\"description...  \n",
       "6  [<div class=\"readable stacked\" id=\"description...  \n",
       "7  [<div class=\"readable stacked\" id=\"description...  \n",
       "8  [<div class=\"readable stacked\" id=\"description...  \n",
       "9  [<div class=\"readable stacked\" id=\"description...  "
      ],
      "text/html": "<div>\n<style scoped>\n    .dataframe tbody tr th:only-of-type {\n        vertical-align: middle;\n    }\n\n    .dataframe tbody tr th {\n        vertical-align: top;\n    }\n\n    .dataframe thead th {\n        text-align: right;\n    }\n</style>\n<table border=\"1\" class=\"dataframe\">\n  <thead>\n    <tr style=\"text-align: right;\">\n      <th></th>\n      <th>id</th>\n      <th>Num_pages</th>\n      <th>Verify_pages</th>\n      <th>Awards</th>\n      <th>Genre</th>\n      <th>Setting</th>\n      <th>OriginalPDate</th>\n      <th>VerifyDate</th>\n      <th>Series</th>\n      <th>Series-Name</th>\n      <th>ISBN</th>\n      <th>Description</th>\n    </tr>\n  </thead>\n  <tbody>\n    <tr>\n      <th>0</th>\n      <td>0</td>\n      <td>835 pages</td>\n      <td>['Mass Market Paperback', '835 pages']</td>\n      <td>['Nebula Award Nominee for Best Novel (1997)',...</td>\n      <td>['Fantasy', 'Fiction', 'Fantasy', 'Epic Fantas...</td>\n      <td>['The Lands of Ice and Fire']</td>\n      <td>['\\n              (first published August 6th ...</td>\n      <td>[&lt;div class=\"row\"&gt;\\n            Published\\n   ...</td>\n      <td>True</td>\n      <td>\\nSeries\\n\\nA Song of Ice and Fire #1 \\n</td>\n      <td>\\nISBN\\n\\n                  0553588486\\n      ...</td>\n      <td>[&lt;div class=\"readable stacked\" id=\"description...</td>\n    </tr>\n    <tr>\n      <th>1</th>\n      <td>1</td>\n      <td>Hobbit Movie Tie-in Boxed set</td>\n      <td>['Mass Market Paperback', 'Hobbit Movie Tie-in...</td>\n      <td>[]</td>\n      <td>['Fantasy', 'Fiction', 'Classics', 'Adventure'...</td>\n      <td>['Middle-earth']</td>\n      <td>['\\n              (first published October 20t...</td>\n      <td>[&lt;div class=\"row\"&gt;\\n            Published\\n   ...</td>\n      <td>True</td>\n      <td>\\nSeries\\n\\nThe Lord of the Rings #0-3, Middle...</td>\n      <td>\\nISBN\\n\\n                  0345538374\\n      ...</td>\n      <td>[&lt;div class=\"readable stacked\" id=\"description...</td>\n    </tr>\n    <tr>\n      <th>2</th>\n      <td>2</td>\n      <td>662 pages</td>\n      <td>['Hardcover', '662 pages']</td>\n      <td>['Locus Award Nominee for Best First Novel and...</td>\n      <td>['Fantasy', 'Fiction', 'Fantasy', 'Epic Fantas...</td>\n      <td>[]</td>\n      <td>['\\n              (first published March 27th ...</td>\n      <td>[&lt;div class=\"row\"&gt;\\n            Published\\n   ...</td>\n      <td>True</td>\n      <td>\\nSeries\\n\\nThe Kingkiller Chronicle #1 \\n</td>\n      <td>\\nISBN\\n\\n                  075640407X\\n      ...</td>\n      <td>[&lt;div class=\"readable stacked\" id=\"description...</td>\n    </tr>\n    <tr>\n      <th>3</th>\n      <td>3</td>\n      <td>1007 pages</td>\n      <td>['Hardcover', '1007 pages']</td>\n      <td>['Locus Award Nominee for Best Fantasy Novel (...</td>\n      <td>['Fantasy', 'Fiction', 'Fantasy', 'Epic Fantas...</td>\n      <td>['Roshar']</td>\n      <td>[]</td>\n      <td>[&lt;div class=\"row\"&gt;\\n            Published\\n   ...</td>\n      <td>True</td>\n      <td>\\nSeries\\n\\nThe Stormlight Archive #1, The Cos...</td>\n      <td>\\nISBN\\n\\n                  0765326353\\n      ...</td>\n      <td>[&lt;div class=\"readable stacked\" id=\"description...</td>\n    </tr>\n    <tr>\n      <th>4</th>\n      <td>4</td>\n      <td>Reissue Edition</td>\n      <td>['Paperback', 'Reissue Edition', '767 pages']</td>\n      <td>[]</td>\n      <td>['Fantasy', 'Classics', 'Fiction', 'Young Adul...</td>\n      <td>['London, England']</td>\n      <td>['\\n              (first published 1956)\\n    ...</td>\n      <td>[&lt;div class=\"row\"&gt;\\n            Published\\n   ...</td>\n      <td>True</td>\n      <td>\\nSeries\\n\\nThe Chronicles of Narnia (Publicat...</td>\n      <td>NaN</td>\n      <td>[&lt;div class=\"readable stacked\" id=\"description...</td>\n    </tr>\n    <tr>\n      <th>5</th>\n      <td>5</td>\n      <td>814 pages</td>\n      <td>['Mass Market Paperback', '814 pages']</td>\n      <td>['Locus Award Nominee for Best Fantasy Book (1...</td>\n      <td>['Fantasy', 'Fiction', 'Fantasy', 'Epic Fantas...</td>\n      <td>[\"Emond's Field\", 'Caemlyn', 'The Blight']</td>\n      <td>['\\n              (first published January 15t...</td>\n      <td>[&lt;div class=\"row\"&gt;\\n            Published\\n   ...</td>\n      <td>True</td>\n      <td>\\nSeries\\n\\nThe Wheel of Time #1 \\n</td>\n      <td>\\nISBN\\n\\n                  0812511816\\n      ...</td>\n      <td>[&lt;div class=\"readable stacked\" id=\"description...</td>\n    </tr>\n    <tr>\n      <th>6</th>\n      <td>6</td>\n      <td>544 pages</td>\n      <td>['Hardcover', '544 pages']</td>\n      <td>['Tähtifantasia Award Nominee (2018)', 'Prix E...</td>\n      <td>['Fantasy', 'Fiction', 'Fantasy', 'High Fantas...</td>\n      <td>['Luthadel']</td>\n      <td>['\\n              (first published July 17th 2...</td>\n      <td>[&lt;div class=\"row\"&gt;\\n            Published\\n   ...</td>\n      <td>True</td>\n      <td>\\nSeries\\n\\nMistborn #1, The Cosmere \\n</td>\n      <td>\\nISBN\\n\\n                  076531178X\\n      ...</td>\n      <td>[&lt;div class=\"readable stacked\" id=\"description...</td>\n    </tr>\n    <tr>\n      <th>7</th>\n      <td>7</td>\n      <td>1088 pages</td>\n      <td>['Mass Market Paperback', '1088 pages']</td>\n      <td>['Literaturpreis der Jury der jungen Leser for...</td>\n      <td>['Fantasy', 'Young Adult', 'Fiction', 'Childre...</td>\n      <td>['Oxford, England']</td>\n      <td>['\\n              (first published November 20...</td>\n      <td>[&lt;div class=\"row\"&gt;\\n            Published\\n   ...</td>\n      <td>True</td>\n      <td>\\nSeries\\n\\nHis Dark Materials #1-3 \\n</td>\n      <td>\\nISBN\\n\\n                  0440238609\\n      ...</td>\n      <td>[&lt;div class=\"readable stacked\" id=\"description...</td>\n    </tr>\n    <tr>\n      <th>8</th>\n      <td>8</td>\n      <td>503 pages</td>\n      <td>['Paperback', '503 pages']</td>\n      <td>[\"Book Sense Book of the Year Award for Childr...</td>\n      <td>['Fantasy', 'Young Adult', 'Fiction', 'Fantasy...</td>\n      <td>['Alagaësia']</td>\n      <td>['\\n              (first published June 2002)\\...</td>\n      <td>[&lt;div class=\"row\"&gt;\\n            Published\\n   ...</td>\n      <td>True</td>\n      <td>\\nSeries\\n\\nThe Inheritance Cycle #1 \\n</td>\n      <td>\\nISBN\\n\\n                  0375826696\\n      ...</td>\n      <td>[&lt;div class=\"readable stacked\" id=\"description...</td>\n    </tr>\n    <tr>\n      <th>9</th>\n      <td>9</td>\n      <td>435 pages</td>\n      <td>['Mass Market Paperback', '435 pages']</td>\n      <td>['Locus Award Nominee for Fantasy (1996)', 'Br...</td>\n      <td>['Fantasy', 'Fiction', 'Fantasy', 'Epic Fantas...</td>\n      <td>['Buckkeep', 'Moonseye', 'Neatbay']</td>\n      <td>['\\n              (first published May 1995)\\n...</td>\n      <td>[&lt;div class=\"row\"&gt;\\n            Published\\n   ...</td>\n      <td>True</td>\n      <td>\\nSeries\\n\\nThe Farseer Trilogy #1, L'Assassin...</td>\n      <td>\\nISBN\\n\\n                  055357339X\\n      ...</td>\n      <td>[&lt;div class=\"readable stacked\" id=\"description...</td>\n    </tr>\n  </tbody>\n</table>\n</div>"
     },
     "metadata": {},
     "execution_count": 7
    }
   ],
   "source": [
    "shortdf\n"
   ]
  },
  {
   "cell_type": "code",
   "execution_count": 8,
   "metadata": {},
   "outputs": [
    {
     "output_type": "execute_result",
     "data": {
      "text/plain": [
       "0    [<div class=\"row\">\\n            Published\\n   ...\n",
       "1    [<div class=\"row\">\\n            Published\\n   ...\n",
       "2    [<div class=\"row\">\\n            Published\\n   ...\n",
       "3    [<div class=\"row\">\\n            Published\\n   ...\n",
       "4    [<div class=\"row\">\\n            Published\\n   ...\n",
       "5    [<div class=\"row\">\\n            Published\\n   ...\n",
       "6    [<div class=\"row\">\\n            Published\\n   ...\n",
       "7    [<div class=\"row\">\\n            Published\\n   ...\n",
       "8    [<div class=\"row\">\\n            Published\\n   ...\n",
       "9    [<div class=\"row\">\\n            Published\\n   ...\n",
       "Name: VerifyDate, dtype: object"
      ]
     },
     "metadata": {},
     "execution_count": 8
    }
   ],
   "source": [
    "shortdf.VerifyDate"
   ]
  },
  {
   "cell_type": "code",
   "execution_count": 9,
   "metadata": {},
   "outputs": [
    {
     "output_type": "execute_result",
     "data": {
      "text/plain": [
       "'[<div class=\"row\">\\n            Published\\n        August 2005\\n         by Bantam\\n\\n            <nobr class=\"greyText\">\\n              (first published August 6th 1996)\\n            </nobr>\\n</div>]'"
      ]
     },
     "metadata": {},
     "execution_count": 9
    }
   ],
   "source": [
    "capture = shortdf.VerifyDate[0]\n",
    "capture "
   ]
  },
  {
   "cell_type": "code",
   "execution_count": 14,
   "metadata": {},
   "outputs": [
    {
     "output_type": "stream",
     "name": "stdout",
     "text": [
      "[\n            Published\n        August 2005\n         by Bantam\n\n            \n              (first published August 6th 1996)\n            \n]\n"
     ]
    }
   ],
   "source": [
    "soup = BeautifulSoup(capture)\n",
    "print(soup.get_text()) \n",
    "gr =(soup.get_text())"
   ]
  },
  {
   "cell_type": "code",
   "execution_count": 16,
   "metadata": {},
   "outputs": [
    {
     "output_type": "stream",
     "name": "stdout",
     "text": [
      "True\n"
     ]
    }
   ],
   "source": [
    "ret_value = \"first\" in gr\n",
    "print(ret_value)"
   ]
  },
  {
   "cell_type": "code",
   "execution_count": 17,
   "metadata": {},
   "outputs": [
    {
     "output_type": "execute_result",
     "data": {
      "text/plain": [
       "<bound method Tag.prettify of <html><body><p>[</p><div class=\"row\">\n",
       "            Published\n",
       "        August 2005\n",
       "         by Bantam\n",
       "\n",
       "            <nobr class=\"greyText\">\n",
       "              (first published August 6th 1996)\n",
       "            </nobr>\n",
       "</div>]</body></html>>"
      ]
     },
     "metadata": {},
     "execution_count": 17
    }
   ],
   "source": [
    "soup.prettify"
   ]
  },
  {
   "cell_type": "code",
   "execution_count": 35,
   "metadata": {},
   "outputs": [],
   "source": [
    "soup.find(class_=\"row\").text\n",
    "example = soup.find(class_=\"row\").text"
   ]
  },
  {
   "cell_type": "code",
   "execution_count": 36,
   "metadata": {},
   "outputs": [
    {
     "output_type": "error",
     "ename": "error",
     "evalue": "nothing to repeat at position 0 (line 1, column 1)",
     "traceback": [
      "\u001b[0;31m---------------------------------------------------------------------------\u001b[0m",
      "\u001b[0;31merror\u001b[0m                                     Traceback (most recent call last)",
      "\u001b[0;32m<ipython-input-36-61c976e53231>\u001b[0m in \u001b[0;36m<module>\u001b[0;34m\u001b[0m\n\u001b[0;32m----> 1\u001b[0;31m \u001b[0mre\u001b[0m\u001b[0;34m.\u001b[0m\u001b[0mfindall\u001b[0m\u001b[0;34m(\u001b[0m\u001b[0;34m'?<=\\n)\\d[^\\n]*'\u001b[0m\u001b[0;34m,\u001b[0m \u001b[0mexample\u001b[0m\u001b[0;34m)\u001b[0m\u001b[0;34m\u001b[0m\u001b[0;34m\u001b[0m\u001b[0m\n\u001b[0m",
      "\u001b[0;32m~/anaconda3/envs/working/lib/python3.9/re.py\u001b[0m in \u001b[0;36mfindall\u001b[0;34m(pattern, string, flags)\u001b[0m\n\u001b[1;32m    239\u001b[0m \u001b[0;34m\u001b[0m\u001b[0m\n\u001b[1;32m    240\u001b[0m     Empty matches are included in the result.\"\"\"\n\u001b[0;32m--> 241\u001b[0;31m     \u001b[0;32mreturn\u001b[0m \u001b[0m_compile\u001b[0m\u001b[0;34m(\u001b[0m\u001b[0mpattern\u001b[0m\u001b[0;34m,\u001b[0m \u001b[0mflags\u001b[0m\u001b[0;34m)\u001b[0m\u001b[0;34m.\u001b[0m\u001b[0mfindall\u001b[0m\u001b[0;34m(\u001b[0m\u001b[0mstring\u001b[0m\u001b[0;34m)\u001b[0m\u001b[0;34m\u001b[0m\u001b[0;34m\u001b[0m\u001b[0m\n\u001b[0m\u001b[1;32m    242\u001b[0m \u001b[0;34m\u001b[0m\u001b[0m\n\u001b[1;32m    243\u001b[0m \u001b[0;32mdef\u001b[0m \u001b[0mfinditer\u001b[0m\u001b[0;34m(\u001b[0m\u001b[0mpattern\u001b[0m\u001b[0;34m,\u001b[0m \u001b[0mstring\u001b[0m\u001b[0;34m,\u001b[0m \u001b[0mflags\u001b[0m\u001b[0;34m=\u001b[0m\u001b[0;36m0\u001b[0m\u001b[0;34m)\u001b[0m\u001b[0;34m:\u001b[0m\u001b[0;34m\u001b[0m\u001b[0;34m\u001b[0m\u001b[0m\n",
      "\u001b[0;32m~/anaconda3/envs/working/lib/python3.9/re.py\u001b[0m in \u001b[0;36m_compile\u001b[0;34m(pattern, flags)\u001b[0m\n\u001b[1;32m    302\u001b[0m     \u001b[0;32mif\u001b[0m \u001b[0;32mnot\u001b[0m \u001b[0msre_compile\u001b[0m\u001b[0;34m.\u001b[0m\u001b[0misstring\u001b[0m\u001b[0;34m(\u001b[0m\u001b[0mpattern\u001b[0m\u001b[0;34m)\u001b[0m\u001b[0;34m:\u001b[0m\u001b[0;34m\u001b[0m\u001b[0;34m\u001b[0m\u001b[0m\n\u001b[1;32m    303\u001b[0m         \u001b[0;32mraise\u001b[0m \u001b[0mTypeError\u001b[0m\u001b[0;34m(\u001b[0m\u001b[0;34m\"first argument must be string or compiled pattern\"\u001b[0m\u001b[0;34m)\u001b[0m\u001b[0;34m\u001b[0m\u001b[0;34m\u001b[0m\u001b[0m\n\u001b[0;32m--> 304\u001b[0;31m     \u001b[0mp\u001b[0m \u001b[0;34m=\u001b[0m \u001b[0msre_compile\u001b[0m\u001b[0;34m.\u001b[0m\u001b[0mcompile\u001b[0m\u001b[0;34m(\u001b[0m\u001b[0mpattern\u001b[0m\u001b[0;34m,\u001b[0m \u001b[0mflags\u001b[0m\u001b[0;34m)\u001b[0m\u001b[0;34m\u001b[0m\u001b[0;34m\u001b[0m\u001b[0m\n\u001b[0m\u001b[1;32m    305\u001b[0m     \u001b[0;32mif\u001b[0m \u001b[0;32mnot\u001b[0m \u001b[0;34m(\u001b[0m\u001b[0mflags\u001b[0m \u001b[0;34m&\u001b[0m \u001b[0mDEBUG\u001b[0m\u001b[0;34m)\u001b[0m\u001b[0;34m:\u001b[0m\u001b[0;34m\u001b[0m\u001b[0;34m\u001b[0m\u001b[0m\n\u001b[1;32m    306\u001b[0m         \u001b[0;32mif\u001b[0m \u001b[0mlen\u001b[0m\u001b[0;34m(\u001b[0m\u001b[0m_cache\u001b[0m\u001b[0;34m)\u001b[0m \u001b[0;34m>=\u001b[0m \u001b[0m_MAXCACHE\u001b[0m\u001b[0;34m:\u001b[0m\u001b[0;34m\u001b[0m\u001b[0;34m\u001b[0m\u001b[0m\n",
      "\u001b[0;32m~/anaconda3/envs/working/lib/python3.9/sre_compile.py\u001b[0m in \u001b[0;36mcompile\u001b[0;34m(p, flags)\u001b[0m\n\u001b[1;32m    762\u001b[0m     \u001b[0;32mif\u001b[0m \u001b[0misstring\u001b[0m\u001b[0;34m(\u001b[0m\u001b[0mp\u001b[0m\u001b[0;34m)\u001b[0m\u001b[0;34m:\u001b[0m\u001b[0;34m\u001b[0m\u001b[0;34m\u001b[0m\u001b[0m\n\u001b[1;32m    763\u001b[0m         \u001b[0mpattern\u001b[0m \u001b[0;34m=\u001b[0m \u001b[0mp\u001b[0m\u001b[0;34m\u001b[0m\u001b[0;34m\u001b[0m\u001b[0m\n\u001b[0;32m--> 764\u001b[0;31m         \u001b[0mp\u001b[0m \u001b[0;34m=\u001b[0m \u001b[0msre_parse\u001b[0m\u001b[0;34m.\u001b[0m\u001b[0mparse\u001b[0m\u001b[0;34m(\u001b[0m\u001b[0mp\u001b[0m\u001b[0;34m,\u001b[0m \u001b[0mflags\u001b[0m\u001b[0;34m)\u001b[0m\u001b[0;34m\u001b[0m\u001b[0;34m\u001b[0m\u001b[0m\n\u001b[0m\u001b[1;32m    765\u001b[0m     \u001b[0;32melse\u001b[0m\u001b[0;34m:\u001b[0m\u001b[0;34m\u001b[0m\u001b[0;34m\u001b[0m\u001b[0m\n\u001b[1;32m    766\u001b[0m         \u001b[0mpattern\u001b[0m \u001b[0;34m=\u001b[0m \u001b[0;32mNone\u001b[0m\u001b[0;34m\u001b[0m\u001b[0;34m\u001b[0m\u001b[0m\n",
      "\u001b[0;32m~/anaconda3/envs/working/lib/python3.9/sre_parse.py\u001b[0m in \u001b[0;36mparse\u001b[0;34m(str, flags, state)\u001b[0m\n\u001b[1;32m    946\u001b[0m \u001b[0;34m\u001b[0m\u001b[0m\n\u001b[1;32m    947\u001b[0m     \u001b[0;32mtry\u001b[0m\u001b[0;34m:\u001b[0m\u001b[0;34m\u001b[0m\u001b[0;34m\u001b[0m\u001b[0m\n\u001b[0;32m--> 948\u001b[0;31m         \u001b[0mp\u001b[0m \u001b[0;34m=\u001b[0m \u001b[0m_parse_sub\u001b[0m\u001b[0;34m(\u001b[0m\u001b[0msource\u001b[0m\u001b[0;34m,\u001b[0m \u001b[0mstate\u001b[0m\u001b[0;34m,\u001b[0m \u001b[0mflags\u001b[0m \u001b[0;34m&\u001b[0m \u001b[0mSRE_FLAG_VERBOSE\u001b[0m\u001b[0;34m,\u001b[0m \u001b[0;36m0\u001b[0m\u001b[0;34m)\u001b[0m\u001b[0;34m\u001b[0m\u001b[0;34m\u001b[0m\u001b[0m\n\u001b[0m\u001b[1;32m    949\u001b[0m     \u001b[0;32mexcept\u001b[0m \u001b[0mVerbose\u001b[0m\u001b[0;34m:\u001b[0m\u001b[0;34m\u001b[0m\u001b[0;34m\u001b[0m\u001b[0m\n\u001b[1;32m    950\u001b[0m         \u001b[0;31m# the VERBOSE flag was switched on inside the pattern.  to be\u001b[0m\u001b[0;34m\u001b[0m\u001b[0;34m\u001b[0m\u001b[0;34m\u001b[0m\u001b[0m\n",
      "\u001b[0;32m~/anaconda3/envs/working/lib/python3.9/sre_parse.py\u001b[0m in \u001b[0;36m_parse_sub\u001b[0;34m(source, state, verbose, nested)\u001b[0m\n\u001b[1;32m    441\u001b[0m     \u001b[0mstart\u001b[0m \u001b[0;34m=\u001b[0m \u001b[0msource\u001b[0m\u001b[0;34m.\u001b[0m\u001b[0mtell\u001b[0m\u001b[0;34m(\u001b[0m\u001b[0;34m)\u001b[0m\u001b[0;34m\u001b[0m\u001b[0;34m\u001b[0m\u001b[0m\n\u001b[1;32m    442\u001b[0m     \u001b[0;32mwhile\u001b[0m \u001b[0;32mTrue\u001b[0m\u001b[0;34m:\u001b[0m\u001b[0;34m\u001b[0m\u001b[0;34m\u001b[0m\u001b[0m\n\u001b[0;32m--> 443\u001b[0;31m         itemsappend(_parse(source, state, verbose, nested + 1,\n\u001b[0m\u001b[1;32m    444\u001b[0m                            not nested and not items))\n\u001b[1;32m    445\u001b[0m         \u001b[0;32mif\u001b[0m \u001b[0;32mnot\u001b[0m \u001b[0msourcematch\u001b[0m\u001b[0;34m(\u001b[0m\u001b[0;34m\"|\"\u001b[0m\u001b[0;34m)\u001b[0m\u001b[0;34m:\u001b[0m\u001b[0;34m\u001b[0m\u001b[0;34m\u001b[0m\u001b[0m\n",
      "\u001b[0;32m~/anaconda3/envs/working/lib/python3.9/sre_parse.py\u001b[0m in \u001b[0;36m_parse\u001b[0;34m(source, state, verbose, nested, first)\u001b[0m\n\u001b[1;32m    666\u001b[0m                 \u001b[0mitem\u001b[0m \u001b[0;34m=\u001b[0m \u001b[0;32mNone\u001b[0m\u001b[0;34m\u001b[0m\u001b[0;34m\u001b[0m\u001b[0m\n\u001b[1;32m    667\u001b[0m             \u001b[0;32mif\u001b[0m \u001b[0;32mnot\u001b[0m \u001b[0mitem\u001b[0m \u001b[0;32mor\u001b[0m \u001b[0mitem\u001b[0m\u001b[0;34m[\u001b[0m\u001b[0;36m0\u001b[0m\u001b[0;34m]\u001b[0m\u001b[0;34m[\u001b[0m\u001b[0;36m0\u001b[0m\u001b[0;34m]\u001b[0m \u001b[0;32mis\u001b[0m \u001b[0mAT\u001b[0m\u001b[0;34m:\u001b[0m\u001b[0;34m\u001b[0m\u001b[0;34m\u001b[0m\u001b[0m\n\u001b[0;32m--> 668\u001b[0;31m                 raise source.error(\"nothing to repeat\",\n\u001b[0m\u001b[1;32m    669\u001b[0m                                    source.tell() - here + len(this))\n\u001b[1;32m    670\u001b[0m             \u001b[0;32mif\u001b[0m \u001b[0mitem\u001b[0m\u001b[0;34m[\u001b[0m\u001b[0;36m0\u001b[0m\u001b[0;34m]\u001b[0m\u001b[0;34m[\u001b[0m\u001b[0;36m0\u001b[0m\u001b[0;34m]\u001b[0m \u001b[0;32min\u001b[0m \u001b[0m_REPEATCODES\u001b[0m\u001b[0;34m:\u001b[0m\u001b[0;34m\u001b[0m\u001b[0;34m\u001b[0m\u001b[0m\n",
      "\u001b[0;31merror\u001b[0m: nothing to repeat at position 0 (line 1, column 1)"
     ]
    }
   ],
   "source": [
    "re.findall('', example)\n"
   ]
  },
  {
   "cell_type": "code",
   "execution_count": null,
   "metadata": {},
   "outputs": [],
   "source": [
    "if (ret_value == True):\n",
    "    soup.find(class_=\"greyText\").text\n",
    "else:\n",
    "    soup.find(class_=\"row\").text"
   ]
  },
  {
   "cell_type": "code",
   "execution_count": 11,
   "metadata": {},
   "outputs": [],
   "source": [
    "def getDate(x):\n",
    "    soup = BeautifulSoup(x)\n",
    "    return soup.get_text()\n",
    "    "
   ]
  },
  {
   "cell_type": "code",
   "execution_count": 12,
   "metadata": {},
   "outputs": [
    {
     "output_type": "execute_result",
     "data": {
      "text/plain": [
       "0    [\\n            Published\\n        August 2005\\...\n",
       "1    [\\n            Published\\n        September 25...\n",
       "2    [\\n            Published\\n        April 2007\\n...\n",
       "3    [\\n            Published\\n        August 31st ...\n",
       "4    [\\n            Published\\n        September 16...\n",
       "5    [\\n            Published\\n        November 15t...\n",
       "6    [\\n            Published\\n        July 25th 20...\n",
       "7    [\\n            Published\\n        September 23...\n",
       "8    [\\n            Published\\n        April 2005\\n...\n",
       "9    [\\n            Published\\n        March 1st 19...\n",
       "Name: VerifyDate, dtype: object"
      ]
     },
     "metadata": {},
     "execution_count": 12
    }
   ],
   "source": [
    "shortdf.VerifyDate.apply(getDate)"
   ]
  },
  {
   "cell_type": "code",
   "execution_count": 13,
   "metadata": {},
   "outputs": [
    {
     "output_type": "execute_result",
     "data": {
      "text/plain": [
       "   id                      Num_pages  \\\n",
       "0   0                      835 pages   \n",
       "1   1  Hobbit Movie Tie-in Boxed set   \n",
       "2   2                      662 pages   \n",
       "3   3                     1007 pages   \n",
       "4   4                Reissue Edition   \n",
       "5   5                      814 pages   \n",
       "6   6                      544 pages   \n",
       "7   7                     1088 pages   \n",
       "8   8                      503 pages   \n",
       "9   9                      435 pages   \n",
       "\n",
       "                                        Verify_pages  \\\n",
       "0             ['Mass Market Paperback', '835 pages']   \n",
       "1  ['Mass Market Paperback', 'Hobbit Movie Tie-in...   \n",
       "2                         ['Hardcover', '662 pages']   \n",
       "3                        ['Hardcover', '1007 pages']   \n",
       "4      ['Paperback', 'Reissue Edition', '767 pages']   \n",
       "5             ['Mass Market Paperback', '814 pages']   \n",
       "6                         ['Hardcover', '544 pages']   \n",
       "7            ['Mass Market Paperback', '1088 pages']   \n",
       "8                         ['Paperback', '503 pages']   \n",
       "9             ['Mass Market Paperback', '435 pages']   \n",
       "\n",
       "                                              Awards  \\\n",
       "0  ['Nebula Award Nominee for Best Novel (1997)',...   \n",
       "1                                                 []   \n",
       "2  ['Locus Award Nominee for Best First Novel and...   \n",
       "3  ['Locus Award Nominee for Best Fantasy Novel (...   \n",
       "4                                                 []   \n",
       "5  ['Locus Award Nominee for Best Fantasy Book (1...   \n",
       "6  ['Tähtifantasia Award Nominee (2018)', 'Prix E...   \n",
       "7  ['Literaturpreis der Jury der jungen Leser for...   \n",
       "8  [\"Book Sense Book of the Year Award for Childr...   \n",
       "9  ['Locus Award Nominee for Fantasy (1996)', 'Br...   \n",
       "\n",
       "                                               Genre  \\\n",
       "0  ['Fantasy', 'Fiction', 'Fantasy', 'Epic Fantas...   \n",
       "1  ['Fantasy', 'Fiction', 'Classics', 'Adventure'...   \n",
       "2  ['Fantasy', 'Fiction', 'Fantasy', 'Epic Fantas...   \n",
       "3  ['Fantasy', 'Fiction', 'Fantasy', 'Epic Fantas...   \n",
       "4  ['Fantasy', 'Classics', 'Fiction', 'Young Adul...   \n",
       "5  ['Fantasy', 'Fiction', 'Fantasy', 'Epic Fantas...   \n",
       "6  ['Fantasy', 'Fiction', 'Fantasy', 'High Fantas...   \n",
       "7  ['Fantasy', 'Young Adult', 'Fiction', 'Childre...   \n",
       "8  ['Fantasy', 'Young Adult', 'Fiction', 'Fantasy...   \n",
       "9  ['Fantasy', 'Fiction', 'Fantasy', 'Epic Fantas...   \n",
       "\n",
       "                                      Setting  \\\n",
       "0               ['The Lands of Ice and Fire']   \n",
       "1                            ['Middle-earth']   \n",
       "2                                          []   \n",
       "3                                  ['Roshar']   \n",
       "4                         ['London, England']   \n",
       "5  [\"Emond's Field\", 'Caemlyn', 'The Blight']   \n",
       "6                                ['Luthadel']   \n",
       "7                         ['Oxford, England']   \n",
       "8                               ['Alagaësia']   \n",
       "9         ['Buckkeep', 'Moonseye', 'Neatbay']   \n",
       "\n",
       "                                       OriginalPDate  \\\n",
       "0  ['\\n              (first published August 6th ...   \n",
       "1  ['\\n              (first published October 20t...   \n",
       "2  ['\\n              (first published March 27th ...   \n",
       "3                                                 []   \n",
       "4  ['\\n              (first published 1956)\\n    ...   \n",
       "5  ['\\n              (first published January 15t...   \n",
       "6  ['\\n              (first published July 17th 2...   \n",
       "7  ['\\n              (first published November 20...   \n",
       "8  ['\\n              (first published June 2002)\\...   \n",
       "9  ['\\n              (first published May 1995)\\n...   \n",
       "\n",
       "                                          VerifyDate  Series  \\\n",
       "0  [<div class=\"row\">\\n            Published\\n   ...    True   \n",
       "1  [<div class=\"row\">\\n            Published\\n   ...    True   \n",
       "2  [<div class=\"row\">\\n            Published\\n   ...    True   \n",
       "3  [<div class=\"row\">\\n            Published\\n   ...    True   \n",
       "4  [<div class=\"row\">\\n            Published\\n   ...    True   \n",
       "5  [<div class=\"row\">\\n            Published\\n   ...    True   \n",
       "6  [<div class=\"row\">\\n            Published\\n   ...    True   \n",
       "7  [<div class=\"row\">\\n            Published\\n   ...    True   \n",
       "8  [<div class=\"row\">\\n            Published\\n   ...    True   \n",
       "9  [<div class=\"row\">\\n            Published\\n   ...    True   \n",
       "\n",
       "                                         Series-Name  \\\n",
       "0           \\nSeries\\n\\nA Song of Ice and Fire #1 \\n   \n",
       "1  \\nSeries\\n\\nThe Lord of the Rings #0-3, Middle...   \n",
       "2         \\nSeries\\n\\nThe Kingkiller Chronicle #1 \\n   \n",
       "3  \\nSeries\\n\\nThe Stormlight Archive #1, The Cos...   \n",
       "4  \\nSeries\\n\\nThe Chronicles of Narnia (Publicat...   \n",
       "5                \\nSeries\\n\\nThe Wheel of Time #1 \\n   \n",
       "6            \\nSeries\\n\\nMistborn #1, The Cosmere \\n   \n",
       "7             \\nSeries\\n\\nHis Dark Materials #1-3 \\n   \n",
       "8            \\nSeries\\n\\nThe Inheritance Cycle #1 \\n   \n",
       "9  \\nSeries\\n\\nThe Farseer Trilogy #1, L'Assassin...   \n",
       "\n",
       "                                                ISBN  \\\n",
       "0  \\nISBN\\n\\n                  0553588486\\n      ...   \n",
       "1  \\nISBN\\n\\n                  0345538374\\n      ...   \n",
       "2  \\nISBN\\n\\n                  075640407X\\n      ...   \n",
       "3  \\nISBN\\n\\n                  0765326353\\n      ...   \n",
       "4                                                NaN   \n",
       "5  \\nISBN\\n\\n                  0812511816\\n      ...   \n",
       "6  \\nISBN\\n\\n                  076531178X\\n      ...   \n",
       "7  \\nISBN\\n\\n                  0440238609\\n      ...   \n",
       "8  \\nISBN\\n\\n                  0375826696\\n      ...   \n",
       "9  \\nISBN\\n\\n                  055357339X\\n      ...   \n",
       "\n",
       "                                         Description  \n",
       "0  [<div class=\"readable stacked\" id=\"description...  \n",
       "1  [<div class=\"readable stacked\" id=\"description...  \n",
       "2  [<div class=\"readable stacked\" id=\"description...  \n",
       "3  [<div class=\"readable stacked\" id=\"description...  \n",
       "4  [<div class=\"readable stacked\" id=\"description...  \n",
       "5  [<div class=\"readable stacked\" id=\"description...  \n",
       "6  [<div class=\"readable stacked\" id=\"description...  \n",
       "7  [<div class=\"readable stacked\" id=\"description...  \n",
       "8  [<div class=\"readable stacked\" id=\"description...  \n",
       "9  [<div class=\"readable stacked\" id=\"description...  "
      ],
      "text/html": "<div>\n<style scoped>\n    .dataframe tbody tr th:only-of-type {\n        vertical-align: middle;\n    }\n\n    .dataframe tbody tr th {\n        vertical-align: top;\n    }\n\n    .dataframe thead th {\n        text-align: right;\n    }\n</style>\n<table border=\"1\" class=\"dataframe\">\n  <thead>\n    <tr style=\"text-align: right;\">\n      <th></th>\n      <th>id</th>\n      <th>Num_pages</th>\n      <th>Verify_pages</th>\n      <th>Awards</th>\n      <th>Genre</th>\n      <th>Setting</th>\n      <th>OriginalPDate</th>\n      <th>VerifyDate</th>\n      <th>Series</th>\n      <th>Series-Name</th>\n      <th>ISBN</th>\n      <th>Description</th>\n    </tr>\n  </thead>\n  <tbody>\n    <tr>\n      <th>0</th>\n      <td>0</td>\n      <td>835 pages</td>\n      <td>['Mass Market Paperback', '835 pages']</td>\n      <td>['Nebula Award Nominee for Best Novel (1997)',...</td>\n      <td>['Fantasy', 'Fiction', 'Fantasy', 'Epic Fantas...</td>\n      <td>['The Lands of Ice and Fire']</td>\n      <td>['\\n              (first published August 6th ...</td>\n      <td>[&lt;div class=\"row\"&gt;\\n            Published\\n   ...</td>\n      <td>True</td>\n      <td>\\nSeries\\n\\nA Song of Ice and Fire #1 \\n</td>\n      <td>\\nISBN\\n\\n                  0553588486\\n      ...</td>\n      <td>[&lt;div class=\"readable stacked\" id=\"description...</td>\n    </tr>\n    <tr>\n      <th>1</th>\n      <td>1</td>\n      <td>Hobbit Movie Tie-in Boxed set</td>\n      <td>['Mass Market Paperback', 'Hobbit Movie Tie-in...</td>\n      <td>[]</td>\n      <td>['Fantasy', 'Fiction', 'Classics', 'Adventure'...</td>\n      <td>['Middle-earth']</td>\n      <td>['\\n              (first published October 20t...</td>\n      <td>[&lt;div class=\"row\"&gt;\\n            Published\\n   ...</td>\n      <td>True</td>\n      <td>\\nSeries\\n\\nThe Lord of the Rings #0-3, Middle...</td>\n      <td>\\nISBN\\n\\n                  0345538374\\n      ...</td>\n      <td>[&lt;div class=\"readable stacked\" id=\"description...</td>\n    </tr>\n    <tr>\n      <th>2</th>\n      <td>2</td>\n      <td>662 pages</td>\n      <td>['Hardcover', '662 pages']</td>\n      <td>['Locus Award Nominee for Best First Novel and...</td>\n      <td>['Fantasy', 'Fiction', 'Fantasy', 'Epic Fantas...</td>\n      <td>[]</td>\n      <td>['\\n              (first published March 27th ...</td>\n      <td>[&lt;div class=\"row\"&gt;\\n            Published\\n   ...</td>\n      <td>True</td>\n      <td>\\nSeries\\n\\nThe Kingkiller Chronicle #1 \\n</td>\n      <td>\\nISBN\\n\\n                  075640407X\\n      ...</td>\n      <td>[&lt;div class=\"readable stacked\" id=\"description...</td>\n    </tr>\n    <tr>\n      <th>3</th>\n      <td>3</td>\n      <td>1007 pages</td>\n      <td>['Hardcover', '1007 pages']</td>\n      <td>['Locus Award Nominee for Best Fantasy Novel (...</td>\n      <td>['Fantasy', 'Fiction', 'Fantasy', 'Epic Fantas...</td>\n      <td>['Roshar']</td>\n      <td>[]</td>\n      <td>[&lt;div class=\"row\"&gt;\\n            Published\\n   ...</td>\n      <td>True</td>\n      <td>\\nSeries\\n\\nThe Stormlight Archive #1, The Cos...</td>\n      <td>\\nISBN\\n\\n                  0765326353\\n      ...</td>\n      <td>[&lt;div class=\"readable stacked\" id=\"description...</td>\n    </tr>\n    <tr>\n      <th>4</th>\n      <td>4</td>\n      <td>Reissue Edition</td>\n      <td>['Paperback', 'Reissue Edition', '767 pages']</td>\n      <td>[]</td>\n      <td>['Fantasy', 'Classics', 'Fiction', 'Young Adul...</td>\n      <td>['London, England']</td>\n      <td>['\\n              (first published 1956)\\n    ...</td>\n      <td>[&lt;div class=\"row\"&gt;\\n            Published\\n   ...</td>\n      <td>True</td>\n      <td>\\nSeries\\n\\nThe Chronicles of Narnia (Publicat...</td>\n      <td>NaN</td>\n      <td>[&lt;div class=\"readable stacked\" id=\"description...</td>\n    </tr>\n    <tr>\n      <th>5</th>\n      <td>5</td>\n      <td>814 pages</td>\n      <td>['Mass Market Paperback', '814 pages']</td>\n      <td>['Locus Award Nominee for Best Fantasy Book (1...</td>\n      <td>['Fantasy', 'Fiction', 'Fantasy', 'Epic Fantas...</td>\n      <td>[\"Emond's Field\", 'Caemlyn', 'The Blight']</td>\n      <td>['\\n              (first published January 15t...</td>\n      <td>[&lt;div class=\"row\"&gt;\\n            Published\\n   ...</td>\n      <td>True</td>\n      <td>\\nSeries\\n\\nThe Wheel of Time #1 \\n</td>\n      <td>\\nISBN\\n\\n                  0812511816\\n      ...</td>\n      <td>[&lt;div class=\"readable stacked\" id=\"description...</td>\n    </tr>\n    <tr>\n      <th>6</th>\n      <td>6</td>\n      <td>544 pages</td>\n      <td>['Hardcover', '544 pages']</td>\n      <td>['Tähtifantasia Award Nominee (2018)', 'Prix E...</td>\n      <td>['Fantasy', 'Fiction', 'Fantasy', 'High Fantas...</td>\n      <td>['Luthadel']</td>\n      <td>['\\n              (first published July 17th 2...</td>\n      <td>[&lt;div class=\"row\"&gt;\\n            Published\\n   ...</td>\n      <td>True</td>\n      <td>\\nSeries\\n\\nMistborn #1, The Cosmere \\n</td>\n      <td>\\nISBN\\n\\n                  076531178X\\n      ...</td>\n      <td>[&lt;div class=\"readable stacked\" id=\"description...</td>\n    </tr>\n    <tr>\n      <th>7</th>\n      <td>7</td>\n      <td>1088 pages</td>\n      <td>['Mass Market Paperback', '1088 pages']</td>\n      <td>['Literaturpreis der Jury der jungen Leser for...</td>\n      <td>['Fantasy', 'Young Adult', 'Fiction', 'Childre...</td>\n      <td>['Oxford, England']</td>\n      <td>['\\n              (first published November 20...</td>\n      <td>[&lt;div class=\"row\"&gt;\\n            Published\\n   ...</td>\n      <td>True</td>\n      <td>\\nSeries\\n\\nHis Dark Materials #1-3 \\n</td>\n      <td>\\nISBN\\n\\n                  0440238609\\n      ...</td>\n      <td>[&lt;div class=\"readable stacked\" id=\"description...</td>\n    </tr>\n    <tr>\n      <th>8</th>\n      <td>8</td>\n      <td>503 pages</td>\n      <td>['Paperback', '503 pages']</td>\n      <td>[\"Book Sense Book of the Year Award for Childr...</td>\n      <td>['Fantasy', 'Young Adult', 'Fiction', 'Fantasy...</td>\n      <td>['Alagaësia']</td>\n      <td>['\\n              (first published June 2002)\\...</td>\n      <td>[&lt;div class=\"row\"&gt;\\n            Published\\n   ...</td>\n      <td>True</td>\n      <td>\\nSeries\\n\\nThe Inheritance Cycle #1 \\n</td>\n      <td>\\nISBN\\n\\n                  0375826696\\n      ...</td>\n      <td>[&lt;div class=\"readable stacked\" id=\"description...</td>\n    </tr>\n    <tr>\n      <th>9</th>\n      <td>9</td>\n      <td>435 pages</td>\n      <td>['Mass Market Paperback', '435 pages']</td>\n      <td>['Locus Award Nominee for Fantasy (1996)', 'Br...</td>\n      <td>['Fantasy', 'Fiction', 'Fantasy', 'Epic Fantas...</td>\n      <td>['Buckkeep', 'Moonseye', 'Neatbay']</td>\n      <td>['\\n              (first published May 1995)\\n...</td>\n      <td>[&lt;div class=\"row\"&gt;\\n            Published\\n   ...</td>\n      <td>True</td>\n      <td>\\nSeries\\n\\nThe Farseer Trilogy #1, L'Assassin...</td>\n      <td>\\nISBN\\n\\n                  055357339X\\n      ...</td>\n      <td>[&lt;div class=\"readable stacked\" id=\"description...</td>\n    </tr>\n  </tbody>\n</table>\n</div>"
     },
     "metadata": {},
     "execution_count": 13
    }
   ],
   "source": []
  },
  {
   "cell_type": "code",
   "execution_count": null,
   "metadata": {},
   "outputs": [],
   "source": []
  }
 ]
}