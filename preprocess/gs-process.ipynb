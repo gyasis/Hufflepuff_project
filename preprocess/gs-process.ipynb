{
 "metadata": {
  "language_info": {
   "codemirror_mode": {
    "name": "ipython",
    "version": 3
   },
   "file_extension": ".py",
   "mimetype": "text/x-python",
   "name": "python",
   "nbconvert_exporter": "python",
   "pygments_lexer": "ipython3",
   "version": "3.9.1-final"
  },
  "orig_nbformat": 2,
  "kernelspec": {
   "name": "python3",
   "display_name": "Python 3",
   "language": "python"
  }
 },
 "nbformat": 4,
 "nbformat_minor": 2,
 "cells": [
  {
   "source": [
    "### 1st process"
   ],
   "cell_type": "markdown",
   "metadata": {}
  },
  {
   "cell_type": "code",
   "execution_count": 40,
   "metadata": {},
   "outputs": [],
   "source": [
    "from bs4 import BeautifulSoup\n",
    "\n",
    "import urllib.request as urllib2\n",
    "import pandas as pd\n",
    "import numpy as np\n",
    "import csv\n",
    "import requests\n",
    "from random import randint\n",
    "from time import sleep\n",
    "from tqdm import tqdm\n",
    "import glob\n",
    "import re\n",
    "\n",
    "\n"
   ]
  },
  {
   "cell_type": "code",
   "execution_count": 28,
   "metadata": {},
   "outputs": [
    {
     "output_type": "stream",
     "name": "stdout",
     "text": [
      "['requirements.txt']\n"
     ]
    }
   ],
   "source": [
    "print(glob.glob('*.*'))\n"
   ]
  },
  {
   "cell_type": "code",
   "execution_count": 195,
   "metadata": {},
   "outputs": [],
   "source": [
    "df = pd.read_csv(\"Hufflepuff_project/webscraping/data/lastfantasy.csv\")"
   ]
  },
  {
   "cell_type": "code",
   "execution_count": 196,
   "metadata": {},
   "outputs": [
    {
     "output_type": "execute_result",
     "data": {
      "text/plain": [
       "'[<div class=\"row\">\\n            Published\\n        September 25th 2012\\n         by Ballantine Books\\n\\n            <nobr class=\"greyText\">\\n              (first published October 20th 1955)\\n            </nobr>\\n</div>]'"
      ]
     },
     "metadata": {},
     "execution_count": 196
    }
   ],
   "source": [
    "capture = shortdf.VerifyDate[1]\n",
    "capture "
   ]
  },
  {
   "cell_type": "code",
   "execution_count": 91,
   "metadata": {},
   "outputs": [],
   "source": [
    "def myStrip(i):\n",
    "    a = 0\n",
    "    for a in range(0, len(i) ,1):\n",
    "       i[a] = i[a].string\n",
    "    #print(i)\n",
    "    return i"
   ]
  },
  {
   "cell_type": "code",
   "execution_count": 197,
   "metadata": {},
   "outputs": [
    {
     "output_type": "execute_result",
     "data": {
      "text/plain": [
       "      Unnamed: 0                                               name  \\\n",
       "0              0     A Game of Thrones (A Song of Ice and Fire, #1)   \n",
       "1              1    J.R.R. Tolkien 4-Book Boxed Set: The Hobbit ...   \n",
       "2              2    The Name of the Wind (The Kingkiller Chronic...   \n",
       "3              3      The Way of Kings (The Stormlight Archive, #1)   \n",
       "4              4    The Chronicles of Narnia (Chronicles of Narn...   \n",
       "...          ...                                                ...   \n",
       "1095        1095          Demon Lord of Karanda (The Malloreon, #3)   \n",
       "1096        1096    Dragon of Legend: Destiny: Fantasy Dragon Ad...   \n",
       "1097        1097                       Oath of Swords (War God, #1)   \n",
       "1098        1098    A Sky Of Shattered Stars  (Force of Gravity,...   \n",
       "1099        1099                             Scourge (Darkhurst #1)   \n",
       "\n",
       "                                    author number of ratings  \\\n",
       "0                       George R.R. Martin         2,049,108   \n",
       "1                           J.R.R. Tolkien           112,537   \n",
       "2      Patrick Rothfuss (Goodreads Author)           740,343   \n",
       "3     Brandon Sanderson (Goodreads Author)           320,338   \n",
       "4                               C.S. Lewis           533,551   \n",
       "...                                    ...               ...   \n",
       "1095                         David Eddings            42,586   \n",
       "1096     Angelika Meyer (Goodreads Author)               133   \n",
       "1097                           David Weber             6,710   \n",
       "1098        Ali Winters (Goodreads Author)               avg   \n",
       "1099     Gail Z. Martin (Goodreads Author)               203   \n",
       "\n",
       "                                                    url avg_ratings    id  \\\n",
       "0     https://www.goodreads.com//book/show/13496.A_G...        4.45     0   \n",
       "1     https://www.goodreads.com//book/show/30.J_R_R_...         4.6     1   \n",
       "2     https://www.goodreads.com//book/show/186074.Th...        4.52     2   \n",
       "3     https://www.goodreads.com//book/show/7235533-t...        4.62     3   \n",
       "4     https://www.goodreads.com//book/show/11127.The...        4.26     4   \n",
       "...                                                 ...         ...   ...   \n",
       "1095  https://www.goodreads.com//book/show/286507.De...        4.02  1095   \n",
       "1096  https://www.goodreads.com//book/show/25975141-...        4.71  1096   \n",
       "1097  https://www.goodreads.com//book/show/17315.Oat...        4.01  1097   \n",
       "1098  https://www.goodreads.com//book/show/36483800-...      really  1098   \n",
       "1099  https://www.goodreads.com//book/show/35300241-...        3.62  1099   \n",
       "\n",
       "                          Num_pages  \\\n",
       "0                         835 pages   \n",
       "1     Hobbit Movie Tie-in Boxed set   \n",
       "2                         662 pages   \n",
       "3                        1007 pages   \n",
       "4                   Reissue Edition   \n",
       "...                             ...   \n",
       "1095                      404 pages   \n",
       "1096                      420 pages   \n",
       "1097                      576 pages   \n",
       "1098                      384 pages   \n",
       "1099                      400 pages   \n",
       "\n",
       "                                           Verify_pages  \\\n",
       "0                ['Mass Market Paperback', '835 pages']   \n",
       "1     ['Mass Market Paperback', 'Hobbit Movie Tie-in...   \n",
       "2                            ['Hardcover', '662 pages']   \n",
       "3                           ['Hardcover', '1007 pages']   \n",
       "4         ['Paperback', 'Reissue Edition', '767 pages']   \n",
       "...                                                 ...   \n",
       "1095             ['Mass Market Paperback', '404 pages']   \n",
       "1096                    ['Kindle Edition', '420 pages']   \n",
       "1097                         ['Paperback', '576 pages']   \n",
       "1098                         ['Paperback', '384 pages']   \n",
       "1099                    ['Kindle Edition', '400 pages']   \n",
       "\n",
       "                                                 Awards  \\\n",
       "0     ['Nebula Award Nominee for Best Novel (1997)',...   \n",
       "1                                                    []   \n",
       "2     ['Locus Award Nominee for Best First Novel and...   \n",
       "3     ['Locus Award Nominee for Best Fantasy Novel (...   \n",
       "4                                                    []   \n",
       "...                                                 ...   \n",
       "1095                                                 []   \n",
       "1096                                                 []   \n",
       "1097                                                 []   \n",
       "1098                                                 []   \n",
       "1099                                                 []   \n",
       "\n",
       "                                                  Genre  \\\n",
       "0     ['Fantasy', 'Fiction', 'Fantasy', 'Epic Fantas...   \n",
       "1     ['Fantasy', 'Fiction', 'Classics', 'Adventure'...   \n",
       "2     ['Fantasy', 'Fiction', 'Fantasy', 'Epic Fantas...   \n",
       "3     ['Fantasy', 'Fiction', 'Fantasy', 'Epic Fantas...   \n",
       "4     ['Fantasy', 'Classics', 'Fiction', 'Young Adul...   \n",
       "...                                                 ...   \n",
       "1095  ['Fantasy', 'Fiction', 'Fantasy', 'Epic Fantas...   \n",
       "1096                    ['Fantasy', 'Fantasy', 'Magic']   \n",
       "1097  ['Fantasy', 'Fiction', 'Fantasy', 'Epic Fantas...   \n",
       "1098                                                 []   \n",
       "1099   ['Fantasy', 'Fantasy', 'Epic Fantasy', 'Horror']   \n",
       "\n",
       "                            Setting  \\\n",
       "0     ['The Lands of Ice and Fire']   \n",
       "1                  ['Middle-earth']   \n",
       "2                                []   \n",
       "3                        ['Roshar']   \n",
       "4               ['London, England']   \n",
       "...                             ...   \n",
       "1095                             []   \n",
       "1096                             []   \n",
       "1097                             []   \n",
       "1098                             []   \n",
       "1099                             []   \n",
       "\n",
       "                                          OriginalPDate  \\\n",
       "0     ['\\n              (first published August 6th ...   \n",
       "1     ['\\n              (first published October 20t...   \n",
       "2     ['\\n              (first published March 27th ...   \n",
       "3                                                    []   \n",
       "4     ['\\n              (first published 1956)\\n    ...   \n",
       "...                                                 ...   \n",
       "1095  ['\\n              (first published January 1st...   \n",
       "1096  ['\\n              (first published 2015)\\n    ...   \n",
       "1097  ['\\n              (first published February 19...   \n",
       "1098                                                 []   \n",
       "1099                                                 []   \n",
       "\n",
       "                                             VerifyDate  Series  \\\n",
       "0     [<div class=\"row\">\\n            Published\\n   ...    True   \n",
       "1     [<div class=\"row\">\\n            Published\\n   ...    True   \n",
       "2     [<div class=\"row\">\\n            Published\\n   ...    True   \n",
       "3     [<div class=\"row\">\\n            Published\\n   ...    True   \n",
       "4     [<div class=\"row\">\\n            Published\\n   ...    True   \n",
       "...                                                 ...     ...   \n",
       "1095  [<div class=\"row\">\\n            Published\\n   ...    True   \n",
       "1096  [<div class=\"row\">\\n            Published\\n   ...   False   \n",
       "1097  [<div class=\"row\">\\n            Published\\n   ...    True   \n",
       "1098  [<div class=\"row\">\\n            Published\\n   ...   False   \n",
       "1099  [<div class=\"row\">\\n            Published\\n   ...    True   \n",
       "\n",
       "                                             SeriesName  \\\n",
       "0              \\nSeries\\n\\nA Song of Ice and Fire #1 \\n   \n",
       "1     \\nSeries\\n\\nThe Lord of the Rings #0-3, Middle...   \n",
       "2            \\nSeries\\n\\nThe Kingkiller Chronicle #1 \\n   \n",
       "3     \\nSeries\\n\\nThe Stormlight Archive #1, The Cos...   \n",
       "4     \\nSeries\\n\\nThe Chronicles of Narnia (Publicat...   \n",
       "...                                                 ...   \n",
       "1095  \\nSeries\\n\\nThe Malloreon #3, Belgariad Univer...   \n",
       "1096                                                NaN   \n",
       "1097  \\nSeries\\n\\nWar God #1, Schwerter des Zorns #1 \\n   \n",
       "1098                                                NaN   \n",
       "1099                       \\nSeries\\n\\nDarkhurst  #1 \\n   \n",
       "\n",
       "                                                   ISBN  \\\n",
       "0     \\nISBN\\n\\n                  0553588486\\n      ...   \n",
       "1     \\nISBN\\n\\n                  0345538374\\n      ...   \n",
       "2     \\nISBN\\n\\n                  075640407X\\n      ...   \n",
       "3     \\nISBN\\n\\n                  0765326353\\n      ...   \n",
       "4                                                   NaN   \n",
       "...                                                 ...   \n",
       "1095  \\nISBN\\n\\n                  0345363310\\n      ...   \n",
       "1096                                                NaN   \n",
       "1097  \\nISBN\\n\\n                  1416520864\\n      ...   \n",
       "1098                          \\nISBN13\\n9781945238079\\n   \n",
       "1099  \\nISBN\\n\\n                  1781085587\\n      ...   \n",
       "\n",
       "                                            Description  \n",
       "0     [<div class=\"readable stacked\" id=\"description...  \n",
       "1     [<div class=\"readable stacked\" id=\"description...  \n",
       "2     [<div class=\"readable stacked\" id=\"description...  \n",
       "3     [<div class=\"readable stacked\" id=\"description...  \n",
       "4     [<div class=\"readable stacked\" id=\"description...  \n",
       "...                                                 ...  \n",
       "1095  [<div class=\"readable stacked\" id=\"description...  \n",
       "1096  [<div class=\"readable stacked\" id=\"description...  \n",
       "1097  [<div class=\"readable stacked\" id=\"description...  \n",
       "1098  [<div class=\"readable stacked\" id=\"description...  \n",
       "1099  [<div class=\"readable stacked\" id=\"description...  \n",
       "\n",
       "[1100 rows x 18 columns]"
      ],
      "text/html": "<div>\n<style scoped>\n    .dataframe tbody tr th:only-of-type {\n        vertical-align: middle;\n    }\n\n    .dataframe tbody tr th {\n        vertical-align: top;\n    }\n\n    .dataframe thead th {\n        text-align: right;\n    }\n</style>\n<table border=\"1\" class=\"dataframe\">\n  <thead>\n    <tr style=\"text-align: right;\">\n      <th></th>\n      <th>Unnamed: 0</th>\n      <th>name</th>\n      <th>author</th>\n      <th>number of ratings</th>\n      <th>url</th>\n      <th>avg_ratings</th>\n      <th>id</th>\n      <th>Num_pages</th>\n      <th>Verify_pages</th>\n      <th>Awards</th>\n      <th>Genre</th>\n      <th>Setting</th>\n      <th>OriginalPDate</th>\n      <th>VerifyDate</th>\n      <th>Series</th>\n      <th>SeriesName</th>\n      <th>ISBN</th>\n      <th>Description</th>\n    </tr>\n  </thead>\n  <tbody>\n    <tr>\n      <th>0</th>\n      <td>0</td>\n      <td>A Game of Thrones (A Song of Ice and Fire, #1)</td>\n      <td>George R.R. Martin</td>\n      <td>2,049,108</td>\n      <td>https://www.goodreads.com//book/show/13496.A_G...</td>\n      <td>4.45</td>\n      <td>0</td>\n      <td>835 pages</td>\n      <td>['Mass Market Paperback', '835 pages']</td>\n      <td>['Nebula Award Nominee for Best Novel (1997)',...</td>\n      <td>['Fantasy', 'Fiction', 'Fantasy', 'Epic Fantas...</td>\n      <td>['The Lands of Ice and Fire']</td>\n      <td>['\\n              (first published August 6th ...</td>\n      <td>[&lt;div class=\"row\"&gt;\\n            Published\\n   ...</td>\n      <td>True</td>\n      <td>\\nSeries\\n\\nA Song of Ice and Fire #1 \\n</td>\n      <td>\\nISBN\\n\\n                  0553588486\\n      ...</td>\n      <td>[&lt;div class=\"readable stacked\" id=\"description...</td>\n    </tr>\n    <tr>\n      <th>1</th>\n      <td>1</td>\n      <td>J.R.R. Tolkien 4-Book Boxed Set: The Hobbit ...</td>\n      <td>J.R.R. Tolkien</td>\n      <td>112,537</td>\n      <td>https://www.goodreads.com//book/show/30.J_R_R_...</td>\n      <td>4.6</td>\n      <td>1</td>\n      <td>Hobbit Movie Tie-in Boxed set</td>\n      <td>['Mass Market Paperback', 'Hobbit Movie Tie-in...</td>\n      <td>[]</td>\n      <td>['Fantasy', 'Fiction', 'Classics', 'Adventure'...</td>\n      <td>['Middle-earth']</td>\n      <td>['\\n              (first published October 20t...</td>\n      <td>[&lt;div class=\"row\"&gt;\\n            Published\\n   ...</td>\n      <td>True</td>\n      <td>\\nSeries\\n\\nThe Lord of the Rings #0-3, Middle...</td>\n      <td>\\nISBN\\n\\n                  0345538374\\n      ...</td>\n      <td>[&lt;div class=\"readable stacked\" id=\"description...</td>\n    </tr>\n    <tr>\n      <th>2</th>\n      <td>2</td>\n      <td>The Name of the Wind (The Kingkiller Chronic...</td>\n      <td>Patrick Rothfuss (Goodreads Author)</td>\n      <td>740,343</td>\n      <td>https://www.goodreads.com//book/show/186074.Th...</td>\n      <td>4.52</td>\n      <td>2</td>\n      <td>662 pages</td>\n      <td>['Hardcover', '662 pages']</td>\n      <td>['Locus Award Nominee for Best First Novel and...</td>\n      <td>['Fantasy', 'Fiction', 'Fantasy', 'Epic Fantas...</td>\n      <td>[]</td>\n      <td>['\\n              (first published March 27th ...</td>\n      <td>[&lt;div class=\"row\"&gt;\\n            Published\\n   ...</td>\n      <td>True</td>\n      <td>\\nSeries\\n\\nThe Kingkiller Chronicle #1 \\n</td>\n      <td>\\nISBN\\n\\n                  075640407X\\n      ...</td>\n      <td>[&lt;div class=\"readable stacked\" id=\"description...</td>\n    </tr>\n    <tr>\n      <th>3</th>\n      <td>3</td>\n      <td>The Way of Kings (The Stormlight Archive, #1)</td>\n      <td>Brandon Sanderson (Goodreads Author)</td>\n      <td>320,338</td>\n      <td>https://www.goodreads.com//book/show/7235533-t...</td>\n      <td>4.62</td>\n      <td>3</td>\n      <td>1007 pages</td>\n      <td>['Hardcover', '1007 pages']</td>\n      <td>['Locus Award Nominee for Best Fantasy Novel (...</td>\n      <td>['Fantasy', 'Fiction', 'Fantasy', 'Epic Fantas...</td>\n      <td>['Roshar']</td>\n      <td>[]</td>\n      <td>[&lt;div class=\"row\"&gt;\\n            Published\\n   ...</td>\n      <td>True</td>\n      <td>\\nSeries\\n\\nThe Stormlight Archive #1, The Cos...</td>\n      <td>\\nISBN\\n\\n                  0765326353\\n      ...</td>\n      <td>[&lt;div class=\"readable stacked\" id=\"description...</td>\n    </tr>\n    <tr>\n      <th>4</th>\n      <td>4</td>\n      <td>The Chronicles of Narnia (Chronicles of Narn...</td>\n      <td>C.S. Lewis</td>\n      <td>533,551</td>\n      <td>https://www.goodreads.com//book/show/11127.The...</td>\n      <td>4.26</td>\n      <td>4</td>\n      <td>Reissue Edition</td>\n      <td>['Paperback', 'Reissue Edition', '767 pages']</td>\n      <td>[]</td>\n      <td>['Fantasy', 'Classics', 'Fiction', 'Young Adul...</td>\n      <td>['London, England']</td>\n      <td>['\\n              (first published 1956)\\n    ...</td>\n      <td>[&lt;div class=\"row\"&gt;\\n            Published\\n   ...</td>\n      <td>True</td>\n      <td>\\nSeries\\n\\nThe Chronicles of Narnia (Publicat...</td>\n      <td>NaN</td>\n      <td>[&lt;div class=\"readable stacked\" id=\"description...</td>\n    </tr>\n    <tr>\n      <th>...</th>\n      <td>...</td>\n      <td>...</td>\n      <td>...</td>\n      <td>...</td>\n      <td>...</td>\n      <td>...</td>\n      <td>...</td>\n      <td>...</td>\n      <td>...</td>\n      <td>...</td>\n      <td>...</td>\n      <td>...</td>\n      <td>...</td>\n      <td>...</td>\n      <td>...</td>\n      <td>...</td>\n      <td>...</td>\n      <td>...</td>\n    </tr>\n    <tr>\n      <th>1095</th>\n      <td>1095</td>\n      <td>Demon Lord of Karanda (The Malloreon, #3)</td>\n      <td>David Eddings</td>\n      <td>42,586</td>\n      <td>https://www.goodreads.com//book/show/286507.De...</td>\n      <td>4.02</td>\n      <td>1095</td>\n      <td>404 pages</td>\n      <td>['Mass Market Paperback', '404 pages']</td>\n      <td>[]</td>\n      <td>['Fantasy', 'Fiction', 'Fantasy', 'Epic Fantas...</td>\n      <td>[]</td>\n      <td>['\\n              (first published January 1st...</td>\n      <td>[&lt;div class=\"row\"&gt;\\n            Published\\n   ...</td>\n      <td>True</td>\n      <td>\\nSeries\\n\\nThe Malloreon #3, Belgariad Univer...</td>\n      <td>\\nISBN\\n\\n                  0345363310\\n      ...</td>\n      <td>[&lt;div class=\"readable stacked\" id=\"description...</td>\n    </tr>\n    <tr>\n      <th>1096</th>\n      <td>1096</td>\n      <td>Dragon of Legend: Destiny: Fantasy Dragon Ad...</td>\n      <td>Angelika Meyer (Goodreads Author)</td>\n      <td>133</td>\n      <td>https://www.goodreads.com//book/show/25975141-...</td>\n      <td>4.71</td>\n      <td>1096</td>\n      <td>420 pages</td>\n      <td>['Kindle Edition', '420 pages']</td>\n      <td>[]</td>\n      <td>['Fantasy', 'Fantasy', 'Magic']</td>\n      <td>[]</td>\n      <td>['\\n              (first published 2015)\\n    ...</td>\n      <td>[&lt;div class=\"row\"&gt;\\n            Published\\n   ...</td>\n      <td>False</td>\n      <td>NaN</td>\n      <td>NaN</td>\n      <td>[&lt;div class=\"readable stacked\" id=\"description...</td>\n    </tr>\n    <tr>\n      <th>1097</th>\n      <td>1097</td>\n      <td>Oath of Swords (War God, #1)</td>\n      <td>David Weber</td>\n      <td>6,710</td>\n      <td>https://www.goodreads.com//book/show/17315.Oat...</td>\n      <td>4.01</td>\n      <td>1097</td>\n      <td>576 pages</td>\n      <td>['Paperback', '576 pages']</td>\n      <td>[]</td>\n      <td>['Fantasy', 'Fiction', 'Fantasy', 'Epic Fantas...</td>\n      <td>[]</td>\n      <td>['\\n              (first published February 19...</td>\n      <td>[&lt;div class=\"row\"&gt;\\n            Published\\n   ...</td>\n      <td>True</td>\n      <td>\\nSeries\\n\\nWar God #1, Schwerter des Zorns #1 \\n</td>\n      <td>\\nISBN\\n\\n                  1416520864\\n      ...</td>\n      <td>[&lt;div class=\"readable stacked\" id=\"description...</td>\n    </tr>\n    <tr>\n      <th>1098</th>\n      <td>1098</td>\n      <td>A Sky Of Shattered Stars  (Force of Gravity,...</td>\n      <td>Ali Winters (Goodreads Author)</td>\n      <td>avg</td>\n      <td>https://www.goodreads.com//book/show/36483800-...</td>\n      <td>really</td>\n      <td>1098</td>\n      <td>384 pages</td>\n      <td>['Paperback', '384 pages']</td>\n      <td>[]</td>\n      <td>[]</td>\n      <td>[]</td>\n      <td>[]</td>\n      <td>[&lt;div class=\"row\"&gt;\\n            Published\\n   ...</td>\n      <td>False</td>\n      <td>NaN</td>\n      <td>\\nISBN13\\n9781945238079\\n</td>\n      <td>[&lt;div class=\"readable stacked\" id=\"description...</td>\n    </tr>\n    <tr>\n      <th>1099</th>\n      <td>1099</td>\n      <td>Scourge (Darkhurst #1)</td>\n      <td>Gail Z. Martin (Goodreads Author)</td>\n      <td>203</td>\n      <td>https://www.goodreads.com//book/show/35300241-...</td>\n      <td>3.62</td>\n      <td>1099</td>\n      <td>400 pages</td>\n      <td>['Kindle Edition', '400 pages']</td>\n      <td>[]</td>\n      <td>['Fantasy', 'Fantasy', 'Epic Fantasy', 'Horror']</td>\n      <td>[]</td>\n      <td>[]</td>\n      <td>[&lt;div class=\"row\"&gt;\\n            Published\\n   ...</td>\n      <td>True</td>\n      <td>\\nSeries\\n\\nDarkhurst  #1 \\n</td>\n      <td>\\nISBN\\n\\n                  1781085587\\n      ...</td>\n      <td>[&lt;div class=\"readable stacked\" id=\"description...</td>\n    </tr>\n  </tbody>\n</table>\n<p>1100 rows × 18 columns</p>\n</div>"
     },
     "metadata": {},
     "execution_count": 197
    }
   ],
   "source": [
    "df"
   ]
  },
  {
   "cell_type": "code",
   "execution_count": 156,
   "metadata": {},
   "outputs": [
    {
     "output_type": "error",
     "ename": "IndexError",
     "evalue": "list index out of range",
     "traceback": [
      "\u001b[0;31m---------------------------------------------------------------------------\u001b[0m",
      "\u001b[0;31mIndexError\u001b[0m                                Traceback (most recent call last)",
      "\u001b[0;32m<ipython-input-156-39349fd7e9d3>\u001b[0m in \u001b[0;36m<module>\u001b[0;34m\u001b[0m\n\u001b[1;32m      7\u001b[0m \u001b[0;34m\u001b[0m\u001b[0m\n\u001b[1;32m      8\u001b[0m     \u001b[0;32mfor\u001b[0m \u001b[0me\u001b[0m \u001b[0;32min\u001b[0m \u001b[0mrange\u001b[0m\u001b[0;34m(\u001b[0m\u001b[0;36m0\u001b[0m\u001b[0;34m,\u001b[0m \u001b[0mlen\u001b[0m\u001b[0;34m(\u001b[0m\u001b[0mshortdf\u001b[0m\u001b[0;34m.\u001b[0m\u001b[0mDescription\u001b[0m\u001b[0;34m)\u001b[0m\u001b[0;34m)\u001b[0m\u001b[0;34m:\u001b[0m\u001b[0;34m\u001b[0m\u001b[0;34m\u001b[0m\u001b[0m\n\u001b[0;32m----> 9\u001b[0;31m         \u001b[0mgrab_paragraphs\u001b[0m\u001b[0;34m[\u001b[0m\u001b[0me\u001b[0m\u001b[0;34m]\u001b[0m \u001b[0;34m=\u001b[0m \u001b[0mgrab_paragraphs\u001b[0m\u001b[0;34m[\u001b[0m\u001b[0me\u001b[0m\u001b[0;34m]\u001b[0m\u001b[0;34m.\u001b[0m\u001b[0mtext\u001b[0m\u001b[0;34m\u001b[0m\u001b[0;34m\u001b[0m\u001b[0m\n\u001b[0m\u001b[1;32m     10\u001b[0m \u001b[0;34m\u001b[0m\u001b[0m\n\u001b[1;32m     11\u001b[0m \u001b[0;34m\u001b[0m\u001b[0m\n",
      "\u001b[0;31mIndexError\u001b[0m: list index out of range"
     ]
    }
   ],
   "source": [
    "\n",
    "\n",
    "\n",
    "# for e in range(0,len(grab_paragraphs)):\n",
    "#     grab_paragraphs[e] = grab_paragraphs[e].text\n",
    "    \n",
    "for i in shortdf.index:\n",
    "    soup = BeautifulSoup(shortdf.Description[i])\n",
    "    grab_paragraphs = soup.select('span')\n",
    "    \n",
    "    for e in range(0, len(shortdf.Description)):\n",
    "        grab_paragraphs[e] = grab_paragraphs[e].text\n",
    "\n",
    "\n",
    "    shortdf.Description[i] = grab_paragraphs\n",
    "      \n",
    "\n",
    "\n",
    "\n"
   ]
  },
  {
   "cell_type": "code",
   "execution_count": null,
   "metadata": {},
   "outputs": [],
   "source": []
  },
  {
   "cell_type": "code",
   "execution_count": 173,
   "metadata": {},
   "outputs": [],
   "source": [
    "def sD(x):\n",
    "    get_desc = df.Description[x]\n",
    "    soup = BeautifulSoup(get_desc)\n",
    "    grab_paragraphs = soup.select('span')\n",
    "\n",
    "    for e in range(0,len(grab_paragraphs)):\n",
    "        grab_paragraphs[e] = grab_paragraphs[e].text\n",
    "        \n",
    "    df.Description[x] = grab_paragraphs\n"
   ]
  },
  {
   "cell_type": "code",
   "execution_count": 161,
   "metadata": {},
   "outputs": [
    {
     "output_type": "execute_result",
     "data": {
      "text/plain": [
       "      id                      Num_pages  \\\n",
       "0      0                      835 pages   \n",
       "1      1  Hobbit Movie Tie-in Boxed set   \n",
       "2      2                      662 pages   \n",
       "3      3                     1007 pages   \n",
       "4      4                Reissue Edition   \n",
       "..   ...                            ...   \n",
       "196  196                      912 pages   \n",
       "197  197                      452 pages   \n",
       "198  198                      598 pages   \n",
       "199  199                      265 pages   \n",
       "200  200                      393 pages   \n",
       "\n",
       "                                          Verify_pages  \\\n",
       "0               ['Mass Market Paperback', '835 pages']   \n",
       "1    ['Mass Market Paperback', 'Hobbit Movie Tie-in...   \n",
       "2                           ['Hardcover', '662 pages']   \n",
       "3                          ['Hardcover', '1007 pages']   \n",
       "4        ['Paperback', 'Reissue Edition', '767 pages']   \n",
       "..                                                 ...   \n",
       "196                         ['Hardcover', '912 pages']   \n",
       "197                         ['Hardcover', '452 pages']   \n",
       "198             ['Mass Market Paperback', '598 pages']   \n",
       "199                    ['Kindle Edition', '265 pages']   \n",
       "200                         ['Paperback', '393 pages']   \n",
       "\n",
       "                                                Awards  \\\n",
       "0    ['Nebula Award Nominee for Best Novel (1997)',...   \n",
       "1                                                   []   \n",
       "2    ['Locus Award Nominee for Best First Novel and...   \n",
       "3    ['Locus Award Nominee for Best Fantasy Novel (...   \n",
       "4                                                   []   \n",
       "..                                                 ...   \n",
       "196  ['David Gemmell Legend Award Nominee for Best ...   \n",
       "197  ['Locus Award Nominee for Best Single Author C...   \n",
       "198                                                 []   \n",
       "199                                                 []   \n",
       "200  ['Borders Original Voices Award for YA or Inde...   \n",
       "\n",
       "                                                 Genre  \\\n",
       "0    ['Fantasy', 'Fiction', 'Fantasy', 'Epic Fantas...   \n",
       "1    ['Fantasy', 'Fiction', 'Classics', 'Adventure'...   \n",
       "2    ['Fantasy', 'Fiction', 'Fantasy', 'Epic Fantas...   \n",
       "3    ['Fantasy', 'Fiction', 'Fantasy', 'Epic Fantas...   \n",
       "4    ['Fantasy', 'Classics', 'Fiction', 'Young Adul...   \n",
       "..                                                 ...   \n",
       "196  ['Fantasy', 'Fiction', 'Fantasy', 'Epic Fantas...   \n",
       "197  ['Fantasy', 'Fiction', 'Classics', 'Fantasy', ...   \n",
       "198  ['Fantasy', 'Fantasy', 'High Fantasy', 'Fictio...   \n",
       "199      ['Fantasy', 'Horror', 'LGBT', 'Contemporary']   \n",
       "200  ['Fantasy', 'Young Adult', 'Fiction', 'Horror'...   \n",
       "\n",
       "                           Setting  \\\n",
       "0    ['The Lands of Ice and Fire']   \n",
       "1                 ['Middle-earth']   \n",
       "2                               []   \n",
       "3                       ['Roshar']   \n",
       "4              ['London, England']   \n",
       "..                             ...   \n",
       "196                             []   \n",
       "197               ['Middle-earth']   \n",
       "198                             []   \n",
       "199                             []   \n",
       "200                             []   \n",
       "\n",
       "                                         OriginalPDate  \\\n",
       "0    ['\\n              (first published August 6th ...   \n",
       "1    ['\\n              (first published October 20t...   \n",
       "2    ['\\n              (first published March 27th ...   \n",
       "3                                                   []   \n",
       "4    ['\\n              (first published 1956)\\n    ...   \n",
       "..                                                 ...   \n",
       "196                                                 []   \n",
       "197  ['\\n              (first published October 198...   \n",
       "198  ['\\n              (first published October 26t...   \n",
       "199  ['\\n              (first published February 1s...   \n",
       "200  ['\\n              (first published October 1st...   \n",
       "\n",
       "                                            VerifyDate  Series  \\\n",
       "0    [<div class=\"row\">\\n            Published\\n   ...    True   \n",
       "1    [<div class=\"row\">\\n            Published\\n   ...    True   \n",
       "2    [<div class=\"row\">\\n            Published\\n   ...    True   \n",
       "3    [<div class=\"row\">\\n            Published\\n   ...    True   \n",
       "4    [<div class=\"row\">\\n            Published\\n   ...    True   \n",
       "..                                                 ...     ...   \n",
       "196  [<div class=\"row\">\\n            Published\\n   ...    True   \n",
       "197  [<div class=\"row\">\\n            Published\\n   ...    True   \n",
       "198  [<div class=\"row\">\\n            Published\\n   ...    True   \n",
       "199  [<div class=\"row\">\\n            Published\\n   ...    True   \n",
       "200  [<div class=\"row\">\\n            Published\\n   ...    True   \n",
       "\n",
       "                                           Series-Name  \\\n",
       "0             \\nSeries\\n\\nA Song of Ice and Fire #1 \\n   \n",
       "1    \\nSeries\\n\\nThe Lord of the Rings #0-3, Middle...   \n",
       "2           \\nSeries\\n\\nThe Kingkiller Chronicle #1 \\n   \n",
       "3    \\nSeries\\n\\nThe Stormlight Archive #1, The Cos...   \n",
       "4    \\nSeries\\n\\nThe Chronicles of Narnia (Publicat...   \n",
       "..                                                 ...   \n",
       "196               \\nSeries\\n\\nThe Wheel of Time #14 \\n   \n",
       "197  \\nSeries\\n\\nUnfinished Tales, Middle-earth Uni...   \n",
       "198                  \\nSeries\\n\\nAge of the Five #1 \\n   \n",
       "199                        \\nSeries\\n\\nHorn-Horn #1 \\n   \n",
       "200                           \\nSeries\\n\\nAbarat #1 \\n   \n",
       "\n",
       "                                                  ISBN  \\\n",
       "0    \\nISBN\\n\\n                  0553588486\\n      ...   \n",
       "1    \\nISBN\\n\\n                  0345538374\\n      ...   \n",
       "2    \\nISBN\\n\\n                  075640407X\\n      ...   \n",
       "3    \\nISBN\\n\\n                  0765326353\\n      ...   \n",
       "4                                                  NaN   \n",
       "..                                                 ...   \n",
       "196  \\nISBN\\n\\n                  0765325950\\n      ...   \n",
       "197  \\nISBN\\n\\n                  026110215X\\n      ...   \n",
       "198  \\nISBN\\n\\n                  0060815701\\n      ...   \n",
       "199                                                NaN   \n",
       "200  \\nISBN\\n\\n                  0064407330\\n      ...   \n",
       "\n",
       "                                           Description  \n",
       "0    In a faraway land where members of the royal f...  \n",
       "1    In a faraway land where members of the royal f...  \n",
       "2    [<div class=\"readable stacked\" id=\"description...  \n",
       "3    [<div class=\"readable stacked\" id=\"description...  \n",
       "4    [<div class=\"readable stacked\" id=\"description...  \n",
       "..                                                 ...  \n",
       "196  [<div class=\"readable stacked\" id=\"description...  \n",
       "197  [<div class=\"readable stacked\" id=\"description...  \n",
       "198  [<div class=\"readable stacked\" id=\"description...  \n",
       "199  [<div class=\"readable stacked\" id=\"description...  \n",
       "200  [<div class=\"readable stacked\" id=\"description...  \n",
       "\n",
       "[201 rows x 12 columns]"
      ],
      "text/html": "<div>\n<style scoped>\n    .dataframe tbody tr th:only-of-type {\n        vertical-align: middle;\n    }\n\n    .dataframe tbody tr th {\n        vertical-align: top;\n    }\n\n    .dataframe thead th {\n        text-align: right;\n    }\n</style>\n<table border=\"1\" class=\"dataframe\">\n  <thead>\n    <tr style=\"text-align: right;\">\n      <th></th>\n      <th>id</th>\n      <th>Num_pages</th>\n      <th>Verify_pages</th>\n      <th>Awards</th>\n      <th>Genre</th>\n      <th>Setting</th>\n      <th>OriginalPDate</th>\n      <th>VerifyDate</th>\n      <th>Series</th>\n      <th>Series-Name</th>\n      <th>ISBN</th>\n      <th>Description</th>\n    </tr>\n  </thead>\n  <tbody>\n    <tr>\n      <th>0</th>\n      <td>0</td>\n      <td>835 pages</td>\n      <td>['Mass Market Paperback', '835 pages']</td>\n      <td>['Nebula Award Nominee for Best Novel (1997)',...</td>\n      <td>['Fantasy', 'Fiction', 'Fantasy', 'Epic Fantas...</td>\n      <td>['The Lands of Ice and Fire']</td>\n      <td>['\\n              (first published August 6th ...</td>\n      <td>[&lt;div class=\"row\"&gt;\\n            Published\\n   ...</td>\n      <td>True</td>\n      <td>\\nSeries\\n\\nA Song of Ice and Fire #1 \\n</td>\n      <td>\\nISBN\\n\\n                  0553588486\\n      ...</td>\n      <td>In a faraway land where members of the royal f...</td>\n    </tr>\n    <tr>\n      <th>1</th>\n      <td>1</td>\n      <td>Hobbit Movie Tie-in Boxed set</td>\n      <td>['Mass Market Paperback', 'Hobbit Movie Tie-in...</td>\n      <td>[]</td>\n      <td>['Fantasy', 'Fiction', 'Classics', 'Adventure'...</td>\n      <td>['Middle-earth']</td>\n      <td>['\\n              (first published October 20t...</td>\n      <td>[&lt;div class=\"row\"&gt;\\n            Published\\n   ...</td>\n      <td>True</td>\n      <td>\\nSeries\\n\\nThe Lord of the Rings #0-3, Middle...</td>\n      <td>\\nISBN\\n\\n                  0345538374\\n      ...</td>\n      <td>In a faraway land where members of the royal f...</td>\n    </tr>\n    <tr>\n      <th>2</th>\n      <td>2</td>\n      <td>662 pages</td>\n      <td>['Hardcover', '662 pages']</td>\n      <td>['Locus Award Nominee for Best First Novel and...</td>\n      <td>['Fantasy', 'Fiction', 'Fantasy', 'Epic Fantas...</td>\n      <td>[]</td>\n      <td>['\\n              (first published March 27th ...</td>\n      <td>[&lt;div class=\"row\"&gt;\\n            Published\\n   ...</td>\n      <td>True</td>\n      <td>\\nSeries\\n\\nThe Kingkiller Chronicle #1 \\n</td>\n      <td>\\nISBN\\n\\n                  075640407X\\n      ...</td>\n      <td>[&lt;div class=\"readable stacked\" id=\"description...</td>\n    </tr>\n    <tr>\n      <th>3</th>\n      <td>3</td>\n      <td>1007 pages</td>\n      <td>['Hardcover', '1007 pages']</td>\n      <td>['Locus Award Nominee for Best Fantasy Novel (...</td>\n      <td>['Fantasy', 'Fiction', 'Fantasy', 'Epic Fantas...</td>\n      <td>['Roshar']</td>\n      <td>[]</td>\n      <td>[&lt;div class=\"row\"&gt;\\n            Published\\n   ...</td>\n      <td>True</td>\n      <td>\\nSeries\\n\\nThe Stormlight Archive #1, The Cos...</td>\n      <td>\\nISBN\\n\\n                  0765326353\\n      ...</td>\n      <td>[&lt;div class=\"readable stacked\" id=\"description...</td>\n    </tr>\n    <tr>\n      <th>4</th>\n      <td>4</td>\n      <td>Reissue Edition</td>\n      <td>['Paperback', 'Reissue Edition', '767 pages']</td>\n      <td>[]</td>\n      <td>['Fantasy', 'Classics', 'Fiction', 'Young Adul...</td>\n      <td>['London, England']</td>\n      <td>['\\n              (first published 1956)\\n    ...</td>\n      <td>[&lt;div class=\"row\"&gt;\\n            Published\\n   ...</td>\n      <td>True</td>\n      <td>\\nSeries\\n\\nThe Chronicles of Narnia (Publicat...</td>\n      <td>NaN</td>\n      <td>[&lt;div class=\"readable stacked\" id=\"description...</td>\n    </tr>\n    <tr>\n      <th>...</th>\n      <td>...</td>\n      <td>...</td>\n      <td>...</td>\n      <td>...</td>\n      <td>...</td>\n      <td>...</td>\n      <td>...</td>\n      <td>...</td>\n      <td>...</td>\n      <td>...</td>\n      <td>...</td>\n      <td>...</td>\n    </tr>\n    <tr>\n      <th>196</th>\n      <td>196</td>\n      <td>912 pages</td>\n      <td>['Hardcover', '912 pages']</td>\n      <td>['David Gemmell Legend Award Nominee for Best ...</td>\n      <td>['Fantasy', 'Fiction', 'Fantasy', 'Epic Fantas...</td>\n      <td>[]</td>\n      <td>[]</td>\n      <td>[&lt;div class=\"row\"&gt;\\n            Published\\n   ...</td>\n      <td>True</td>\n      <td>\\nSeries\\n\\nThe Wheel of Time #14 \\n</td>\n      <td>\\nISBN\\n\\n                  0765325950\\n      ...</td>\n      <td>[&lt;div class=\"readable stacked\" id=\"description...</td>\n    </tr>\n    <tr>\n      <th>197</th>\n      <td>197</td>\n      <td>452 pages</td>\n      <td>['Hardcover', '452 pages']</td>\n      <td>['Locus Award Nominee for Best Single Author C...</td>\n      <td>['Fantasy', 'Fiction', 'Classics', 'Fantasy', ...</td>\n      <td>['Middle-earth']</td>\n      <td>['\\n              (first published October 198...</td>\n      <td>[&lt;div class=\"row\"&gt;\\n            Published\\n   ...</td>\n      <td>True</td>\n      <td>\\nSeries\\n\\nUnfinished Tales, Middle-earth Uni...</td>\n      <td>\\nISBN\\n\\n                  026110215X\\n      ...</td>\n      <td>[&lt;div class=\"readable stacked\" id=\"description...</td>\n    </tr>\n    <tr>\n      <th>198</th>\n      <td>198</td>\n      <td>598 pages</td>\n      <td>['Mass Market Paperback', '598 pages']</td>\n      <td>[]</td>\n      <td>['Fantasy', 'Fantasy', 'High Fantasy', 'Fictio...</td>\n      <td>[]</td>\n      <td>['\\n              (first published October 26t...</td>\n      <td>[&lt;div class=\"row\"&gt;\\n            Published\\n   ...</td>\n      <td>True</td>\n      <td>\\nSeries\\n\\nAge of the Five #1 \\n</td>\n      <td>\\nISBN\\n\\n                  0060815701\\n      ...</td>\n      <td>[&lt;div class=\"readable stacked\" id=\"description...</td>\n    </tr>\n    <tr>\n      <th>199</th>\n      <td>199</td>\n      <td>265 pages</td>\n      <td>['Kindle Edition', '265 pages']</td>\n      <td>[]</td>\n      <td>['Fantasy', 'Horror', 'LGBT', 'Contemporary']</td>\n      <td>[]</td>\n      <td>['\\n              (first published February 1s...</td>\n      <td>[&lt;div class=\"row\"&gt;\\n            Published\\n   ...</td>\n      <td>True</td>\n      <td>\\nSeries\\n\\nHorn-Horn #1 \\n</td>\n      <td>NaN</td>\n      <td>[&lt;div class=\"readable stacked\" id=\"description...</td>\n    </tr>\n    <tr>\n      <th>200</th>\n      <td>200</td>\n      <td>393 pages</td>\n      <td>['Paperback', '393 pages']</td>\n      <td>['Borders Original Voices Award for YA or Inde...</td>\n      <td>['Fantasy', 'Young Adult', 'Fiction', 'Horror'...</td>\n      <td>[]</td>\n      <td>['\\n              (first published October 1st...</td>\n      <td>[&lt;div class=\"row\"&gt;\\n            Published\\n   ...</td>\n      <td>True</td>\n      <td>\\nSeries\\n\\nAbarat #1 \\n</td>\n      <td>\\nISBN\\n\\n                  0064407330\\n      ...</td>\n      <td>[&lt;div class=\"readable stacked\" id=\"description...</td>\n    </tr>\n  </tbody>\n</table>\n<p>201 rows × 12 columns</p>\n</div>"
     },
     "metadata": {},
     "execution_count": 161
    }
   ],
   "source": [
    "df\n"
   ]
  },
  {
   "source": [
    "### Works"
   ],
   "cell_type": "markdown",
   "metadata": {}
  },
  {
   "cell_type": "code",
   "execution_count": 198,
   "metadata": {},
   "outputs": [
    {
     "output_type": "stream",
     "name": "stderr",
     "text": [
      "<ipython-input-198-ada2a07761e2>:9: SettingWithCopyWarning: \nA value is trying to be set on a copy of a slice from a DataFrame\n\nSee the caveats in the documentation: https://pandas.pydata.org/pandas-docs/stable/user_guide/indexing.html#returning-a-view-versus-a-copy\n  df.Description[x] = grab_paragraphs\n"
     ]
    }
   ],
   "source": [
    "def sD(x):\n",
    "    get_desc = df.Description[x]\n",
    "    soup = BeautifulSoup(get_desc)\n",
    "    grab_paragraphs = soup.select('span')\n",
    "\n",
    "    for e in range(0,len(grab_paragraphs)):\n",
    "        grab_paragraphs[e] = grab_paragraphs[e].text\n",
    "        \n",
    "    df.Description[x] = grab_paragraphs\n",
    "\n",
    "\n",
    "for x in range(0,len(df.Description)):\n",
    "        sD(x)\n",
    "     "
   ]
  },
  {
   "cell_type": "code",
   "execution_count": 108,
   "metadata": {},
   "outputs": [
    {
     "output_type": "stream",
     "name": "stdout",
     "text": [
      "[\n            Published\n        September 25th 2012\n         by Ballantine Books\n\n            \n              (first published October 20th 1955)\n            \n]\n"
     ]
    }
   ],
   "source": [
    "soup = BeautifulSoup(capture)\n",
    "print(soup.get_text()) \n",
    "gr =(soup.get_text())"
   ]
  },
  {
   "cell_type": "code",
   "execution_count": 199,
   "metadata": {},
   "outputs": [
    {
     "output_type": "execute_result",
     "data": {
      "text/plain": [
       "   Unnamed: 0                                               name  \\\n",
       "0           0     A Game of Thrones (A Song of Ice and Fire, #1)   \n",
       "1           1    J.R.R. Tolkien 4-Book Boxed Set: The Hobbit ...   \n",
       "2           2    The Name of the Wind (The Kingkiller Chronic...   \n",
       "\n",
       "                                author number of ratings  \\\n",
       "0                   George R.R. Martin         2,049,108   \n",
       "1                       J.R.R. Tolkien           112,537   \n",
       "2  Patrick Rothfuss (Goodreads Author)           740,343   \n",
       "\n",
       "                                                 url avg_ratings  id  \\\n",
       "0  https://www.goodreads.com//book/show/13496.A_G...        4.45   0   \n",
       "1  https://www.goodreads.com//book/show/30.J_R_R_...         4.6   1   \n",
       "2  https://www.goodreads.com//book/show/186074.Th...        4.52   2   \n",
       "\n",
       "                       Num_pages  \\\n",
       "0                      835 pages   \n",
       "1  Hobbit Movie Tie-in Boxed set   \n",
       "2                      662 pages   \n",
       "\n",
       "                                        Verify_pages  \\\n",
       "0             ['Mass Market Paperback', '835 pages']   \n",
       "1  ['Mass Market Paperback', 'Hobbit Movie Tie-in...   \n",
       "2                         ['Hardcover', '662 pages']   \n",
       "\n",
       "                                              Awards  \\\n",
       "0  ['Nebula Award Nominee for Best Novel (1997)',...   \n",
       "1                                                 []   \n",
       "2  ['Locus Award Nominee for Best First Novel and...   \n",
       "\n",
       "                                               Genre  \\\n",
       "0  ['Fantasy', 'Fiction', 'Fantasy', 'Epic Fantas...   \n",
       "1  ['Fantasy', 'Fiction', 'Classics', 'Adventure'...   \n",
       "2  ['Fantasy', 'Fiction', 'Fantasy', 'Epic Fantas...   \n",
       "\n",
       "                         Setting  \\\n",
       "0  ['The Lands of Ice and Fire']   \n",
       "1               ['Middle-earth']   \n",
       "2                             []   \n",
       "\n",
       "                                       OriginalPDate  \\\n",
       "0  ['\\n              (first published August 6th ...   \n",
       "1  ['\\n              (first published October 20t...   \n",
       "2  ['\\n              (first published March 27th ...   \n",
       "\n",
       "                                          VerifyDate  Series  \\\n",
       "0  [<div class=\"row\">\\n            Published\\n   ...    True   \n",
       "1  [<div class=\"row\">\\n            Published\\n   ...    True   \n",
       "2  [<div class=\"row\">\\n            Published\\n   ...    True   \n",
       "\n",
       "                                          SeriesName  \\\n",
       "0           \\nSeries\\n\\nA Song of Ice and Fire #1 \\n   \n",
       "1  \\nSeries\\n\\nThe Lord of the Rings #0-3, Middle...   \n",
       "2         \\nSeries\\n\\nThe Kingkiller Chronicle #1 \\n   \n",
       "\n",
       "                                                ISBN  \\\n",
       "0  \\nISBN\\n\\n                  0553588486\\n      ...   \n",
       "1  \\nISBN\\n\\n                  0345538374\\n      ...   \n",
       "2  \\nISBN\\n\\n                  075640407X\\n      ...   \n",
       "\n",
       "                                         Description  \n",
       "0  [Here is the first volume in George R. R. Mart...  \n",
       "1  [This four-volume, boxed set contains J.R.R. T...  \n",
       "2  [Told in Kvothe's own voice, this is the tale ...  "
      ],
      "text/html": "<div>\n<style scoped>\n    .dataframe tbody tr th:only-of-type {\n        vertical-align: middle;\n    }\n\n    .dataframe tbody tr th {\n        vertical-align: top;\n    }\n\n    .dataframe thead th {\n        text-align: right;\n    }\n</style>\n<table border=\"1\" class=\"dataframe\">\n  <thead>\n    <tr style=\"text-align: right;\">\n      <th></th>\n      <th>Unnamed: 0</th>\n      <th>name</th>\n      <th>author</th>\n      <th>number of ratings</th>\n      <th>url</th>\n      <th>avg_ratings</th>\n      <th>id</th>\n      <th>Num_pages</th>\n      <th>Verify_pages</th>\n      <th>Awards</th>\n      <th>Genre</th>\n      <th>Setting</th>\n      <th>OriginalPDate</th>\n      <th>VerifyDate</th>\n      <th>Series</th>\n      <th>SeriesName</th>\n      <th>ISBN</th>\n      <th>Description</th>\n    </tr>\n  </thead>\n  <tbody>\n    <tr>\n      <th>0</th>\n      <td>0</td>\n      <td>A Game of Thrones (A Song of Ice and Fire, #1)</td>\n      <td>George R.R. Martin</td>\n      <td>2,049,108</td>\n      <td>https://www.goodreads.com//book/show/13496.A_G...</td>\n      <td>4.45</td>\n      <td>0</td>\n      <td>835 pages</td>\n      <td>['Mass Market Paperback', '835 pages']</td>\n      <td>['Nebula Award Nominee for Best Novel (1997)',...</td>\n      <td>['Fantasy', 'Fiction', 'Fantasy', 'Epic Fantas...</td>\n      <td>['The Lands of Ice and Fire']</td>\n      <td>['\\n              (first published August 6th ...</td>\n      <td>[&lt;div class=\"row\"&gt;\\n            Published\\n   ...</td>\n      <td>True</td>\n      <td>\\nSeries\\n\\nA Song of Ice and Fire #1 \\n</td>\n      <td>\\nISBN\\n\\n                  0553588486\\n      ...</td>\n      <td>[Here is the first volume in George R. R. Mart...</td>\n    </tr>\n    <tr>\n      <th>1</th>\n      <td>1</td>\n      <td>J.R.R. Tolkien 4-Book Boxed Set: The Hobbit ...</td>\n      <td>J.R.R. Tolkien</td>\n      <td>112,537</td>\n      <td>https://www.goodreads.com//book/show/30.J_R_R_...</td>\n      <td>4.6</td>\n      <td>1</td>\n      <td>Hobbit Movie Tie-in Boxed set</td>\n      <td>['Mass Market Paperback', 'Hobbit Movie Tie-in...</td>\n      <td>[]</td>\n      <td>['Fantasy', 'Fiction', 'Classics', 'Adventure'...</td>\n      <td>['Middle-earth']</td>\n      <td>['\\n              (first published October 20t...</td>\n      <td>[&lt;div class=\"row\"&gt;\\n            Published\\n   ...</td>\n      <td>True</td>\n      <td>\\nSeries\\n\\nThe Lord of the Rings #0-3, Middle...</td>\n      <td>\\nISBN\\n\\n                  0345538374\\n      ...</td>\n      <td>[This four-volume, boxed set contains J.R.R. T...</td>\n    </tr>\n    <tr>\n      <th>2</th>\n      <td>2</td>\n      <td>The Name of the Wind (The Kingkiller Chronic...</td>\n      <td>Patrick Rothfuss (Goodreads Author)</td>\n      <td>740,343</td>\n      <td>https://www.goodreads.com//book/show/186074.Th...</td>\n      <td>4.52</td>\n      <td>2</td>\n      <td>662 pages</td>\n      <td>['Hardcover', '662 pages']</td>\n      <td>['Locus Award Nominee for Best First Novel and...</td>\n      <td>['Fantasy', 'Fiction', 'Fantasy', 'Epic Fantas...</td>\n      <td>[]</td>\n      <td>['\\n              (first published March 27th ...</td>\n      <td>[&lt;div class=\"row\"&gt;\\n            Published\\n   ...</td>\n      <td>True</td>\n      <td>\\nSeries\\n\\nThe Kingkiller Chronicle #1 \\n</td>\n      <td>\\nISBN\\n\\n                  075640407X\\n      ...</td>\n      <td>[Told in Kvothe's own voice, this is the tale ...</td>\n    </tr>\n  </tbody>\n</table>\n</div>"
     },
     "metadata": {},
     "execution_count": 199
    }
   ],
   "source": [
    "df.head(3)"
   ]
  },
  {
   "cell_type": "code",
   "execution_count": 214,
   "metadata": {},
   "outputs": [
    {
     "output_type": "execute_result",
     "data": {
      "text/plain": [
       "<bound method StringMethods.strip of <pandas.core.strings.accessor.StringMethods object at 0x7fbbf311e910>>"
      ]
     },
     "metadata": {},
     "execution_count": 214
    }
   ],
   "source": [
    "df.SeriesName.str.strip\n"
   ]
  },
  {
   "cell_type": "code",
   "execution_count": 217,
   "metadata": {},
   "outputs": [
    {
     "output_type": "execute_result",
     "data": {
      "text/plain": [
       "<bound method StringMethods.strip of <pandas.core.strings.accessor.StringMethods object at 0x7fbbf311e820>>"
      ]
     },
     "metadata": {},
     "execution_count": 217
    }
   ],
   "source": [
    "df.ISBN.str.strip"
   ]
  },
  {
   "cell_type": "code",
   "execution_count": 219,
   "metadata": {},
   "outputs": [
    {
     "output_type": "execute_result",
     "data": {
      "text/plain": [
       "<bound method StringMethods.strip of <pandas.core.strings.accessor.StringMethods object at 0x7fbbf311e430>>"
      ]
     },
     "metadata": {},
     "execution_count": 219
    }
   ],
   "source": [
    "df.OriginalPDate.str.strip"
   ]
  },
  {
   "cell_type": "code",
   "execution_count": 220,
   "metadata": {},
   "outputs": [
    {
     "output_type": "execute_result",
     "data": {
      "text/plain": [
       "   Unnamed: 0                                               name  \\\n",
       "0           0     A Game of Thrones (A Song of Ice and Fire, #1)   \n",
       "1           1    J.R.R. Tolkien 4-Book Boxed Set: The Hobbit ...   \n",
       "2           2    The Name of the Wind (The Kingkiller Chronic...   \n",
       "3           3      The Way of Kings (The Stormlight Archive, #1)   \n",
       "4           4    The Chronicles of Narnia (Chronicles of Narn...   \n",
       "\n",
       "                                 author number of ratings  \\\n",
       "0                    George R.R. Martin         2,049,108   \n",
       "1                        J.R.R. Tolkien           112,537   \n",
       "2   Patrick Rothfuss (Goodreads Author)           740,343   \n",
       "3  Brandon Sanderson (Goodreads Author)           320,338   \n",
       "4                            C.S. Lewis           533,551   \n",
       "\n",
       "                                                 url avg_ratings  id  \\\n",
       "0  https://www.goodreads.com//book/show/13496.A_G...        4.45   0   \n",
       "1  https://www.goodreads.com//book/show/30.J_R_R_...         4.6   1   \n",
       "2  https://www.goodreads.com//book/show/186074.Th...        4.52   2   \n",
       "3  https://www.goodreads.com//book/show/7235533-t...        4.62   3   \n",
       "4  https://www.goodreads.com//book/show/11127.The...        4.26   4   \n",
       "\n",
       "                       Num_pages  \\\n",
       "0                      835 pages   \n",
       "1  Hobbit Movie Tie-in Boxed set   \n",
       "2                      662 pages   \n",
       "3                     1007 pages   \n",
       "4                Reissue Edition   \n",
       "\n",
       "                                        Verify_pages  \\\n",
       "0             ['Mass Market Paperback', '835 pages']   \n",
       "1  ['Mass Market Paperback', 'Hobbit Movie Tie-in...   \n",
       "2                         ['Hardcover', '662 pages']   \n",
       "3                        ['Hardcover', '1007 pages']   \n",
       "4      ['Paperback', 'Reissue Edition', '767 pages']   \n",
       "\n",
       "                                              Awards  \\\n",
       "0  ['Nebula Award Nominee for Best Novel (1997)',...   \n",
       "1                                                 []   \n",
       "2  ['Locus Award Nominee for Best First Novel and...   \n",
       "3  ['Locus Award Nominee for Best Fantasy Novel (...   \n",
       "4                                                 []   \n",
       "\n",
       "                                               Genre  \\\n",
       "0  ['Fantasy', 'Fiction', 'Fantasy', 'Epic Fantas...   \n",
       "1  ['Fantasy', 'Fiction', 'Classics', 'Adventure'...   \n",
       "2  ['Fantasy', 'Fiction', 'Fantasy', 'Epic Fantas...   \n",
       "3  ['Fantasy', 'Fiction', 'Fantasy', 'Epic Fantas...   \n",
       "4  ['Fantasy', 'Classics', 'Fiction', 'Young Adul...   \n",
       "\n",
       "                         Setting  \\\n",
       "0  ['The Lands of Ice and Fire']   \n",
       "1               ['Middle-earth']   \n",
       "2                             []   \n",
       "3                     ['Roshar']   \n",
       "4            ['London, England']   \n",
       "\n",
       "                                       OriginalPDate  \\\n",
       "0  ['\\n              (first published August 6th ...   \n",
       "1  ['\\n              (first published October 20t...   \n",
       "2  ['\\n              (first published March 27th ...   \n",
       "3                                                 []   \n",
       "4  ['\\n              (first published 1956)\\n    ...   \n",
       "\n",
       "                                          VerifyDate  Series  \\\n",
       "0  [<div class=\"row\">\\n            Published\\n   ...    True   \n",
       "1  [<div class=\"row\">\\n            Published\\n   ...    True   \n",
       "2  [<div class=\"row\">\\n            Published\\n   ...    True   \n",
       "3  [<div class=\"row\">\\n            Published\\n   ...    True   \n",
       "4  [<div class=\"row\">\\n            Published\\n   ...    True   \n",
       "\n",
       "                                          SeriesName  \\\n",
       "0         [, Series, , A Song of Ice and Fire #1 , ]   \n",
       "1  [, Series, , The Lord of the Rings #0-3, Middl...   \n",
       "2       [, Series, , The Kingkiller Chronicle #1 , ]   \n",
       "3  [, Series, , The Stormlight Archive #1, The Co...   \n",
       "4  [, Series, , The Chronicles of Narnia (Publica...   \n",
       "\n",
       "                                                ISBN  \\\n",
       "0  \\nISBN\\n\\n                  0553588486\\n      ...   \n",
       "1  \\nISBN\\n\\n                  0345538374\\n      ...   \n",
       "2  \\nISBN\\n\\n                  075640407X\\n      ...   \n",
       "3  \\nISBN\\n\\n                  0765326353\\n      ...   \n",
       "4                                                NaN   \n",
       "\n",
       "                                         Description  \n",
       "0  [Here is the first volume in George R. R. Mart...  \n",
       "1  [This four-volume, boxed set contains J.R.R. T...  \n",
       "2  [Told in Kvothe's own voice, this is the tale ...  \n",
       "3  [From #1 New York Times bestselling author Bra...  \n",
       "4  [Journeys to the end of the world, fantastic c...  "
      ],
      "text/html": "<div>\n<style scoped>\n    .dataframe tbody tr th:only-of-type {\n        vertical-align: middle;\n    }\n\n    .dataframe tbody tr th {\n        vertical-align: top;\n    }\n\n    .dataframe thead th {\n        text-align: right;\n    }\n</style>\n<table border=\"1\" class=\"dataframe\">\n  <thead>\n    <tr style=\"text-align: right;\">\n      <th></th>\n      <th>Unnamed: 0</th>\n      <th>name</th>\n      <th>author</th>\n      <th>number of ratings</th>\n      <th>url</th>\n      <th>avg_ratings</th>\n      <th>id</th>\n      <th>Num_pages</th>\n      <th>Verify_pages</th>\n      <th>Awards</th>\n      <th>Genre</th>\n      <th>Setting</th>\n      <th>OriginalPDate</th>\n      <th>VerifyDate</th>\n      <th>Series</th>\n      <th>SeriesName</th>\n      <th>ISBN</th>\n      <th>Description</th>\n    </tr>\n  </thead>\n  <tbody>\n    <tr>\n      <th>0</th>\n      <td>0</td>\n      <td>A Game of Thrones (A Song of Ice and Fire, #1)</td>\n      <td>George R.R. Martin</td>\n      <td>2,049,108</td>\n      <td>https://www.goodreads.com//book/show/13496.A_G...</td>\n      <td>4.45</td>\n      <td>0</td>\n      <td>835 pages</td>\n      <td>['Mass Market Paperback', '835 pages']</td>\n      <td>['Nebula Award Nominee for Best Novel (1997)',...</td>\n      <td>['Fantasy', 'Fiction', 'Fantasy', 'Epic Fantas...</td>\n      <td>['The Lands of Ice and Fire']</td>\n      <td>['\\n              (first published August 6th ...</td>\n      <td>[&lt;div class=\"row\"&gt;\\n            Published\\n   ...</td>\n      <td>True</td>\n      <td>[, Series, , A Song of Ice and Fire #1 , ]</td>\n      <td>\\nISBN\\n\\n                  0553588486\\n      ...</td>\n      <td>[Here is the first volume in George R. R. Mart...</td>\n    </tr>\n    <tr>\n      <th>1</th>\n      <td>1</td>\n      <td>J.R.R. Tolkien 4-Book Boxed Set: The Hobbit ...</td>\n      <td>J.R.R. Tolkien</td>\n      <td>112,537</td>\n      <td>https://www.goodreads.com//book/show/30.J_R_R_...</td>\n      <td>4.6</td>\n      <td>1</td>\n      <td>Hobbit Movie Tie-in Boxed set</td>\n      <td>['Mass Market Paperback', 'Hobbit Movie Tie-in...</td>\n      <td>[]</td>\n      <td>['Fantasy', 'Fiction', 'Classics', 'Adventure'...</td>\n      <td>['Middle-earth']</td>\n      <td>['\\n              (first published October 20t...</td>\n      <td>[&lt;div class=\"row\"&gt;\\n            Published\\n   ...</td>\n      <td>True</td>\n      <td>[, Series, , The Lord of the Rings #0-3, Middl...</td>\n      <td>\\nISBN\\n\\n                  0345538374\\n      ...</td>\n      <td>[This four-volume, boxed set contains J.R.R. T...</td>\n    </tr>\n    <tr>\n      <th>2</th>\n      <td>2</td>\n      <td>The Name of the Wind (The Kingkiller Chronic...</td>\n      <td>Patrick Rothfuss (Goodreads Author)</td>\n      <td>740,343</td>\n      <td>https://www.goodreads.com//book/show/186074.Th...</td>\n      <td>4.52</td>\n      <td>2</td>\n      <td>662 pages</td>\n      <td>['Hardcover', '662 pages']</td>\n      <td>['Locus Award Nominee for Best First Novel and...</td>\n      <td>['Fantasy', 'Fiction', 'Fantasy', 'Epic Fantas...</td>\n      <td>[]</td>\n      <td>['\\n              (first published March 27th ...</td>\n      <td>[&lt;div class=\"row\"&gt;\\n            Published\\n   ...</td>\n      <td>True</td>\n      <td>[, Series, , The Kingkiller Chronicle #1 , ]</td>\n      <td>\\nISBN\\n\\n                  075640407X\\n      ...</td>\n      <td>[Told in Kvothe's own voice, this is the tale ...</td>\n    </tr>\n    <tr>\n      <th>3</th>\n      <td>3</td>\n      <td>The Way of Kings (The Stormlight Archive, #1)</td>\n      <td>Brandon Sanderson (Goodreads Author)</td>\n      <td>320,338</td>\n      <td>https://www.goodreads.com//book/show/7235533-t...</td>\n      <td>4.62</td>\n      <td>3</td>\n      <td>1007 pages</td>\n      <td>['Hardcover', '1007 pages']</td>\n      <td>['Locus Award Nominee for Best Fantasy Novel (...</td>\n      <td>['Fantasy', 'Fiction', 'Fantasy', 'Epic Fantas...</td>\n      <td>['Roshar']</td>\n      <td>[]</td>\n      <td>[&lt;div class=\"row\"&gt;\\n            Published\\n   ...</td>\n      <td>True</td>\n      <td>[, Series, , The Stormlight Archive #1, The Co...</td>\n      <td>\\nISBN\\n\\n                  0765326353\\n      ...</td>\n      <td>[From #1 New York Times bestselling author Bra...</td>\n    </tr>\n    <tr>\n      <th>4</th>\n      <td>4</td>\n      <td>The Chronicles of Narnia (Chronicles of Narn...</td>\n      <td>C.S. Lewis</td>\n      <td>533,551</td>\n      <td>https://www.goodreads.com//book/show/11127.The...</td>\n      <td>4.26</td>\n      <td>4</td>\n      <td>Reissue Edition</td>\n      <td>['Paperback', 'Reissue Edition', '767 pages']</td>\n      <td>[]</td>\n      <td>['Fantasy', 'Classics', 'Fiction', 'Young Adul...</td>\n      <td>['London, England']</td>\n      <td>['\\n              (first published 1956)\\n    ...</td>\n      <td>[&lt;div class=\"row\"&gt;\\n            Published\\n   ...</td>\n      <td>True</td>\n      <td>[, Series, , The Chronicles of Narnia (Publica...</td>\n      <td>NaN</td>\n      <td>[Journeys to the end of the world, fantastic c...</td>\n    </tr>\n  </tbody>\n</table>\n</div>"
     },
     "metadata": {},
     "execution_count": 220
    }
   ],
   "source": [
    "df.head(5)"
   ]
  },
  {
   "cell_type": "code",
   "execution_count": 227,
   "metadata": {},
   "outputs": [
    {
     "output_type": "stream",
     "name": "stdout",
     "text": [
      "['', 'ISBN', '', '                  0765326353', '                      (ISBN13: 9780765326355)', '', '']\n"
     ]
    }
   ],
   "source": [
    "for x in range of (0,len(df.ISBN)):\n",
    "df.ISBN[3]\n",
    "print(re.split(\"\\n\", df.ISBN[3]))"
   ]
  },
  {
   "cell_type": "code",
   "execution_count": 213,
   "metadata": {},
   "outputs": [
    {
     "output_type": "error",
     "ename": "KeyError",
     "evalue": "\"None of [Index(['', 'Series', '', 'A Song of Ice and Fire #1 ', ''], dtype='object')] are in the [index]\"",
     "traceback": [
      "\u001b[0;31m---------------------------------------------------------------------------\u001b[0m",
      "\u001b[0;31mKeyError\u001b[0m                                  Traceback (most recent call last)",
      "\u001b[0;32m<ipython-input-213-b020ab004b96>\u001b[0m in \u001b[0;36m<module>\u001b[0;34m\u001b[0m\n\u001b[1;32m      2\u001b[0m \u001b[0md\u001b[0m \u001b[0;34m=\u001b[0m \u001b[0;34m[\u001b[0m\u001b[0;34m]\u001b[0m\u001b[0;34m\u001b[0m\u001b[0;34m\u001b[0m\u001b[0m\n\u001b[1;32m      3\u001b[0m \u001b[0;32mfor\u001b[0m \u001b[0mx\u001b[0m \u001b[0;32min\u001b[0m \u001b[0;34m(\u001b[0m\u001b[0mdf\u001b[0m\u001b[0;34m.\u001b[0m\u001b[0mSeriesName\u001b[0m\u001b[0;34m)\u001b[0m\u001b[0;34m:\u001b[0m\u001b[0;34m\u001b[0m\u001b[0;34m\u001b[0m\u001b[0m\n\u001b[0;32m----> 4\u001b[0;31m         \u001b[0;32mfor\u001b[0m \u001b[0mr\u001b[0m \u001b[0;32min\u001b[0m \u001b[0mrange\u001b[0m\u001b[0;34m(\u001b[0m\u001b[0;36m0\u001b[0m\u001b[0;34m,\u001b[0m\u001b[0mlen\u001b[0m\u001b[0;34m(\u001b[0m\u001b[0mdf\u001b[0m\u001b[0;34m.\u001b[0m\u001b[0mSeriesName\u001b[0m\u001b[0;34m[\u001b[0m\u001b[0mx\u001b[0m\u001b[0;34m]\u001b[0m\u001b[0;34m)\u001b[0m\u001b[0;34m)\u001b[0m\u001b[0;34m:\u001b[0m\u001b[0;34m\u001b[0m\u001b[0;34m\u001b[0m\u001b[0m\n\u001b[0m\u001b[1;32m      5\u001b[0m             \u001b[0mc\u001b[0m \u001b[0;34m=\u001b[0m \u001b[0mdf\u001b[0m\u001b[0;34m.\u001b[0m\u001b[0mSeriesName\u001b[0m\u001b[0;34m[\u001b[0m\u001b[0mx\u001b[0m\u001b[0;34m]\u001b[0m\u001b[0;34m\u001b[0m\u001b[0;34m\u001b[0m\u001b[0m\n\u001b[1;32m      6\u001b[0m             \u001b[0mprint\u001b[0m\u001b[0;34m(\u001b[0m\u001b[0mc\u001b[0m\u001b[0;34m)\u001b[0m\u001b[0;34m\u001b[0m\u001b[0;34m\u001b[0m\u001b[0m\n",
      "\u001b[0;32m~/anaconda3/envs/working/lib/python3.9/site-packages/pandas/core/series.py\u001b[0m in \u001b[0;36m__getitem__\u001b[0;34m(self, key)\u001b[0m\n\u001b[1;32m    846\u001b[0m             \u001b[0;32mreturn\u001b[0m \u001b[0mself\u001b[0m\u001b[0;34m.\u001b[0m\u001b[0m_get_values\u001b[0m\u001b[0;34m(\u001b[0m\u001b[0mkey\u001b[0m\u001b[0;34m)\u001b[0m\u001b[0;34m\u001b[0m\u001b[0;34m\u001b[0m\u001b[0m\n\u001b[1;32m    847\u001b[0m \u001b[0;34m\u001b[0m\u001b[0m\n\u001b[0;32m--> 848\u001b[0;31m         \u001b[0;32mreturn\u001b[0m \u001b[0mself\u001b[0m\u001b[0;34m.\u001b[0m\u001b[0m_get_with\u001b[0m\u001b[0;34m(\u001b[0m\u001b[0mkey\u001b[0m\u001b[0;34m)\u001b[0m\u001b[0;34m\u001b[0m\u001b[0;34m\u001b[0m\u001b[0m\n\u001b[0m\u001b[1;32m    849\u001b[0m \u001b[0;34m\u001b[0m\u001b[0m\n\u001b[1;32m    850\u001b[0m     \u001b[0;32mdef\u001b[0m \u001b[0m_get_with\u001b[0m\u001b[0;34m(\u001b[0m\u001b[0mself\u001b[0m\u001b[0;34m,\u001b[0m \u001b[0mkey\u001b[0m\u001b[0;34m)\u001b[0m\u001b[0;34m:\u001b[0m\u001b[0;34m\u001b[0m\u001b[0;34m\u001b[0m\u001b[0m\n",
      "\u001b[0;32m~/anaconda3/envs/working/lib/python3.9/site-packages/pandas/core/series.py\u001b[0m in \u001b[0;36m_get_with\u001b[0;34m(self, key)\u001b[0m\n\u001b[1;32m    886\u001b[0m \u001b[0;34m\u001b[0m\u001b[0m\n\u001b[1;32m    887\u001b[0m         \u001b[0;31m# handle the dup indexing case GH#4246\u001b[0m\u001b[0;34m\u001b[0m\u001b[0;34m\u001b[0m\u001b[0;34m\u001b[0m\u001b[0m\n\u001b[0;32m--> 888\u001b[0;31m         \u001b[0;32mreturn\u001b[0m \u001b[0mself\u001b[0m\u001b[0;34m.\u001b[0m\u001b[0mloc\u001b[0m\u001b[0;34m[\u001b[0m\u001b[0mkey\u001b[0m\u001b[0;34m]\u001b[0m\u001b[0;34m\u001b[0m\u001b[0;34m\u001b[0m\u001b[0m\n\u001b[0m\u001b[1;32m    889\u001b[0m \u001b[0;34m\u001b[0m\u001b[0m\n\u001b[1;32m    890\u001b[0m     \u001b[0;32mdef\u001b[0m \u001b[0m_get_values_tuple\u001b[0m\u001b[0;34m(\u001b[0m\u001b[0mself\u001b[0m\u001b[0;34m,\u001b[0m \u001b[0mkey\u001b[0m\u001b[0;34m)\u001b[0m\u001b[0;34m:\u001b[0m\u001b[0;34m\u001b[0m\u001b[0;34m\u001b[0m\u001b[0m\n",
      "\u001b[0;32m~/anaconda3/envs/working/lib/python3.9/site-packages/pandas/core/indexing.py\u001b[0m in \u001b[0;36m__getitem__\u001b[0;34m(self, key)\u001b[0m\n\u001b[1;32m    892\u001b[0m \u001b[0;34m\u001b[0m\u001b[0m\n\u001b[1;32m    893\u001b[0m             \u001b[0mmaybe_callable\u001b[0m \u001b[0;34m=\u001b[0m \u001b[0mcom\u001b[0m\u001b[0;34m.\u001b[0m\u001b[0mapply_if_callable\u001b[0m\u001b[0;34m(\u001b[0m\u001b[0mkey\u001b[0m\u001b[0;34m,\u001b[0m \u001b[0mself\u001b[0m\u001b[0;34m.\u001b[0m\u001b[0mobj\u001b[0m\u001b[0;34m)\u001b[0m\u001b[0;34m\u001b[0m\u001b[0;34m\u001b[0m\u001b[0m\n\u001b[0;32m--> 894\u001b[0;31m             \u001b[0;32mreturn\u001b[0m \u001b[0mself\u001b[0m\u001b[0;34m.\u001b[0m\u001b[0m_getitem_axis\u001b[0m\u001b[0;34m(\u001b[0m\u001b[0mmaybe_callable\u001b[0m\u001b[0;34m,\u001b[0m \u001b[0maxis\u001b[0m\u001b[0;34m=\u001b[0m\u001b[0maxis\u001b[0m\u001b[0;34m)\u001b[0m\u001b[0;34m\u001b[0m\u001b[0;34m\u001b[0m\u001b[0m\n\u001b[0m\u001b[1;32m    895\u001b[0m \u001b[0;34m\u001b[0m\u001b[0m\n\u001b[1;32m    896\u001b[0m     \u001b[0;32mdef\u001b[0m \u001b[0m_is_scalar_access\u001b[0m\u001b[0;34m(\u001b[0m\u001b[0mself\u001b[0m\u001b[0;34m,\u001b[0m \u001b[0mkey\u001b[0m\u001b[0;34m:\u001b[0m \u001b[0mTuple\u001b[0m\u001b[0;34m)\u001b[0m\u001b[0;34m:\u001b[0m\u001b[0;34m\u001b[0m\u001b[0;34m\u001b[0m\u001b[0m\n",
      "\u001b[0;32m~/anaconda3/envs/working/lib/python3.9/site-packages/pandas/core/indexing.py\u001b[0m in \u001b[0;36m_getitem_axis\u001b[0;34m(self, key, axis)\u001b[0m\n\u001b[1;32m   1110\u001b[0m                     \u001b[0;32mraise\u001b[0m \u001b[0mValueError\u001b[0m\u001b[0;34m(\u001b[0m\u001b[0;34m\"Cannot index with multidimensional key\"\u001b[0m\u001b[0;34m)\u001b[0m\u001b[0;34m\u001b[0m\u001b[0;34m\u001b[0m\u001b[0m\n\u001b[1;32m   1111\u001b[0m \u001b[0;34m\u001b[0m\u001b[0m\n\u001b[0;32m-> 1112\u001b[0;31m                 \u001b[0;32mreturn\u001b[0m \u001b[0mself\u001b[0m\u001b[0;34m.\u001b[0m\u001b[0m_getitem_iterable\u001b[0m\u001b[0;34m(\u001b[0m\u001b[0mkey\u001b[0m\u001b[0;34m,\u001b[0m \u001b[0maxis\u001b[0m\u001b[0;34m=\u001b[0m\u001b[0maxis\u001b[0m\u001b[0;34m)\u001b[0m\u001b[0;34m\u001b[0m\u001b[0;34m\u001b[0m\u001b[0m\n\u001b[0m\u001b[1;32m   1113\u001b[0m \u001b[0;34m\u001b[0m\u001b[0m\n\u001b[1;32m   1114\u001b[0m             \u001b[0;31m# nested tuple slicing\u001b[0m\u001b[0;34m\u001b[0m\u001b[0;34m\u001b[0m\u001b[0;34m\u001b[0m\u001b[0m\n",
      "\u001b[0;32m~/anaconda3/envs/working/lib/python3.9/site-packages/pandas/core/indexing.py\u001b[0m in \u001b[0;36m_getitem_iterable\u001b[0;34m(self, key, axis)\u001b[0m\n\u001b[1;32m   1050\u001b[0m \u001b[0;34m\u001b[0m\u001b[0m\n\u001b[1;32m   1051\u001b[0m         \u001b[0;31m# A collection of keys\u001b[0m\u001b[0;34m\u001b[0m\u001b[0;34m\u001b[0m\u001b[0;34m\u001b[0m\u001b[0m\n\u001b[0;32m-> 1052\u001b[0;31m         \u001b[0mkeyarr\u001b[0m\u001b[0;34m,\u001b[0m \u001b[0mindexer\u001b[0m \u001b[0;34m=\u001b[0m \u001b[0mself\u001b[0m\u001b[0;34m.\u001b[0m\u001b[0m_get_listlike_indexer\u001b[0m\u001b[0;34m(\u001b[0m\u001b[0mkey\u001b[0m\u001b[0;34m,\u001b[0m \u001b[0maxis\u001b[0m\u001b[0;34m,\u001b[0m \u001b[0mraise_missing\u001b[0m\u001b[0;34m=\u001b[0m\u001b[0;32mFalse\u001b[0m\u001b[0;34m)\u001b[0m\u001b[0;34m\u001b[0m\u001b[0;34m\u001b[0m\u001b[0m\n\u001b[0m\u001b[1;32m   1053\u001b[0m         return self.obj._reindex_with_indexers(\n\u001b[1;32m   1054\u001b[0m             \u001b[0;34m{\u001b[0m\u001b[0maxis\u001b[0m\u001b[0;34m:\u001b[0m \u001b[0;34m[\u001b[0m\u001b[0mkeyarr\u001b[0m\u001b[0;34m,\u001b[0m \u001b[0mindexer\u001b[0m\u001b[0;34m]\u001b[0m\u001b[0;34m}\u001b[0m\u001b[0;34m,\u001b[0m \u001b[0mcopy\u001b[0m\u001b[0;34m=\u001b[0m\u001b[0;32mTrue\u001b[0m\u001b[0;34m,\u001b[0m \u001b[0mallow_dups\u001b[0m\u001b[0;34m=\u001b[0m\u001b[0;32mTrue\u001b[0m\u001b[0;34m\u001b[0m\u001b[0;34m\u001b[0m\u001b[0m\n",
      "\u001b[0;32m~/anaconda3/envs/working/lib/python3.9/site-packages/pandas/core/indexing.py\u001b[0m in \u001b[0;36m_get_listlike_indexer\u001b[0;34m(self, key, axis, raise_missing)\u001b[0m\n\u001b[1;32m   1263\u001b[0m             \u001b[0mkeyarr\u001b[0m\u001b[0;34m,\u001b[0m \u001b[0mindexer\u001b[0m\u001b[0;34m,\u001b[0m \u001b[0mnew_indexer\u001b[0m \u001b[0;34m=\u001b[0m \u001b[0max\u001b[0m\u001b[0;34m.\u001b[0m\u001b[0m_reindex_non_unique\u001b[0m\u001b[0;34m(\u001b[0m\u001b[0mkeyarr\u001b[0m\u001b[0;34m)\u001b[0m\u001b[0;34m\u001b[0m\u001b[0;34m\u001b[0m\u001b[0m\n\u001b[1;32m   1264\u001b[0m \u001b[0;34m\u001b[0m\u001b[0m\n\u001b[0;32m-> 1265\u001b[0;31m         \u001b[0mself\u001b[0m\u001b[0;34m.\u001b[0m\u001b[0m_validate_read_indexer\u001b[0m\u001b[0;34m(\u001b[0m\u001b[0mkeyarr\u001b[0m\u001b[0;34m,\u001b[0m \u001b[0mindexer\u001b[0m\u001b[0;34m,\u001b[0m \u001b[0maxis\u001b[0m\u001b[0;34m,\u001b[0m \u001b[0mraise_missing\u001b[0m\u001b[0;34m=\u001b[0m\u001b[0mraise_missing\u001b[0m\u001b[0;34m)\u001b[0m\u001b[0;34m\u001b[0m\u001b[0;34m\u001b[0m\u001b[0m\n\u001b[0m\u001b[1;32m   1266\u001b[0m         \u001b[0;32mreturn\u001b[0m \u001b[0mkeyarr\u001b[0m\u001b[0;34m,\u001b[0m \u001b[0mindexer\u001b[0m\u001b[0;34m\u001b[0m\u001b[0;34m\u001b[0m\u001b[0m\n\u001b[1;32m   1267\u001b[0m \u001b[0;34m\u001b[0m\u001b[0m\n",
      "\u001b[0;32m~/anaconda3/envs/working/lib/python3.9/site-packages/pandas/core/indexing.py\u001b[0m in \u001b[0;36m_validate_read_indexer\u001b[0;34m(self, key, indexer, axis, raise_missing)\u001b[0m\n\u001b[1;32m   1305\u001b[0m             \u001b[0;32mif\u001b[0m \u001b[0mmissing\u001b[0m \u001b[0;34m==\u001b[0m \u001b[0mlen\u001b[0m\u001b[0;34m(\u001b[0m\u001b[0mindexer\u001b[0m\u001b[0;34m)\u001b[0m\u001b[0;34m:\u001b[0m\u001b[0;34m\u001b[0m\u001b[0;34m\u001b[0m\u001b[0m\n\u001b[1;32m   1306\u001b[0m                 \u001b[0maxis_name\u001b[0m \u001b[0;34m=\u001b[0m \u001b[0mself\u001b[0m\u001b[0;34m.\u001b[0m\u001b[0mobj\u001b[0m\u001b[0;34m.\u001b[0m\u001b[0m_get_axis_name\u001b[0m\u001b[0;34m(\u001b[0m\u001b[0maxis\u001b[0m\u001b[0;34m)\u001b[0m\u001b[0;34m\u001b[0m\u001b[0;34m\u001b[0m\u001b[0m\n\u001b[0;32m-> 1307\u001b[0;31m                 \u001b[0;32mraise\u001b[0m \u001b[0mKeyError\u001b[0m\u001b[0;34m(\u001b[0m\u001b[0;34mf\"None of [{key}] are in the [{axis_name}]\"\u001b[0m\u001b[0;34m)\u001b[0m\u001b[0;34m\u001b[0m\u001b[0;34m\u001b[0m\u001b[0m\n\u001b[0m\u001b[1;32m   1308\u001b[0m \u001b[0;34m\u001b[0m\u001b[0m\n\u001b[1;32m   1309\u001b[0m             \u001b[0max\u001b[0m \u001b[0;34m=\u001b[0m \u001b[0mself\u001b[0m\u001b[0;34m.\u001b[0m\u001b[0mobj\u001b[0m\u001b[0;34m.\u001b[0m\u001b[0m_get_axis\u001b[0m\u001b[0;34m(\u001b[0m\u001b[0maxis\u001b[0m\u001b[0;34m)\u001b[0m\u001b[0;34m\u001b[0m\u001b[0;34m\u001b[0m\u001b[0m\n",
      "\u001b[0;31mKeyError\u001b[0m: \"None of [Index(['', 'Series', '', 'A Song of Ice and Fire #1 ', ''], dtype='object')] are in the [index]\""
     ]
    }
   ],
   "source": [
    "i = 0\n",
    "d = []\n",
    "for x in (df.SeriesName):\n",
    "        for r in range(0,len(df.SeriesName[x])):\n",
    "            c = df.SeriesName[x]\n",
    "            print(c)\n",
    "            d[r] =  re.split(\"\\n\", c[r])\n",
    "        df.SeriesName[x] = c\n",
    "        i = i +1"
   ]
  },
  {
   "cell_type": "code",
   "execution_count": 203,
   "metadata": {},
   "outputs": [
    {
     "output_type": "stream",
     "name": "stderr",
     "text": [
      "<ipython-input-200-12688cd6f5d0>:6: SettingWithCopyWarning: \nA value is trying to be set on a copy of a slice from a DataFrame\n\nSee the caveats in the documentation: https://pandas.pydata.org/pandas-docs/stable/user_guide/indexing.html#returning-a-view-versus-a-copy\n  columnname[i] = c\n"
     ]
    },
    {
     "output_type": "error",
     "ename": "TypeError",
     "evalue": "expected string or bytes-like object",
     "traceback": [
      "\u001b[0;31m---------------------------------------------------------------------------\u001b[0m",
      "\u001b[0;31mTypeError\u001b[0m                                 Traceback (most recent call last)",
      "\u001b[0;32m<ipython-input-203-f1dbdb5b7246>\u001b[0m in \u001b[0;36m<module>\u001b[0;34m\u001b[0m\n\u001b[0;32m----> 1\u001b[0;31m \u001b[0mstripsplit\u001b[0m\u001b[0;34m(\u001b[0m\u001b[0mdf\u001b[0m\u001b[0;34m.\u001b[0m\u001b[0mSeriesName\u001b[0m\u001b[0;34m)\u001b[0m\u001b[0;34m\u001b[0m\u001b[0;34m\u001b[0m\u001b[0m\n\u001b[0m",
      "\u001b[0;32m<ipython-input-200-12688cd6f5d0>\u001b[0m in \u001b[0;36mstripsplit\u001b[0;34m(columnname)\u001b[0m\n\u001b[1;32m      2\u001b[0m     \u001b[0mi\u001b[0m \u001b[0;34m=\u001b[0m \u001b[0;36m0\u001b[0m\u001b[0;34m\u001b[0m\u001b[0;34m\u001b[0m\u001b[0m\n\u001b[1;32m      3\u001b[0m     \u001b[0;32mfor\u001b[0m \u001b[0mx\u001b[0m \u001b[0;32min\u001b[0m \u001b[0;34m(\u001b[0m\u001b[0mcolumnname\u001b[0m\u001b[0;34m)\u001b[0m\u001b[0;34m:\u001b[0m\u001b[0;34m\u001b[0m\u001b[0;34m\u001b[0m\u001b[0m\n\u001b[0;32m----> 4\u001b[0;31m         \u001b[0mc\u001b[0m \u001b[0;34m=\u001b[0m  \u001b[0mre\u001b[0m\u001b[0;34m.\u001b[0m\u001b[0msplit\u001b[0m\u001b[0;34m(\u001b[0m\u001b[0;34m\"\\n\"\u001b[0m\u001b[0;34m,\u001b[0m \u001b[0mcolumnname\u001b[0m\u001b[0;34m[\u001b[0m\u001b[0mi\u001b[0m\u001b[0;34m]\u001b[0m\u001b[0;34m)\u001b[0m\u001b[0;34m\u001b[0m\u001b[0;34m\u001b[0m\u001b[0m\n\u001b[0m\u001b[1;32m      5\u001b[0m \u001b[0;34m\u001b[0m\u001b[0m\n\u001b[1;32m      6\u001b[0m         \u001b[0mcolumnname\u001b[0m\u001b[0;34m[\u001b[0m\u001b[0mi\u001b[0m\u001b[0;34m]\u001b[0m \u001b[0;34m=\u001b[0m \u001b[0mc\u001b[0m\u001b[0;34m\u001b[0m\u001b[0;34m\u001b[0m\u001b[0m\n",
      "\u001b[0;32m~/anaconda3/envs/working/lib/python3.9/re.py\u001b[0m in \u001b[0;36msplit\u001b[0;34m(pattern, string, maxsplit, flags)\u001b[0m\n\u001b[1;32m    229\u001b[0m     \u001b[0;32mand\u001b[0m \u001b[0mthe\u001b[0m \u001b[0mremainder\u001b[0m \u001b[0mof\u001b[0m \u001b[0mthe\u001b[0m \u001b[0mstring\u001b[0m \u001b[0;32mis\u001b[0m \u001b[0mreturned\u001b[0m \u001b[0;32mas\u001b[0m \u001b[0mthe\u001b[0m \u001b[0mfinal\u001b[0m \u001b[0melement\u001b[0m\u001b[0;34m\u001b[0m\u001b[0;34m\u001b[0m\u001b[0m\n\u001b[1;32m    230\u001b[0m     of the list.\"\"\"\n\u001b[0;32m--> 231\u001b[0;31m     \u001b[0;32mreturn\u001b[0m \u001b[0m_compile\u001b[0m\u001b[0;34m(\u001b[0m\u001b[0mpattern\u001b[0m\u001b[0;34m,\u001b[0m \u001b[0mflags\u001b[0m\u001b[0;34m)\u001b[0m\u001b[0;34m.\u001b[0m\u001b[0msplit\u001b[0m\u001b[0;34m(\u001b[0m\u001b[0mstring\u001b[0m\u001b[0;34m,\u001b[0m \u001b[0mmaxsplit\u001b[0m\u001b[0;34m)\u001b[0m\u001b[0;34m\u001b[0m\u001b[0;34m\u001b[0m\u001b[0m\n\u001b[0m\u001b[1;32m    232\u001b[0m \u001b[0;34m\u001b[0m\u001b[0m\n\u001b[1;32m    233\u001b[0m \u001b[0;32mdef\u001b[0m \u001b[0mfindall\u001b[0m\u001b[0;34m(\u001b[0m\u001b[0mpattern\u001b[0m\u001b[0;34m,\u001b[0m \u001b[0mstring\u001b[0m\u001b[0;34m,\u001b[0m \u001b[0mflags\u001b[0m\u001b[0;34m=\u001b[0m\u001b[0;36m0\u001b[0m\u001b[0;34m)\u001b[0m\u001b[0;34m:\u001b[0m\u001b[0;34m\u001b[0m\u001b[0;34m\u001b[0m\u001b[0m\n",
      "\u001b[0;31mTypeError\u001b[0m: expected string or bytes-like object"
     ]
    }
   ],
   "source": [
    "stripsplit(df.SeriesName)"
   ]
  },
  {
   "source": [
    "ret_value = \"first\" in gr\n",
    "print(ret_value)"
   ],
   "cell_type": "markdown",
   "metadata": {}
  },
  {
   "cell_type": "code",
   "execution_count": 36,
   "metadata": {},
   "outputs": [
    {
     "output_type": "execute_result",
     "data": {
      "text/plain": [
       "<bound method Tag.prettify of <html><body><p>[</p><div class=\"row\">\n",
       "            Published\n",
       "        September 25th 2012\n",
       "         by Ballantine Books\n",
       "\n",
       "            <nobr class=\"greyText\">\n",
       "              (first published October 20th 1955)\n",
       "            </nobr>\n",
       "</div>]</body></html>>"
      ]
     },
     "metadata": {},
     "execution_count": 36
    }
   ],
   "source": [
    "soup.prettify"
   ]
  },
  {
   "cell_type": "code",
   "execution_count": 37,
   "metadata": {},
   "outputs": [],
   "source": [
    "soup.find(class_=\"row\").text\n",
    "example = soup.find(class_=\"row\").text"
   ]
  },
  {
   "cell_type": "code",
   "execution_count": 38,
   "metadata": {},
   "outputs": [
    {
     "output_type": "stream",
     "name": "stdout",
     "text": [
      "\n              (first published October 20th 1955)\n            \n"
     ]
    }
   ],
   "source": [
    "txt=soup.find(class_=\"greyText\").text\n",
    "print(txt)"
   ]
  },
  {
   "cell_type": "code",
   "execution_count": 52,
   "metadata": {},
   "outputs": [
    {
     "output_type": "error",
     "ename": "error",
     "evalue": "unbalanced parenthesis at position 2",
     "traceback": [
      "\u001b[0;31m---------------------------------------------------------------------------\u001b[0m",
      "\u001b[0;31merror\u001b[0m                                     Traceback (most recent call last)",
      "\u001b[0;32m<ipython-input-52-2c4a06487aee>\u001b[0m in \u001b[0;36m<module>\u001b[0;34m\u001b[0m\n\u001b[1;32m      1\u001b[0m \u001b[0mresult1\u001b[0m \u001b[0;34m=\u001b[0m \u001b[0mre\u001b[0m\u001b[0;34m.\u001b[0m\u001b[0msub\u001b[0m\u001b[0;34m(\u001b[0m\u001b[0;34m\"\\(first published \"\u001b[0m\u001b[0;34m,\u001b[0m \u001b[0;34m\"\"\u001b[0m\u001b[0;34m,\u001b[0m \u001b[0mtxt\u001b[0m\u001b[0;34m)\u001b[0m\u001b[0;34m\u001b[0m\u001b[0;34m\u001b[0m\u001b[0m\n\u001b[0;32m----> 2\u001b[0;31m \u001b[0mresutl1\u001b[0m \u001b[0;34m=\u001b[0m \u001b[0mre\u001b[0m\u001b[0;34m.\u001b[0m\u001b[0msub\u001b[0m\u001b[0;34m(\u001b[0m\u001b[0;34m\"\\+)\"\u001b[0m\u001b[0;34m,\u001b[0m \u001b[0;34m\"\"\u001b[0m\u001b[0;34m,\u001b[0m \u001b[0mresult1\u001b[0m\u001b[0;34m)\u001b[0m\u001b[0;34m\u001b[0m\u001b[0;34m\u001b[0m\u001b[0m\n\u001b[0m\u001b[1;32m      3\u001b[0m \u001b[0mprint\u001b[0m\u001b[0;34m(\u001b[0m\u001b[0mresult1\u001b[0m\u001b[0;34m)\u001b[0m\u001b[0;34m\u001b[0m\u001b[0;34m\u001b[0m\u001b[0m\n",
      "\u001b[0;32m~/anaconda3/envs/working/lib/python3.9/re.py\u001b[0m in \u001b[0;36msub\u001b[0;34m(pattern, repl, string, count, flags)\u001b[0m\n\u001b[1;32m    208\u001b[0m     \u001b[0ma\u001b[0m \u001b[0mcallable\u001b[0m\u001b[0;34m,\u001b[0m \u001b[0mit\u001b[0m\u001b[0;31m'\u001b[0m\u001b[0ms\u001b[0m \u001b[0mpassed\u001b[0m \u001b[0mthe\u001b[0m \u001b[0mMatch\u001b[0m \u001b[0mobject\u001b[0m \u001b[0;32mand\u001b[0m \u001b[0mmust\u001b[0m \u001b[0;32mreturn\u001b[0m\u001b[0;34m\u001b[0m\u001b[0;34m\u001b[0m\u001b[0m\n\u001b[1;32m    209\u001b[0m     a replacement string to be used.\"\"\"\n\u001b[0;32m--> 210\u001b[0;31m     \u001b[0;32mreturn\u001b[0m \u001b[0m_compile\u001b[0m\u001b[0;34m(\u001b[0m\u001b[0mpattern\u001b[0m\u001b[0;34m,\u001b[0m \u001b[0mflags\u001b[0m\u001b[0;34m)\u001b[0m\u001b[0;34m.\u001b[0m\u001b[0msub\u001b[0m\u001b[0;34m(\u001b[0m\u001b[0mrepl\u001b[0m\u001b[0;34m,\u001b[0m \u001b[0mstring\u001b[0m\u001b[0;34m,\u001b[0m \u001b[0mcount\u001b[0m\u001b[0;34m)\u001b[0m\u001b[0;34m\u001b[0m\u001b[0;34m\u001b[0m\u001b[0m\n\u001b[0m\u001b[1;32m    211\u001b[0m \u001b[0;34m\u001b[0m\u001b[0m\n\u001b[1;32m    212\u001b[0m \u001b[0;32mdef\u001b[0m \u001b[0msubn\u001b[0m\u001b[0;34m(\u001b[0m\u001b[0mpattern\u001b[0m\u001b[0;34m,\u001b[0m \u001b[0mrepl\u001b[0m\u001b[0;34m,\u001b[0m \u001b[0mstring\u001b[0m\u001b[0;34m,\u001b[0m \u001b[0mcount\u001b[0m\u001b[0;34m=\u001b[0m\u001b[0;36m0\u001b[0m\u001b[0;34m,\u001b[0m \u001b[0mflags\u001b[0m\u001b[0;34m=\u001b[0m\u001b[0;36m0\u001b[0m\u001b[0;34m)\u001b[0m\u001b[0;34m:\u001b[0m\u001b[0;34m\u001b[0m\u001b[0;34m\u001b[0m\u001b[0m\n",
      "\u001b[0;32m~/anaconda3/envs/working/lib/python3.9/re.py\u001b[0m in \u001b[0;36m_compile\u001b[0;34m(pattern, flags)\u001b[0m\n\u001b[1;32m    302\u001b[0m     \u001b[0;32mif\u001b[0m \u001b[0;32mnot\u001b[0m \u001b[0msre_compile\u001b[0m\u001b[0;34m.\u001b[0m\u001b[0misstring\u001b[0m\u001b[0;34m(\u001b[0m\u001b[0mpattern\u001b[0m\u001b[0;34m)\u001b[0m\u001b[0;34m:\u001b[0m\u001b[0;34m\u001b[0m\u001b[0;34m\u001b[0m\u001b[0m\n\u001b[1;32m    303\u001b[0m         \u001b[0;32mraise\u001b[0m \u001b[0mTypeError\u001b[0m\u001b[0;34m(\u001b[0m\u001b[0;34m\"first argument must be string or compiled pattern\"\u001b[0m\u001b[0;34m)\u001b[0m\u001b[0;34m\u001b[0m\u001b[0;34m\u001b[0m\u001b[0m\n\u001b[0;32m--> 304\u001b[0;31m     \u001b[0mp\u001b[0m \u001b[0;34m=\u001b[0m \u001b[0msre_compile\u001b[0m\u001b[0;34m.\u001b[0m\u001b[0mcompile\u001b[0m\u001b[0;34m(\u001b[0m\u001b[0mpattern\u001b[0m\u001b[0;34m,\u001b[0m \u001b[0mflags\u001b[0m\u001b[0;34m)\u001b[0m\u001b[0;34m\u001b[0m\u001b[0;34m\u001b[0m\u001b[0m\n\u001b[0m\u001b[1;32m    305\u001b[0m     \u001b[0;32mif\u001b[0m \u001b[0;32mnot\u001b[0m \u001b[0;34m(\u001b[0m\u001b[0mflags\u001b[0m \u001b[0;34m&\u001b[0m \u001b[0mDEBUG\u001b[0m\u001b[0;34m)\u001b[0m\u001b[0;34m:\u001b[0m\u001b[0;34m\u001b[0m\u001b[0;34m\u001b[0m\u001b[0m\n\u001b[1;32m    306\u001b[0m         \u001b[0;32mif\u001b[0m \u001b[0mlen\u001b[0m\u001b[0;34m(\u001b[0m\u001b[0m_cache\u001b[0m\u001b[0;34m)\u001b[0m \u001b[0;34m>=\u001b[0m \u001b[0m_MAXCACHE\u001b[0m\u001b[0;34m:\u001b[0m\u001b[0;34m\u001b[0m\u001b[0;34m\u001b[0m\u001b[0m\n",
      "\u001b[0;32m~/anaconda3/envs/working/lib/python3.9/sre_compile.py\u001b[0m in \u001b[0;36mcompile\u001b[0;34m(p, flags)\u001b[0m\n\u001b[1;32m    762\u001b[0m     \u001b[0;32mif\u001b[0m \u001b[0misstring\u001b[0m\u001b[0;34m(\u001b[0m\u001b[0mp\u001b[0m\u001b[0;34m)\u001b[0m\u001b[0;34m:\u001b[0m\u001b[0;34m\u001b[0m\u001b[0;34m\u001b[0m\u001b[0m\n\u001b[1;32m    763\u001b[0m         \u001b[0mpattern\u001b[0m \u001b[0;34m=\u001b[0m \u001b[0mp\u001b[0m\u001b[0;34m\u001b[0m\u001b[0;34m\u001b[0m\u001b[0m\n\u001b[0;32m--> 764\u001b[0;31m         \u001b[0mp\u001b[0m \u001b[0;34m=\u001b[0m \u001b[0msre_parse\u001b[0m\u001b[0;34m.\u001b[0m\u001b[0mparse\u001b[0m\u001b[0;34m(\u001b[0m\u001b[0mp\u001b[0m\u001b[0;34m,\u001b[0m \u001b[0mflags\u001b[0m\u001b[0;34m)\u001b[0m\u001b[0;34m\u001b[0m\u001b[0;34m\u001b[0m\u001b[0m\n\u001b[0m\u001b[1;32m    765\u001b[0m     \u001b[0;32melse\u001b[0m\u001b[0;34m:\u001b[0m\u001b[0;34m\u001b[0m\u001b[0;34m\u001b[0m\u001b[0m\n\u001b[1;32m    766\u001b[0m         \u001b[0mpattern\u001b[0m \u001b[0;34m=\u001b[0m \u001b[0;32mNone\u001b[0m\u001b[0;34m\u001b[0m\u001b[0;34m\u001b[0m\u001b[0m\n",
      "\u001b[0;32m~/anaconda3/envs/working/lib/python3.9/sre_parse.py\u001b[0m in \u001b[0;36mparse\u001b[0;34m(str, flags, state)\u001b[0m\n\u001b[1;32m    960\u001b[0m     \u001b[0;32mif\u001b[0m \u001b[0msource\u001b[0m\u001b[0;34m.\u001b[0m\u001b[0mnext\u001b[0m \u001b[0;32mis\u001b[0m \u001b[0;32mnot\u001b[0m \u001b[0;32mNone\u001b[0m\u001b[0;34m:\u001b[0m\u001b[0;34m\u001b[0m\u001b[0;34m\u001b[0m\u001b[0m\n\u001b[1;32m    961\u001b[0m         \u001b[0;32massert\u001b[0m \u001b[0msource\u001b[0m\u001b[0;34m.\u001b[0m\u001b[0mnext\u001b[0m \u001b[0;34m==\u001b[0m \u001b[0;34m\")\"\u001b[0m\u001b[0;34m\u001b[0m\u001b[0;34m\u001b[0m\u001b[0m\n\u001b[0;32m--> 962\u001b[0;31m         \u001b[0;32mraise\u001b[0m \u001b[0msource\u001b[0m\u001b[0;34m.\u001b[0m\u001b[0merror\u001b[0m\u001b[0;34m(\u001b[0m\u001b[0;34m\"unbalanced parenthesis\"\u001b[0m\u001b[0;34m)\u001b[0m\u001b[0;34m\u001b[0m\u001b[0;34m\u001b[0m\u001b[0m\n\u001b[0m\u001b[1;32m    963\u001b[0m \u001b[0;34m\u001b[0m\u001b[0m\n\u001b[1;32m    964\u001b[0m     \u001b[0;32mif\u001b[0m \u001b[0mflags\u001b[0m \u001b[0;34m&\u001b[0m \u001b[0mSRE_FLAG_DEBUG\u001b[0m\u001b[0;34m:\u001b[0m\u001b[0;34m\u001b[0m\u001b[0;34m\u001b[0m\u001b[0m\n",
      "\u001b[0;31merror\u001b[0m: unbalanced parenthesis at position 2"
     ]
    }
   ],
   "source": [
    "result1 = re.sub(\"\\(first published \", \"\", txt)\n",
    "resutl1 = re.sub(\"\\)\", \"\", result1)\n",
    "print(result1)"
   ]
  },
  {
   "cell_type": "code",
   "execution_count": null,
   "metadata": {},
   "outputs": [],
   "source": [
    "ret_value = \"first\" in gr\n",
    "print(ret_value)\n",
    "\n",
    "if (ret_value == True):\n",
    "    capture = soup.find(class_=\"greyText\").text\n",
    "    split_date = re.\n",
    "    \n",
    "else:\n",
    "    soup.find(class_=\"row\").text\n",
    "    split_date = re.split(\"\\n\", capture)"
   ]
  },
  {
   "cell_type": "code",
   "execution_count": 11,
   "metadata": {},
   "outputs": [],
   "source": [
    "def getDate(x):\n",
    "    soup = BeautifulSoup(x)\n",
    "    return soup.get_text()\n",
    "    "
   ]
  },
  {
   "cell_type": "code",
   "execution_count": 12,
   "metadata": {},
   "outputs": [
    {
     "output_type": "execute_result",
     "data": {
      "text/plain": [
       "0    [\\n            Published\\n        August 2005\\...\n",
       "1    [\\n            Published\\n        September 25...\n",
       "2    [\\n            Published\\n        April 2007\\n...\n",
       "3    [\\n            Published\\n        August 31st ...\n",
       "4    [\\n            Published\\n        September 16...\n",
       "5    [\\n            Published\\n        November 15t...\n",
       "6    [\\n            Published\\n        July 25th 20...\n",
       "7    [\\n            Published\\n        September 23...\n",
       "8    [\\n            Published\\n        April 2005\\n...\n",
       "9    [\\n            Published\\n        March 1st 19...\n",
       "Name: VerifyDate, dtype: object"
      ]
     },
     "metadata": {},
     "execution_count": 12
    }
   ],
   "source": [
    "shortdf.VerifyDate.apply(getDate)"
   ]
  },
  {
   "cell_type": "code",
   "execution_count": 13,
   "metadata": {},
   "outputs": [
    {
     "output_type": "execute_result",
     "data": {
      "text/plain": [
       "   id                      Num_pages  \\\n",
       "0   0                      835 pages   \n",
       "1   1  Hobbit Movie Tie-in Boxed set   \n",
       "2   2                      662 pages   \n",
       "3   3                     1007 pages   \n",
       "4   4                Reissue Edition   \n",
       "5   5                      814 pages   \n",
       "6   6                      544 pages   \n",
       "7   7                     1088 pages   \n",
       "8   8                      503 pages   \n",
       "9   9                      435 pages   \n",
       "\n",
       "                                        Verify_pages  \\\n",
       "0             ['Mass Market Paperback', '835 pages']   \n",
       "1  ['Mass Market Paperback', 'Hobbit Movie Tie-in...   \n",
       "2                         ['Hardcover', '662 pages']   \n",
       "3                        ['Hardcover', '1007 pages']   \n",
       "4      ['Paperback', 'Reissue Edition', '767 pages']   \n",
       "5             ['Mass Market Paperback', '814 pages']   \n",
       "6                         ['Hardcover', '544 pages']   \n",
       "7            ['Mass Market Paperback', '1088 pages']   \n",
       "8                         ['Paperback', '503 pages']   \n",
       "9             ['Mass Market Paperback', '435 pages']   \n",
       "\n",
       "                                              Awards  \\\n",
       "0  ['Nebula Award Nominee for Best Novel (1997)',...   \n",
       "1                                                 []   \n",
       "2  ['Locus Award Nominee for Best First Novel and...   \n",
       "3  ['Locus Award Nominee for Best Fantasy Novel (...   \n",
       "4                                                 []   \n",
       "5  ['Locus Award Nominee for Best Fantasy Book (1...   \n",
       "6  ['Tähtifantasia Award Nominee (2018)', 'Prix E...   \n",
       "7  ['Literaturpreis der Jury der jungen Leser for...   \n",
       "8  [\"Book Sense Book of the Year Award for Childr...   \n",
       "9  ['Locus Award Nominee for Fantasy (1996)', 'Br...   \n",
       "\n",
       "                                               Genre  \\\n",
       "0  ['Fantasy', 'Fiction', 'Fantasy', 'Epic Fantas...   \n",
       "1  ['Fantasy', 'Fiction', 'Classics', 'Adventure'...   \n",
       "2  ['Fantasy', 'Fiction', 'Fantasy', 'Epic Fantas...   \n",
       "3  ['Fantasy', 'Fiction', 'Fantasy', 'Epic Fantas...   \n",
       "4  ['Fantasy', 'Classics', 'Fiction', 'Young Adul...   \n",
       "5  ['Fantasy', 'Fiction', 'Fantasy', 'Epic Fantas...   \n",
       "6  ['Fantasy', 'Fiction', 'Fantasy', 'High Fantas...   \n",
       "7  ['Fantasy', 'Young Adult', 'Fiction', 'Childre...   \n",
       "8  ['Fantasy', 'Young Adult', 'Fiction', 'Fantasy...   \n",
       "9  ['Fantasy', 'Fiction', 'Fantasy', 'Epic Fantas...   \n",
       "\n",
       "                                      Setting  \\\n",
       "0               ['The Lands of Ice and Fire']   \n",
       "1                            ['Middle-earth']   \n",
       "2                                          []   \n",
       "3                                  ['Roshar']   \n",
       "4                         ['London, England']   \n",
       "5  [\"Emond's Field\", 'Caemlyn', 'The Blight']   \n",
       "6                                ['Luthadel']   \n",
       "7                         ['Oxford, England']   \n",
       "8                               ['Alagaësia']   \n",
       "9         ['Buckkeep', 'Moonseye', 'Neatbay']   \n",
       "\n",
       "                                       OriginalPDate  \\\n",
       "0  ['\\n              (first published August 6th ...   \n",
       "1  ['\\n              (first published October 20t...   \n",
       "2  ['\\n              (first published March 27th ...   \n",
       "3                                                 []   \n",
       "4  ['\\n              (first published 1956)\\n    ...   \n",
       "5  ['\\n              (first published January 15t...   \n",
       "6  ['\\n              (first published July 17th 2...   \n",
       "7  ['\\n              (first published November 20...   \n",
       "8  ['\\n              (first published June 2002)\\...   \n",
       "9  ['\\n              (first published May 1995)\\n...   \n",
       "\n",
       "                                          VerifyDate  Series  \\\n",
       "0  [<div class=\"row\">\\n            Published\\n   ...    True   \n",
       "1  [<div class=\"row\">\\n            Published\\n   ...    True   \n",
       "2  [<div class=\"row\">\\n            Published\\n   ...    True   \n",
       "3  [<div class=\"row\">\\n            Published\\n   ...    True   \n",
       "4  [<div class=\"row\">\\n            Published\\n   ...    True   \n",
       "5  [<div class=\"row\">\\n            Published\\n   ...    True   \n",
       "6  [<div class=\"row\">\\n            Published\\n   ...    True   \n",
       "7  [<div class=\"row\">\\n            Published\\n   ...    True   \n",
       "8  [<div class=\"row\">\\n            Published\\n   ...    True   \n",
       "9  [<div class=\"row\">\\n            Published\\n   ...    True   \n",
       "\n",
       "                                         Series-Name  \\\n",
       "0           \\nSeries\\n\\nA Song of Ice and Fire #1 \\n   \n",
       "1  \\nSeries\\n\\nThe Lord of the Rings #0-3, Middle...   \n",
       "2         \\nSeries\\n\\nThe Kingkiller Chronicle #1 \\n   \n",
       "3  \\nSeries\\n\\nThe Stormlight Archive #1, The Cos...   \n",
       "4  \\nSeries\\n\\nThe Chronicles of Narnia (Publicat...   \n",
       "5                \\nSeries\\n\\nThe Wheel of Time #1 \\n   \n",
       "6            \\nSeries\\n\\nMistborn #1, The Cosmere \\n   \n",
       "7             \\nSeries\\n\\nHis Dark Materials #1-3 \\n   \n",
       "8            \\nSeries\\n\\nThe Inheritance Cycle #1 \\n   \n",
       "9  \\nSeries\\n\\nThe Farseer Trilogy #1, L'Assassin...   \n",
       "\n",
       "                                                ISBN  \\\n",
       "0  \\nISBN\\n\\n                  0553588486\\n      ...   \n",
       "1  \\nISBN\\n\\n                  0345538374\\n      ...   \n",
       "2  \\nISBN\\n\\n                  075640407X\\n      ...   \n",
       "3  \\nISBN\\n\\n                  0765326353\\n      ...   \n",
       "4                                                NaN   \n",
       "5  \\nISBN\\n\\n                  0812511816\\n      ...   \n",
       "6  \\nISBN\\n\\n                  076531178X\\n      ...   \n",
       "7  \\nISBN\\n\\n                  0440238609\\n      ...   \n",
       "8  \\nISBN\\n\\n                  0375826696\\n      ...   \n",
       "9  \\nISBN\\n\\n                  055357339X\\n      ...   \n",
       "\n",
       "                                         Description  \n",
       "0  [<div class=\"readable stacked\" id=\"description...  \n",
       "1  [<div class=\"readable stacked\" id=\"description...  \n",
       "2  [<div class=\"readable stacked\" id=\"description...  \n",
       "3  [<div class=\"readable stacked\" id=\"description...  \n",
       "4  [<div class=\"readable stacked\" id=\"description...  \n",
       "5  [<div class=\"readable stacked\" id=\"description...  \n",
       "6  [<div class=\"readable stacked\" id=\"description...  \n",
       "7  [<div class=\"readable stacked\" id=\"description...  \n",
       "8  [<div class=\"readable stacked\" id=\"description...  \n",
       "9  [<div class=\"readable stacked\" id=\"description...  "
      ],
      "text/html": "<div>\n<style scoped>\n    .dataframe tbody tr th:only-of-type {\n        vertical-align: middle;\n    }\n\n    .dataframe tbody tr th {\n        vertical-align: top;\n    }\n\n    .dataframe thead th {\n        text-align: right;\n    }\n</style>\n<table border=\"1\" class=\"dataframe\">\n  <thead>\n    <tr style=\"text-align: right;\">\n      <th></th>\n      <th>id</th>\n      <th>Num_pages</th>\n      <th>Verify_pages</th>\n      <th>Awards</th>\n      <th>Genre</th>\n      <th>Setting</th>\n      <th>OriginalPDate</th>\n      <th>VerifyDate</th>\n      <th>Series</th>\n      <th>Series-Name</th>\n      <th>ISBN</th>\n      <th>Description</th>\n    </tr>\n  </thead>\n  <tbody>\n    <tr>\n      <th>0</th>\n      <td>0</td>\n      <td>835 pages</td>\n      <td>['Mass Market Paperback', '835 pages']</td>\n      <td>['Nebula Award Nominee for Best Novel (1997)',...</td>\n      <td>['Fantasy', 'Fiction', 'Fantasy', 'Epic Fantas...</td>\n      <td>['The Lands of Ice and Fire']</td>\n      <td>['\\n              (first published August 6th ...</td>\n      <td>[&lt;div class=\"row\"&gt;\\n            Published\\n   ...</td>\n      <td>True</td>\n      <td>\\nSeries\\n\\nA Song of Ice and Fire #1 \\n</td>\n      <td>\\nISBN\\n\\n                  0553588486\\n      ...</td>\n      <td>[&lt;div class=\"readable stacked\" id=\"description...</td>\n    </tr>\n    <tr>\n      <th>1</th>\n      <td>1</td>\n      <td>Hobbit Movie Tie-in Boxed set</td>\n      <td>['Mass Market Paperback', 'Hobbit Movie Tie-in...</td>\n      <td>[]</td>\n      <td>['Fantasy', 'Fiction', 'Classics', 'Adventure'...</td>\n      <td>['Middle-earth']</td>\n      <td>['\\n              (first published October 20t...</td>\n      <td>[&lt;div class=\"row\"&gt;\\n            Published\\n   ...</td>\n      <td>True</td>\n      <td>\\nSeries\\n\\nThe Lord of the Rings #0-3, Middle...</td>\n      <td>\\nISBN\\n\\n                  0345538374\\n      ...</td>\n      <td>[&lt;div class=\"readable stacked\" id=\"description...</td>\n    </tr>\n    <tr>\n      <th>2</th>\n      <td>2</td>\n      <td>662 pages</td>\n      <td>['Hardcover', '662 pages']</td>\n      <td>['Locus Award Nominee for Best First Novel and...</td>\n      <td>['Fantasy', 'Fiction', 'Fantasy', 'Epic Fantas...</td>\n      <td>[]</td>\n      <td>['\\n              (first published March 27th ...</td>\n      <td>[&lt;div class=\"row\"&gt;\\n            Published\\n   ...</td>\n      <td>True</td>\n      <td>\\nSeries\\n\\nThe Kingkiller Chronicle #1 \\n</td>\n      <td>\\nISBN\\n\\n                  075640407X\\n      ...</td>\n      <td>[&lt;div class=\"readable stacked\" id=\"description...</td>\n    </tr>\n    <tr>\n      <th>3</th>\n      <td>3</td>\n      <td>1007 pages</td>\n      <td>['Hardcover', '1007 pages']</td>\n      <td>['Locus Award Nominee for Best Fantasy Novel (...</td>\n      <td>['Fantasy', 'Fiction', 'Fantasy', 'Epic Fantas...</td>\n      <td>['Roshar']</td>\n      <td>[]</td>\n      <td>[&lt;div class=\"row\"&gt;\\n            Published\\n   ...</td>\n      <td>True</td>\n      <td>\\nSeries\\n\\nThe Stormlight Archive #1, The Cos...</td>\n      <td>\\nISBN\\n\\n                  0765326353\\n      ...</td>\n      <td>[&lt;div class=\"readable stacked\" id=\"description...</td>\n    </tr>\n    <tr>\n      <th>4</th>\n      <td>4</td>\n      <td>Reissue Edition</td>\n      <td>['Paperback', 'Reissue Edition', '767 pages']</td>\n      <td>[]</td>\n      <td>['Fantasy', 'Classics', 'Fiction', 'Young Adul...</td>\n      <td>['London, England']</td>\n      <td>['\\n              (first published 1956)\\n    ...</td>\n      <td>[&lt;div class=\"row\"&gt;\\n            Published\\n   ...</td>\n      <td>True</td>\n      <td>\\nSeries\\n\\nThe Chronicles of Narnia (Publicat...</td>\n      <td>NaN</td>\n      <td>[&lt;div class=\"readable stacked\" id=\"description...</td>\n    </tr>\n    <tr>\n      <th>5</th>\n      <td>5</td>\n      <td>814 pages</td>\n      <td>['Mass Market Paperback', '814 pages']</td>\n      <td>['Locus Award Nominee for Best Fantasy Book (1...</td>\n      <td>['Fantasy', 'Fiction', 'Fantasy', 'Epic Fantas...</td>\n      <td>[\"Emond's Field\", 'Caemlyn', 'The Blight']</td>\n      <td>['\\n              (first published January 15t...</td>\n      <td>[&lt;div class=\"row\"&gt;\\n            Published\\n   ...</td>\n      <td>True</td>\n      <td>\\nSeries\\n\\nThe Wheel of Time #1 \\n</td>\n      <td>\\nISBN\\n\\n                  0812511816\\n      ...</td>\n      <td>[&lt;div class=\"readable stacked\" id=\"description...</td>\n    </tr>\n    <tr>\n      <th>6</th>\n      <td>6</td>\n      <td>544 pages</td>\n      <td>['Hardcover', '544 pages']</td>\n      <td>['Tähtifantasia Award Nominee (2018)', 'Prix E...</td>\n      <td>['Fantasy', 'Fiction', 'Fantasy', 'High Fantas...</td>\n      <td>['Luthadel']</td>\n      <td>['\\n              (first published July 17th 2...</td>\n      <td>[&lt;div class=\"row\"&gt;\\n            Published\\n   ...</td>\n      <td>True</td>\n      <td>\\nSeries\\n\\nMistborn #1, The Cosmere \\n</td>\n      <td>\\nISBN\\n\\n                  076531178X\\n      ...</td>\n      <td>[&lt;div class=\"readable stacked\" id=\"description...</td>\n    </tr>\n    <tr>\n      <th>7</th>\n      <td>7</td>\n      <td>1088 pages</td>\n      <td>['Mass Market Paperback', '1088 pages']</td>\n      <td>['Literaturpreis der Jury der jungen Leser for...</td>\n      <td>['Fantasy', 'Young Adult', 'Fiction', 'Childre...</td>\n      <td>['Oxford, England']</td>\n      <td>['\\n              (first published November 20...</td>\n      <td>[&lt;div class=\"row\"&gt;\\n            Published\\n   ...</td>\n      <td>True</td>\n      <td>\\nSeries\\n\\nHis Dark Materials #1-3 \\n</td>\n      <td>\\nISBN\\n\\n                  0440238609\\n      ...</td>\n      <td>[&lt;div class=\"readable stacked\" id=\"description...</td>\n    </tr>\n    <tr>\n      <th>8</th>\n      <td>8</td>\n      <td>503 pages</td>\n      <td>['Paperback', '503 pages']</td>\n      <td>[\"Book Sense Book of the Year Award for Childr...</td>\n      <td>['Fantasy', 'Young Adult', 'Fiction', 'Fantasy...</td>\n      <td>['Alagaësia']</td>\n      <td>['\\n              (first published June 2002)\\...</td>\n      <td>[&lt;div class=\"row\"&gt;\\n            Published\\n   ...</td>\n      <td>True</td>\n      <td>\\nSeries\\n\\nThe Inheritance Cycle #1 \\n</td>\n      <td>\\nISBN\\n\\n                  0375826696\\n      ...</td>\n      <td>[&lt;div class=\"readable stacked\" id=\"description...</td>\n    </tr>\n    <tr>\n      <th>9</th>\n      <td>9</td>\n      <td>435 pages</td>\n      <td>['Mass Market Paperback', '435 pages']</td>\n      <td>['Locus Award Nominee for Fantasy (1996)', 'Br...</td>\n      <td>['Fantasy', 'Fiction', 'Fantasy', 'Epic Fantas...</td>\n      <td>['Buckkeep', 'Moonseye', 'Neatbay']</td>\n      <td>['\\n              (first published May 1995)\\n...</td>\n      <td>[&lt;div class=\"row\"&gt;\\n            Published\\n   ...</td>\n      <td>True</td>\n      <td>\\nSeries\\n\\nThe Farseer Trilogy #1, L'Assassin...</td>\n      <td>\\nISBN\\n\\n                  055357339X\\n      ...</td>\n      <td>[&lt;div class=\"readable stacked\" id=\"description...</td>\n    </tr>\n  </tbody>\n</table>\n</div>"
     },
     "metadata": {},
     "execution_count": 13
    }
   ],
   "source": []
  },
  {
   "cell_type": "code",
   "execution_count": 221,
   "metadata": {},
   "outputs": [],
   "source": [
    "df.to_csv(\"semiclean.csv\", index=True)"
   ]
  },
  {
   "cell_type": "code",
   "execution_count": null,
   "metadata": {},
   "outputs": [],
   "source": []
  },
  {
   "cell_type": "code",
   "execution_count": 182,
   "metadata": {},
   "outputs": [
    {
     "output_type": "execute_result",
     "data": {
      "text/plain": [
       "0       \\nISBN\\n\\n                  0553588486\\n      ...\n",
       "1       \\nISBN\\n\\n                  0345538374\\n      ...\n",
       "2       \\nISBN\\n\\n                  075640407X\\n      ...\n",
       "3       \\nISBN\\n\\n                  0765326353\\n      ...\n",
       "4                                                     NaN\n",
       "                              ...                        \n",
       "1095    \\nISBN\\n\\n                  0345363310\\n      ...\n",
       "1096                                                  NaN\n",
       "1097    \\nISBN\\n\\n                  1416520864\\n      ...\n",
       "1098                            \\nISBN13\\n9781945238079\\n\n",
       "1099    \\nISBN\\n\\n                  1781085587\\n      ...\n",
       "Name: ISBN, Length: 1100, dtype: object"
      ]
     },
     "metadata": {},
     "execution_count": 182
    }
   ],
   "source": [
    "df.ISBN"
   ]
  },
  {
   "cell_type": "code",
   "execution_count": null,
   "metadata": {},
   "outputs": [],
   "source": []
  }
 ]
}